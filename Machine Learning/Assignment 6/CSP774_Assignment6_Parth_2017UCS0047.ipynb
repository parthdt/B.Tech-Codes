{
  "nbformat": 4,
  "nbformat_minor": 0,
  "metadata": {
    "colab": {
      "name": "CSP774_Assignment6_Parth_2017UCS0047.ipynb",
      "provenance": [],
      "include_colab_link": true
    },
    "kernelspec": {
      "name": "python3",
      "display_name": "Python 3"
    },
    "accelerator": "TPU"
  },
  "cells": [
    {
      "cell_type": "markdown",
      "metadata": {
        "id": "view-in-github",
        "colab_type": "text"
      },
      "source": [
        "<a href=\"https://colab.research.google.com/github/parthdt/B.Tech-Codes/blob/master/Machine%20Learning/Assignment%206/CSP774_Assignment6_Parth_2017UCS0047.ipynb\" target=\"_parent\"><img src=\"https://colab.research.google.com/assets/colab-badge.svg\" alt=\"Open In Colab\"/></a>"
      ]
    },
    {
      "cell_type": "markdown",
      "metadata": {
        "id": "wCwAciJF7qT7"
      },
      "source": [
        "# Assignment 6"
      ]
    },
    {
      "cell_type": "markdown",
      "metadata": {
        "id": "8y_Mtubuyk4Q"
      },
      "source": [
        "## Importing libraries and data"
      ]
    },
    {
      "cell_type": "code",
      "metadata": {
        "id": "BDZiaMOS7BAw"
      },
      "source": [
        "import tensorflow as tf\n",
        "import numpy as np\n",
        "import numpy as np\n",
        "import pandas as pd\n",
        "import cv2\n",
        "import os\n",
        "import sys\n",
        "import math\n",
        "import time\n",
        "from sklearn.metrics import confusion_matrix\n",
        "from sklearn import svm\n",
        "from tensorflow import keras"
      ],
      "execution_count": null,
      "outputs": []
    },
    {
      "cell_type": "markdown",
      "metadata": {
        "id": "kcDIhn2i8ORU"
      },
      "source": [
        "**After importing the required libraries above, the MNIST Dataset is imported.**"
      ]
    },
    {
      "cell_type": "code",
      "metadata": {
        "id": "xxRuYSgr7K3f"
      },
      "source": [
        "mnist_data  = tf.keras.datasets.mnist\n",
        "( x_train , y_train ), ( x_test , y_test ) = mnist_data.load_data()"
      ],
      "execution_count": null,
      "outputs": []
    },
    {
      "cell_type": "markdown",
      "metadata": {
        "id": "iGLEPheTypJ5"
      },
      "source": [
        "**Installing previous version of opencv to prevent mismatch of function name resulting in errors.**"
      ]
    },
    {
      "cell_type": "code",
      "metadata": {
        "id": "mrUmqsEO7246"
      },
      "source": [
        "!pip install opencv-python==3.4.2.16\n",
        "!pip install opencv-contrib-python==3.4.2.16"
      ],
      "execution_count": null,
      "outputs": []
    },
    {
      "cell_type": "markdown",
      "metadata": {
        "id": "hMWFqXGDz2uk"
      },
      "source": [
        "## Main code"
      ]
    },
    {
      "cell_type": "markdown",
      "metadata": {
        "id": "5YHJK43I8hxq"
      },
      "source": [
        "**Here, three functions are defined to extract the data and use SIFT features, train the SVM Kernel and to test the model trained using SIFT features.**"
      ]
    },
    {
      "cell_type": "code",
      "metadata": {
        "id": "vDB2Tk667Yhx"
      },
      "source": [
        "def extract_data(x_train,y_train,thresh):\n",
        "    \n",
        "    X_Train=[]\n",
        "    y_Train=[]\n",
        "    for i in range(0,x_train.shape[0]):\n",
        "        \n",
        "        sift = cv2.xfeatures2d.SIFT_create()      \n",
        "        kp, des = sift.detectAndCompute(x_train[i], None)\n",
        "\n",
        "        ndes = 0\n",
        "        if type(des)!=type(None) :\n",
        "            for d in des:\n",
        "                if ndes >= thresh:\n",
        "                    break \n",
        "                else:\n",
        "                    X_Train.append(d.astype(float))\n",
        "                    y_Train.append(y_train[i])\n",
        "                    ndes += 1\n",
        "\n",
        "    return X_Train, y_Train\n",
        "\n",
        "def train_model(X_Train,y_Train):\n",
        "    clf = svm.SVC(kernel = 'poly', C = 10, gamma =0.0001,degree=10)\n",
        "    clf.fit(X_Train[80000:85000,:], y_Train[80000:85000])\n",
        "    return clf\n",
        "    \n",
        "def test_model(clf,x_test,y_test):\n",
        "    sift = cv2.xfeatures2d.SIFT_create()\n",
        "    accuracy = 0\n",
        "    y_predicted = []\n",
        "    y_actual = []\n",
        "    for i in range(0,x_test.shape[0]):\n",
        "        \n",
        "        kp, des = sift.detectAndCompute(x_test[i], None)\n",
        "        \n",
        "        if type(des)!=type(None):\n",
        "            temp = clf.predict(des)\n",
        "            pred = temp.astype(np.int64)           \n",
        "            counts = np.bincount(pred)\n",
        "            pred_label = np.argmax(counts)\n",
        "            y_predicted.append(pred_label)\n",
        "            y_actual.append(y_test[i])\n",
        "            actual_label = y_test[i]\n",
        "            if actual_label == pred_label:\n",
        "                accuracy +=1\n",
        "    return accuracy,y_predicted,y_actual   \n"
      ],
      "execution_count": null,
      "outputs": []
    },
    {
      "cell_type": "markdown",
      "metadata": {
        "id": "SjRbdAEx9MNx"
      },
      "source": [
        "**Now, we use threshold values in multiples of 4, from 4 -> 36 and use the above functions to extract the data, train and test the model for these threshold values.**"
      ]
    },
    {
      "cell_type": "code",
      "metadata": {
        "id": "JFGYOrNF0WXL",
        "colab": {
          "base_uri": "https://localhost:8080/"
        },
        "outputId": "4a317319-e172-42c4-a9ca-fd5af129b4d8"
      },
      "source": [
        "\n",
        "Thresholds = [ multiple*4 for multiple in range(1,10) ]\n",
        "Accuracy = []\n",
        "Time =[]\n",
        "CM =[]\n",
        "for index in range(0,len(Thresholds)):\n",
        "    start = time.time()\n",
        "    print(\"Threshold = \",Thresholds[i])\n",
        "    \n",
        "    X_Train,y_Train = extract_data(x_train,y_train,Thresholds[i])\n",
        "    X_Train = np.array(X_Train)\n",
        "    y_Train = np.array(y_Train)\n",
        "    \n",
        "    model = train_model(X_Train,y_Train)\n",
        "    \n",
        "    accuracy,y_pred,y_act = test_model(clf,x_test,y_test) \n",
        "    accuracy_percentage = (accuracy / len(y_act)) * 100\n",
        "    \n",
        "    Accuracy.append(accuracy_percentage)\n",
        "    Time.append(time.time()-start)\n",
        "    cm = confusion_matrix(y_act,y_pred)\n",
        "    CM.append(cm)"
      ],
      "execution_count": null,
      "outputs": [
        {
          "output_type": "stream",
          "text": [
            "Threshold =  4\n",
            "Threshold =  8\n",
            "Threshold =  12\n",
            "Threshold =  16\n",
            "Threshold =  20\n",
            "Threshold =  24\n",
            "Threshold =  28\n",
            "Threshold =  32\n",
            "Threshold =  36\n"
          ],
          "name": "stdout"
        }
      ]
    },
    {
      "cell_type": "markdown",
      "metadata": {
        "id": "5QJ4x_ZnASHU"
      },
      "source": [
        "**Finally, we plot the obtained values of Accuracy and Time taken vs Threshold values.**"
      ]
    },
    {
      "cell_type": "code",
      "metadata": {
        "id": "uHg2Iq0B1Hws",
        "colab": {
          "base_uri": "https://localhost:8080/",
          "height": 609
        },
        "outputId": "f9b1a48f-d98a-4a95-bdd0-38da02fadef5"
      },
      "source": [
        "import matplotlib.pyplot as plt\n",
        "\n",
        "plt.plot  ( Thresholds, Accuracy, color='r')\n",
        "plt.ylabel('Accuracy in %')\n",
        "plt.xlabel('Threshold Value')\n",
        "plt.title ('Accuracy vs Threshold')\n",
        "plt.show()\n",
        "\n",
        "plt.plot ( Thresholds, Time, color='r')\n",
        "plt.ylabel('Time in sec')\n",
        "plt.xlabel('Threshold Value')\n",
        "plt.title ('Time vs Threshold')\n",
        "plt.figure()"
      ],
      "execution_count": null,
      "outputs": [
        {
          "output_type": "display_data",
          "data": {
            "image/png": "[encoded data removed]",
            "text/plain": [
              "<Figure size 432x288 with 1 Axes>"
            ]
          },
          "metadata": {
            "tags": [],
            "needs_background": "light"
          }
        },
        {
          "output_type": "execute_result",
          "data": {
            "text/plain": [
              "<Figure size 432x288 with 0 Axes>"
            ]
          },
          "metadata": {
            "tags": []
          },
          "execution_count": 31
        },
        {
          "output_type": "display_data",
          "data": {
            "image/png": "[encoded data removed]",
            "text/plain": [
              "<Figure size 432x288 with 1 Axes>"
            ]
          },
          "metadata": {
            "tags": [],
            "needs_background": "light"
          }
        },
        {
          "output_type": "display_data",
          "data": {
            "text/plain": [
              "<Figure size 432x288 with 0 Axes>"
            ]
          },
          "metadata": {
            "tags": []
          }
        }
      ]
    }
  ]
}