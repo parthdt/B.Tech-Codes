{
  "nbformat": 4,
  "nbformat_minor": 0,
  "metadata": {
    "colab": {
      "name": "ML_Assignment1_2017UCS0047.ipynb",
      "provenance": [],
      "collapsed_sections": [
        "oKpn-Vtwbv6k",
        "kw1aOHq9cjnf",
        "5-CTA6JQPjQN"
      ]
    },
    "kernelspec": {
      "name": "python3",
      "display_name": "Python 3"
    }
  },
  "cells": [
    {
      "cell_type": "markdown",
      "metadata": {
        "id": "oKpn-Vtwbv6k",
        "colab_type": "text"
      },
      "source": [
        "# Question 1\n"
      ]
    },
    {
      "cell_type": "markdown",
      "metadata": {
        "id": "9_pWwnxFXQNV",
        "colab_type": "text"
      },
      "source": [
        "## Importing the data and required libraries."
      ]
    },
    {
      "cell_type": "code",
      "metadata": {
        "id": "ZL3-WQF8WJBm",
        "colab_type": "code",
        "colab": {
          "base_uri": "https://localhost:8080/"
        },
        "outputId": "0b26ab0c-e985-4044-942c-e11b4ef15454"
      },
      "source": [
        "import pandas as pd\n",
        "import matplotlib.pyplot as plt\n",
        "\n",
        "data = pd.read_csv('complaint.csv')\n",
        "data.head()"
      ],
      "execution_count": null,
      "outputs": [
        {
          "output_type": "execute_result",
          "data": {
            "text/html": [
              "<div>\n",
              "<style scoped>\n",
              "    .dataframe tbody tr th:only-of-type {\n",
              "        vertical-align: middle;\n",
              "    }\n",
              "\n",
              "    .dataframe tbody tr th {\n",
              "        vertical-align: top;\n",
              "    }\n",
              "\n",
              "    .dataframe thead th {\n",
              "        text-align: right;\n",
              "    }\n",
              "</style>\n",
              "<table border=\"1\" class=\"dataframe\">\n",
              "  <thead>\n",
              "    <tr style=\"text-align: right;\">\n",
              "      <th></th>\n",
              "      <th>Ticket #</th>\n",
              "      <th>Customer Complaint</th>\n",
              "      <th>Date</th>\n",
              "      <th>Date_month_year</th>\n",
              "      <th>Time</th>\n",
              "      <th>Received Via</th>\n",
              "      <th>City</th>\n",
              "      <th>State</th>\n",
              "      <th>Zip code</th>\n",
              "      <th>Status</th>\n",
              "      <th>Filing on Behalf of Someone</th>\n",
              "    </tr>\n",
              "  </thead>\n",
              "  <tbody>\n",
              "    <tr>\n",
              "      <th>0</th>\n",
              "      <td>250635</td>\n",
              "      <td>Cable Internet Speeds</td>\n",
              "      <td>22-04-2015</td>\n",
              "      <td>22-Apr-15</td>\n",
              "      <td>3:53:50 PM</td>\n",
              "      <td>Customer Care Call</td>\n",
              "      <td>Abingdon</td>\n",
              "      <td>Maryland</td>\n",
              "      <td>21009</td>\n",
              "      <td>Closed</td>\n",
              "      <td>No</td>\n",
              "    </tr>\n",
              "    <tr>\n",
              "      <th>1</th>\n",
              "      <td>223441</td>\n",
              "      <td>Payment disappear - service got disconnected</td>\n",
              "      <td>04-08-2015</td>\n",
              "      <td>04-Aug-15</td>\n",
              "      <td>10:22:56 AM</td>\n",
              "      <td>Internet</td>\n",
              "      <td>Acworth</td>\n",
              "      <td>Georgia</td>\n",
              "      <td>30102</td>\n",
              "      <td>Closed</td>\n",
              "      <td>No</td>\n",
              "    </tr>\n",
              "    <tr>\n",
              "      <th>2</th>\n",
              "      <td>242732</td>\n",
              "      <td>Speed and Service</td>\n",
              "      <td>18-04-2015</td>\n",
              "      <td>18-Apr-15</td>\n",
              "      <td>9:55:47 AM</td>\n",
              "      <td>Internet</td>\n",
              "      <td>Acworth</td>\n",
              "      <td>Georgia</td>\n",
              "      <td>30101</td>\n",
              "      <td>Closed</td>\n",
              "      <td>Yes</td>\n",
              "    </tr>\n",
              "    <tr>\n",
              "      <th>3</th>\n",
              "      <td>277946</td>\n",
              "      <td>Imposed a New Usage Cap of 300GB that punishe...</td>\n",
              "      <td>05-07-2015</td>\n",
              "      <td>05-Jul-15</td>\n",
              "      <td>11:59:35 AM</td>\n",
              "      <td>Internet</td>\n",
              "      <td>Acworth</td>\n",
              "      <td>Georgia</td>\n",
              "      <td>30101</td>\n",
              "      <td>Open</td>\n",
              "      <td>Yes</td>\n",
              "    </tr>\n",
              "    <tr>\n",
              "      <th>4</th>\n",
              "      <td>307175</td>\n",
              "      <td>not working and no service to boot</td>\n",
              "      <td>26-05-2015</td>\n",
              "      <td>26-May-15</td>\n",
              "      <td>1:25:26 PM</td>\n",
              "      <td>Internet</td>\n",
              "      <td>Acworth</td>\n",
              "      <td>Georgia</td>\n",
              "      <td>30101</td>\n",
              "      <td>Solved</td>\n",
              "      <td>No</td>\n",
              "    </tr>\n",
              "  </tbody>\n",
              "</table>\n",
              "</div>"
            ],
            "text/plain": [
              "  Ticket #  ... Filing on Behalf of Someone\n",
              "0   250635  ...                          No\n",
              "1   223441  ...                          No\n",
              "2   242732  ...                         Yes\n",
              "3   277946  ...                         Yes\n",
              "4   307175  ...                          No\n",
              "\n",
              "[5 rows x 11 columns]"
            ]
          },
          "metadata": {
            "tags": []
          },
          "execution_count": 304
        }
      ]
    },
    {
      "cell_type": "markdown",
      "metadata": {
        "id": "9EgEwkfaiy_J",
        "colab_type": "text"
      },
      "source": [
        "## Analysis Tasks"
      ]
    },
    {
      "cell_type": "markdown",
      "metadata": {
        "id": "buYpRxqQXHat",
        "colab_type": "text"
      },
      "source": [
        "### Task 1 - Produce the trend chart about the monthly registered complaints"
      ]
    },
    {
      "cell_type": "markdown",
      "metadata": {
        "id": "h4QexTzbafWr",
        "colab_type": "text"
      },
      "source": [
        "**First, I extract the month using the `DatetimeIndex().month` value and store it in another column.**  \n",
        "\n",
        "**Then I group by the month, find each month's number of complaints using `size`, then plot a line chart.**"
      ]
    },
    {
      "cell_type": "code",
      "metadata": {
        "id": "ilSn6OwVXFvb",
        "colab_type": "code",
        "colab": {
          "base_uri": "https://localhost:8080/",
          "height": 297
        },
        "outputId": "cf915a8a-a082-4dda-f26d-20e8fe8d4736"
      },
      "source": [
        "data['Month'] = pd.DatetimeIndex(data['Date_month_year']).month #Getting months from the Date_month_year col as numbers\n",
        "data.head() #New column, 'Month' added"
      ],
      "execution_count": null,
      "outputs": [
        {
          "output_type": "execute_result",
          "data": {
            "text/html": [
              "<div>\n",
              "<style scoped>\n",
              "    .dataframe tbody tr th:only-of-type {\n",
              "        vertical-align: middle;\n",
              "    }\n",
              "\n",
              "    .dataframe tbody tr th {\n",
              "        vertical-align: top;\n",
              "    }\n",
              "\n",
              "    .dataframe thead th {\n",
              "        text-align: right;\n",
              "    }\n",
              "</style>\n",
              "<table border=\"1\" class=\"dataframe\">\n",
              "  <thead>\n",
              "    <tr style=\"text-align: right;\">\n",
              "      <th></th>\n",
              "      <th>Ticket #</th>\n",
              "      <th>Customer Complaint</th>\n",
              "      <th>Date</th>\n",
              "      <th>Date_month_year</th>\n",
              "      <th>Time</th>\n",
              "      <th>Received Via</th>\n",
              "      <th>City</th>\n",
              "      <th>State</th>\n",
              "      <th>Zip code</th>\n",
              "      <th>Status</th>\n",
              "      <th>Filing on Behalf of Someone</th>\n",
              "      <th>Month</th>\n",
              "    </tr>\n",
              "  </thead>\n",
              "  <tbody>\n",
              "    <tr>\n",
              "      <th>0</th>\n",
              "      <td>250635</td>\n",
              "      <td>Cable Internet Speeds</td>\n",
              "      <td>22-04-2015</td>\n",
              "      <td>22-Apr-15</td>\n",
              "      <td>3:53:50 PM</td>\n",
              "      <td>Customer Care Call</td>\n",
              "      <td>Abingdon</td>\n",
              "      <td>Maryland</td>\n",
              "      <td>21009</td>\n",
              "      <td>Closed</td>\n",
              "      <td>No</td>\n",
              "      <td>4</td>\n",
              "    </tr>\n",
              "    <tr>\n",
              "      <th>1</th>\n",
              "      <td>223441</td>\n",
              "      <td>Payment disappear - service got disconnected</td>\n",
              "      <td>04-08-2015</td>\n",
              "      <td>04-Aug-15</td>\n",
              "      <td>10:22:56 AM</td>\n",
              "      <td>Internet</td>\n",
              "      <td>Acworth</td>\n",
              "      <td>Georgia</td>\n",
              "      <td>30102</td>\n",
              "      <td>Closed</td>\n",
              "      <td>No</td>\n",
              "      <td>8</td>\n",
              "    </tr>\n",
              "    <tr>\n",
              "      <th>2</th>\n",
              "      <td>242732</td>\n",
              "      <td>Speed and Service</td>\n",
              "      <td>18-04-2015</td>\n",
              "      <td>18-Apr-15</td>\n",
              "      <td>9:55:47 AM</td>\n",
              "      <td>Internet</td>\n",
              "      <td>Acworth</td>\n",
              "      <td>Georgia</td>\n",
              "      <td>30101</td>\n",
              "      <td>Closed</td>\n",
              "      <td>Yes</td>\n",
              "      <td>4</td>\n",
              "    </tr>\n",
              "    <tr>\n",
              "      <th>3</th>\n",
              "      <td>277946</td>\n",
              "      <td>Imposed a New Usage Cap of 300GB that punishe...</td>\n",
              "      <td>05-07-2015</td>\n",
              "      <td>05-Jul-15</td>\n",
              "      <td>11:59:35 AM</td>\n",
              "      <td>Internet</td>\n",
              "      <td>Acworth</td>\n",
              "      <td>Georgia</td>\n",
              "      <td>30101</td>\n",
              "      <td>Open</td>\n",
              "      <td>Yes</td>\n",
              "      <td>7</td>\n",
              "    </tr>\n",
              "    <tr>\n",
              "      <th>4</th>\n",
              "      <td>307175</td>\n",
              "      <td>not working and no service to boot</td>\n",
              "      <td>26-05-2015</td>\n",
              "      <td>26-May-15</td>\n",
              "      <td>1:25:26 PM</td>\n",
              "      <td>Internet</td>\n",
              "      <td>Acworth</td>\n",
              "      <td>Georgia</td>\n",
              "      <td>30101</td>\n",
              "      <td>Solved</td>\n",
              "      <td>No</td>\n",
              "      <td>5</td>\n",
              "    </tr>\n",
              "  </tbody>\n",
              "</table>\n",
              "</div>"
            ],
            "text/plain": [
              "  Ticket #  ... Month\n",
              "0   250635  ...     4\n",
              "1   223441  ...     8\n",
              "2   242732  ...     4\n",
              "3   277946  ...     7\n",
              "4   307175  ...     5\n",
              "\n",
              "[5 rows x 12 columns]"
            ]
          },
          "metadata": {
            "tags": []
          },
          "execution_count": 305
        }
      ]
    },
    {
      "cell_type": "code",
      "metadata": {
        "id": "US1mU_dg8tdn",
        "colab_type": "code",
        "colab": {
          "base_uri": "https://localhost:8080/",
          "height": 435
        },
        "outputId": "91c7a1b8-6a69-4039-ee30-ce5c116f53be"
      },
      "source": [
        "frequencies = data.groupby(['Month']).size() #groupby the month & get frequencies of each\n",
        "monthly_complaints = pd.DataFrame() \n",
        "monthly_complaints['Frequencies'] = frequencies #store the frequencies in this a dataframe\n",
        "months_in_letters = [\"Jan\", \"Feb\", \"Mar\", \"Apr\", \"May\", \"Jun\", \"Jul\", \"Aug\", \"Sep\", \"Oct\", \"Nov\", \"Dec\"] #months in letters\n",
        "monthly_complaints['Month'] = months_in_letters #Added lettered month col\n",
        "monthly_complaints"
      ],
      "execution_count": null,
      "outputs": [
        {
          "output_type": "execute_result",
          "data": {
            "text/html": [
              "<div>\n",
              "<style scoped>\n",
              "    .dataframe tbody tr th:only-of-type {\n",
              "        vertical-align: middle;\n",
              "    }\n",
              "\n",
              "    .dataframe tbody tr th {\n",
              "        vertical-align: top;\n",
              "    }\n",
              "\n",
              "    .dataframe thead th {\n",
              "        text-align: right;\n",
              "    }\n",
              "</style>\n",
              "<table border=\"1\" class=\"dataframe\">\n",
              "  <thead>\n",
              "    <tr style=\"text-align: right;\">\n",
              "      <th></th>\n",
              "      <th>Frequencies</th>\n",
              "      <th>Month</th>\n",
              "    </tr>\n",
              "    <tr>\n",
              "      <th>Month</th>\n",
              "      <th></th>\n",
              "      <th></th>\n",
              "    </tr>\n",
              "  </thead>\n",
              "  <tbody>\n",
              "    <tr>\n",
              "      <th>1</th>\n",
              "      <td>52</td>\n",
              "      <td>Jan</td>\n",
              "    </tr>\n",
              "    <tr>\n",
              "      <th>2</th>\n",
              "      <td>54</td>\n",
              "      <td>Feb</td>\n",
              "    </tr>\n",
              "    <tr>\n",
              "      <th>3</th>\n",
              "      <td>42</td>\n",
              "      <td>Mar</td>\n",
              "    </tr>\n",
              "    <tr>\n",
              "      <th>4</th>\n",
              "      <td>351</td>\n",
              "      <td>Apr</td>\n",
              "    </tr>\n",
              "    <tr>\n",
              "      <th>5</th>\n",
              "      <td>297</td>\n",
              "      <td>May</td>\n",
              "    </tr>\n",
              "    <tr>\n",
              "      <th>6</th>\n",
              "      <td>984</td>\n",
              "      <td>Jun</td>\n",
              "    </tr>\n",
              "    <tr>\n",
              "      <th>7</th>\n",
              "      <td>44</td>\n",
              "      <td>Jul</td>\n",
              "    </tr>\n",
              "    <tr>\n",
              "      <th>8</th>\n",
              "      <td>61</td>\n",
              "      <td>Aug</td>\n",
              "    </tr>\n",
              "    <tr>\n",
              "      <th>9</th>\n",
              "      <td>51</td>\n",
              "      <td>Sep</td>\n",
              "    </tr>\n",
              "    <tr>\n",
              "      <th>10</th>\n",
              "      <td>47</td>\n",
              "      <td>Oct</td>\n",
              "    </tr>\n",
              "    <tr>\n",
              "      <th>11</th>\n",
              "      <td>35</td>\n",
              "      <td>Nov</td>\n",
              "    </tr>\n",
              "    <tr>\n",
              "      <th>12</th>\n",
              "      <td>59</td>\n",
              "      <td>Dec</td>\n",
              "    </tr>\n",
              "  </tbody>\n",
              "</table>\n",
              "</div>"
            ],
            "text/plain": [
              "       Frequencies Month\n",
              "Month                   \n",
              "1               52   Jan\n",
              "2               54   Feb\n",
              "3               42   Mar\n",
              "4              351   Apr\n",
              "5              297   May\n",
              "6              984   Jun\n",
              "7               44   Jul\n",
              "8               61   Aug\n",
              "9               51   Sep\n",
              "10              47   Oct\n",
              "11              35   Nov\n",
              "12              59   Dec"
            ]
          },
          "metadata": {
            "tags": []
          },
          "execution_count": 306
        }
      ]
    },
    {
      "cell_type": "code",
      "metadata": {
        "id": "xHmWbkaMCUFA",
        "colab_type": "code",
        "colab": {
          "base_uri": "https://localhost:8080/",
          "height": 281
        },
        "outputId": "5ef70467-e9e5-40f3-ce7d-2a0170fe7525"
      },
      "source": [
        "# monthly_complaints.plot(kind='line', figsize=(10,5))  #For a bigger plot, but without letters\n",
        "plt.plot(months_in_letters,frequencies)\n",
        "plt.figure(figsize=(10,5))\n",
        "plt.show()"
      ],
      "execution_count": null,
      "outputs": [
        {
          "output_type": "display_data",
          "data": {
            "image/png": "[encoded data removed]",
            "text/plain": [
              "<Figure size 432x288 with 1 Axes>"
            ]
          },
          "metadata": {
            "tags": [],
            "needs_background": "light"
          }
        },
        {
          "output_type": "display_data",
          "data": {
            "text/plain": [
              "<Figure size 720x360 with 0 Axes>"
            ]
          },
          "metadata": {
            "tags": []
          }
        }
      ]
    },
    {
      "cell_type": "markdown",
      "metadata": {
        "id": "hAc1pLZMa4-i",
        "colab_type": "text"
      },
      "source": [
        "### Task 2 - Generate a tabular output with frequencies of complaints"
      ]
    },
    {
      "cell_type": "markdown",
      "metadata": {
        "id": "t2BXeev3bSPh",
        "colab_type": "text"
      },
      "source": [
        "**To do this task, I've used the `value_counts()` method on `Customer Complaint` column.**  \n",
        "**To print all, we can chain it with the `to_dict()` method or set `display.max_columns` and `display.max_rows` to `None`.**"
      ]
    },
    {
      "cell_type": "code",
      "metadata": {
        "id": "1uqgmgIZbD82",
        "colab_type": "code",
        "colab": {
          "base_uri": "https://localhost:8080/",
          "height": 404
        },
        "outputId": "04a048de-9f08-48d2-9f11-a57da5b1efbe"
      },
      "source": [
        "table1 = pd.DataFrame()\n",
        "table1['Frequencies'] = data['Customer Complaint'].value_counts() #If frequencies are per complaint ty\n",
        "table1\n",
        "# with pd.option_context('display.max_rows', None, 'display.max_columns', None):  #Print All method1\n",
        "#     print(table1)\n",
        "#data['Customer Complaint'].value_counts().to_dict() #Print all method2"
      ],
      "execution_count": null,
      "outputs": [
        {
          "output_type": "execute_result",
          "data": {
            "text/html": [
              "<div>\n",
              "<style scoped>\n",
              "    .dataframe tbody tr th:only-of-type {\n",
              "        vertical-align: middle;\n",
              "    }\n",
              "\n",
              "    .dataframe tbody tr th {\n",
              "        vertical-align: top;\n",
              "    }\n",
              "\n",
              "    .dataframe thead th {\n",
              "        text-align: right;\n",
              "    }\n",
              "</style>\n",
              "<table border=\"1\" class=\"dataframe\">\n",
              "  <thead>\n",
              "    <tr style=\"text-align: right;\">\n",
              "      <th></th>\n",
              "      <th>Frequencies</th>\n",
              "    </tr>\n",
              "  </thead>\n",
              "  <tbody>\n",
              "    <tr>\n",
              "      <th>Internet</th>\n",
              "      <td>18</td>\n",
              "    </tr>\n",
              "    <tr>\n",
              "      <th>Data Cap</th>\n",
              "      <td>17</td>\n",
              "    </tr>\n",
              "    <tr>\n",
              "      <th>data cap</th>\n",
              "      <td>12</td>\n",
              "    </tr>\n",
              "    <tr>\n",
              "      <th>Billing</th>\n",
              "      <td>11</td>\n",
              "    </tr>\n",
              "    <tr>\n",
              "      <th>Data Caps</th>\n",
              "      <td>11</td>\n",
              "    </tr>\n",
              "    <tr>\n",
              "      <th>...</th>\n",
              "      <td>...</td>\n",
              "    </tr>\n",
              "    <tr>\n",
              "      <th>slow routing, dropped packets</th>\n",
              "      <td>1</td>\n",
              "    </tr>\n",
              "    <tr>\n",
              "      <th>Internet problems</th>\n",
              "      <td>1</td>\n",
              "    </tr>\n",
              "    <tr>\n",
              "      <th>Billing practices</th>\n",
              "      <td>1</td>\n",
              "    </tr>\n",
              "    <tr>\n",
              "      <th>has turned my business account to third-party collections when I legitimately canceled my contract per the terms</th>\n",
              "      <td>1</td>\n",
              "    </tr>\n",
              "    <tr>\n",
              "      <th>Cable</th>\n",
              "      <td>1</td>\n",
              "    </tr>\n",
              "  </tbody>\n",
              "</table>\n",
              "<p>1783 rows × 1 columns</p>\n",
              "</div>"
            ],
            "text/plain": [
              "                                                    Frequencies\n",
              " Internet                                                    18\n",
              " Data Cap                                                    17\n",
              " data cap                                                    12\n",
              " Billing                                                     11\n",
              " Data Caps                                                   11\n",
              "...                                                         ...\n",
              "slow routing, dropped packets                                 1\n",
              " Internet problems                                            1\n",
              "Billing practices                                             1\n",
              " has turned my business account to third-party ...            1\n",
              "Cable                                                         1\n",
              "\n",
              "[1783 rows x 1 columns]"
            ]
          },
          "metadata": {
            "tags": []
          },
          "execution_count": 308
        }
      ]
    },
    {
      "cell_type": "code",
      "metadata": {
        "id": "jSFWg-cYTeqq",
        "colab_type": "code",
        "colab": {}
      },
      "source": [
        "# from difflib import SequenceMatcher\n",
        "\n",
        "# def similar(a, b):\n",
        "#     threshold = 0.8\n",
        "#     return (SequenceMatcher(None, a, b).ratio() > threshold)\n",
        "\n",
        "# pd.merge(table1['Frequencies'],table1)"
      ],
      "execution_count": null,
      "outputs": []
    },
    {
      "cell_type": "markdown",
      "metadata": {
        "id": "V_FST1nKIbEn",
        "colab_type": "text"
      },
      "source": [
        "**If the frequencies are per month, then I've just used `value_counts` on `Month` column.**"
      ]
    },
    {
      "cell_type": "code",
      "metadata": {
        "id": "rr_kRGG-FKjW",
        "colab_type": "code",
        "colab": {
          "base_uri": "https://localhost:8080/",
          "height": 234
        },
        "outputId": "e4f061f9-f4d4-412e-8f2a-daf31a090ee3"
      },
      "source": [
        "pd.Series(data['Month'].value_counts())"
      ],
      "execution_count": null,
      "outputs": [
        {
          "output_type": "execute_result",
          "data": {
            "text/plain": [
              "6     984\n",
              "4     351\n",
              "5     297\n",
              "8      61\n",
              "12     59\n",
              "2      54\n",
              "1      52\n",
              "9      51\n",
              "10     47\n",
              "7      44\n",
              "3      42\n",
              "11     35\n",
              "Name: Month, dtype: int64"
            ]
          },
          "metadata": {
            "tags": []
          },
          "execution_count": 310
        }
      ]
    },
    {
      "cell_type": "markdown",
      "metadata": {
        "id": "iAyypkOqeheQ",
        "colab_type": "text"
      },
      "source": [
        "### Task 3 - Find which complaint types are maximum i.e., internet, network issues, etc."
      ]
    },
    {
      "cell_type": "markdown",
      "metadata": {
        "id": "2pn2cJPGhfAn",
        "colab_type": "text"
      },
      "source": [
        "**After getting the frequencies using `value_counts()`, I've chained it with the `head()` method to get the first few values, i.e. complaints with maximum frequencies.**"
      ]
    },
    {
      "cell_type": "code",
      "metadata": {
        "id": "3UHIFu0aeoND",
        "colab_type": "code",
        "colab": {
          "base_uri": "https://localhost:8080/",
          "height": 213
        },
        "outputId": "55f867e8-0d4c-4d2b-b3b6-25788f637ec7"
      },
      "source": [
        "#The following are the max complaints, using head here\n",
        "print(\"Maximum complaint types and their frequencies:\")\n",
        "pd.DataFrame(data['Customer Complaint'].value_counts().head())"
      ],
      "execution_count": null,
      "outputs": [
        {
          "output_type": "stream",
          "text": [
            "Maximum complaint types and their frequencies:\n"
          ],
          "name": "stdout"
        },
        {
          "output_type": "execute_result",
          "data": {
            "text/html": [
              "<div>\n",
              "<style scoped>\n",
              "    .dataframe tbody tr th:only-of-type {\n",
              "        vertical-align: middle;\n",
              "    }\n",
              "\n",
              "    .dataframe tbody tr th {\n",
              "        vertical-align: top;\n",
              "    }\n",
              "\n",
              "    .dataframe thead th {\n",
              "        text-align: right;\n",
              "    }\n",
              "</style>\n",
              "<table border=\"1\" class=\"dataframe\">\n",
              "  <thead>\n",
              "    <tr style=\"text-align: right;\">\n",
              "      <th></th>\n",
              "      <th>Customer Complaint</th>\n",
              "    </tr>\n",
              "  </thead>\n",
              "  <tbody>\n",
              "    <tr>\n",
              "      <th>Internet</th>\n",
              "      <td>18</td>\n",
              "    </tr>\n",
              "    <tr>\n",
              "      <th>Data Cap</th>\n",
              "      <td>17</td>\n",
              "    </tr>\n",
              "    <tr>\n",
              "      <th>data cap</th>\n",
              "      <td>12</td>\n",
              "    </tr>\n",
              "    <tr>\n",
              "      <th>Billing</th>\n",
              "      <td>11</td>\n",
              "    </tr>\n",
              "    <tr>\n",
              "      <th>Data Caps</th>\n",
              "      <td>11</td>\n",
              "    </tr>\n",
              "  </tbody>\n",
              "</table>\n",
              "</div>"
            ],
            "text/plain": [
              "            Customer Complaint\n",
              " Internet                   18\n",
              " Data Cap                   17\n",
              " data cap                   12\n",
              " Billing                    11\n",
              " Data Caps                  11"
            ]
          },
          "metadata": {
            "tags": []
          },
          "execution_count": 311
        }
      ]
    },
    {
      "cell_type": "markdown",
      "metadata": {
        "id": "b4e3j4-Nhuin",
        "colab_type": "text"
      },
      "source": [
        "### Task 4 - Provide the state wise status of complaint in the form of stacked bar"
      ]
    },
    {
      "cell_type": "markdown",
      "metadata": {
        "id": "cnZHmTV3hy-6",
        "colab_type": "text"
      },
      "source": [
        "**To do this, I've refered to [this](https://stackoverflow.com/questions/23415500/pandas-plotting-a-stacked-bar-chart) stackoverflow answer.**"
      ]
    },
    {
      "cell_type": "code",
      "metadata": {
        "id": "NEOLttN5h0TO",
        "colab_type": "code",
        "colab": {
          "base_uri": "https://localhost:8080/",
          "height": 424
        },
        "outputId": "06fef194-ff9f-45ba-a96a-5836d98aa204"
      },
      "source": [
        "import matplotlib.pyplot as plt\n",
        "state_wise = data.groupby(['State','Status']).size().unstack().fillna(0) #storing state wise complaints\n",
        "state_wise.plot(kind='bar',stacked=True, figsize=(20,5)) #Plotting the graph of State wise complaints\n",
        "plt.ylabel('Complaint Count')\n",
        "plt.xlabel('State')\n",
        "# plt.figure(figsize=(100,100))\n",
        "plt.show()"
      ],
      "execution_count": null,
      "outputs": [
        {
          "output_type": "display_data",
          "data": {
            "image/png": "[encoded data removed]",
            "text/plain": [
              "<Figure size 1440x360 with 1 Axes>"
            ]
          },
          "metadata": {
            "tags": [],
            "needs_background": "light"
          }
        }
      ]
    },
    {
      "cell_type": "markdown",
      "metadata": {
        "id": "atsB3LdFk6qY",
        "colab_type": "text"
      },
      "source": [
        "### Task 5 - Report which state has registered maximum and minimum complaint"
      ]
    },
    {
      "cell_type": "markdown",
      "metadata": {
        "id": "rsWnXr2GlBq-",
        "colab_type": "text"
      },
      "source": [
        "**I store the state wise frequencies in a dataframe, and then find `max()` and `min()` valued columns.**  \n",
        "**We can also use the idxmax and idxmin methods, as found in [this](https://stackoverflow.com/questions/15138973/how-to-get-the-number-of-the-most-frequent-value-in-a-column) stackoverflow answer, but it only gave me the one value.**"
      ]
    },
    {
      "cell_type": "code",
      "metadata": {
        "id": "b4eHuVCFlCT3",
        "colab_type": "code",
        "colab": {
          "base_uri": "https://localhost:8080/",
          "height": 196
        },
        "outputId": "865276a8-c740-4c91-ad59-5108d5dec26f"
      },
      "source": [
        "state_frequencies = pd.DataFrame(data['State'].value_counts()) #Store frequencies\n",
        "state_frequencies.head()\n"
      ],
      "execution_count": null,
      "outputs": [
        {
          "output_type": "execute_result",
          "data": {
            "text/html": [
              "<div>\n",
              "<style scoped>\n",
              "    .dataframe tbody tr th:only-of-type {\n",
              "        vertical-align: middle;\n",
              "    }\n",
              "\n",
              "    .dataframe tbody tr th {\n",
              "        vertical-align: top;\n",
              "    }\n",
              "\n",
              "    .dataframe thead th {\n",
              "        text-align: right;\n",
              "    }\n",
              "</style>\n",
              "<table border=\"1\" class=\"dataframe\">\n",
              "  <thead>\n",
              "    <tr style=\"text-align: right;\">\n",
              "      <th></th>\n",
              "      <th>State</th>\n",
              "    </tr>\n",
              "  </thead>\n",
              "  <tbody>\n",
              "    <tr>\n",
              "      <th>Georgia</th>\n",
              "      <td>264</td>\n",
              "    </tr>\n",
              "    <tr>\n",
              "      <th>Florida</th>\n",
              "      <td>226</td>\n",
              "    </tr>\n",
              "    <tr>\n",
              "      <th>California</th>\n",
              "      <td>210</td>\n",
              "    </tr>\n",
              "    <tr>\n",
              "      <th>Illinois</th>\n",
              "      <td>147</td>\n",
              "    </tr>\n",
              "    <tr>\n",
              "      <th>Tennessee</th>\n",
              "      <td>137</td>\n",
              "    </tr>\n",
              "  </tbody>\n",
              "</table>\n",
              "</div>"
            ],
            "text/plain": [
              "            State\n",
              "Georgia       264\n",
              "Florida       226\n",
              "California    210\n",
              "Illinois      147\n",
              "Tennessee     137"
            ]
          },
          "metadata": {
            "tags": []
          },
          "execution_count": 313
        }
      ]
    },
    {
      "cell_type": "code",
      "metadata": {
        "id": "Sd3zyDZkR2vR",
        "colab_type": "code",
        "colab": {
          "base_uri": "https://localhost:8080/",
          "height": 110
        },
        "outputId": "4547e4e6-baed-4a44-b862-3f6e6a9760f9"
      },
      "source": [
        "print(\"States where maximum complaints are registered:\\n\")\n",
        "\n",
        "state_frequencies[state_frequencies['State'] == state_frequencies['State'].max()] #Max complaints"
      ],
      "execution_count": null,
      "outputs": [
        {
          "output_type": "stream",
          "text": [
            "States where maximum complaints are registered:\n",
            "\n"
          ],
          "name": "stdout"
        },
        {
          "output_type": "execute_result",
          "data": {
            "text/html": [
              "<div>\n",
              "<style scoped>\n",
              "    .dataframe tbody tr th:only-of-type {\n",
              "        vertical-align: middle;\n",
              "    }\n",
              "\n",
              "    .dataframe tbody tr th {\n",
              "        vertical-align: top;\n",
              "    }\n",
              "\n",
              "    .dataframe thead th {\n",
              "        text-align: right;\n",
              "    }\n",
              "</style>\n",
              "<table border=\"1\" class=\"dataframe\">\n",
              "  <thead>\n",
              "    <tr style=\"text-align: right;\">\n",
              "      <th></th>\n",
              "      <th>State</th>\n",
              "    </tr>\n",
              "  </thead>\n",
              "  <tbody>\n",
              "    <tr>\n",
              "      <th>Georgia</th>\n",
              "      <td>264</td>\n",
              "    </tr>\n",
              "  </tbody>\n",
              "</table>\n",
              "</div>"
            ],
            "text/plain": [
              "         State\n",
              "Georgia    264"
            ]
          },
          "metadata": {
            "tags": []
          },
          "execution_count": 314
        }
      ]
    },
    {
      "cell_type": "code",
      "metadata": {
        "id": "CFqUgMezSKce",
        "colab_type": "code",
        "colab": {
          "base_uri": "https://localhost:8080/",
          "height": 230
        },
        "outputId": "b7a36706-83b8-417b-f101-52c233a66dad"
      },
      "source": [
        "print(\"States where minimum complaints are registered:\\n\")\n",
        "\n",
        "state_frequencies[state_frequencies['State'] == state_frequencies['State'].min()] #Min complaints"
      ],
      "execution_count": null,
      "outputs": [
        {
          "output_type": "stream",
          "text": [
            "States where minimum complaints are registered:\n",
            "\n"
          ],
          "name": "stdout"
        },
        {
          "output_type": "execute_result",
          "data": {
            "text/html": [
              "<div>\n",
              "<style scoped>\n",
              "    .dataframe tbody tr th:only-of-type {\n",
              "        vertical-align: middle;\n",
              "    }\n",
              "\n",
              "    .dataframe tbody tr th {\n",
              "        vertical-align: top;\n",
              "    }\n",
              "\n",
              "    .dataframe thead th {\n",
              "        text-align: right;\n",
              "    }\n",
              "</style>\n",
              "<table border=\"1\" class=\"dataframe\">\n",
              "  <thead>\n",
              "    <tr style=\"text-align: right;\">\n",
              "      <th></th>\n",
              "      <th>State</th>\n",
              "    </tr>\n",
              "  </thead>\n",
              "  <tbody>\n",
              "    <tr>\n",
              "      <th>Kansas</th>\n",
              "      <td>1</td>\n",
              "    </tr>\n",
              "    <tr>\n",
              "      <th>District of Columbia</th>\n",
              "      <td>1</td>\n",
              "    </tr>\n",
              "    <tr>\n",
              "      <th>Nevada</th>\n",
              "      <td>1</td>\n",
              "    </tr>\n",
              "    <tr>\n",
              "      <th>Montana</th>\n",
              "      <td>1</td>\n",
              "    </tr>\n",
              "    <tr>\n",
              "      <th>Iowa</th>\n",
              "      <td>1</td>\n",
              "    </tr>\n",
              "  </tbody>\n",
              "</table>\n",
              "</div>"
            ],
            "text/plain": [
              "                      State\n",
              "Kansas                    1\n",
              "District of Columbia      1\n",
              "Nevada                    1\n",
              "Montana                   1\n",
              "Iowa                      1"
            ]
          },
          "metadata": {
            "tags": []
          },
          "execution_count": 315
        }
      ]
    },
    {
      "cell_type": "code",
      "metadata": {
        "id": "3odt9ZYgST6V",
        "colab_type": "code",
        "colab": {
          "base_uri": "https://localhost:8080/",
          "height": 50
        },
        "outputId": "9c7fc927-8b93-42af-f727-29b0c222f702"
      },
      "source": [
        "#Alternate\n",
        "print(\"State with Maximum Complaints:\", data['State'].value_counts().idxmax())\n",
        "print(\"State with Minimum Complaints:\", data['State'].value_counts().idxmin())"
      ],
      "execution_count": null,
      "outputs": [
        {
          "output_type": "stream",
          "text": [
            "State with Maximum Complaints: Georgia\n",
            "State with Minimum Complaints: Kansas\n"
          ],
          "name": "stdout"
        }
      ]
    },
    {
      "cell_type": "markdown",
      "metadata": {
        "id": "QRNrosQ_nGCV",
        "colab_type": "text"
      },
      "source": [
        "### Task 6 - Which state has the highest and lowest percentage of unresolved complaints"
      ]
    },
    {
      "cell_type": "markdown",
      "metadata": {
        "id": "7vUnd1bEnLBE",
        "colab_type": "text"
      },
      "source": [
        "**Here, I reuse the `state_wise` dataframe. I sum the total complaints per state, then find the percentages of the unresolved complaints.**\n"
      ]
    },
    {
      "cell_type": "code",
      "metadata": {
        "id": "44Ria1mjnLPP",
        "colab_type": "code",
        "colab": {
          "base_uri": "https://localhost:8080/",
          "height": 226
        },
        "outputId": "efa3ae7a-dc19-42e3-8a82-5fccb46ee119"
      },
      "source": [
        "state_wise.head() #Initial state wise dataframe"
      ],
      "execution_count": null,
      "outputs": [
        {
          "output_type": "execute_result",
          "data": {
            "text/html": [
              "<div>\n",
              "<style scoped>\n",
              "    .dataframe tbody tr th:only-of-type {\n",
              "        vertical-align: middle;\n",
              "    }\n",
              "\n",
              "    .dataframe tbody tr th {\n",
              "        vertical-align: top;\n",
              "    }\n",
              "\n",
              "    .dataframe thead th {\n",
              "        text-align: right;\n",
              "    }\n",
              "</style>\n",
              "<table border=\"1\" class=\"dataframe\">\n",
              "  <thead>\n",
              "    <tr style=\"text-align: right;\">\n",
              "      <th>Status</th>\n",
              "      <th>Closed</th>\n",
              "      <th>Open</th>\n",
              "      <th>Pending</th>\n",
              "      <th>Solved</th>\n",
              "    </tr>\n",
              "    <tr>\n",
              "      <th>State</th>\n",
              "      <th></th>\n",
              "      <th></th>\n",
              "      <th></th>\n",
              "      <th></th>\n",
              "    </tr>\n",
              "  </thead>\n",
              "  <tbody>\n",
              "    <tr>\n",
              "      <th>Alabama</th>\n",
              "      <td>8.0</td>\n",
              "      <td>4.0</td>\n",
              "      <td>5.0</td>\n",
              "      <td>9.0</td>\n",
              "    </tr>\n",
              "    <tr>\n",
              "      <th>Arizona</th>\n",
              "      <td>6.0</td>\n",
              "      <td>2.0</td>\n",
              "      <td>4.0</td>\n",
              "      <td>8.0</td>\n",
              "    </tr>\n",
              "    <tr>\n",
              "      <th>Arkansas</th>\n",
              "      <td>1.0</td>\n",
              "      <td>0.0</td>\n",
              "      <td>0.0</td>\n",
              "      <td>4.0</td>\n",
              "    </tr>\n",
              "    <tr>\n",
              "      <th>California</th>\n",
              "      <td>69.0</td>\n",
              "      <td>45.0</td>\n",
              "      <td>14.0</td>\n",
              "      <td>82.0</td>\n",
              "    </tr>\n",
              "    <tr>\n",
              "      <th>Colorado</th>\n",
              "      <td>21.0</td>\n",
              "      <td>12.0</td>\n",
              "      <td>10.0</td>\n",
              "      <td>32.0</td>\n",
              "    </tr>\n",
              "  </tbody>\n",
              "</table>\n",
              "</div>"
            ],
            "text/plain": [
              "Status      Closed  Open  Pending  Solved\n",
              "State                                    \n",
              "Alabama        8.0   4.0      5.0     9.0\n",
              "Arizona        6.0   2.0      4.0     8.0\n",
              "Arkansas       1.0   0.0      0.0     4.0\n",
              "California    69.0  45.0     14.0    82.0\n",
              "Colorado      21.0  12.0     10.0    32.0"
            ]
          },
          "metadata": {
            "tags": []
          },
          "execution_count": 317
        }
      ]
    },
    {
      "cell_type": "code",
      "metadata": {
        "id": "mZuv480AOLKi",
        "colab_type": "code",
        "colab": {
          "base_uri": "https://localhost:8080/",
          "height": 226
        },
        "outputId": "5f26652c-bafd-4f35-989d-4a74b3323203"
      },
      "source": [
        "state_wise['Total Complaints'] = state_wise.iloc[:,0:].sum(axis=1) #Getting total complaints as sum of all types\n",
        "state_wise['Resolved Percentage'] = ((state_wise['Closed'] + state_wise['Solved'])/state_wise['Total Complaints']) * 100 #resolved complaints\n",
        "state_wise['Unresolved Percentage'] = ((state_wise['Open'] + state_wise['Pending'])/state_wise['Total Complaints']) * 100 #Unresolved complaints\n",
        "state_wise.head() #Modified dataframe"
      ],
      "execution_count": null,
      "outputs": [
        {
          "output_type": "execute_result",
          "data": {
            "text/html": [
              "<div>\n",
              "<style scoped>\n",
              "    .dataframe tbody tr th:only-of-type {\n",
              "        vertical-align: middle;\n",
              "    }\n",
              "\n",
              "    .dataframe tbody tr th {\n",
              "        vertical-align: top;\n",
              "    }\n",
              "\n",
              "    .dataframe thead th {\n",
              "        text-align: right;\n",
              "    }\n",
              "</style>\n",
              "<table border=\"1\" class=\"dataframe\">\n",
              "  <thead>\n",
              "    <tr style=\"text-align: right;\">\n",
              "      <th>Status</th>\n",
              "      <th>Closed</th>\n",
              "      <th>Open</th>\n",
              "      <th>Pending</th>\n",
              "      <th>Solved</th>\n",
              "      <th>Total Complaints</th>\n",
              "      <th>Resolved Percentage</th>\n",
              "      <th>Unresolved Percentage</th>\n",
              "    </tr>\n",
              "    <tr>\n",
              "      <th>State</th>\n",
              "      <th></th>\n",
              "      <th></th>\n",
              "      <th></th>\n",
              "      <th></th>\n",
              "      <th></th>\n",
              "      <th></th>\n",
              "      <th></th>\n",
              "    </tr>\n",
              "  </thead>\n",
              "  <tbody>\n",
              "    <tr>\n",
              "      <th>Alabama</th>\n",
              "      <td>8.0</td>\n",
              "      <td>4.0</td>\n",
              "      <td>5.0</td>\n",
              "      <td>9.0</td>\n",
              "      <td>152.0</td>\n",
              "      <td>11.184211</td>\n",
              "      <td>5.921053</td>\n",
              "    </tr>\n",
              "    <tr>\n",
              "      <th>Arizona</th>\n",
              "      <td>6.0</td>\n",
              "      <td>2.0</td>\n",
              "      <td>4.0</td>\n",
              "      <td>8.0</td>\n",
              "      <td>140.0</td>\n",
              "      <td>10.000000</td>\n",
              "      <td>4.285714</td>\n",
              "    </tr>\n",
              "    <tr>\n",
              "      <th>Arkansas</th>\n",
              "      <td>1.0</td>\n",
              "      <td>0.0</td>\n",
              "      <td>0.0</td>\n",
              "      <td>4.0</td>\n",
              "      <td>110.0</td>\n",
              "      <td>4.545455</td>\n",
              "      <td>0.000000</td>\n",
              "    </tr>\n",
              "    <tr>\n",
              "      <th>California</th>\n",
              "      <td>69.0</td>\n",
              "      <td>45.0</td>\n",
              "      <td>14.0</td>\n",
              "      <td>82.0</td>\n",
              "      <td>520.0</td>\n",
              "      <td>29.038462</td>\n",
              "      <td>11.346154</td>\n",
              "    </tr>\n",
              "    <tr>\n",
              "      <th>Colorado</th>\n",
              "      <td>21.0</td>\n",
              "      <td>12.0</td>\n",
              "      <td>10.0</td>\n",
              "      <td>32.0</td>\n",
              "      <td>250.0</td>\n",
              "      <td>21.200000</td>\n",
              "      <td>8.800000</td>\n",
              "    </tr>\n",
              "  </tbody>\n",
              "</table>\n",
              "</div>"
            ],
            "text/plain": [
              "Status      Closed  Open  ...  Resolved Percentage  Unresolved Percentage\n",
              "State                     ...                                            \n",
              "Alabama        8.0   4.0  ...            11.184211               5.921053\n",
              "Arizona        6.0   2.0  ...            10.000000               4.285714\n",
              "Arkansas       1.0   0.0  ...             4.545455               0.000000\n",
              "California    69.0  45.0  ...            29.038462              11.346154\n",
              "Colorado      21.0  12.0  ...            21.200000               8.800000\n",
              "\n",
              "[5 rows x 7 columns]"
            ]
          },
          "metadata": {
            "tags": []
          },
          "execution_count": 321
        }
      ]
    },
    {
      "cell_type": "markdown",
      "metadata": {
        "id": "W8p2BHikPh69",
        "colab_type": "text"
      },
      "source": [
        "**Now that I've added the percentages, we can find the highest(`max`) and lowest(`min`) unresolved percentages.**"
      ]
    },
    {
      "cell_type": "code",
      "metadata": {
        "id": "o7dDKi_rPc6t",
        "colab_type": "code",
        "colab": {
          "base_uri": "https://localhost:8080/",
          "height": 107
        },
        "outputId": "7d4f476e-fe46-4276-f895-fcbfa0c92250"
      },
      "source": [
        "state_wise[state_wise['Unresolved Percentage'] == state_wise['Unresolved Percentage'].max()]"
      ],
      "execution_count": null,
      "outputs": [
        {
          "output_type": "execute_result",
          "data": {
            "text/html": [
              "<div>\n",
              "<style scoped>\n",
              "    .dataframe tbody tr th:only-of-type {\n",
              "        vertical-align: middle;\n",
              "    }\n",
              "\n",
              "    .dataframe tbody tr th {\n",
              "        vertical-align: top;\n",
              "    }\n",
              "\n",
              "    .dataframe thead th {\n",
              "        text-align: right;\n",
              "    }\n",
              "</style>\n",
              "<table border=\"1\" class=\"dataframe\">\n",
              "  <thead>\n",
              "    <tr style=\"text-align: right;\">\n",
              "      <th>Status</th>\n",
              "      <th>Closed</th>\n",
              "      <th>Open</th>\n",
              "      <th>Pending</th>\n",
              "      <th>Solved</th>\n",
              "      <th>Total Complaints</th>\n",
              "      <th>Resolved Percentage</th>\n",
              "      <th>Unresolved Percentage</th>\n",
              "    </tr>\n",
              "    <tr>\n",
              "      <th>State</th>\n",
              "      <th></th>\n",
              "      <th></th>\n",
              "      <th></th>\n",
              "      <th></th>\n",
              "      <th></th>\n",
              "      <th></th>\n",
              "      <th></th>\n",
              "    </tr>\n",
              "  </thead>\n",
              "  <tbody>\n",
              "    <tr>\n",
              "      <th>Kansas</th>\n",
              "      <td>0.0</td>\n",
              "      <td>0.0</td>\n",
              "      <td>1.0</td>\n",
              "      <td>0.0</td>\n",
              "      <td>1.0</td>\n",
              "      <td>0.0</td>\n",
              "      <td>100.0</td>\n",
              "    </tr>\n",
              "  </tbody>\n",
              "</table>\n",
              "</div>"
            ],
            "text/plain": [
              "Status  Closed  Open  ...  Resolved Percentage  Unresolved Percentage\n",
              "State                 ...                                            \n",
              "Kansas     0.0   0.0  ...                  0.0                  100.0\n",
              "\n",
              "[1 rows x 7 columns]"
            ]
          },
          "metadata": {
            "tags": []
          },
          "execution_count": 319
        }
      ]
    },
    {
      "cell_type": "code",
      "metadata": {
        "id": "QdjyOzJyQQc5",
        "colab_type": "code",
        "colab": {
          "base_uri": "https://localhost:8080/",
          "height": 345
        },
        "outputId": "1188a2c5-da8e-4133-bf5d-4129b2a2ad3d"
      },
      "source": [
        "state_wise[state_wise['Unresolved Percentage'] == state_wise['Unresolved Percentage'].min()]"
      ],
      "execution_count": null,
      "outputs": [
        {
          "output_type": "execute_result",
          "data": {
            "text/html": [
              "<div>\n",
              "<style scoped>\n",
              "    .dataframe tbody tr th:only-of-type {\n",
              "        vertical-align: middle;\n",
              "    }\n",
              "\n",
              "    .dataframe tbody tr th {\n",
              "        vertical-align: top;\n",
              "    }\n",
              "\n",
              "    .dataframe thead th {\n",
              "        text-align: right;\n",
              "    }\n",
              "</style>\n",
              "<table border=\"1\" class=\"dataframe\">\n",
              "  <thead>\n",
              "    <tr style=\"text-align: right;\">\n",
              "      <th>Status</th>\n",
              "      <th>Closed</th>\n",
              "      <th>Open</th>\n",
              "      <th>Pending</th>\n",
              "      <th>Solved</th>\n",
              "      <th>Total Complaints</th>\n",
              "      <th>Resolved Percentage</th>\n",
              "      <th>Unresolved Percentage</th>\n",
              "    </tr>\n",
              "    <tr>\n",
              "      <th>State</th>\n",
              "      <th></th>\n",
              "      <th></th>\n",
              "      <th></th>\n",
              "      <th></th>\n",
              "      <th></th>\n",
              "      <th></th>\n",
              "      <th></th>\n",
              "    </tr>\n",
              "  </thead>\n",
              "  <tbody>\n",
              "    <tr>\n",
              "      <th>Arkansas</th>\n",
              "      <td>1.0</td>\n",
              "      <td>0.0</td>\n",
              "      <td>0.0</td>\n",
              "      <td>4.0</td>\n",
              "      <td>5.0</td>\n",
              "      <td>100.0</td>\n",
              "      <td>0.0</td>\n",
              "    </tr>\n",
              "    <tr>\n",
              "      <th>District of Columbia</th>\n",
              "      <td>0.0</td>\n",
              "      <td>0.0</td>\n",
              "      <td>0.0</td>\n",
              "      <td>1.0</td>\n",
              "      <td>1.0</td>\n",
              "      <td>100.0</td>\n",
              "      <td>0.0</td>\n",
              "    </tr>\n",
              "    <tr>\n",
              "      <th>Iowa</th>\n",
              "      <td>0.0</td>\n",
              "      <td>0.0</td>\n",
              "      <td>0.0</td>\n",
              "      <td>1.0</td>\n",
              "      <td>1.0</td>\n",
              "      <td>100.0</td>\n",
              "      <td>0.0</td>\n",
              "    </tr>\n",
              "    <tr>\n",
              "      <th>Missouri</th>\n",
              "      <td>2.0</td>\n",
              "      <td>0.0</td>\n",
              "      <td>0.0</td>\n",
              "      <td>1.0</td>\n",
              "      <td>3.0</td>\n",
              "      <td>100.0</td>\n",
              "      <td>0.0</td>\n",
              "    </tr>\n",
              "    <tr>\n",
              "      <th>Montana</th>\n",
              "      <td>1.0</td>\n",
              "      <td>0.0</td>\n",
              "      <td>0.0</td>\n",
              "      <td>0.0</td>\n",
              "      <td>1.0</td>\n",
              "      <td>100.0</td>\n",
              "      <td>0.0</td>\n",
              "    </tr>\n",
              "    <tr>\n",
              "      <th>Nevada</th>\n",
              "      <td>1.0</td>\n",
              "      <td>0.0</td>\n",
              "      <td>0.0</td>\n",
              "      <td>0.0</td>\n",
              "      <td>1.0</td>\n",
              "      <td>100.0</td>\n",
              "      <td>0.0</td>\n",
              "    </tr>\n",
              "    <tr>\n",
              "      <th>New York</th>\n",
              "      <td>2.0</td>\n",
              "      <td>0.0</td>\n",
              "      <td>0.0</td>\n",
              "      <td>4.0</td>\n",
              "      <td>6.0</td>\n",
              "      <td>100.0</td>\n",
              "      <td>0.0</td>\n",
              "    </tr>\n",
              "    <tr>\n",
              "      <th>North Carolina</th>\n",
              "      <td>2.0</td>\n",
              "      <td>0.0</td>\n",
              "      <td>0.0</td>\n",
              "      <td>0.0</td>\n",
              "      <td>2.0</td>\n",
              "      <td>100.0</td>\n",
              "      <td>0.0</td>\n",
              "    </tr>\n",
              "    <tr>\n",
              "      <th>Ohio</th>\n",
              "      <td>2.0</td>\n",
              "      <td>0.0</td>\n",
              "      <td>0.0</td>\n",
              "      <td>1.0</td>\n",
              "      <td>3.0</td>\n",
              "      <td>100.0</td>\n",
              "      <td>0.0</td>\n",
              "    </tr>\n",
              "  </tbody>\n",
              "</table>\n",
              "</div>"
            ],
            "text/plain": [
              "Status                Closed  Open  ...  Resolved Percentage  Unresolved Percentage\n",
              "State                               ...                                            \n",
              "Arkansas                 1.0   0.0  ...                100.0                    0.0\n",
              "District of Columbia     0.0   0.0  ...                100.0                    0.0\n",
              "Iowa                     0.0   0.0  ...                100.0                    0.0\n",
              "Missouri                 2.0   0.0  ...                100.0                    0.0\n",
              "Montana                  1.0   0.0  ...                100.0                    0.0\n",
              "Nevada                   1.0   0.0  ...                100.0                    0.0\n",
              "New York                 2.0   0.0  ...                100.0                    0.0\n",
              "North Carolina           2.0   0.0  ...                100.0                    0.0\n",
              "Ohio                     2.0   0.0  ...                100.0                    0.0\n",
              "\n",
              "[9 rows x 7 columns]"
            ]
          },
          "metadata": {
            "tags": []
          },
          "execution_count": 320
        }
      ]
    },
    {
      "cell_type": "markdown",
      "metadata": {
        "id": "IHx8v9T9b5Io",
        "colab_type": "text"
      },
      "source": [
        "# Question 2"
      ]
    },
    {
      "cell_type": "markdown",
      "metadata": {
        "id": "hTPrDmDuMirS",
        "colab_type": "text"
      },
      "source": [
        "## Importing the data and required libraries."
      ]
    },
    {
      "cell_type": "code",
      "metadata": {
        "id": "154TH5tJMl1L",
        "colab_type": "code",
        "colab": {}
      },
      "source": [
        "import pandas as pd\n",
        "import numpy as np\n",
        "import matplotlib.pyplot as plt\n",
        "\n",
        "%matplotlib inline"
      ],
      "execution_count": null,
      "outputs": []
    },
    {
      "cell_type": "code",
      "metadata": {
        "id": "siTpHTX5Nlpt",
        "colab_type": "code",
        "colab": {
          "base_uri": "https://localhost:8080/",
          "height": 196
        },
        "outputId": "63fb6b23-9df9-49c9-97c1-909bcc0ef7fa"
      },
      "source": [
        "data = pd.read_csv('Mart.csv')\n",
        "data.head()"
      ],
      "execution_count": null,
      "outputs": [
        {
          "output_type": "execute_result",
          "data": {
            "text/html": [
              "<div>\n",
              "<style scoped>\n",
              "    .dataframe tbody tr th:only-of-type {\n",
              "        vertical-align: middle;\n",
              "    }\n",
              "\n",
              "    .dataframe tbody tr th {\n",
              "        vertical-align: top;\n",
              "    }\n",
              "\n",
              "    .dataframe thead th {\n",
              "        text-align: right;\n",
              "    }\n",
              "</style>\n",
              "<table border=\"1\" class=\"dataframe\">\n",
              "  <thead>\n",
              "    <tr style=\"text-align: right;\">\n",
              "      <th></th>\n",
              "      <th>Store</th>\n",
              "      <th>Date</th>\n",
              "      <th>Weekly_Sales</th>\n",
              "      <th>Holiday_Flag</th>\n",
              "      <th>Temperature</th>\n",
              "      <th>Fuel_Price</th>\n",
              "      <th>CPI</th>\n",
              "      <th>Unemployment</th>\n",
              "    </tr>\n",
              "  </thead>\n",
              "  <tbody>\n",
              "    <tr>\n",
              "      <th>0</th>\n",
              "      <td>1</td>\n",
              "      <td>05-02-2010</td>\n",
              "      <td>1643690.90</td>\n",
              "      <td>0</td>\n",
              "      <td>42.31</td>\n",
              "      <td>2.572</td>\n",
              "      <td>211.096358</td>\n",
              "      <td>8.106</td>\n",
              "    </tr>\n",
              "    <tr>\n",
              "      <th>1</th>\n",
              "      <td>1</td>\n",
              "      <td>12-02-2010</td>\n",
              "      <td>1641957.44</td>\n",
              "      <td>1</td>\n",
              "      <td>38.51</td>\n",
              "      <td>2.548</td>\n",
              "      <td>211.242170</td>\n",
              "      <td>8.106</td>\n",
              "    </tr>\n",
              "    <tr>\n",
              "      <th>2</th>\n",
              "      <td>1</td>\n",
              "      <td>19-02-2010</td>\n",
              "      <td>1611968.17</td>\n",
              "      <td>0</td>\n",
              "      <td>39.93</td>\n",
              "      <td>2.514</td>\n",
              "      <td>211.289143</td>\n",
              "      <td>8.106</td>\n",
              "    </tr>\n",
              "    <tr>\n",
              "      <th>3</th>\n",
              "      <td>1</td>\n",
              "      <td>26-02-2010</td>\n",
              "      <td>1409727.59</td>\n",
              "      <td>0</td>\n",
              "      <td>46.63</td>\n",
              "      <td>2.561</td>\n",
              "      <td>211.319643</td>\n",
              "      <td>8.106</td>\n",
              "    </tr>\n",
              "    <tr>\n",
              "      <th>4</th>\n",
              "      <td>1</td>\n",
              "      <td>05-03-2010</td>\n",
              "      <td>1554806.68</td>\n",
              "      <td>0</td>\n",
              "      <td>46.50</td>\n",
              "      <td>2.625</td>\n",
              "      <td>211.350143</td>\n",
              "      <td>8.106</td>\n",
              "    </tr>\n",
              "  </tbody>\n",
              "</table>\n",
              "</div>"
            ],
            "text/plain": [
              "   Store        Date  Weekly_Sales  ...  Fuel_Price         CPI  Unemployment\n",
              "0      1  05-02-2010    1643690.90  ...       2.572  211.096358         8.106\n",
              "1      1  12-02-2010    1641957.44  ...       2.548  211.242170         8.106\n",
              "2      1  19-02-2010    1611968.17  ...       2.514  211.289143         8.106\n",
              "3      1  26-02-2010    1409727.59  ...       2.561  211.319643         8.106\n",
              "4      1  05-03-2010    1554806.68  ...       2.625  211.350143         8.106\n",
              "\n",
              "[5 rows x 8 columns]"
            ]
          },
          "metadata": {
            "tags": []
          },
          "execution_count": 323
        }
      ]
    },
    {
      "cell_type": "markdown",
      "metadata": {
        "id": "ec_3MG6LMbtQ",
        "colab_type": "text"
      },
      "source": [
        "## Basic Statistical Tasks"
      ]
    },
    {
      "cell_type": "markdown",
      "metadata": {
        "id": "kw1aOHq9cjnf",
        "colab_type": "text"
      },
      "source": [
        "### Task 1 - Which store has maximum sales?\n"
      ]
    },
    {
      "cell_type": "markdown",
      "metadata": {
        "id": "lB5s0-dpODfL",
        "colab_type": "text"
      },
      "source": [
        "**To do this, I get the store wise sales, then find the store corresponding to max value.**"
      ]
    },
    {
      "cell_type": "code",
      "metadata": {
        "id": "rYanectZcxBY",
        "colab_type": "code",
        "colab": {
          "base_uri": "https://localhost:8080/",
          "height": 140
        },
        "outputId": "01ddd835-1b55-4d5f-8f20-51dfa0fb9e3a"
      },
      "source": [
        "store_sales = pd.DataFrame(data.groupby(['Store'])['Weekly_Sales'].sum())\n",
        "print(\"Store with maximum sales:\\n\")\n",
        "store_sales[store_sales['Weekly_Sales'] == store_sales['Weekly_Sales'].max()]"
      ],
      "execution_count": null,
      "outputs": [
        {
          "output_type": "stream",
          "text": [
            "Store with maximum sales:\n",
            "\n"
          ],
          "name": "stdout"
        },
        {
          "output_type": "execute_result",
          "data": {
            "text/html": [
              "<div>\n",
              "<style scoped>\n",
              "    .dataframe tbody tr th:only-of-type {\n",
              "        vertical-align: middle;\n",
              "    }\n",
              "\n",
              "    .dataframe tbody tr th {\n",
              "        vertical-align: top;\n",
              "    }\n",
              "\n",
              "    .dataframe thead th {\n",
              "        text-align: right;\n",
              "    }\n",
              "</style>\n",
              "<table border=\"1\" class=\"dataframe\">\n",
              "  <thead>\n",
              "    <tr style=\"text-align: right;\">\n",
              "      <th></th>\n",
              "      <th>Weekly_Sales</th>\n",
              "    </tr>\n",
              "    <tr>\n",
              "      <th>Store</th>\n",
              "      <th></th>\n",
              "    </tr>\n",
              "  </thead>\n",
              "  <tbody>\n",
              "    <tr>\n",
              "      <th>20</th>\n",
              "      <td>3.013978e+08</td>\n",
              "    </tr>\n",
              "  </tbody>\n",
              "</table>\n",
              "</div>"
            ],
            "text/plain": [
              "       Weekly_Sales\n",
              "Store              \n",
              "20     3.013978e+08"
            ]
          },
          "metadata": {
            "tags": []
          },
          "execution_count": 324
        }
      ]
    },
    {
      "cell_type": "markdown",
      "metadata": {
        "id": "5-CTA6JQPjQN",
        "colab_type": "text"
      },
      "source": [
        "### Task 2 - Which store has maximum standard deviation i.e., the sales vary a lot. Also, find out the coefficient of mean to standard deviation."
      ]
    },
    {
      "cell_type": "markdown",
      "metadata": {
        "id": "RmGL0aMNPqcL",
        "colab_type": "text"
      },
      "source": [
        "**To do this, I use the `std()` and `mean()` methods on `DataFrame`.**  \n",
        "**For the coefficent, just divide the values.**"
      ]
    },
    {
      "cell_type": "code",
      "metadata": {
        "id": "Hg0oR1xMPxLW",
        "colab_type": "code",
        "colab": {
          "base_uri": "https://localhost:8080/",
          "height": 226
        },
        "outputId": "9d4ebddb-38f9-4f23-ddae-dc7c6e2a63ea"
      },
      "source": [
        "store_deviation = data.groupby('Store').std()   #groupby the Store, then standard deviation\n",
        "store_deviation.head()"
      ],
      "execution_count": null,
      "outputs": [
        {
          "output_type": "execute_result",
          "data": {
            "text/html": [
              "<div>\n",
              "<style scoped>\n",
              "    .dataframe tbody tr th:only-of-type {\n",
              "        vertical-align: middle;\n",
              "    }\n",
              "\n",
              "    .dataframe tbody tr th {\n",
              "        vertical-align: top;\n",
              "    }\n",
              "\n",
              "    .dataframe thead th {\n",
              "        text-align: right;\n",
              "    }\n",
              "</style>\n",
              "<table border=\"1\" class=\"dataframe\">\n",
              "  <thead>\n",
              "    <tr style=\"text-align: right;\">\n",
              "      <th></th>\n",
              "      <th>Weekly_Sales</th>\n",
              "      <th>Holiday_Flag</th>\n",
              "      <th>Temperature</th>\n",
              "      <th>Fuel_Price</th>\n",
              "      <th>CPI</th>\n",
              "      <th>Unemployment</th>\n",
              "    </tr>\n",
              "    <tr>\n",
              "      <th>Store</th>\n",
              "      <th></th>\n",
              "      <th></th>\n",
              "      <th></th>\n",
              "      <th></th>\n",
              "      <th></th>\n",
              "      <th></th>\n",
              "    </tr>\n",
              "  </thead>\n",
              "  <tbody>\n",
              "    <tr>\n",
              "      <th>1</th>\n",
              "      <td>155980.767761</td>\n",
              "      <td>0.255926</td>\n",
              "      <td>14.250486</td>\n",
              "      <td>0.427313</td>\n",
              "      <td>4.350890</td>\n",
              "      <td>0.383749</td>\n",
              "    </tr>\n",
              "    <tr>\n",
              "      <th>2</th>\n",
              "      <td>237683.694682</td>\n",
              "      <td>0.255926</td>\n",
              "      <td>15.492766</td>\n",
              "      <td>0.427313</td>\n",
              "      <td>4.342286</td>\n",
              "      <td>0.615414</td>\n",
              "    </tr>\n",
              "    <tr>\n",
              "      <th>3</th>\n",
              "      <td>46319.631557</td>\n",
              "      <td>0.255926</td>\n",
              "      <td>12.645851</td>\n",
              "      <td>0.427313</td>\n",
              "      <td>4.434232</td>\n",
              "      <td>0.447245</td>\n",
              "    </tr>\n",
              "    <tr>\n",
              "      <th>4</th>\n",
              "      <td>266201.442297</td>\n",
              "      <td>0.255926</td>\n",
              "      <td>16.180023</td>\n",
              "      <td>0.416967</td>\n",
              "      <td>1.858300</td>\n",
              "      <td>1.421267</td>\n",
              "    </tr>\n",
              "    <tr>\n",
              "      <th>5</th>\n",
              "      <td>37737.965745</td>\n",
              "      <td>0.255926</td>\n",
              "      <td>14.225352</td>\n",
              "      <td>0.427313</td>\n",
              "      <td>4.364848</td>\n",
              "      <td>0.387415</td>\n",
              "    </tr>\n",
              "  </tbody>\n",
              "</table>\n",
              "</div>"
            ],
            "text/plain": [
              "        Weekly_Sales  Holiday_Flag  ...       CPI  Unemployment\n",
              "Store                               ...                        \n",
              "1      155980.767761      0.255926  ...  4.350890      0.383749\n",
              "2      237683.694682      0.255926  ...  4.342286      0.615414\n",
              "3       46319.631557      0.255926  ...  4.434232      0.447245\n",
              "4      266201.442297      0.255926  ...  1.858300      1.421267\n",
              "5       37737.965745      0.255926  ...  4.364848      0.387415\n",
              "\n",
              "[5 rows x 6 columns]"
            ]
          },
          "metadata": {
            "tags": []
          },
          "execution_count": 325
        }
      ]
    },
    {
      "cell_type": "code",
      "metadata": {
        "id": "26su0WXVQWM2",
        "colab_type": "code",
        "colab": {
          "base_uri": "https://localhost:8080/",
          "height": 107
        },
        "outputId": "cf299b4a-59bc-4af8-a5c6-4fb65c64d33d"
      },
      "source": [
        "store_deviation[store_deviation['Weekly_Sales'] == store_deviation['Weekly_Sales'].max()]  #Max Deviation in Sales"
      ],
      "execution_count": null,
      "outputs": [
        {
          "output_type": "execute_result",
          "data": {
            "text/html": [
              "<div>\n",
              "<style scoped>\n",
              "    .dataframe tbody tr th:only-of-type {\n",
              "        vertical-align: middle;\n",
              "    }\n",
              "\n",
              "    .dataframe tbody tr th {\n",
              "        vertical-align: top;\n",
              "    }\n",
              "\n",
              "    .dataframe thead th {\n",
              "        text-align: right;\n",
              "    }\n",
              "</style>\n",
              "<table border=\"1\" class=\"dataframe\">\n",
              "  <thead>\n",
              "    <tr style=\"text-align: right;\">\n",
              "      <th></th>\n",
              "      <th>Weekly_Sales</th>\n",
              "      <th>Holiday_Flag</th>\n",
              "      <th>Temperature</th>\n",
              "      <th>Fuel_Price</th>\n",
              "      <th>CPI</th>\n",
              "      <th>Unemployment</th>\n",
              "    </tr>\n",
              "    <tr>\n",
              "      <th>Store</th>\n",
              "      <th></th>\n",
              "      <th></th>\n",
              "      <th></th>\n",
              "      <th></th>\n",
              "      <th></th>\n",
              "      <th></th>\n",
              "    </tr>\n",
              "  </thead>\n",
              "  <tbody>\n",
              "    <tr>\n",
              "      <th>14</th>\n",
              "      <td>317569.949476</td>\n",
              "      <td>0.255926</td>\n",
              "      <td>16.271612</td>\n",
              "      <td>0.443029</td>\n",
              "      <td>3.59482</td>\n",
              "      <td>0.15146</td>\n",
              "    </tr>\n",
              "  </tbody>\n",
              "</table>\n",
              "</div>"
            ],
            "text/plain": [
              "        Weekly_Sales  Holiday_Flag  ...      CPI  Unemployment\n",
              "Store                               ...                       \n",
              "14     317569.949476      0.255926  ...  3.59482       0.15146\n",
              "\n",
              "[1 rows x 6 columns]"
            ]
          },
          "metadata": {
            "tags": []
          },
          "execution_count": 326
        }
      ]
    },
    {
      "cell_type": "code",
      "metadata": {
        "id": "o8YU_G4ZQp3U",
        "colab_type": "code",
        "colab": {
          "base_uri": "https://localhost:8080/",
          "height": 226
        },
        "outputId": "a1291cfa-d5e9-49ef-ad6f-9a796b576d9f"
      },
      "source": [
        "store_mean = data.groupby('Store').mean()     #Similar to standard deviation, here we get the mean\n",
        "store_mean.head()"
      ],
      "execution_count": null,
      "outputs": [
        {
          "output_type": "execute_result",
          "data": {
            "text/html": [
              "<div>\n",
              "<style scoped>\n",
              "    .dataframe tbody tr th:only-of-type {\n",
              "        vertical-align: middle;\n",
              "    }\n",
              "\n",
              "    .dataframe tbody tr th {\n",
              "        vertical-align: top;\n",
              "    }\n",
              "\n",
              "    .dataframe thead th {\n",
              "        text-align: right;\n",
              "    }\n",
              "</style>\n",
              "<table border=\"1\" class=\"dataframe\">\n",
              "  <thead>\n",
              "    <tr style=\"text-align: right;\">\n",
              "      <th></th>\n",
              "      <th>Weekly_Sales</th>\n",
              "      <th>Holiday_Flag</th>\n",
              "      <th>Temperature</th>\n",
              "      <th>Fuel_Price</th>\n",
              "      <th>CPI</th>\n",
              "      <th>Unemployment</th>\n",
              "    </tr>\n",
              "    <tr>\n",
              "      <th>Store</th>\n",
              "      <th></th>\n",
              "      <th></th>\n",
              "      <th></th>\n",
              "      <th></th>\n",
              "      <th></th>\n",
              "      <th></th>\n",
              "    </tr>\n",
              "  </thead>\n",
              "  <tbody>\n",
              "    <tr>\n",
              "      <th>1</th>\n",
              "      <td>1.555264e+06</td>\n",
              "      <td>0.06993</td>\n",
              "      <td>68.306783</td>\n",
              "      <td>3.219699</td>\n",
              "      <td>215.996892</td>\n",
              "      <td>7.610420</td>\n",
              "    </tr>\n",
              "    <tr>\n",
              "      <th>2</th>\n",
              "      <td>1.925751e+06</td>\n",
              "      <td>0.06993</td>\n",
              "      <td>68.216364</td>\n",
              "      <td>3.219699</td>\n",
              "      <td>215.646311</td>\n",
              "      <td>7.623846</td>\n",
              "    </tr>\n",
              "    <tr>\n",
              "      <th>3</th>\n",
              "      <td>4.027044e+05</td>\n",
              "      <td>0.06993</td>\n",
              "      <td>71.434196</td>\n",
              "      <td>3.219699</td>\n",
              "      <td>219.391531</td>\n",
              "      <td>7.176986</td>\n",
              "    </tr>\n",
              "    <tr>\n",
              "      <th>4</th>\n",
              "      <td>2.094713e+06</td>\n",
              "      <td>0.06993</td>\n",
              "      <td>62.253357</td>\n",
              "      <td>3.216972</td>\n",
              "      <td>128.679669</td>\n",
              "      <td>5.964692</td>\n",
              "    </tr>\n",
              "    <tr>\n",
              "      <th>5</th>\n",
              "      <td>3.180118e+05</td>\n",
              "      <td>0.06993</td>\n",
              "      <td>69.410140</td>\n",
              "      <td>3.219699</td>\n",
              "      <td>216.565581</td>\n",
              "      <td>6.295406</td>\n",
              "    </tr>\n",
              "  </tbody>\n",
              "</table>\n",
              "</div>"
            ],
            "text/plain": [
              "       Weekly_Sales  Holiday_Flag  ...         CPI  Unemployment\n",
              "Store                              ...                          \n",
              "1      1.555264e+06       0.06993  ...  215.996892      7.610420\n",
              "2      1.925751e+06       0.06993  ...  215.646311      7.623846\n",
              "3      4.027044e+05       0.06993  ...  219.391531      7.176986\n",
              "4      2.094713e+06       0.06993  ...  128.679669      5.964692\n",
              "5      3.180118e+05       0.06993  ...  216.565581      6.295406\n",
              "\n",
              "[5 rows x 6 columns]"
            ]
          },
          "metadata": {
            "tags": []
          },
          "execution_count": 327
        }
      ]
    },
    {
      "cell_type": "code",
      "metadata": {
        "id": "5RkGY971RUgm",
        "colab_type": "code",
        "colab": {
          "base_uri": "https://localhost:8080/",
          "height": 226
        },
        "outputId": "64929afa-7c6f-4b8b-f364-d8629cb27eff"
      },
      "source": [
        "coefficients = pd.DataFrame()\n",
        "coefficients['Store_wise_coefficient'] = store_deviation['Weekly_Sales']/store_mean['Weekly_Sales']\n",
        "coefficients.head()\n",
        "# coefficients[store_deviation['Weekly_Sales']==store_deviation['Weekly_Sales'].max()]    #To get store 14's coefficient"
      ],
      "execution_count": null,
      "outputs": [
        {
          "output_type": "execute_result",
          "data": {
            "text/html": [
              "<div>\n",
              "<style scoped>\n",
              "    .dataframe tbody tr th:only-of-type {\n",
              "        vertical-align: middle;\n",
              "    }\n",
              "\n",
              "    .dataframe tbody tr th {\n",
              "        vertical-align: top;\n",
              "    }\n",
              "\n",
              "    .dataframe thead th {\n",
              "        text-align: right;\n",
              "    }\n",
              "</style>\n",
              "<table border=\"1\" class=\"dataframe\">\n",
              "  <thead>\n",
              "    <tr style=\"text-align: right;\">\n",
              "      <th></th>\n",
              "      <th>Store_wise_coefficient</th>\n",
              "    </tr>\n",
              "    <tr>\n",
              "      <th>Store</th>\n",
              "      <th></th>\n",
              "    </tr>\n",
              "  </thead>\n",
              "  <tbody>\n",
              "    <tr>\n",
              "      <th>1</th>\n",
              "      <td>0.100292</td>\n",
              "    </tr>\n",
              "    <tr>\n",
              "      <th>2</th>\n",
              "      <td>0.123424</td>\n",
              "    </tr>\n",
              "    <tr>\n",
              "      <th>3</th>\n",
              "      <td>0.115021</td>\n",
              "    </tr>\n",
              "    <tr>\n",
              "      <th>4</th>\n",
              "      <td>0.127083</td>\n",
              "    </tr>\n",
              "    <tr>\n",
              "      <th>5</th>\n",
              "      <td>0.118668</td>\n",
              "    </tr>\n",
              "  </tbody>\n",
              "</table>\n",
              "</div>"
            ],
            "text/plain": [
              "       Store_wise_coefficient\n",
              "Store                        \n",
              "1                    0.100292\n",
              "2                    0.123424\n",
              "3                    0.115021\n",
              "4                    0.127083\n",
              "5                    0.118668"
            ]
          },
          "metadata": {
            "tags": []
          },
          "execution_count": 328
        }
      ]
    },
    {
      "cell_type": "markdown",
      "metadata": {
        "id": "Vjss-S9aTXT6",
        "colab_type": "text"
      },
      "source": [
        "### Task 3 - Some holidays have a negative impact on sales. Find out holidays which have higher sales than the mean sales in non-holiday season for all stores together"
      ]
    },
    {
      "cell_type": "markdown",
      "metadata": {
        "id": "LbiQKzarUImd",
        "colab_type": "text"
      },
      "source": [
        "1. **To do this, I find mean of weekly sales of non-holiday weeks, i.e., `Holiday_Flag` set to `0`.**  \n",
        "2. **Then I lookup the main DataFrame to find holiday weeks and sales are greater than this mean.**  \n",
        "3. **Finally, I print the unique date values from such weeks, to get the holidays which have higher sales than the mean of non-holiday weeks.**"
      ]
    },
    {
      "cell_type": "code",
      "metadata": {
        "id": "AtOrV7zDW2eJ",
        "colab_type": "code",
        "colab": {
          "base_uri": "https://localhost:8080/",
          "height": 33
        },
        "outputId": "77e50e85-722f-4d16-efa0-76ab9b554560"
      },
      "source": [
        "mean_sales_not_holiday = data[data.Holiday_Flag==0]['Weekly_Sales'].mean()    #Mean sales on non Holiday weeks\n",
        "print(\"Mean of weekly sales on non holiday weeks: \", mean_sales_not_holiday)"
      ],
      "execution_count": null,
      "outputs": [
        {
          "output_type": "stream",
          "text": [
            "Mean of weekly sales on non holiday weeks:  1041256.3802088564\n"
          ],
          "name": "stdout"
        }
      ]
    },
    {
      "cell_type": "code",
      "metadata": {
        "id": "uKKxwd-0U2AA",
        "colab_type": "code",
        "colab": {
          "base_uri": "https://localhost:8080/",
          "height": 196
        },
        "outputId": "faa3d287-799c-4750-f496-c01bbe9b5496"
      },
      "source": [
        "holidays_higher_sales = data[(data.Holiday_Flag==1) & (data.Weekly_Sales>mean_sales_not_holiday)]\n",
        "#Weekly Sales of Holiday weeks that are greater than mean of non holiday weeks sales\n",
        "holidays_higher_sales.head()"
      ],
      "execution_count": null,
      "outputs": [
        {
          "output_type": "execute_result",
          "data": {
            "text/html": [
              "<div>\n",
              "<style scoped>\n",
              "    .dataframe tbody tr th:only-of-type {\n",
              "        vertical-align: middle;\n",
              "    }\n",
              "\n",
              "    .dataframe tbody tr th {\n",
              "        vertical-align: top;\n",
              "    }\n",
              "\n",
              "    .dataframe thead th {\n",
              "        text-align: right;\n",
              "    }\n",
              "</style>\n",
              "<table border=\"1\" class=\"dataframe\">\n",
              "  <thead>\n",
              "    <tr style=\"text-align: right;\">\n",
              "      <th></th>\n",
              "      <th>Store</th>\n",
              "      <th>Date</th>\n",
              "      <th>Weekly_Sales</th>\n",
              "      <th>Holiday_Flag</th>\n",
              "      <th>Temperature</th>\n",
              "      <th>Fuel_Price</th>\n",
              "      <th>CPI</th>\n",
              "      <th>Unemployment</th>\n",
              "    </tr>\n",
              "  </thead>\n",
              "  <tbody>\n",
              "    <tr>\n",
              "      <th>1</th>\n",
              "      <td>1</td>\n",
              "      <td>12-02-2010</td>\n",
              "      <td>1641957.44</td>\n",
              "      <td>1</td>\n",
              "      <td>38.51</td>\n",
              "      <td>2.548</td>\n",
              "      <td>211.242170</td>\n",
              "      <td>8.106</td>\n",
              "    </tr>\n",
              "    <tr>\n",
              "      <th>31</th>\n",
              "      <td>1</td>\n",
              "      <td>10-09-2010</td>\n",
              "      <td>1507460.69</td>\n",
              "      <td>1</td>\n",
              "      <td>78.69</td>\n",
              "      <td>2.565</td>\n",
              "      <td>211.495190</td>\n",
              "      <td>7.787</td>\n",
              "    </tr>\n",
              "    <tr>\n",
              "      <th>42</th>\n",
              "      <td>1</td>\n",
              "      <td>26-11-2010</td>\n",
              "      <td>1955624.11</td>\n",
              "      <td>1</td>\n",
              "      <td>64.52</td>\n",
              "      <td>2.735</td>\n",
              "      <td>211.748433</td>\n",
              "      <td>7.838</td>\n",
              "    </tr>\n",
              "    <tr>\n",
              "      <th>47</th>\n",
              "      <td>1</td>\n",
              "      <td>31-12-2010</td>\n",
              "      <td>1367320.01</td>\n",
              "      <td>1</td>\n",
              "      <td>48.43</td>\n",
              "      <td>2.943</td>\n",
              "      <td>211.404932</td>\n",
              "      <td>7.838</td>\n",
              "    </tr>\n",
              "    <tr>\n",
              "      <th>53</th>\n",
              "      <td>1</td>\n",
              "      <td>11-02-2011</td>\n",
              "      <td>1649614.93</td>\n",
              "      <td>1</td>\n",
              "      <td>36.39</td>\n",
              "      <td>3.022</td>\n",
              "      <td>212.936705</td>\n",
              "      <td>7.742</td>\n",
              "    </tr>\n",
              "  </tbody>\n",
              "</table>\n",
              "</div>"
            ],
            "text/plain": [
              "    Store        Date  Weekly_Sales  ...  Fuel_Price         CPI  Unemployment\n",
              "1       1  12-02-2010    1641957.44  ...       2.548  211.242170         8.106\n",
              "31      1  10-09-2010    1507460.69  ...       2.565  211.495190         7.787\n",
              "42      1  26-11-2010    1955624.11  ...       2.735  211.748433         7.838\n",
              "47      1  31-12-2010    1367320.01  ...       2.943  211.404932         7.838\n",
              "53      1  11-02-2011    1649614.93  ...       3.022  212.936705         7.742\n",
              "\n",
              "[5 rows x 8 columns]"
            ]
          },
          "metadata": {
            "tags": []
          },
          "execution_count": 330
        }
      ]
    },
    {
      "cell_type": "code",
      "metadata": {
        "id": "MDMFX_0aYCyJ",
        "colab_type": "code",
        "colab": {
          "base_uri": "https://localhost:8080/",
          "height": 345
        },
        "outputId": "651d09de-7409-4cfc-d0f4-5a38152e5db1"
      },
      "source": [
        "holidays_higher_sales_dates = pd.DataFrame()\n",
        "holidays_higher_sales_dates['Holiday Dates with high sales'] = holidays_higher_sales.Date.unique()\n",
        "holidays_higher_sales_dates"
      ],
      "execution_count": null,
      "outputs": [
        {
          "output_type": "execute_result",
          "data": {
            "text/html": [
              "<div>\n",
              "<style scoped>\n",
              "    .dataframe tbody tr th:only-of-type {\n",
              "        vertical-align: middle;\n",
              "    }\n",
              "\n",
              "    .dataframe tbody tr th {\n",
              "        vertical-align: top;\n",
              "    }\n",
              "\n",
              "    .dataframe thead th {\n",
              "        text-align: right;\n",
              "    }\n",
              "</style>\n",
              "<table border=\"1\" class=\"dataframe\">\n",
              "  <thead>\n",
              "    <tr style=\"text-align: right;\">\n",
              "      <th></th>\n",
              "      <th>Holiday Dates with high sales</th>\n",
              "    </tr>\n",
              "  </thead>\n",
              "  <tbody>\n",
              "    <tr>\n",
              "      <th>0</th>\n",
              "      <td>12-02-2010</td>\n",
              "    </tr>\n",
              "    <tr>\n",
              "      <th>1</th>\n",
              "      <td>10-09-2010</td>\n",
              "    </tr>\n",
              "    <tr>\n",
              "      <th>2</th>\n",
              "      <td>26-11-2010</td>\n",
              "    </tr>\n",
              "    <tr>\n",
              "      <th>3</th>\n",
              "      <td>31-12-2010</td>\n",
              "    </tr>\n",
              "    <tr>\n",
              "      <th>4</th>\n",
              "      <td>11-02-2011</td>\n",
              "    </tr>\n",
              "    <tr>\n",
              "      <th>5</th>\n",
              "      <td>09-09-2011</td>\n",
              "    </tr>\n",
              "    <tr>\n",
              "      <th>6</th>\n",
              "      <td>25-11-2011</td>\n",
              "    </tr>\n",
              "    <tr>\n",
              "      <th>7</th>\n",
              "      <td>30-12-2011</td>\n",
              "    </tr>\n",
              "    <tr>\n",
              "      <th>8</th>\n",
              "      <td>10-02-2012</td>\n",
              "    </tr>\n",
              "    <tr>\n",
              "      <th>9</th>\n",
              "      <td>07-09-2012</td>\n",
              "    </tr>\n",
              "  </tbody>\n",
              "</table>\n",
              "</div>"
            ],
            "text/plain": [
              "  Holiday Dates with high sales\n",
              "0                    12-02-2010\n",
              "1                    10-09-2010\n",
              "2                    26-11-2010\n",
              "3                    31-12-2010\n",
              "4                    11-02-2011\n",
              "5                    09-09-2011\n",
              "6                    25-11-2011\n",
              "7                    30-12-2011\n",
              "8                    10-02-2012\n",
              "9                    07-09-2012"
            ]
          },
          "metadata": {
            "tags": []
          },
          "execution_count": 331
        }
      ]
    },
    {
      "cell_type": "markdown",
      "metadata": {
        "id": "psfv0OQTgg-b",
        "colab_type": "text"
      },
      "source": [
        "### Task 4 - Stacked bar graph of year wise sales plotted on Month vs Sales"
      ]
    },
    {
      "cell_type": "markdown",
      "metadata": {
        "id": "eAhuK3ligk7j",
        "colab_type": "text"
      },
      "source": [
        "**To do this, I've converted `Date` column to date time, extracted the `Month` and `Year`, then grouped the data by these two columns for the sum of sales.**  \n",
        "**Then, I've plotted the stacked bar graph.**"
      ]
    },
    {
      "cell_type": "code",
      "metadata": {
        "id": "8RVF6VtggnNY",
        "colab_type": "code",
        "colab": {
          "base_uri": "https://localhost:8080/",
          "height": 468
        },
        "outputId": "4299018e-2c4d-4547-ef39-1085d931f7ad"
      },
      "source": [
        "data['Date'] = pd.to_datetime(data['Date'])           #To datetime\n",
        "data['Month'] = pd.DatetimeIndex(data['Date']).month  #Extract Month\n",
        "data['Year'] = pd.DatetimeIndex(data['Date']).year    #Extract Year\n",
        "monthly = data.groupby(['Month','Year'])['Weekly_Sales'].sum().unstack().fillna(0) \n",
        "#Group by these two columns, fill with the sum of sales\n",
        "print(\"Monthly sales for all the years:\\n\")\n",
        "monthly"
      ],
      "execution_count": null,
      "outputs": [
        {
          "output_type": "stream",
          "text": [
            "Monthly sales for all the years:\n",
            "\n"
          ],
          "name": "stdout"
        },
        {
          "output_type": "execute_result",
          "data": {
            "text/html": [
              "<div>\n",
              "<style scoped>\n",
              "    .dataframe tbody tr th:only-of-type {\n",
              "        vertical-align: middle;\n",
              "    }\n",
              "\n",
              "    .dataframe tbody tr th {\n",
              "        vertical-align: top;\n",
              "    }\n",
              "\n",
              "    .dataframe thead th {\n",
              "        text-align: right;\n",
              "    }\n",
              "</style>\n",
              "<table border=\"1\" class=\"dataframe\">\n",
              "  <thead>\n",
              "    <tr style=\"text-align: right;\">\n",
              "      <th>Year</th>\n",
              "      <th>2010</th>\n",
              "      <th>2011</th>\n",
              "      <th>2012</th>\n",
              "    </tr>\n",
              "    <tr>\n",
              "      <th>Month</th>\n",
              "      <th></th>\n",
              "      <th></th>\n",
              "      <th></th>\n",
              "    </tr>\n",
              "  </thead>\n",
              "  <tbody>\n",
              "    <tr>\n",
              "      <th>1</th>\n",
              "      <td>4.223988e+07</td>\n",
              "      <td>2.119657e+08</td>\n",
              "      <td>1.722207e+08</td>\n",
              "    </tr>\n",
              "    <tr>\n",
              "      <th>2</th>\n",
              "      <td>1.915869e+08</td>\n",
              "      <td>1.876092e+08</td>\n",
              "      <td>1.428296e+08</td>\n",
              "    </tr>\n",
              "    <tr>\n",
              "      <th>3</th>\n",
              "      <td>1.862262e+08</td>\n",
              "      <td>1.365205e+08</td>\n",
              "      <td>2.307397e+08</td>\n",
              "    </tr>\n",
              "    <tr>\n",
              "      <th>4</th>\n",
              "      <td>1.838118e+08</td>\n",
              "      <td>2.789693e+08</td>\n",
              "      <td>1.825428e+08</td>\n",
              "    </tr>\n",
              "    <tr>\n",
              "      <th>5</th>\n",
              "      <td>2.806119e+08</td>\n",
              "      <td>1.828017e+08</td>\n",
              "      <td>1.422830e+08</td>\n",
              "    </tr>\n",
              "    <tr>\n",
              "      <th>6</th>\n",
              "      <td>1.424361e+08</td>\n",
              "      <td>1.401936e+08</td>\n",
              "      <td>2.923883e+08</td>\n",
              "    </tr>\n",
              "    <tr>\n",
              "      <th>7</th>\n",
              "      <td>1.842664e+08</td>\n",
              "      <td>2.244611e+08</td>\n",
              "      <td>1.845865e+08</td>\n",
              "    </tr>\n",
              "    <tr>\n",
              "      <th>8</th>\n",
              "      <td>1.845381e+08</td>\n",
              "      <td>1.880810e+08</td>\n",
              "      <td>1.916126e+08</td>\n",
              "    </tr>\n",
              "    <tr>\n",
              "      <th>9</th>\n",
              "      <td>1.797041e+08</td>\n",
              "      <td>2.310323e+08</td>\n",
              "      <td>1.797959e+08</td>\n",
              "    </tr>\n",
              "    <tr>\n",
              "      <th>10</th>\n",
              "      <td>2.311201e+08</td>\n",
              "      <td>1.837193e+08</td>\n",
              "      <td>1.880794e+08</td>\n",
              "    </tr>\n",
              "    <tr>\n",
              "      <th>11</th>\n",
              "      <td>1.587731e+08</td>\n",
              "      <td>2.534703e+08</td>\n",
              "      <td>4.692588e+07</td>\n",
              "    </tr>\n",
              "    <tr>\n",
              "      <th>12</th>\n",
              "      <td>3.235716e+08</td>\n",
              "      <td>2.293760e+08</td>\n",
              "      <td>4.612851e+07</td>\n",
              "    </tr>\n",
              "  </tbody>\n",
              "</table>\n",
              "</div>"
            ],
            "text/plain": [
              "Year           2010          2011          2012\n",
              "Month                                          \n",
              "1      4.223988e+07  2.119657e+08  1.722207e+08\n",
              "2      1.915869e+08  1.876092e+08  1.428296e+08\n",
              "3      1.862262e+08  1.365205e+08  2.307397e+08\n",
              "4      1.838118e+08  2.789693e+08  1.825428e+08\n",
              "5      2.806119e+08  1.828017e+08  1.422830e+08\n",
              "6      1.424361e+08  1.401936e+08  2.923883e+08\n",
              "7      1.842664e+08  2.244611e+08  1.845865e+08\n",
              "8      1.845381e+08  1.880810e+08  1.916126e+08\n",
              "9      1.797041e+08  2.310323e+08  1.797959e+08\n",
              "10     2.311201e+08  1.837193e+08  1.880794e+08\n",
              "11     1.587731e+08  2.534703e+08  4.692588e+07\n",
              "12     3.235716e+08  2.293760e+08  4.612851e+07"
            ]
          },
          "metadata": {
            "tags": []
          },
          "execution_count": 332
        }
      ]
    },
    {
      "cell_type": "code",
      "metadata": {
        "id": "WPaNn5JIsKz7",
        "colab_type": "code",
        "colab": {
          "base_uri": "https://localhost:8080/",
          "height": 367
        },
        "outputId": "b2499fb3-8ec6-4f5b-94b0-2196af8bf067"
      },
      "source": [
        "monthly.plot(kind='bar',stacked=True,figsize=(10,5))    #Plotting the bar graph\n",
        "plt.xlabel('Month')\n",
        "plt.ylabel('Sales in 10^8')\n",
        "plt.title('Stacked Bar Graph of Monthly Sales for the three years\\n')\n",
        "plt.show()"
      ],
      "execution_count": null,
      "outputs": [
        {
          "output_type": "display_data",
          "data": {
            "image/png": "[encoded data removed]",
            "text/plain": [
              "<Figure size 720x360 with 1 Axes>"
            ]
          },
          "metadata": {
            "tags": [],
            "needs_background": "light"
          }
        }
      ]
    },
    {
      "cell_type": "markdown",
      "metadata": {
        "id": "MVXQ5kssY3hz",
        "colab_type": "text"
      },
      "source": [
        "## Statistical Model"
      ]
    },
    {
      "cell_type": "markdown",
      "metadata": {
        "id": "N2Tw4IZe_IBf",
        "colab_type": "text"
      },
      "source": [
        "* **To do this question, and sort the dates and index them from 0 onwards.**  \n",
        "* **Then I train a linear regression model, based on the Date.**  \n",
        "* **After plotting some graphs between the different features and the Sales, I notice that these features do impact the sales.**\n",
        "* **So finally, I train a multi-variable linear regression model, with the other features like CPI along with the Date.**\n",
        "* **I extract the individual coefficients of each, and plot a graph to show their impacts on the model.**"
      ]
    },
    {
      "cell_type": "markdown",
      "metadata": {
        "id": "0bVVaWMeJpvF",
        "colab_type": "text"
      },
      "source": [
        "### Extracting Store-2 Data"
      ]
    },
    {
      "cell_type": "code",
      "metadata": {
        "id": "zzNy61dyJLeF",
        "colab_type": "code",
        "colab": {
          "base_uri": "https://localhost:8080/",
          "height": 196
        },
        "outputId": "c92b22c2-4b34-4b92-a3bb-1545f546ba5c"
      },
      "source": [
        "store2_data = data[data['Store']==2]\n",
        "store2_data.head()"
      ],
      "execution_count": null,
      "outputs": [
        {
          "output_type": "execute_result",
          "data": {
            "text/html": [
              "<div>\n",
              "<style scoped>\n",
              "    .dataframe tbody tr th:only-of-type {\n",
              "        vertical-align: middle;\n",
              "    }\n",
              "\n",
              "    .dataframe tbody tr th {\n",
              "        vertical-align: top;\n",
              "    }\n",
              "\n",
              "    .dataframe thead th {\n",
              "        text-align: right;\n",
              "    }\n",
              "</style>\n",
              "<table border=\"1\" class=\"dataframe\">\n",
              "  <thead>\n",
              "    <tr style=\"text-align: right;\">\n",
              "      <th></th>\n",
              "      <th>Store</th>\n",
              "      <th>Date</th>\n",
              "      <th>Weekly_Sales</th>\n",
              "      <th>Holiday_Flag</th>\n",
              "      <th>Temperature</th>\n",
              "      <th>Fuel_Price</th>\n",
              "      <th>CPI</th>\n",
              "      <th>Unemployment</th>\n",
              "      <th>Month</th>\n",
              "      <th>Year</th>\n",
              "    </tr>\n",
              "  </thead>\n",
              "  <tbody>\n",
              "    <tr>\n",
              "      <th>143</th>\n",
              "      <td>2</td>\n",
              "      <td>2010-05-02</td>\n",
              "      <td>2136989.46</td>\n",
              "      <td>0</td>\n",
              "      <td>40.19</td>\n",
              "      <td>2.572</td>\n",
              "      <td>210.752605</td>\n",
              "      <td>8.324</td>\n",
              "      <td>5</td>\n",
              "      <td>2010</td>\n",
              "    </tr>\n",
              "    <tr>\n",
              "      <th>144</th>\n",
              "      <td>2</td>\n",
              "      <td>2010-12-02</td>\n",
              "      <td>2137809.50</td>\n",
              "      <td>1</td>\n",
              "      <td>38.49</td>\n",
              "      <td>2.548</td>\n",
              "      <td>210.897994</td>\n",
              "      <td>8.324</td>\n",
              "      <td>12</td>\n",
              "      <td>2010</td>\n",
              "    </tr>\n",
              "    <tr>\n",
              "      <th>145</th>\n",
              "      <td>2</td>\n",
              "      <td>2010-02-19</td>\n",
              "      <td>2124451.54</td>\n",
              "      <td>0</td>\n",
              "      <td>39.69</td>\n",
              "      <td>2.514</td>\n",
              "      <td>210.945160</td>\n",
              "      <td>8.324</td>\n",
              "      <td>2</td>\n",
              "      <td>2010</td>\n",
              "    </tr>\n",
              "    <tr>\n",
              "      <th>146</th>\n",
              "      <td>2</td>\n",
              "      <td>2010-02-26</td>\n",
              "      <td>1865097.27</td>\n",
              "      <td>0</td>\n",
              "      <td>46.10</td>\n",
              "      <td>2.561</td>\n",
              "      <td>210.975957</td>\n",
              "      <td>8.324</td>\n",
              "      <td>2</td>\n",
              "      <td>2010</td>\n",
              "    </tr>\n",
              "    <tr>\n",
              "      <th>147</th>\n",
              "      <td>2</td>\n",
              "      <td>2010-05-03</td>\n",
              "      <td>1991013.13</td>\n",
              "      <td>0</td>\n",
              "      <td>47.17</td>\n",
              "      <td>2.625</td>\n",
              "      <td>211.006754</td>\n",
              "      <td>8.324</td>\n",
              "      <td>5</td>\n",
              "      <td>2010</td>\n",
              "    </tr>\n",
              "  </tbody>\n",
              "</table>\n",
              "</div>"
            ],
            "text/plain": [
              "     Store       Date  Weekly_Sales  ...  Unemployment  Month  Year\n",
              "143      2 2010-05-02    2136989.46  ...         8.324      5  2010\n",
              "144      2 2010-12-02    2137809.50  ...         8.324     12  2010\n",
              "145      2 2010-02-19    2124451.54  ...         8.324      2  2010\n",
              "146      2 2010-02-26    1865097.27  ...         8.324      2  2010\n",
              "147      2 2010-05-03    1991013.13  ...         8.324      5  2010\n",
              "\n",
              "[5 rows x 10 columns]"
            ]
          },
          "metadata": {
            "tags": []
          },
          "execution_count": 334
        }
      ]
    },
    {
      "cell_type": "markdown",
      "metadata": {
        "id": "141bnQKRMhjI",
        "colab_type": "text"
      },
      "source": [
        "### Simple Linear Regression Model"
      ]
    },
    {
      "cell_type": "markdown",
      "metadata": {
        "id": "Dqhdc7DmMlld",
        "colab_type": "text"
      },
      "source": [
        "Convert the Dates to indices."
      ]
    },
    {
      "cell_type": "code",
      "metadata": {
        "id": "ozNuqJVUM4ZF",
        "colab_type": "code",
        "colab": {
          "base_uri": "https://localhost:8080/",
          "height": 744
        },
        "outputId": "bf192122-e332-40a7-9329-a5ef864672f9"
      },
      "source": [
        "# store2_data.shape\n",
        "# store2_data.index\n",
        "store2_data['Date Indices'] = store2_data.index - store2_data.shape[0]\n",
        "store2_data.head(n=20)"
      ],
      "execution_count": null,
      "outputs": [
        {
          "output_type": "stream",
          "text": [
            "/usr/local/lib/python3.6/dist-packages/ipykernel_launcher.py:3: SettingWithCopyWarning: \n",
            "A value is trying to be set on a copy of a slice from a DataFrame.\n",
            "Try using .loc[row_indexer,col_indexer] = value instead\n",
            "\n",
            "See the caveats in the documentation: https://pandas.pydata.org/pandas-docs/stable/user_guide/indexing.html#returning-a-view-versus-a-copy\n",
            "  This is separate from the ipykernel package so we can avoid doing imports until\n"
          ],
          "name": "stderr"
        },
        {
          "output_type": "execute_result",
          "data": {
            "text/html": [
              "<div>\n",
              "<style scoped>\n",
              "    .dataframe tbody tr th:only-of-type {\n",
              "        vertical-align: middle;\n",
              "    }\n",
              "\n",
              "    .dataframe tbody tr th {\n",
              "        vertical-align: top;\n",
              "    }\n",
              "\n",
              "    .dataframe thead th {\n",
              "        text-align: right;\n",
              "    }\n",
              "</style>\n",
              "<table border=\"1\" class=\"dataframe\">\n",
              "  <thead>\n",
              "    <tr style=\"text-align: right;\">\n",
              "      <th></th>\n",
              "      <th>Store</th>\n",
              "      <th>Date</th>\n",
              "      <th>Weekly_Sales</th>\n",
              "      <th>Holiday_Flag</th>\n",
              "      <th>Temperature</th>\n",
              "      <th>Fuel_Price</th>\n",
              "      <th>CPI</th>\n",
              "      <th>Unemployment</th>\n",
              "      <th>Month</th>\n",
              "      <th>Year</th>\n",
              "      <th>Date Indices</th>\n",
              "    </tr>\n",
              "  </thead>\n",
              "  <tbody>\n",
              "    <tr>\n",
              "      <th>143</th>\n",
              "      <td>2</td>\n",
              "      <td>2010-05-02</td>\n",
              "      <td>2136989.46</td>\n",
              "      <td>0</td>\n",
              "      <td>40.19</td>\n",
              "      <td>2.572</td>\n",
              "      <td>210.752605</td>\n",
              "      <td>8.324</td>\n",
              "      <td>5</td>\n",
              "      <td>2010</td>\n",
              "      <td>0</td>\n",
              "    </tr>\n",
              "    <tr>\n",
              "      <th>144</th>\n",
              "      <td>2</td>\n",
              "      <td>2010-12-02</td>\n",
              "      <td>2137809.50</td>\n",
              "      <td>1</td>\n",
              "      <td>38.49</td>\n",
              "      <td>2.548</td>\n",
              "      <td>210.897994</td>\n",
              "      <td>8.324</td>\n",
              "      <td>12</td>\n",
              "      <td>2010</td>\n",
              "      <td>1</td>\n",
              "    </tr>\n",
              "    <tr>\n",
              "      <th>145</th>\n",
              "      <td>2</td>\n",
              "      <td>2010-02-19</td>\n",
              "      <td>2124451.54</td>\n",
              "      <td>0</td>\n",
              "      <td>39.69</td>\n",
              "      <td>2.514</td>\n",
              "      <td>210.945160</td>\n",
              "      <td>8.324</td>\n",
              "      <td>2</td>\n",
              "      <td>2010</td>\n",
              "      <td>2</td>\n",
              "    </tr>\n",
              "    <tr>\n",
              "      <th>146</th>\n",
              "      <td>2</td>\n",
              "      <td>2010-02-26</td>\n",
              "      <td>1865097.27</td>\n",
              "      <td>0</td>\n",
              "      <td>46.10</td>\n",
              "      <td>2.561</td>\n",
              "      <td>210.975957</td>\n",
              "      <td>8.324</td>\n",
              "      <td>2</td>\n",
              "      <td>2010</td>\n",
              "      <td>3</td>\n",
              "    </tr>\n",
              "    <tr>\n",
              "      <th>147</th>\n",
              "      <td>2</td>\n",
              "      <td>2010-05-03</td>\n",
              "      <td>1991013.13</td>\n",
              "      <td>0</td>\n",
              "      <td>47.17</td>\n",
              "      <td>2.625</td>\n",
              "      <td>211.006754</td>\n",
              "      <td>8.324</td>\n",
              "      <td>5</td>\n",
              "      <td>2010</td>\n",
              "      <td>4</td>\n",
              "    </tr>\n",
              "    <tr>\n",
              "      <th>148</th>\n",
              "      <td>2</td>\n",
              "      <td>2010-12-03</td>\n",
              "      <td>1990483.78</td>\n",
              "      <td>0</td>\n",
              "      <td>57.56</td>\n",
              "      <td>2.667</td>\n",
              "      <td>211.037551</td>\n",
              "      <td>8.324</td>\n",
              "      <td>12</td>\n",
              "      <td>2010</td>\n",
              "      <td>5</td>\n",
              "    </tr>\n",
              "    <tr>\n",
              "      <th>149</th>\n",
              "      <td>2</td>\n",
              "      <td>2010-03-19</td>\n",
              "      <td>1946070.88</td>\n",
              "      <td>0</td>\n",
              "      <td>54.52</td>\n",
              "      <td>2.720</td>\n",
              "      <td>210.873332</td>\n",
              "      <td>8.324</td>\n",
              "      <td>3</td>\n",
              "      <td>2010</td>\n",
              "      <td>6</td>\n",
              "    </tr>\n",
              "    <tr>\n",
              "      <th>150</th>\n",
              "      <td>2</td>\n",
              "      <td>2010-03-26</td>\n",
              "      <td>1750197.81</td>\n",
              "      <td>0</td>\n",
              "      <td>51.26</td>\n",
              "      <td>2.732</td>\n",
              "      <td>210.676610</td>\n",
              "      <td>8.324</td>\n",
              "      <td>3</td>\n",
              "      <td>2010</td>\n",
              "      <td>7</td>\n",
              "    </tr>\n",
              "    <tr>\n",
              "      <th>151</th>\n",
              "      <td>2</td>\n",
              "      <td>2010-02-04</td>\n",
              "      <td>2066187.72</td>\n",
              "      <td>0</td>\n",
              "      <td>63.27</td>\n",
              "      <td>2.719</td>\n",
              "      <td>210.479887</td>\n",
              "      <td>8.200</td>\n",
              "      <td>2</td>\n",
              "      <td>2010</td>\n",
              "      <td>8</td>\n",
              "    </tr>\n",
              "    <tr>\n",
              "      <th>152</th>\n",
              "      <td>2</td>\n",
              "      <td>2010-09-04</td>\n",
              "      <td>1954689.21</td>\n",
              "      <td>0</td>\n",
              "      <td>65.41</td>\n",
              "      <td>2.770</td>\n",
              "      <td>210.283165</td>\n",
              "      <td>8.200</td>\n",
              "      <td>9</td>\n",
              "      <td>2010</td>\n",
              "      <td>9</td>\n",
              "    </tr>\n",
              "    <tr>\n",
              "      <th>153</th>\n",
              "      <td>2</td>\n",
              "      <td>2010-04-16</td>\n",
              "      <td>1874957.94</td>\n",
              "      <td>0</td>\n",
              "      <td>68.07</td>\n",
              "      <td>2.808</td>\n",
              "      <td>210.149546</td>\n",
              "      <td>8.200</td>\n",
              "      <td>4</td>\n",
              "      <td>2010</td>\n",
              "      <td>10</td>\n",
              "    </tr>\n",
              "    <tr>\n",
              "      <th>154</th>\n",
              "      <td>2</td>\n",
              "      <td>2010-04-23</td>\n",
              "      <td>1821990.93</td>\n",
              "      <td>0</td>\n",
              "      <td>65.11</td>\n",
              "      <td>2.795</td>\n",
              "      <td>210.100065</td>\n",
              "      <td>8.200</td>\n",
              "      <td>4</td>\n",
              "      <td>2010</td>\n",
              "      <td>11</td>\n",
              "    </tr>\n",
              "    <tr>\n",
              "      <th>155</th>\n",
              "      <td>2</td>\n",
              "      <td>2010-04-30</td>\n",
              "      <td>1802450.29</td>\n",
              "      <td>0</td>\n",
              "      <td>66.98</td>\n",
              "      <td>2.780</td>\n",
              "      <td>210.050583</td>\n",
              "      <td>8.200</td>\n",
              "      <td>4</td>\n",
              "      <td>2010</td>\n",
              "      <td>12</td>\n",
              "    </tr>\n",
              "    <tr>\n",
              "      <th>156</th>\n",
              "      <td>2</td>\n",
              "      <td>2010-07-05</td>\n",
              "      <td>2042581.71</td>\n",
              "      <td>0</td>\n",
              "      <td>71.28</td>\n",
              "      <td>2.835</td>\n",
              "      <td>210.001102</td>\n",
              "      <td>8.200</td>\n",
              "      <td>7</td>\n",
              "      <td>2010</td>\n",
              "      <td>13</td>\n",
              "    </tr>\n",
              "    <tr>\n",
              "      <th>157</th>\n",
              "      <td>2</td>\n",
              "      <td>2010-05-14</td>\n",
              "      <td>1880752.36</td>\n",
              "      <td>0</td>\n",
              "      <td>73.31</td>\n",
              "      <td>2.854</td>\n",
              "      <td>209.998458</td>\n",
              "      <td>8.200</td>\n",
              "      <td>5</td>\n",
              "      <td>2010</td>\n",
              "      <td>14</td>\n",
              "    </tr>\n",
              "    <tr>\n",
              "      <th>158</th>\n",
              "      <td>2</td>\n",
              "      <td>2010-05-21</td>\n",
              "      <td>1896937.10</td>\n",
              "      <td>0</td>\n",
              "      <td>74.83</td>\n",
              "      <td>2.826</td>\n",
              "      <td>210.276844</td>\n",
              "      <td>8.200</td>\n",
              "      <td>5</td>\n",
              "      <td>2010</td>\n",
              "      <td>15</td>\n",
              "    </tr>\n",
              "    <tr>\n",
              "      <th>159</th>\n",
              "      <td>2</td>\n",
              "      <td>2010-05-28</td>\n",
              "      <td>1957113.89</td>\n",
              "      <td>0</td>\n",
              "      <td>81.13</td>\n",
              "      <td>2.759</td>\n",
              "      <td>210.555230</td>\n",
              "      <td>8.200</td>\n",
              "      <td>5</td>\n",
              "      <td>2010</td>\n",
              "      <td>16</td>\n",
              "    </tr>\n",
              "    <tr>\n",
              "      <th>160</th>\n",
              "      <td>2</td>\n",
              "      <td>2010-04-06</td>\n",
              "      <td>2102539.93</td>\n",
              "      <td>0</td>\n",
              "      <td>81.81</td>\n",
              "      <td>2.705</td>\n",
              "      <td>210.833616</td>\n",
              "      <td>8.200</td>\n",
              "      <td>4</td>\n",
              "      <td>2010</td>\n",
              "      <td>17</td>\n",
              "    </tr>\n",
              "    <tr>\n",
              "      <th>161</th>\n",
              "      <td>2</td>\n",
              "      <td>2010-11-06</td>\n",
              "      <td>2025538.76</td>\n",
              "      <td>0</td>\n",
              "      <td>83.40</td>\n",
              "      <td>2.668</td>\n",
              "      <td>211.112002</td>\n",
              "      <td>8.200</td>\n",
              "      <td>11</td>\n",
              "      <td>2010</td>\n",
              "      <td>18</td>\n",
              "    </tr>\n",
              "    <tr>\n",
              "      <th>162</th>\n",
              "      <td>2</td>\n",
              "      <td>2010-06-18</td>\n",
              "      <td>2001636.96</td>\n",
              "      <td>0</td>\n",
              "      <td>85.81</td>\n",
              "      <td>2.637</td>\n",
              "      <td>211.109654</td>\n",
              "      <td>8.200</td>\n",
              "      <td>6</td>\n",
              "      <td>2010</td>\n",
              "      <td>19</td>\n",
              "    </tr>\n",
              "  </tbody>\n",
              "</table>\n",
              "</div>"
            ],
            "text/plain": [
              "     Store       Date  Weekly_Sales  ...  Month  Year  Date Indices\n",
              "143      2 2010-05-02    2136989.46  ...      5  2010             0\n",
              "144      2 2010-12-02    2137809.50  ...     12  2010             1\n",
              "145      2 2010-02-19    2124451.54  ...      2  2010             2\n",
              "146      2 2010-02-26    1865097.27  ...      2  2010             3\n",
              "147      2 2010-05-03    1991013.13  ...      5  2010             4\n",
              "148      2 2010-12-03    1990483.78  ...     12  2010             5\n",
              "149      2 2010-03-19    1946070.88  ...      3  2010             6\n",
              "150      2 2010-03-26    1750197.81  ...      3  2010             7\n",
              "151      2 2010-02-04    2066187.72  ...      2  2010             8\n",
              "152      2 2010-09-04    1954689.21  ...      9  2010             9\n",
              "153      2 2010-04-16    1874957.94  ...      4  2010            10\n",
              "154      2 2010-04-23    1821990.93  ...      4  2010            11\n",
              "155      2 2010-04-30    1802450.29  ...      4  2010            12\n",
              "156      2 2010-07-05    2042581.71  ...      7  2010            13\n",
              "157      2 2010-05-14    1880752.36  ...      5  2010            14\n",
              "158      2 2010-05-21    1896937.10  ...      5  2010            15\n",
              "159      2 2010-05-28    1957113.89  ...      5  2010            16\n",
              "160      2 2010-04-06    2102539.93  ...      4  2010            17\n",
              "161      2 2010-11-06    2025538.76  ...     11  2010            18\n",
              "162      2 2010-06-18    2001636.96  ...      6  2010            19\n",
              "\n",
              "[20 rows x 11 columns]"
            ]
          },
          "metadata": {
            "tags": []
          },
          "execution_count": 335
        }
      ]
    },
    {
      "cell_type": "markdown",
      "metadata": {
        "id": "IzcrVzkeNlO_",
        "colab_type": "text"
      },
      "source": [
        "Split the data into train and test, then train the model."
      ]
    },
    {
      "cell_type": "code",
      "metadata": {
        "id": "Oa6aWqndNnV1",
        "colab_type": "code",
        "colab": {
          "base_uri": "https://localhost:8080/",
          "height": 50
        },
        "outputId": "ad3f9500-2d92-40c4-8954-1ebecce1d735"
      },
      "source": [
        "from sklearn.model_selection import train_test_split\n",
        "from sklearn import linear_model\n",
        "X = store2_data[['Date Indices']]\n",
        "y = store2_data[['Weekly_Sales']]\n",
        "#Split the data into train = 90%, test = 10%\n",
        "X_train, X_test, y_train, y_test = train_test_split(X,y,test_size = 0.1,random_state = 42 )\n",
        "\n",
        "simple_model = linear_model.LinearRegression()\n",
        "simple_model.fit(X_train,y_train)\n",
        "print(\"The model has been trained.\")\n",
        "print(\"The intercept is:\", simple_model.intercept_, \"and the coefficients are:\", simple_model.coef_)"
      ],
      "execution_count": null,
      "outputs": [
        {
          "output_type": "stream",
          "text": [
            "The model has been trained.\n",
            "The intercept is: [1960133.62504624] and the coefficients are: [[-547.70350259]]\n"
          ],
          "name": "stdout"
        }
      ]
    },
    {
      "cell_type": "code",
      "metadata": {
        "id": "uxokIPX9U7pi",
        "colab_type": "code",
        "colab": {
          "base_uri": "https://localhost:8080/",
          "height": 268
        },
        "outputId": "acaa39f4-9f98-4394-9822-e3dce9f22569"
      },
      "source": [
        "y_pred = simple_model.predict(X_test)   #Predictions on test values\n",
        "y_pred"
      ],
      "execution_count": null,
      "outputs": [
        {
          "output_type": "execute_result",
          "data": {
            "text/plain": [
              "array([[1896052.31524298],\n",
              "       [1949727.25849699],\n",
              "       [1915221.9378337 ],\n",
              "       [1907006.38529482],\n",
              "       [1929462.22890109],\n",
              "       [1953561.18301514],\n",
              "       [1888384.46620669],\n",
              "       [1924532.89737776],\n",
              "       [1923985.19387517],\n",
              "       [1950274.96199958],\n",
              "       [1932200.74641405],\n",
              "       [1917412.75184406],\n",
              "       [1908649.49580259],\n",
              "       [1887836.7627041 ],\n",
              "       [1905363.27478704]])"
            ]
          },
          "metadata": {
            "tags": []
          },
          "execution_count": 337
        }
      ]
    },
    {
      "cell_type": "code",
      "metadata": {
        "id": "yegE816_VHFB",
        "colab_type": "code",
        "colab": {
          "base_uri": "https://localhost:8080/",
          "height": 33
        },
        "outputId": "12e82b67-b291-4dcd-e9c8-0f2161267d18"
      },
      "source": [
        "simple_model.score(X_test,y_test)   #Score of classifier"
      ],
      "execution_count": null,
      "outputs": [
        {
          "output_type": "execute_result",
          "data": {
            "text/plain": [
              "-0.06726219423951574"
            ]
          },
          "metadata": {
            "tags": []
          },
          "execution_count": 338
        }
      ]
    },
    {
      "cell_type": "markdown",
      "metadata": {
        "id": "nmtA7Z3xWCLT",
        "colab_type": "text"
      },
      "source": [
        "### Hypothesize if CPI, unemployment, and fuel price have any impact on sales."
      ]
    },
    {
      "cell_type": "markdown",
      "metadata": {
        "id": "aJme5i0MWRvB",
        "colab_type": "text"
      },
      "source": [
        "**Let us plot the corresponding Variable vs Sales graphs to find out.**"
      ]
    },
    {
      "cell_type": "markdown",
      "metadata": {
        "id": "oiwak6ByWhXR",
        "colab_type": "text"
      },
      "source": [
        "First, the graph of `CPI` vs `Weekly_Sales`."
      ]
    },
    {
      "cell_type": "code",
      "metadata": {
        "id": "VjyM7EYpWeC6",
        "colab_type": "code",
        "colab": {
          "base_uri": "https://localhost:8080/",
          "height": 290
        },
        "outputId": "3e2a707f-d0f3-4f27-e3a8-2717991bad9d"
      },
      "source": [
        "plt.scatter(store2_data['CPI'], store2_data['Weekly_Sales'])\n",
        "plt.xlabel('CPI')\n",
        "plt.ylabel('Weekly Sales (order of 10^6)')\n",
        "plt.show()"
      ],
      "execution_count": null,
      "outputs": [
        {
          "output_type": "display_data",
          "data": {
            "image/png": "[encoded data removed]",
            "text/plain": [
              "<Figure size 432x288 with 1 Axes>"
            ]
          },
          "metadata": {
            "tags": [],
            "needs_background": "light"
          }
        }
      ]
    },
    {
      "cell_type": "markdown",
      "metadata": {
        "id": "heVPmW78YI2t",
        "colab_type": "text"
      },
      "source": [
        "Then, the graph of `Unemployment` vs `Weekly_Sales`"
      ]
    },
    {
      "cell_type": "code",
      "metadata": {
        "id": "-G1rBthgYTkZ",
        "colab_type": "code",
        "colab": {
          "base_uri": "https://localhost:8080/",
          "height": 290
        },
        "outputId": "ff4c326b-7323-4806-9d9d-1947bba19986"
      },
      "source": [
        "plt.scatter(store2_data['Unemployment'], store2_data['Weekly_Sales'])\n",
        "plt.xlabel('Unemployment')\n",
        "plt.ylabel('Weekly Sales (order of 10^6)')\n",
        "plt.show()"
      ],
      "execution_count": null,
      "outputs": [
        {
          "output_type": "display_data",
          "data": {
            "image/png": "[encoded data removed]",
            "text/plain": [
              "<Figure size 432x288 with 1 Axes>"
            ]
          },
          "metadata": {
            "tags": [],
            "needs_background": "light"
          }
        }
      ]
    },
    {
      "cell_type": "markdown",
      "metadata": {
        "id": "-LxzV3MpYh6M",
        "colab_type": "text"
      },
      "source": [
        "Finally, the graph of `Fuel_Price` vs `Weekly_Sales`."
      ]
    },
    {
      "cell_type": "code",
      "metadata": {
        "id": "A9F4DxOhYrE7",
        "colab_type": "code",
        "colab": {
          "base_uri": "https://localhost:8080/",
          "height": 290
        },
        "outputId": "d9f2dc69-d079-4890-a175-ae02e77480b9"
      },
      "source": [
        "plt.scatter(store2_data['Fuel_Price'], store2_data['Weekly_Sales'])\n",
        "plt.xlabel('Fuel Prices')\n",
        "plt.ylabel('Weekly Sales (order of 10^6)')\n",
        "plt.show()"
      ],
      "execution_count": null,
      "outputs": [
        {
          "output_type": "display_data",
          "data": {
            "image/png": "[encoded data removed]",
            "text/plain": [
              "<Figure size 432x288 with 1 Axes>"
            ]
          },
          "metadata": {
            "tags": [],
            "needs_background": "light"
          }
        }
      ]
    },
    {
      "cell_type": "markdown",
      "metadata": {
        "id": "bWKX1c1ZZPty",
        "colab_type": "text"
      },
      "source": [
        "Let's also check for Temperature and Holidays."
      ]
    },
    {
      "cell_type": "code",
      "metadata": {
        "id": "YNzi7pr5ZEJc",
        "colab_type": "code",
        "colab": {
          "base_uri": "https://localhost:8080/",
          "height": 290
        },
        "outputId": "bf7f512c-7840-4455-ab1a-36033e0d4bdf"
      },
      "source": [
        "plt.scatter(store2_data['Temperature'], store2_data['Weekly_Sales'])\n",
        "plt.xlabel('Temperature')\n",
        "plt.ylabel('Weekly Sales (order of 10^6)')\n",
        "plt.show()"
      ],
      "execution_count": null,
      "outputs": [
        {
          "output_type": "display_data",
          "data": {
            "image/png": "[encoded data removed]",
            "text/plain": [
              "<Figure size 432x288 with 1 Axes>"
            ]
          },
          "metadata": {
            "tags": [],
            "needs_background": "light"
          }
        }
      ]
    },
    {
      "cell_type": "code",
      "metadata": {
        "id": "Q12RdUvEZUna",
        "colab_type": "code",
        "colab": {
          "base_uri": "https://localhost:8080/",
          "height": 290
        },
        "outputId": "1ec49d0f-9df6-40d2-ee23-85fdf433f28f"
      },
      "source": [
        "plt.scatter(store2_data['Holiday_Flag'], store2_data['Weekly_Sales'])\n",
        "plt.xlabel('Holiday Week or not')\n",
        "plt.ylabel('Weekly Sales (order of 10^6)')\n",
        "plt.show()"
      ],
      "execution_count": null,
      "outputs": [
        {
          "output_type": "display_data",
          "data": {
            "image/png": "[encoded data removed]",
            "text/plain": [
              "<Figure size 432x288 with 1 Axes>"
            ]
          },
          "metadata": {
            "tags": [],
            "needs_background": "light"
          }
        }
      ]
    },
    {
      "cell_type": "markdown",
      "metadata": {
        "id": "e1xz2QTIY5yw",
        "colab_type": "text"
      },
      "source": [
        "* **From the graphs, it is quite clear that `CPI`, `Fuel_Prices`, `Temperature` impact the Sales.**  \n",
        "* **`Unemplyment`, on the other hand, doesn't seem to impact Sales.**\n",
        "* **`Holiday_Week` being a binary value, won't scatter much.**\n",
        "\n"
      ]
    },
    {
      "cell_type": "markdown",
      "metadata": {
        "id": "LgQ-EWeogtVS",
        "colab_type": "text"
      },
      "source": [
        "### Multi-Variable Linear Regression Model"
      ]
    },
    {
      "cell_type": "markdown",
      "metadata": {
        "id": "tjoqaM0_gxT-",
        "colab_type": "text"
      },
      "source": [
        "**Let us plot a multivariable regression model.  \n",
        "The above mentioned variables will be used as features for the model. Since the values are varying across a large scale, we normalise them first.**"
      ]
    },
    {
      "cell_type": "code",
      "metadata": {
        "id": "7-YrJ8N1hFaw",
        "colab_type": "code",
        "colab": {
          "base_uri": "https://localhost:8080/",
          "height": 50
        },
        "outputId": "81fe22bc-fff1-4a72-f022-2ff01aa4a9f6"
      },
      "source": [
        "from sklearn.preprocessing import MinMaxScaler\n",
        "\n",
        "normalised_store2 = store2_data.drop(['Date','Month','Year'],axis=1)\n",
        "normalised_store2 = pd.DataFrame(MinMaxScaler().fit_transform(normalised_store2),columns=normalised_store2.columns)\n",
        "# normalised_store2\n",
        "variables = ['Holiday_Flag','Temperature','Fuel_Price','CPI','Unemployment','Date Indices']\n",
        "\n",
        "X = normalised_store2[variables]\n",
        "y = normalised_store2 ['Weekly_Sales']\n",
        "X_train, X_test, y_train, y_test = train_test_split(X,y,test_size = 0.1,random_state = 42 )\n",
        "\n",
        "multivar_model = linear_model.LinearRegression()\n",
        "multivar_model.fit(X_train,y_train)\n",
        "print(\"The model has been trained.\")\n",
        "print(\"Score of Model is:\",multivar_model.score(X_test,y_test))"
      ],
      "execution_count": null,
      "outputs": [
        {
          "output_type": "stream",
          "text": [
            "The model has been trained.\n",
            "Score of Model is: 0.15234951079516879\n"
          ],
          "name": "stdout"
        }
      ]
    },
    {
      "cell_type": "code",
      "metadata": {
        "id": "AZDeOHGViXq3",
        "colab_type": "code",
        "colab": {
          "base_uri": "https://localhost:8080/",
          "height": 67
        },
        "outputId": "7474f92f-5205-418d-b393-be528e78b0ec"
      },
      "source": [
        "y_pred = multivar_model.predict(X_test)   #Predictions on test values\n",
        "y_pred"
      ],
      "execution_count": null,
      "outputs": [
        {
          "output_type": "execute_result",
          "data": {
            "text/plain": [
              "array([0.10147451, 0.12834684, 0.09343793, 0.23539127, 0.16480436,\n",
              "       0.14042667, 0.10061966, 0.09693347, 0.06946697, 0.12888754,\n",
              "       0.21809148, 0.06020325, 0.22065701, 0.101914  , 0.2214479 ])"
            ]
          },
          "metadata": {
            "tags": []
          },
          "execution_count": 345
        }
      ]
    },
    {
      "cell_type": "code",
      "metadata": {
        "id": "V0LEz55HiiK3",
        "colab_type": "code",
        "colab": {
          "base_uri": "https://localhost:8080/",
          "height": 243
        },
        "outputId": "59172b77-a01d-4980-f42e-33ab3f32fefb"
      },
      "source": [
        "print(\"The intercept is:\", multivar_model.intercept_)\n",
        "coefficients = pd.DataFrame()\n",
        "coefficients['Features'] = variables\n",
        "coefficients['Coefficents'] = multivar_model.coef_\n",
        "coefficients"
      ],
      "execution_count": null,
      "outputs": [
        {
          "output_type": "stream",
          "text": [
            "The intercept is: 0.08282226716676368\n"
          ],
          "name": "stdout"
        },
        {
          "output_type": "execute_result",
          "data": {
            "text/html": [
              "<div>\n",
              "<style scoped>\n",
              "    .dataframe tbody tr th:only-of-type {\n",
              "        vertical-align: middle;\n",
              "    }\n",
              "\n",
              "    .dataframe tbody tr th {\n",
              "        vertical-align: top;\n",
              "    }\n",
              "\n",
              "    .dataframe thead th {\n",
              "        text-align: right;\n",
              "    }\n",
              "</style>\n",
              "<table border=\"1\" class=\"dataframe\">\n",
              "  <thead>\n",
              "    <tr style=\"text-align: right;\">\n",
              "      <th></th>\n",
              "      <th>Features</th>\n",
              "      <th>Coefficents</th>\n",
              "    </tr>\n",
              "  </thead>\n",
              "  <tbody>\n",
              "    <tr>\n",
              "      <th>0</th>\n",
              "      <td>Holiday_Flag</td>\n",
              "      <td>0.016333</td>\n",
              "    </tr>\n",
              "    <tr>\n",
              "      <th>1</th>\n",
              "      <td>Temperature</td>\n",
              "      <td>-0.139927</td>\n",
              "    </tr>\n",
              "    <tr>\n",
              "      <th>2</th>\n",
              "      <td>Fuel_Price</td>\n",
              "      <td>-0.165927</td>\n",
              "    </tr>\n",
              "    <tr>\n",
              "      <th>3</th>\n",
              "      <td>CPI</td>\n",
              "      <td>0.061614</td>\n",
              "    </tr>\n",
              "    <tr>\n",
              "      <th>4</th>\n",
              "      <td>Unemployment</td>\n",
              "      <td>0.160649</td>\n",
              "    </tr>\n",
              "    <tr>\n",
              "      <th>5</th>\n",
              "      <td>Date Indices</td>\n",
              "      <td>0.194308</td>\n",
              "    </tr>\n",
              "  </tbody>\n",
              "</table>\n",
              "</div>"
            ],
            "text/plain": [
              "       Features  Coefficents\n",
              "0  Holiday_Flag     0.016333\n",
              "1   Temperature    -0.139927\n",
              "2    Fuel_Price    -0.165927\n",
              "3           CPI     0.061614\n",
              "4  Unemployment     0.160649\n",
              "5  Date Indices     0.194308"
            ]
          },
          "metadata": {
            "tags": []
          },
          "execution_count": 346
        }
      ]
    },
    {
      "cell_type": "markdown",
      "metadata": {
        "id": "laLiGbcIytlQ",
        "colab_type": "text"
      },
      "source": [
        "Let's plot the coefficients on a graph to visualise each features' impact."
      ]
    },
    {
      "cell_type": "code",
      "metadata": {
        "id": "kFtc9wHpyzuY",
        "colab_type": "code",
        "colab": {
          "base_uri": "https://localhost:8080/",
          "height": 472
        },
        "outputId": "ba4ade0c-3bc3-410e-e4a6-43a6800796cf"
      },
      "source": [
        "coefficients['Absolute Coefficents'] = coefficients['Coefficents'].abs()\n",
        "coefficients.plot(kind='bar',x='Features',y='Absolute Coefficents',figsize=(10,6))"
      ],
      "execution_count": null,
      "outputs": [
        {
          "output_type": "execute_result",
          "data": {
            "text/plain": [
              "<matplotlib.axes._subplots.AxesSubplot at 0x7f15a0e1a160>"
            ]
          },
          "metadata": {
            "tags": []
          },
          "execution_count": 347
        },
        {
          "output_type": "display_data",
          "data": {
            "image/png": "[encoded data removed]",
            "text/plain": [
              "<Figure size 720x432 with 1 Axes>"
            ]
          },
          "metadata": {
            "tags": [],
            "needs_background": "light"
          }
        }
      ]
    },
    {
      "cell_type": "markdown",
      "metadata": {
        "id": "UcX9GK_i1Kiu",
        "colab_type": "text"
      },
      "source": [
        "**From this graph, we see that all features do infact impact the sales. The higher the bar in the graph, the higher the weight in the model.**"
      ]
    }
  ]
}