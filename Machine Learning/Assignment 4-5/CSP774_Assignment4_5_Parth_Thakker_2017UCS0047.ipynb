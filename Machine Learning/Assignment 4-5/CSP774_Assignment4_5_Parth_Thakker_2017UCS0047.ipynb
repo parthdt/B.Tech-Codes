{
  "nbformat": 4,
  "nbformat_minor": 0,
  "metadata": {
    "colab": {
      "name": "CSP774_Assignment4-5_Parth_Thakker_2017UCS0047.ipynb",
      "provenance": [],
      "toc_visible": true
    },
    "kernelspec": {
      "display_name": "Python 3",
      "name": "python3"
    }
  },
  "cells": [
    {
      "cell_type": "markdown",
      "metadata": {
        "id": "IG1C_iPDqHxG"
      },
      "source": [
        "#Text Files to proper csv File."
      ]
    },
    {
      "cell_type": "markdown",
      "metadata": {
        "id": "e8_LGs_a-70i"
      },
      "source": [
        "This section comprises of the following steps:\n",
        "\n",
        "* Extracting dataset from compressed rar file.\n",
        "* Getting file-paths of *B* and *M* labelled data.\n",
        "* Reading each text file line-by-line and converting it into one big space seperated line of sys-calls.\n",
        "* Storing this data in a dataframe `final_data` in the format:  \n",
        " `(Filename, Sys-Calls, Label (B/M) )`\n",
        "\n",
        "\n",
        "\n"
      ]
    },
    {
      "cell_type": "code",
      "metadata": {
        "id": "7_P0ODh9aY9k"
      },
      "source": [
        "!unrar x 'App Dataset.rar'  #Extract the Data"
      ],
      "execution_count": null,
      "outputs": []
    },
    {
      "cell_type": "code",
      "metadata": {
        "id": "slkc51Ipmv2G",
        "outputId": "e1edf4e4-fea0-4612-805a-1a5b07372dae",
        "colab": {
          "base_uri": "https://localhost:8080/"
        }
      },
      "source": [
        "!ls"
      ],
      "execution_count": null,
      "outputs": [
        {
          "output_type": "stream",
          "text": [
            "'App Dataset'  'App Dataset.rar'   sample_data\n"
          ],
          "name": "stdout"
        }
      ]
    },
    {
      "cell_type": "code",
      "metadata": {
        "id": "2kwfJqtfqHLH"
      },
      "source": [
        "#Importing required libraries\n",
        "import os   \n",
        "import pandas as pd\n",
        "import matplotlib.pyplot as plt\n",
        "import numpy as np"
      ],
      "execution_count": null,
      "outputs": []
    },
    {
      "cell_type": "code",
      "metadata": {
        "id": "O1NMB2YxrCAS",
        "outputId": "d082d2ff-0c4a-4156-a41c-06332a23dd96",
        "colab": {
          "base_uri": "https://localhost:8080/",
          "height": 402
        }
      },
      "source": [
        "B_dataset_path = os.getcwd() + '/App Dataset/Dataset/B/sys'     #Get file paths, for reading\n",
        "M_dataset_path = os.getcwd() + '/App Dataset/Dataset/M/sys'\n",
        "\n",
        "files_B = os.listdir(B_dataset_path)\n",
        "files_M = os.listdir(M_dataset_path)\n",
        "list_sys_calls = []\n",
        "\n",
        "for filename in files_B:\n",
        "    file = open( ( B_dataset_path + '/' + filename ), 'r' )\n",
        "    sys_calls = file.read().splitlines()\n",
        "    list_sys_calls.append([filename, ' '.join(sys_calls), 'B'])   #Store and label the data\n",
        "\n",
        "for filename in files_M:\n",
        "    file = open( ( M_dataset_path + '/' + filename ), 'r' )\n",
        "    sys_calls = file.read().splitlines()\n",
        "    list_sys_calls.append([filename, ' '.join(sys_calls), 'M'])\n",
        "\n",
        "final_data = pd.DataFrame(list_sys_calls, columns=['File','Calls','Label'])\n",
        "final_data      #Final dataframe of sys-calls, labeled"
      ],
      "execution_count": null,
      "outputs": [
        {
          "output_type": "execute_result",
          "data": {
            "text/html": [
              "<div>\n",
              "<style scoped>\n",
              "    .dataframe tbody tr th:only-of-type {\n",
              "        vertical-align: middle;\n",
              "    }\n",
              "\n",
              "    .dataframe tbody tr th {\n",
              "        vertical-align: top;\n",
              "    }\n",
              "\n",
              "    .dataframe thead th {\n",
              "        text-align: right;\n",
              "    }\n",
              "</style>\n",
              "<table border=\"1\" class=\"dataframe\">\n",
              "  <thead>\n",
              "    <tr style=\"text-align: right;\">\n",
              "      <th></th>\n",
              "      <th>File</th>\n",
              "      <th>Calls</th>\n",
              "      <th>Label</th>\n",
              "    </tr>\n",
              "  </thead>\n",
              "  <tbody>\n",
              "    <tr>\n",
              "      <th>0</th>\n",
              "      <td>com.chinadeals.apk.sys_names.txt</td>\n",
              "      <td>ioctl pread rt_sigprocmask rt_sigprocmask rt_s...</td>\n",
              "      <td>B</td>\n",
              "    </tr>\n",
              "    <tr>\n",
              "      <th>1</th>\n",
              "      <td>chat.cristianogratis.apk.sys_names.txt</td>\n",
              "      <td>dup fcntl close epoll_ctl ioctl ioctl getuid e...</td>\n",
              "      <td>B</td>\n",
              "    </tr>\n",
              "    <tr>\n",
              "      <th>2</th>\n",
              "      <td>com.eterno.apk.sys_names.txt</td>\n",
              "      <td>futex ioctl epoll_pwait read recvfrom writev s...</td>\n",
              "      <td>B</td>\n",
              "    </tr>\n",
              "    <tr>\n",
              "      <th>3</th>\n",
              "      <td>com.andromo.dev551559.app531086.apk.sys_names.txt</td>\n",
              "      <td>read writev write read read write read read re...</td>\n",
              "      <td>B</td>\n",
              "    </tr>\n",
              "    <tr>\n",
              "      <th>4</th>\n",
              "      <td>com.blinkslabs.blinkist.android.apk.sys_names.txt</td>\n",
              "      <td>read read ioctl ioctl writev futex ioctl ioctl...</td>\n",
              "      <td>B</td>\n",
              "    </tr>\n",
              "    <tr>\n",
              "      <th>...</th>\n",
              "      <td>...</td>\n",
              "      <td>...</td>\n",
              "      <td>...</td>\n",
              "    </tr>\n",
              "    <tr>\n",
              "      <th>5817</th>\n",
              "      <td>a0bffc11168c65beb59c326d88f144f0d750634252a507...</td>\n",
              "      <td>newfstatat ioctl ioctl getuid newfstatat newfs...</td>\n",
              "      <td>M</td>\n",
              "    </tr>\n",
              "    <tr>\n",
              "      <th>5818</th>\n",
              "      <td>02c9bddf966b59a8850a7395e7ce5af21ca16c442a0389...</td>\n",
              "      <td>recvfrom recvfrom writev sendto getuid epoll_p...</td>\n",
              "      <td>M</td>\n",
              "    </tr>\n",
              "    <tr>\n",
              "      <th>5819</th>\n",
              "      <td>6113bc8bbbdfe89114a12ddfa25ad54eed63367cf21462...</td>\n",
              "      <td>dup fcntl close epoll_ctl ioctl ioctl getuid e...</td>\n",
              "      <td>M</td>\n",
              "    </tr>\n",
              "    <tr>\n",
              "      <th>5820</th>\n",
              "      <td>3ddcdc882166b87d3db9d5cc21ccd4c7009e1f134edeeb...</td>\n",
              "      <td>ioctl ioctl faccessat mprotect mprotect mprote...</td>\n",
              "      <td>M</td>\n",
              "    </tr>\n",
              "    <tr>\n",
              "      <th>5821</th>\n",
              "      <td>66d6c067ca2c6e500caac92977f19c513436b2ae276ab9...</td>\n",
              "      <td>getuid epoll_pwait getuid epoll_pwait read new...</td>\n",
              "      <td>M</td>\n",
              "    </tr>\n",
              "  </tbody>\n",
              "</table>\n",
              "<p>5822 rows × 3 columns</p>\n",
              "</div>"
            ],
            "text/plain": [
              "                                                   File  ... Label\n",
              "0                      com.chinadeals.apk.sys_names.txt  ...     B\n",
              "1                chat.cristianogratis.apk.sys_names.txt  ...     B\n",
              "2                          com.eterno.apk.sys_names.txt  ...     B\n",
              "3     com.andromo.dev551559.app531086.apk.sys_names.txt  ...     B\n",
              "4     com.blinkslabs.blinkist.android.apk.sys_names.txt  ...     B\n",
              "...                                                 ...  ...   ...\n",
              "5817  a0bffc11168c65beb59c326d88f144f0d750634252a507...  ...     M\n",
              "5818  02c9bddf966b59a8850a7395e7ce5af21ca16c442a0389...  ...     M\n",
              "5819  6113bc8bbbdfe89114a12ddfa25ad54eed63367cf21462...  ...     M\n",
              "5820  3ddcdc882166b87d3db9d5cc21ccd4c7009e1f134edeeb...  ...     M\n",
              "5821  66d6c067ca2c6e500caac92977f19c513436b2ae276ab9...  ...     M\n",
              "\n",
              "[5822 rows x 3 columns]"
            ]
          },
          "metadata": {
            "tags": []
          },
          "execution_count": 8
        }
      ]
    },
    {
      "cell_type": "markdown",
      "metadata": {
        "id": "wv30V0FQwB42"
      },
      "source": [
        "# Task 1 - Analysis of Sys-Calls with different Unigram Models"
      ]
    },
    {
      "cell_type": "markdown",
      "metadata": {
        "id": "c4xIXJ6lAG8k"
      },
      "source": [
        "**In this task, we analyse different models for representation of features, sys-calls. Sys-Calls are taken one at a time, hence they're Unigram Models.**  \n",
        "\n",
        "For each data model, i.e., `Bag of Words`, `Boolean Occurrence` and `TF-IDF` the following steps are performed:\n",
        "* Data is prepared by extracting the sys-calls from `final_data` and vectorizing it. The `CountVectorizer` is used for the first two models and `TfidfVectorizer` is used for TF-IDF.\n",
        "* After this, the data is fit and transformed using the vectorizer. This data serves as the input variables, `X`. The Labels, `Y`, are extracted from `final_data`, being either `B/M` for each input.\n",
        "* Data is split into train and test data.\n",
        "* Three different SVM Kernels, `Linear`, `Polynomial` and `RBF` are trained and analysed.\n",
        " \n",
        "\n",
        "\n",
        "\n"
      ]
    },
    {
      "cell_type": "markdown",
      "metadata": {
        "id": "ykiKgitOwMcZ"
      },
      "source": [
        "## Bag of Words (No. of Occurrences of Calls)"
      ]
    },
    {
      "cell_type": "markdown",
      "metadata": {
        "id": "7no6AqjwcK-9"
      },
      "source": [
        "This data model counts the occurence of a particular feature in the dataset."
      ]
    },
    {
      "cell_type": "markdown",
      "metadata": {
        "id": "et-xFJM4x2pX"
      },
      "source": [
        "### Prepare the Data"
      ]
    },
    {
      "cell_type": "code",
      "metadata": {
        "id": "7HZf3pOmyLL7",
        "outputId": "c37980b8-fdb8-48af-8c20-bbf01b883731",
        "colab": {
          "base_uri": "https://localhost:8080/"
        }
      },
      "source": [
        "from sklearn.feature_extraction.text import CountVectorizer\n",
        "text = final_data['Calls']\n",
        "print(text)"
      ],
      "execution_count": null,
      "outputs": [
        {
          "output_type": "stream",
          "text": [
            "0       ioctl pread rt_sigprocmask rt_sigprocmask rt_s...\n",
            "1       dup fcntl close epoll_ctl ioctl ioctl getuid e...\n",
            "2       futex ioctl epoll_pwait read recvfrom writev s...\n",
            "3       read writev write read read write read read re...\n",
            "4       read read ioctl ioctl writev futex ioctl ioctl...\n",
            "                              ...                        \n",
            "5817    newfstatat ioctl ioctl getuid newfstatat newfs...\n",
            "5818    recvfrom recvfrom writev sendto getuid epoll_p...\n",
            "5819    dup fcntl close epoll_ctl ioctl ioctl getuid e...\n",
            "5820    ioctl ioctl faccessat mprotect mprotect mprote...\n",
            "5821    getuid epoll_pwait getuid epoll_pwait read new...\n",
            "Name: Calls, Length: 5822, dtype: object\n"
          ],
          "name": "stdout"
        }
      ]
    },
    {
      "cell_type": "code",
      "metadata": {
        "id": "Ipn2VH2eMtt9",
        "outputId": "2ef06c7b-0097-40e8-bb6a-18bfa030fe1b",
        "colab": {
          "base_uri": "https://localhost:8080/"
        }
      },
      "source": [
        "vectorizer = CountVectorizer()\n",
        "transformed_text = vectorizer.fit_transform(text)\n",
        "vectorizer.get_feature_names()[:5]      #First five features"
      ],
      "execution_count": null,
      "outputs": [
        {
          "output_type": "execute_result",
          "data": {
            "text/plain": [
              "['_llseek', 'bind', 'capget', 'clock_gettime', 'clone']"
            ]
          },
          "metadata": {
            "tags": []
          },
          "execution_count": 130
        }
      ]
    },
    {
      "cell_type": "code",
      "metadata": {
        "id": "ktRkMzAtzqw3",
        "outputId": "589cce27-d340-4e41-dd7c-3a82ff64d760",
        "colab": {
          "base_uri": "https://localhost:8080/"
        }
      },
      "source": [
        "from sklearn import preprocessing\n",
        "X = transformed_text.toarray()\n",
        "X = preprocessing.normalize(X)\n",
        "X"
      ],
      "execution_count": null,
      "outputs": [
        {
          "output_type": "execute_result",
          "data": {
            "text/plain": [
              "array([[0.        , 0.        , 0.        , ..., 0.        , 0.26287891,\n",
              "        0.11385516],\n",
              "       [0.        , 0.        , 0.        , ..., 0.        , 0.16569688,\n",
              "        0.1347668 ],\n",
              "       [0.        , 0.        , 0.        , ..., 0.        , 0.18283549,\n",
              "        0.09310442],\n",
              "       ...,\n",
              "       [0.        , 0.        , 0.        , ..., 0.        , 0.19940531,\n",
              "        0.17339592],\n",
              "       [0.        , 0.        , 0.        , ..., 0.        , 0.53886354,\n",
              "        0.06260463],\n",
              "       [0.        , 0.        , 0.        , ..., 0.        , 0.        ,\n",
              "        0.01377167]])"
            ]
          },
          "metadata": {
            "tags": []
          },
          "execution_count": 131
        }
      ]
    },
    {
      "cell_type": "code",
      "metadata": {
        "id": "CDv1C9QL0RGU"
      },
      "source": [
        "from sklearn import model_selection, svm        #Split the data\n",
        "X_train, X_test, Y_train, Y_test = model_selection.train_test_split( X, final_data['Label'], test_size=0.2 , random_state=45 )"
      ],
      "execution_count": null,
      "outputs": []
    },
    {
      "cell_type": "markdown",
      "metadata": {
        "id": "kFLsT0wv2aGl"
      },
      "source": [
        "### Linear SVM Kernel"
      ]
    },
    {
      "cell_type": "code",
      "metadata": {
        "id": "XYn8buVn2YZB",
        "outputId": "456a6c27-0fac-418a-cff8-667698cff15c",
        "colab": {
          "base_uri": "https://localhost:8080/"
        }
      },
      "source": [
        "from sklearn.metrics import classification_report, confusion_matrix, accuracy_score, plot_roc_curve\n",
        "\n",
        "#train model\n",
        "Linear_Kernel = svm.SVC(C=1.5, kernel='linear', gamma='auto')\n",
        "Linear_Kernel.fit(X_train,Y_train)\n",
        "\n",
        "#predictions\n",
        "Linear_Kernel_Predictions = Linear_Kernel.predict(X_test)\n",
        "\n",
        "#accuracy score\n",
        "print(\"Linear Kernel accuracy is \", accuracy_score(Linear_Kernel_Predictions, Y_test))\n",
        "\n",
        "#Confusion Matrix\n",
        "print(\"\\nConfusion matrix:\\n\")\n",
        "print(confusion_matrix(Y_test,Linear_Kernel_Predictions))\n",
        "\n",
        "#Classification Report for the rest of the metrics\n",
        "print(\"\\nClassification Report:\\n\")\n",
        "print(classification_report(Y_test,Linear_Kernel_Predictions))\n",
        "\n",
        "#ROC Plot\n",
        "print(\"\\nROC Plot\")\n",
        "plot_roc_curve(Linear_Kernel, X_test, Y_test) \n",
        "plt.show()"
      ],
      "execution_count": null,
      "outputs": [
        {
          "output_type": "stream",
          "text": [
            "Linear Kernel accuracy is  0.9218884120171674\n",
            "\n",
            "Confusion matrix:\n",
            "\n",
            "[[480  30]\n",
            " [ 61 594]]\n",
            "\n",
            "Classification Report:\n",
            "\n",
            "              precision    recall  f1-score   support\n",
            "\n",
            "           B       0.89      0.94      0.91       510\n",
            "           M       0.95      0.91      0.93       655\n",
            "\n",
            "    accuracy                           0.92      1165\n",
            "   macro avg       0.92      0.92      0.92      1165\n",
            "weighted avg       0.92      0.92      0.92      1165\n",
            "\n",
            "\n",
            "ROC Plot\n"
          ],
          "name": "stdout"
        },
        {
          "output_type": "display_data",
          "data": {
            "image/png": "[encoded data removed]",
            "text/plain": [
              "<Figure size 432x288 with 1 Axes>"
            ]
          },
          "metadata": {
            "tags": []
          }
        }
      ]
    },
    {
      "cell_type": "markdown",
      "metadata": {
        "id": "H2i1FDxx4aC-"
      },
      "source": [
        "### Polynomial SVM Kernel"
      ]
    },
    {
      "cell_type": "code",
      "metadata": {
        "id": "L3Muk_ar4eIm",
        "outputId": "2b999703-1df2-4cde-b0b8-bf7eeff549d1",
        "colab": {
          "base_uri": "https://localhost:8080/"
        }
      },
      "source": [
        "from sklearn.metrics import classification_report, confusion_matrix, accuracy_score, plot_roc_curve\n",
        "\n",
        "#train model\n",
        "Polynomial_Kernel = svm.SVC(C=1.5, kernel='poly', degree=4)\n",
        "Polynomial_Kernel.fit(X_train,Y_train)\n",
        "\n",
        "#predictions\n",
        "Polynomial_Kernel_Predictions = Polynomial_Kernel.predict(X_test)\n",
        "\n",
        "#accuracy score\n",
        "print(\"Polynomial Kernel accuracy is \", accuracy_score(Polynomial_Kernel_Predictions, Y_test))\n",
        "\n",
        "#Confusion Matrix\n",
        "print(\"\\nConfusion matrix:\\n\")\n",
        "print(confusion_matrix(Y_test,Polynomial_Kernel_Predictions))\n",
        "\n",
        "#Classification Report for the rest of the metrics\n",
        "print(\"\\nClassification Report:\\n\")\n",
        "print(classification_report(Y_test,Polynomial_Kernel_Predictions))\n",
        "\n",
        "#ROC Plot\n",
        "print(\"\\nROC Plot\")\n",
        "plot_roc_curve(Polynomial_Kernel, X_test, Y_test) \n",
        "plt.show()"
      ],
      "execution_count": null,
      "outputs": [
        {
          "output_type": "stream",
          "text": [
            "Polynomial Kernel accuracy is  0.9536480686695279\n",
            "\n",
            "Confusion matrix:\n",
            "\n",
            "[[486  24]\n",
            " [ 30 625]]\n",
            "\n",
            "Classification Report:\n",
            "\n",
            "              precision    recall  f1-score   support\n",
            "\n",
            "           B       0.94      0.95      0.95       510\n",
            "           M       0.96      0.95      0.96       655\n",
            "\n",
            "    accuracy                           0.95      1165\n",
            "   macro avg       0.95      0.95      0.95      1165\n",
            "weighted avg       0.95      0.95      0.95      1165\n",
            "\n",
            "\n",
            "ROC Plot\n"
          ],
          "name": "stdout"
        },
        {
          "output_type": "display_data",
          "data": {
            "image/png": "[encoded data removed]",
            "text/plain": [
              "<Figure size 432x288 with 1 Axes>"
            ]
          },
          "metadata": {
            "tags": []
          }
        }
      ]
    },
    {
      "cell_type": "markdown",
      "metadata": {
        "id": "bgK_-pPp6fTv"
      },
      "source": [
        "### RBF SVM Kernel"
      ]
    },
    {
      "cell_type": "code",
      "metadata": {
        "id": "2YtmIdRt65lz",
        "outputId": "b0176974-a2c6-4f50-8f20-97a157f92d63",
        "colab": {
          "base_uri": "https://localhost:8080/",
          "height": 615
        }
      },
      "source": [
        "from sklearn.metrics import classification_report, confusion_matrix, accuracy_score, plot_roc_curve\n",
        "\n",
        "#train model\n",
        "RBF_Kernel = svm.SVC(C=1.5, kernel='rbf', gamma='auto')\n",
        "RBF_Kernel.fit(X_train,Y_train)\n",
        "\n",
        "#predictions\n",
        "RBF_Kernel_Predictions = RBF_Kernel.predict(X_test)\n",
        "\n",
        "#accuracy score\n",
        "print(\"RBF Kernel accuracy is \", accuracy_score(RBF_Kernel_Predictions, Y_test))\n",
        "\n",
        "#Confusion Matrix\n",
        "print(\"\\nConfusion matrix:\\n\")\n",
        "print(confusion_matrix(Y_test,RBF_Kernel_Predictions))\n",
        "\n",
        "#Classification Report for the rest of the metrics\n",
        "print(\"\\nClassification Report:\\n\")\n",
        "print(classification_report(Y_test,RBF_Kernel_Predictions))\n",
        "\n",
        "#ROC Plot\n",
        "print(\"\\nROC Plot\")\n",
        "plot_roc_curve(RBF_Kernel, X_test, Y_test) \n",
        "plt.show()"
      ],
      "execution_count": null,
      "outputs": [
        {
          "output_type": "stream",
          "text": [
            "RBF Kernel accuracy is  0.855793991416309\n",
            "\n",
            "Confusion matrix:\n",
            "\n",
            "[[468  42]\n",
            " [126 529]]\n",
            "\n",
            "Classification Report:\n",
            "\n",
            "              precision    recall  f1-score   support\n",
            "\n",
            "           B       0.79      0.92      0.85       510\n",
            "           M       0.93      0.81      0.86       655\n",
            "\n",
            "    accuracy                           0.86      1165\n",
            "   macro avg       0.86      0.86      0.86      1165\n",
            "weighted avg       0.87      0.86      0.86      1165\n",
            "\n",
            "\n",
            "ROC Plot\n"
          ],
          "name": "stdout"
        },
        {
          "output_type": "display_data",
          "data": {
            "image/png": "[encoded data removed]",
            "text/plain": [
              "<Figure size 432x288 with 1 Axes>"
            ]
          },
          "metadata": {
            "tags": []
          }
        }
      ]
    },
    {
      "cell_type": "markdown",
      "metadata": {
        "id": "cFek0weu7rVK"
      },
      "source": [
        "## Boolean Occurrence"
      ]
    },
    {
      "cell_type": "markdown",
      "metadata": {
        "id": "ybcz9-HQ7p2p"
      },
      "source": [
        "### Prepare the Data"
      ]
    },
    {
      "cell_type": "code",
      "metadata": {
        "id": "kPJ3QM6O7p2v",
        "outputId": "66d203c3-d58b-4df4-cb0b-19fbfaadaa66",
        "colab": {
          "base_uri": "https://localhost:8080/"
        }
      },
      "source": [
        "X = np.where(transformed_text.toarray() >= 1,1,0)       #Same as Bag of words, but Boolean. So all values >=1 are replaced with 1.\n",
        "X"
      ],
      "execution_count": null,
      "outputs": [
        {
          "output_type": "execute_result",
          "data": {
            "text/plain": [
              "array([[0, 0, 0, ..., 0, 1, 1],\n",
              "       [0, 0, 0, ..., 0, 1, 1],\n",
              "       [0, 0, 0, ..., 0, 1, 1],\n",
              "       ...,\n",
              "       [0, 0, 0, ..., 0, 1, 1],\n",
              "       [0, 0, 0, ..., 0, 1, 1],\n",
              "       [0, 0, 0, ..., 0, 0, 1]])"
            ]
          },
          "metadata": {
            "tags": []
          },
          "execution_count": 138
        }
      ]
    },
    {
      "cell_type": "code",
      "metadata": {
        "id": "QW8IdhsT7p22"
      },
      "source": [
        "from sklearn import model_selection, svm        #Split the data\n",
        "X_train, X_test, Y_train, Y_test = model_selection.train_test_split( X, final_data['Label'], test_size=0.2 , random_state=45 )"
      ],
      "execution_count": null,
      "outputs": []
    },
    {
      "cell_type": "markdown",
      "metadata": {
        "id": "wDRTOZqR98A_"
      },
      "source": [
        "### Linear SVM Kernel"
      ]
    },
    {
      "cell_type": "code",
      "metadata": {
        "id": "oksQRclb98BA",
        "outputId": "afc4f3bc-913c-4485-fdc0-68e4306a7cff",
        "colab": {
          "base_uri": "https://localhost:8080/",
          "height": 615
        }
      },
      "source": [
        "from sklearn.metrics import classification_report, confusion_matrix, accuracy_score, plot_roc_curve\n",
        "\n",
        "#train model\n",
        "Linear_Kernel = svm.SVC(C=1.5, kernel='linear', gamma='auto')\n",
        "Linear_Kernel.fit(X_train,Y_train)\n",
        "\n",
        "#predictions\n",
        "Linear_Kernel_Predictions = Linear_Kernel.predict(X_test)\n",
        "\n",
        "#accuracy score\n",
        "print(\"Linear Kernel accuracy is \", accuracy_score(Linear_Kernel_Predictions, Y_test))\n",
        "\n",
        "#Confusion Matrix\n",
        "print(\"\\nConfusion matrix:\\n\")\n",
        "print(confusion_matrix(Y_test,Linear_Kernel_Predictions))\n",
        "\n",
        "#Classification Report for the rest of the metrics\n",
        "print(\"\\nClassification Report:\\n\")\n",
        "print(classification_report(Y_test,Linear_Kernel_Predictions))\n",
        "\n",
        "#ROC Plot\n",
        "print(\"\\nROC Plot\")\n",
        "plot_roc_curve(Linear_Kernel, X_test, Y_test) \n",
        "plt.show()"
      ],
      "execution_count": null,
      "outputs": [
        {
          "output_type": "stream",
          "text": [
            "Linear Kernel accuracy is  0.9218884120171674\n",
            "\n",
            "Confusion matrix:\n",
            "\n",
            "[[480  30]\n",
            " [ 61 594]]\n",
            "\n",
            "Classification Report:\n",
            "\n",
            "              precision    recall  f1-score   support\n",
            "\n",
            "           B       0.89      0.94      0.91       510\n",
            "           M       0.95      0.91      0.93       655\n",
            "\n",
            "    accuracy                           0.92      1165\n",
            "   macro avg       0.92      0.92      0.92      1165\n",
            "weighted avg       0.92      0.92      0.92      1165\n",
            "\n",
            "\n",
            "ROC Plot\n"
          ],
          "name": "stdout"
        },
        {
          "output_type": "display_data",
          "data": {
            "image/png": "[encoded data removed]",
            "text/plain": [
              "<Figure size 432x288 with 1 Axes>"
            ]
          },
          "metadata": {
            "tags": []
          }
        }
      ]
    },
    {
      "cell_type": "markdown",
      "metadata": {
        "id": "tkYc7Xkn98BC"
      },
      "source": [
        "### Polynomial SVM Kernel"
      ]
    },
    {
      "cell_type": "code",
      "metadata": {
        "id": "q9iFYT_z98BD",
        "outputId": "3bbf08ea-a65b-4aea-b141-77e6a7f634da",
        "colab": {
          "base_uri": "https://localhost:8080/",
          "height": 615
        }
      },
      "source": [
        "from sklearn.metrics import classification_report, confusion_matrix, accuracy_score, plot_roc_curve\n",
        "\n",
        "#train model\n",
        "Polynomial_Kernel = svm.SVC(C=1.5, kernel='poly', degree=4)\n",
        "Polynomial_Kernel.fit(X_train,Y_train)\n",
        "\n",
        "#predictions\n",
        "Polynomial_Kernel_Predictions = Polynomial_Kernel.predict(X_test)\n",
        "\n",
        "#accuracy score\n",
        "print(\"Polynomial Kernel accuracy is \", accuracy_score(Polynomial_Kernel_Predictions, Y_test))\n",
        "\n",
        "#Confusion Matrix\n",
        "print(\"\\nConfusion matrix:\\n\")\n",
        "print(confusion_matrix(Y_test,Polynomial_Kernel_Predictions))\n",
        "\n",
        "#Classification Report for the rest of the metrics\n",
        "print(\"\\nClassification Report:\\n\")\n",
        "print(classification_report(Y_test,Polynomial_Kernel_Predictions))\n",
        "\n",
        "#ROC Plot\n",
        "print(\"\\nROC Plot\")\n",
        "plot_roc_curve(Polynomial_Kernel, X_test, Y_test) \n",
        "plt.show()"
      ],
      "execution_count": null,
      "outputs": [
        {
          "output_type": "stream",
          "text": [
            "Polynomial Kernel accuracy is  0.9536480686695279\n",
            "\n",
            "Confusion matrix:\n",
            "\n",
            "[[486  24]\n",
            " [ 30 625]]\n",
            "\n",
            "Classification Report:\n",
            "\n",
            "              precision    recall  f1-score   support\n",
            "\n",
            "           B       0.94      0.95      0.95       510\n",
            "           M       0.96      0.95      0.96       655\n",
            "\n",
            "    accuracy                           0.95      1165\n",
            "   macro avg       0.95      0.95      0.95      1165\n",
            "weighted avg       0.95      0.95      0.95      1165\n",
            "\n",
            "\n",
            "ROC Plot\n"
          ],
          "name": "stdout"
        },
        {
          "output_type": "display_data",
          "data": {
            "image/png": "[encoded data removed]",
            "text/plain": [
              "<Figure size 432x288 with 1 Axes>"
            ]
          },
          "metadata": {
            "tags": []
          }
        }
      ]
    },
    {
      "cell_type": "markdown",
      "metadata": {
        "id": "D-Apoqty98BG"
      },
      "source": [
        "### RBF SVM Kernel"
      ]
    },
    {
      "cell_type": "code",
      "metadata": {
        "id": "1h68ZKqY98BH",
        "outputId": "b86d0259-2333-4a4b-b36e-ea824ebc797f",
        "colab": {
          "base_uri": "https://localhost:8080/",
          "height": 615
        }
      },
      "source": [
        "from sklearn.metrics import classification_report, confusion_matrix, accuracy_score, plot_roc_curve\n",
        "\n",
        "#train model\n",
        "RBF_Kernel = svm.SVC(C=1.5, kernel='rbf', gamma='auto')\n",
        "RBF_Kernel.fit(X_train,Y_train)\n",
        "\n",
        "#predictions\n",
        "RBF_Kernel_Predictions = RBF_Kernel.predict(X_test)\n",
        "\n",
        "#accuracy score\n",
        "print(\"RBF Kernel accuracy is \", accuracy_score(RBF_Kernel_Predictions, Y_test))\n",
        "\n",
        "#Confusion Matrix\n",
        "print(\"\\nConfusion matrix:\\n\")\n",
        "print(confusion_matrix(Y_test,RBF_Kernel_Predictions))\n",
        "\n",
        "#Classification Report for the rest of the metrics\n",
        "print(\"\\nClassification Report:\\n\")\n",
        "print(classification_report(Y_test,RBF_Kernel_Predictions))\n",
        "\n",
        "#ROC Plot\n",
        "print(\"\\nROC Plot\")\n",
        "plot_roc_curve(RBF_Kernel, X_test, Y_test) \n",
        "plt.show()"
      ],
      "execution_count": null,
      "outputs": [
        {
          "output_type": "stream",
          "text": [
            "RBF Kernel accuracy is  0.855793991416309\n",
            "\n",
            "Confusion matrix:\n",
            "\n",
            "[[468  42]\n",
            " [126 529]]\n",
            "\n",
            "Classification Report:\n",
            "\n",
            "              precision    recall  f1-score   support\n",
            "\n",
            "           B       0.79      0.92      0.85       510\n",
            "           M       0.93      0.81      0.86       655\n",
            "\n",
            "    accuracy                           0.86      1165\n",
            "   macro avg       0.86      0.86      0.86      1165\n",
            "weighted avg       0.87      0.86      0.86      1165\n",
            "\n",
            "\n",
            "ROC Plot\n"
          ],
          "name": "stdout"
        },
        {
          "output_type": "display_data",
          "data": {
            "image/png": "[encoded data removed]",
            "text/plain": [
              "<Figure size 432x288 with 1 Axes>"
            ]
          },
          "metadata": {
            "tags": []
          }
        }
      ]
    },
    {
      "cell_type": "markdown",
      "metadata": {
        "id": "D98sJ3Ic-n1K"
      },
      "source": [
        "## TF-IDF "
      ]
    },
    {
      "cell_type": "markdown",
      "metadata": {
        "id": "EsJlSmQG-n1L"
      },
      "source": [
        "### Prepare the Data"
      ]
    },
    {
      "cell_type": "code",
      "metadata": {
        "id": "fY3q5i9_-n1M"
      },
      "source": [
        "from sklearn.feature_extraction.text import TfidfVectorizer\n",
        "\n",
        "vectorizer = TfidfVectorizer()\n",
        "X = vectorizer.fit_transform(text).toarray()\n",
        "\n",
        "# print(X)\n",
        "# print(vectorizer.vocabulary_)     "
      ],
      "execution_count": null,
      "outputs": []
    },
    {
      "cell_type": "code",
      "metadata": {
        "id": "4qUqbEK4-n1P"
      },
      "source": [
        "from sklearn import model_selection, svm        #Split the data\n",
        "\n",
        "X_train, X_test, Y_train, Y_test = model_selection.train_test_split( X, final_data['Label'], test_size=0.2 , random_state=45 )"
      ],
      "execution_count": null,
      "outputs": []
    },
    {
      "cell_type": "markdown",
      "metadata": {
        "id": "GUW6BQkv-n1R"
      },
      "source": [
        "### Linear SVM Kernel"
      ]
    },
    {
      "cell_type": "code",
      "metadata": {
        "id": "tRvahKrT-n1S",
        "outputId": "76e31e88-de63-48b0-a00f-c12aaafe16b1",
        "colab": {
          "base_uri": "https://localhost:8080/",
          "height": 615
        }
      },
      "source": [
        "from sklearn.metrics import classification_report, confusion_matrix, accuracy_score, plot_roc_curve\n",
        "\n",
        "#train model\n",
        "Linear_Kernel = svm.SVC(C=1.5, kernel='linear', gamma='auto')\n",
        "Linear_Kernel.fit(X_train,Y_train)\n",
        "\n",
        "#predictions\n",
        "Linear_Kernel_Predictions = Linear_Kernel.predict(X_test)\n",
        "\n",
        "#accuracy score\n",
        "print(\"Linear Kernel accuracy is \", accuracy_score(Linear_Kernel_Predictions, Y_test))\n",
        "\n",
        "#Confusion Matrix\n",
        "print(\"\\nConfusion matrix:\\n\")\n",
        "print(confusion_matrix(Y_test,Linear_Kernel_Predictions))\n",
        "\n",
        "#Classification Report for the rest of the metrics\n",
        "print(\"\\nClassification Report:\\n\")\n",
        "print(classification_report(Y_test,Linear_Kernel_Predictions))\n",
        "\n",
        "#ROC Plot\n",
        "print(\"\\nROC Plot\")\n",
        "plot_roc_curve(Linear_Kernel, X_test, Y_test) \n",
        "plt.show()"
      ],
      "execution_count": null,
      "outputs": [
        {
          "output_type": "stream",
          "text": [
            "Linear Kernel accuracy is  0.9218884120171674\n",
            "\n",
            "Confusion matrix:\n",
            "\n",
            "[[480  30]\n",
            " [ 61 594]]\n",
            "\n",
            "Classification Report:\n",
            "\n",
            "              precision    recall  f1-score   support\n",
            "\n",
            "           B       0.89      0.94      0.91       510\n",
            "           M       0.95      0.91      0.93       655\n",
            "\n",
            "    accuracy                           0.92      1165\n",
            "   macro avg       0.92      0.92      0.92      1165\n",
            "weighted avg       0.92      0.92      0.92      1165\n",
            "\n",
            "\n",
            "ROC Plot\n"
          ],
          "name": "stdout"
        },
        {
          "output_type": "display_data",
          "data": {
            "image/png": "[encoded data removed]",
            "text/plain": [
              "<Figure size 432x288 with 1 Axes>"
            ]
          },
          "metadata": {
            "tags": []
          }
        }
      ]
    },
    {
      "cell_type": "markdown",
      "metadata": {
        "id": "PlMu8g3d-n1U"
      },
      "source": [
        "### Polynomial SVM Kernel"
      ]
    },
    {
      "cell_type": "code",
      "metadata": {
        "id": "vRZMJ5r7-n1V",
        "outputId": "3c42af1b-bf86-401a-b3c0-f9276d1e8ab1",
        "colab": {
          "base_uri": "https://localhost:8080/",
          "height": 615
        }
      },
      "source": [
        "from sklearn.metrics import classification_report, confusion_matrix, accuracy_score, plot_roc_curve\n",
        "\n",
        "#train model\n",
        "Polynomial_Kernel = svm.SVC(C=1.5, kernel='poly', degree=4)\n",
        "Polynomial_Kernel.fit(X_train,Y_train)\n",
        "\n",
        "#predictions\n",
        "Polynomial_Kernel_Predictions = Polynomial_Kernel.predict(X_test)\n",
        "\n",
        "#accuracy score\n",
        "print(\"Polynomial Kernel accuracy is \", accuracy_score(Polynomial_Kernel_Predictions, Y_test))\n",
        "\n",
        "#Confusion Matrix\n",
        "print(\"\\nConfusion matrix:\\n\")\n",
        "print(confusion_matrix(Y_test,Polynomial_Kernel_Predictions))\n",
        "\n",
        "#Classification Report for the rest of the metrics\n",
        "print(\"\\nClassification Report:\\n\")\n",
        "print(classification_report(Y_test,Polynomial_Kernel_Predictions))\n",
        "\n",
        "#ROC Plot\n",
        "print(\"\\nROC Plot\")\n",
        "plot_roc_curve(Polynomial_Kernel, X_test, Y_test) \n",
        "plt.show()"
      ],
      "execution_count": null,
      "outputs": [
        {
          "output_type": "stream",
          "text": [
            "Polynomial Kernel accuracy is  0.9545064377682403\n",
            "\n",
            "Confusion matrix:\n",
            "\n",
            "[[487  23]\n",
            " [ 30 625]]\n",
            "\n",
            "Classification Report:\n",
            "\n",
            "              precision    recall  f1-score   support\n",
            "\n",
            "           B       0.94      0.95      0.95       510\n",
            "           M       0.96      0.95      0.96       655\n",
            "\n",
            "    accuracy                           0.95      1165\n",
            "   macro avg       0.95      0.95      0.95      1165\n",
            "weighted avg       0.95      0.95      0.95      1165\n",
            "\n",
            "\n",
            "ROC Plot\n"
          ],
          "name": "stdout"
        },
        {
          "output_type": "display_data",
          "data": {
            "image/png": "[encoded data removed]",
            "text/plain": [
              "<Figure size 432x288 with 1 Axes>"
            ]
          },
          "metadata": {
            "tags": []
          }
        }
      ]
    },
    {
      "cell_type": "markdown",
      "metadata": {
        "id": "nIjLgf3o-n1Y"
      },
      "source": [
        "### RBF SVM Kernel"
      ]
    },
    {
      "cell_type": "code",
      "metadata": {
        "id": "ioFvq2Ff-n1Z",
        "outputId": "98f0bf79-85fb-461b-fd91-49d39bb7af4b",
        "colab": {
          "base_uri": "https://localhost:8080/",
          "height": 615
        }
      },
      "source": [
        "from sklearn.metrics import classification_report, confusion_matrix, accuracy_score, plot_roc_curve\n",
        "\n",
        "#train model\n",
        "RBF_Kernel = svm.SVC(C=1.5, kernel='rbf', gamma='auto')\n",
        "RBF_Kernel.fit(X_train,Y_train)\n",
        "\n",
        "#predictions\n",
        "RBF_Kernel_Predictions = RBF_Kernel.predict(X_test)\n",
        "\n",
        "#accuracy score\n",
        "print(\"RBF Kernel accuracy is \", accuracy_score(RBF_Kernel_Predictions, Y_test))\n",
        "\n",
        "#Confusion Matrix\n",
        "print(\"\\nConfusion matrix:\\n\")\n",
        "print(confusion_matrix(Y_test,RBF_Kernel_Predictions))\n",
        "\n",
        "#Classification Report for the rest of the metrics\n",
        "print(\"\\nClassification Report:\\n\")\n",
        "print(classification_report(Y_test,RBF_Kernel_Predictions))\n",
        "\n",
        "#ROC Plot\n",
        "print(\"\\nROC Plot\")\n",
        "plot_roc_curve(RBF_Kernel, X_test, Y_test) \n",
        "plt.show()"
      ],
      "execution_count": null,
      "outputs": [
        {
          "output_type": "stream",
          "text": [
            "RBF Kernel accuracy is  0.855793991416309\n",
            "\n",
            "Confusion matrix:\n",
            "\n",
            "[[468  42]\n",
            " [126 529]]\n",
            "\n",
            "Classification Report:\n",
            "\n",
            "              precision    recall  f1-score   support\n",
            "\n",
            "           B       0.79      0.92      0.85       510\n",
            "           M       0.93      0.81      0.86       655\n",
            "\n",
            "    accuracy                           0.86      1165\n",
            "   macro avg       0.86      0.86      0.86      1165\n",
            "weighted avg       0.87      0.86      0.86      1165\n",
            "\n",
            "\n",
            "ROC Plot\n"
          ],
          "name": "stdout"
        },
        {
          "output_type": "display_data",
          "data": {
            "image/png": "[encoded data removed]",
            "text/plain": [
              "<Figure size 432x288 with 1 Axes>"
            ]
          },
          "metadata": {
            "tags": []
          }
        }
      ]
    },
    {
      "cell_type": "markdown",
      "metadata": {
        "id": "zqnUsf03C1Oq"
      },
      "source": [
        "# Task 2 - Bigram Model"
      ]
    },
    {
      "cell_type": "markdown",
      "metadata": {
        "id": "kFLArMUhFDbQ"
      },
      "source": [
        "In this task, we now analyse two sequence of sys-calls. This task in therefore similar to the first task, the only difference being that we now use bigram models.\n",
        "\n",
        "**For each `vectorizer`, we add a constraint - `ngram_range=(2,2)`.**"
      ]
    },
    {
      "cell_type": "markdown",
      "metadata": {
        "id": "shDZ0jA0C1Ot"
      },
      "source": [
        "## Bag of Words"
      ]
    },
    {
      "cell_type": "markdown",
      "metadata": {
        "id": "OpkteB2Rb-ED"
      },
      "source": [
        "This data model counts the occurence of a particular feature in the dataset."
      ]
    },
    {
      "cell_type": "markdown",
      "metadata": {
        "id": "60K7fuxsC1Ou"
      },
      "source": [
        "### Prepare the Data"
      ]
    },
    {
      "cell_type": "code",
      "metadata": {
        "id": "yIOWI2DqC1Ou",
        "outputId": "82bfa63c-4ee1-4fa9-b89c-c4b7e4dd45cd",
        "colab": {
          "base_uri": "https://localhost:8080/"
        }
      },
      "source": [
        "from sklearn.feature_extraction.text import CountVectorizer\n",
        "text = final_data['Calls']\n",
        "print(text)"
      ],
      "execution_count": null,
      "outputs": [
        {
          "output_type": "stream",
          "text": [
            "0       ioctl pread rt_sigprocmask rt_sigprocmask rt_s...\n",
            "1       dup fcntl close epoll_ctl ioctl ioctl getuid e...\n",
            "2       futex ioctl epoll_pwait read recvfrom writev s...\n",
            "3       read writev write read read write read read re...\n",
            "4       read read ioctl ioctl writev futex ioctl ioctl...\n",
            "                              ...                        \n",
            "5817    newfstatat ioctl ioctl getuid newfstatat newfs...\n",
            "5818    recvfrom recvfrom writev sendto getuid epoll_p...\n",
            "5819    dup fcntl close epoll_ctl ioctl ioctl getuid e...\n",
            "5820    ioctl ioctl faccessat mprotect mprotect mprote...\n",
            "5821    getuid epoll_pwait getuid epoll_pwait read new...\n",
            "Name: Calls, Length: 5822, dtype: object\n"
          ],
          "name": "stdout"
        }
      ]
    },
    {
      "cell_type": "code",
      "metadata": {
        "id": "hx17nyJaC1Oz",
        "outputId": "bb0a9f31-daff-4f84-f437-5dc0d7bbf132",
        "colab": {
          "base_uri": "https://localhost:8080/"
        }
      },
      "source": [
        "vectorizer = CountVectorizer(ngram_range=(2,2))\n",
        "transformed_text = vectorizer.fit_transform(text)\n",
        "vectorizer.get_feature_names()[:5]      #First five features"
      ],
      "execution_count": null,
      "outputs": [
        {
          "output_type": "execute_result",
          "data": {
            "text/plain": [
              "['_llseek _llseek',\n",
              " '_llseek clock_gettime',\n",
              " '_llseek close',\n",
              " '_llseek faccessat',\n",
              " '_llseek fcntl64']"
            ]
          },
          "metadata": {
            "tags": []
          },
          "execution_count": 197
        }
      ]
    },
    {
      "cell_type": "code",
      "metadata": {
        "id": "CzmzTBtpC1O2",
        "outputId": "933a87c9-0ee8-4f45-d614-07a56b1a19e4",
        "colab": {
          "base_uri": "https://localhost:8080/"
        }
      },
      "source": [
        "from sklearn import preprocessing\n",
        "X = transformed_text.toarray()\n",
        "X = preprocessing.normalize(X)\n",
        "X"
      ],
      "execution_count": null,
      "outputs": [
        {
          "output_type": "execute_result",
          "data": {
            "text/plain": [
              "array([[0.        , 0.        , 0.        , ..., 0.        , 0.00826803,\n",
              "        0.0950823 ],\n",
              "       [0.        , 0.        , 0.        , ..., 0.        , 0.00446945,\n",
              "        0.14469859],\n",
              "       [0.        , 0.        , 0.        , ..., 0.        , 0.01349764,\n",
              "        0.05736499],\n",
              "       ...,\n",
              "       [0.        , 0.        , 0.        , ..., 0.        , 0.01105867,\n",
              "        0.14376274],\n",
              "       [0.        , 0.        , 0.        , ..., 0.        , 0.00649589,\n",
              "        0.04929233],\n",
              "       [0.        , 0.        , 0.        , ..., 0.        , 0.        ,\n",
              "        0.        ]])"
            ]
          },
          "metadata": {
            "tags": []
          },
          "execution_count": 198
        }
      ]
    },
    {
      "cell_type": "code",
      "metadata": {
        "id": "ZyE-zJa1C1O4"
      },
      "source": [
        "from sklearn import model_selection, svm        #Split the data\n",
        "X_train, X_test, Y_train, Y_test = model_selection.train_test_split( X, final_data['Label'], test_size=0.2 , random_state=45 )"
      ],
      "execution_count": null,
      "outputs": []
    },
    {
      "cell_type": "markdown",
      "metadata": {
        "id": "Ye_0wY97C1O7"
      },
      "source": [
        "### Linear SVM Kernel"
      ]
    },
    {
      "cell_type": "code",
      "metadata": {
        "id": "38vh9X0mC1O7",
        "outputId": "87780556-0fa2-4e70-9f24-f304dd8b30ea",
        "colab": {
          "base_uri": "https://localhost:8080/",
          "height": 615
        }
      },
      "source": [
        "from sklearn.metrics import classification_report, confusion_matrix, accuracy_score, plot_roc_curve\n",
        "\n",
        "#train model\n",
        "Linear_Kernel = svm.SVC(C=1.5, kernel='linear', gamma='auto')\n",
        "Linear_Kernel.fit(X_train,Y_train)\n",
        "\n",
        "#predictions\n",
        "Linear_Kernel_Predictions = Linear_Kernel.predict(X_test)\n",
        "\n",
        "#accuracy score\n",
        "print(\"Linear Kernel accuracy is \", accuracy_score(Linear_Kernel_Predictions, Y_test))\n",
        "\n",
        "#Confusion Matrix\n",
        "print(\"\\nConfusion matrix:\\n\")\n",
        "print(confusion_matrix(Y_test,Linear_Kernel_Predictions))\n",
        "\n",
        "#Classification Report for the rest of the metrics\n",
        "print(\"\\nClassification Report:\\n\")\n",
        "print(classification_report(Y_test,Linear_Kernel_Predictions))\n",
        "\n",
        "#ROC Plot\n",
        "print(\"\\nROC Plot\")\n",
        "plot_roc_curve(Linear_Kernel, X_test, Y_test) \n",
        "plt.show()"
      ],
      "execution_count": null,
      "outputs": [
        {
          "output_type": "stream",
          "text": [
            "Linear Kernel accuracy is  0.9493562231759657\n",
            "\n",
            "Confusion matrix:\n",
            "\n",
            "[[494  16]\n",
            " [ 43 612]]\n",
            "\n",
            "Classification Report:\n",
            "\n",
            "              precision    recall  f1-score   support\n",
            "\n",
            "           B       0.92      0.97      0.94       510\n",
            "           M       0.97      0.93      0.95       655\n",
            "\n",
            "    accuracy                           0.95      1165\n",
            "   macro avg       0.95      0.95      0.95      1165\n",
            "weighted avg       0.95      0.95      0.95      1165\n",
            "\n",
            "\n",
            "ROC Plot\n"
          ],
          "name": "stdout"
        },
        {
          "output_type": "display_data",
          "data": {
            "image/png": "[encoded data removed]",
            "text/plain": [
              "<Figure size 432x288 with 1 Axes>"
            ]
          },
          "metadata": {
            "tags": []
          }
        }
      ]
    },
    {
      "cell_type": "markdown",
      "metadata": {
        "id": "g7wnlB6-C1O-"
      },
      "source": [
        "### Polynomial SVM Kernel"
      ]
    },
    {
      "cell_type": "code",
      "metadata": {
        "id": "dn7WiecdC1O_",
        "outputId": "ea65b37e-1322-4638-de46-0c15a98ba9ee",
        "colab": {
          "base_uri": "https://localhost:8080/",
          "height": 615
        }
      },
      "source": [
        "from sklearn.metrics import classification_report, confusion_matrix, accuracy_score, plot_roc_curve\n",
        "\n",
        "#train model\n",
        "Polynomial_Kernel = svm.SVC(C=1.5, kernel='poly', degree=4)\n",
        "Polynomial_Kernel.fit(X_train,Y_train)\n",
        "\n",
        "#predictions\n",
        "Polynomial_Kernel_Predictions = Polynomial_Kernel.predict(X_test)\n",
        "\n",
        "#accuracy score\n",
        "print(\"Polynomial Kernel accuracy is \", accuracy_score(Polynomial_Kernel_Predictions, Y_test))\n",
        "\n",
        "#Confusion Matrix\n",
        "print(\"\\nConfusion matrix:\\n\")\n",
        "print(confusion_matrix(Y_test,Polynomial_Kernel_Predictions))\n",
        "\n",
        "#Classification Report for the rest of the metrics\n",
        "print(\"\\nClassification Report:\\n\")\n",
        "print(classification_report(Y_test,Polynomial_Kernel_Predictions))\n",
        "\n",
        "#ROC Plot\n",
        "print(\"\\nROC Plot\")\n",
        "plot_roc_curve(Polynomial_Kernel, X_test, Y_test) \n",
        "plt.show()"
      ],
      "execution_count": null,
      "outputs": [
        {
          "output_type": "stream",
          "text": [
            "Polynomial Kernel accuracy is  0.9648068669527897\n",
            "\n",
            "Confusion matrix:\n",
            "\n",
            "[[491  19]\n",
            " [ 22 633]]\n",
            "\n",
            "Classification Report:\n",
            "\n",
            "              precision    recall  f1-score   support\n",
            "\n",
            "           B       0.96      0.96      0.96       510\n",
            "           M       0.97      0.97      0.97       655\n",
            "\n",
            "    accuracy                           0.96      1165\n",
            "   macro avg       0.96      0.96      0.96      1165\n",
            "weighted avg       0.96      0.96      0.96      1165\n",
            "\n",
            "\n",
            "ROC Plot\n"
          ],
          "name": "stdout"
        },
        {
          "output_type": "display_data",
          "data": {
            "image/png": "[encoded data removed]",
            "text/plain": [
              "<Figure size 432x288 with 1 Axes>"
            ]
          },
          "metadata": {
            "tags": []
          }
        }
      ]
    },
    {
      "cell_type": "markdown",
      "metadata": {
        "id": "sf4rE1MmC1PC"
      },
      "source": [
        "### RBF SVM Kernel"
      ]
    },
    {
      "cell_type": "code",
      "metadata": {
        "id": "ZI56AXjWC1PD",
        "outputId": "7186df96-455a-4ffa-f27b-4668e42f4be4",
        "colab": {
          "base_uri": "https://localhost:8080/",
          "height": 615
        }
      },
      "source": [
        "from sklearn.metrics import classification_report, confusion_matrix, accuracy_score, plot_roc_curve\n",
        "\n",
        "#train model\n",
        "RBF_Kernel = svm.SVC(C=5, kernel='rbf', gamma='auto')\n",
        "RBF_Kernel.fit(X_train,Y_train)\n",
        "\n",
        "#predictions\n",
        "RBF_Kernel_Predictions = RBF_Kernel.predict(X_test)\n",
        "\n",
        "#accuracy score\n",
        "print(\"RBF Kernel accuracy is \", accuracy_score(RBF_Kernel_Predictions, Y_test))\n",
        "\n",
        "#Confusion Matrix\n",
        "print(\"\\nConfusion matrix:\\n\")\n",
        "print(confusion_matrix(Y_test,RBF_Kernel_Predictions))\n",
        "\n",
        "#Classification Report for the rest of the metrics\n",
        "print(\"\\nClassification Report:\\n\")\n",
        "print(classification_report(Y_test,RBF_Kernel_Predictions))\n",
        "\n",
        "#ROC Plot\n",
        "print(\"\\nROC Plot\")\n",
        "plot_roc_curve(RBF_Kernel, X_test, Y_test) \n",
        "plt.show()"
      ],
      "execution_count": null,
      "outputs": [
        {
          "output_type": "stream",
          "text": [
            "RBF Kernel accuracy is  0.8566523605150215\n",
            "\n",
            "Confusion matrix:\n",
            "\n",
            "[[460  50]\n",
            " [117 538]]\n",
            "\n",
            "Classification Report:\n",
            "\n",
            "              precision    recall  f1-score   support\n",
            "\n",
            "           B       0.80      0.90      0.85       510\n",
            "           M       0.91      0.82      0.87       655\n",
            "\n",
            "    accuracy                           0.86      1165\n",
            "   macro avg       0.86      0.86      0.86      1165\n",
            "weighted avg       0.86      0.86      0.86      1165\n",
            "\n",
            "\n",
            "ROC Plot\n"
          ],
          "name": "stdout"
        },
        {
          "output_type": "display_data",
          "data": {
            "image/png": "[encoded data removed]",
            "text/plain": [
              "<Figure size 432x288 with 1 Axes>"
            ]
          },
          "metadata": {
            "tags": []
          }
        }
      ]
    },
    {
      "cell_type": "markdown",
      "metadata": {
        "id": "Z9nyLMZ4C1PH"
      },
      "source": [
        "## Boolean Occurrence"
      ]
    },
    {
      "cell_type": "markdown",
      "metadata": {
        "id": "10SQdxi_C1PH"
      },
      "source": [
        "### Prepare the Data"
      ]
    },
    {
      "cell_type": "code",
      "metadata": {
        "id": "IX83PsaLC1PI",
        "outputId": "fec4c874-eb99-4559-e68a-9f41e8b9a4f4",
        "colab": {
          "base_uri": "https://localhost:8080/"
        }
      },
      "source": [
        "X = np.where(transformed_text.toarray() >= 1,1,0)       #Same as Bag of words, but Boolean. So all values >=1 are replaced with 1.\n",
        "X"
      ],
      "execution_count": null,
      "outputs": [
        {
          "output_type": "execute_result",
          "data": {
            "text/plain": [
              "array([[0, 0, 0, ..., 0, 1, 1],\n",
              "       [0, 0, 0, ..., 0, 1, 1],\n",
              "       [0, 0, 0, ..., 0, 1, 1],\n",
              "       ...,\n",
              "       [0, 0, 0, ..., 0, 1, 1],\n",
              "       [0, 0, 0, ..., 0, 1, 1],\n",
              "       [0, 0, 0, ..., 0, 0, 0]])"
            ]
          },
          "metadata": {
            "tags": []
          },
          "execution_count": 148
        }
      ]
    },
    {
      "cell_type": "code",
      "metadata": {
        "id": "YsaDfU64C1PL"
      },
      "source": [
        "from sklearn import model_selection, svm        #Split the data\n",
        "X_train, X_test, Y_train, Y_test = model_selection.train_test_split( X, final_data['Label'], test_size=0.2 , random_state=45 )"
      ],
      "execution_count": null,
      "outputs": []
    },
    {
      "cell_type": "markdown",
      "metadata": {
        "id": "zbZNV47hC1PN"
      },
      "source": [
        "### Linear SVM Kernel"
      ]
    },
    {
      "cell_type": "code",
      "metadata": {
        "id": "GqwtQs7ZC1PO",
        "outputId": "94a3dea7-0cc4-491e-c2af-3ddccbb42174",
        "colab": {
          "base_uri": "https://localhost:8080/",
          "height": 615
        }
      },
      "source": [
        "from sklearn.metrics import classification_report, confusion_matrix, accuracy_score, plot_roc_curve\n",
        "\n",
        "#train model\n",
        "Linear_Kernel = svm.SVC(C=1.5, kernel='linear', gamma='auto')\n",
        "Linear_Kernel.fit(X_train,Y_train)\n",
        "\n",
        "#predictions\n",
        "Linear_Kernel_Predictions = Linear_Kernel.predict(X_test)\n",
        "\n",
        "#accuracy score\n",
        "print(\"Linear Kernel accuracy is \", accuracy_score(Linear_Kernel_Predictions, Y_test))\n",
        "\n",
        "#Confusion Matrix\n",
        "print(\"\\nConfusion matrix:\\n\")\n",
        "print(confusion_matrix(Y_test,Linear_Kernel_Predictions))\n",
        "\n",
        "#Classification Report for the rest of the metrics\n",
        "print(\"\\nClassification Report:\\n\")\n",
        "print(classification_report(Y_test,Linear_Kernel_Predictions))\n",
        "\n",
        "#ROC Plot\n",
        "print(\"\\nROC Plot\")\n",
        "plot_roc_curve(Linear_Kernel, X_test, Y_test) \n",
        "plt.show()"
      ],
      "execution_count": null,
      "outputs": [
        {
          "output_type": "stream",
          "text": [
            "Linear Kernel accuracy is  0.9682403433476395\n",
            "\n",
            "Confusion matrix:\n",
            "\n",
            "[[499  11]\n",
            " [ 26 629]]\n",
            "\n",
            "Classification Report:\n",
            "\n",
            "              precision    recall  f1-score   support\n",
            "\n",
            "           B       0.95      0.98      0.96       510\n",
            "           M       0.98      0.96      0.97       655\n",
            "\n",
            "    accuracy                           0.97      1165\n",
            "   macro avg       0.97      0.97      0.97      1165\n",
            "weighted avg       0.97      0.97      0.97      1165\n",
            "\n",
            "\n",
            "ROC Plot\n"
          ],
          "name": "stdout"
        },
        {
          "output_type": "display_data",
          "data": {
            "image/png": "[encoded data removed]",
            "text/plain": [
              "<Figure size 432x288 with 1 Axes>"
            ]
          },
          "metadata": {
            "tags": []
          }
        }
      ]
    },
    {
      "cell_type": "markdown",
      "metadata": {
        "id": "NGTQpaw6C1PQ"
      },
      "source": [
        "### Polynomial SVM Kernel"
      ]
    },
    {
      "cell_type": "code",
      "metadata": {
        "id": "YfEDOF0RC1PQ",
        "outputId": "84faa010-e3cf-4540-f285-d9f89b59633a",
        "colab": {
          "base_uri": "https://localhost:8080/",
          "height": 615
        }
      },
      "source": [
        "from sklearn.metrics import classification_report, confusion_matrix, accuracy_score, plot_roc_curve\n",
        "\n",
        "#train model\n",
        "Polynomial_Kernel = svm.SVC(C=1.5, kernel='poly', degree=4)\n",
        "Polynomial_Kernel.fit(X_train,Y_train)\n",
        "\n",
        "#predictions\n",
        "Polynomial_Kernel_Predictions = Polynomial_Kernel.predict(X_test)\n",
        "\n",
        "#accuracy score\n",
        "print(\"Polynomial Kernel accuracy is \", accuracy_score(Polynomial_Kernel_Predictions, Y_test))\n",
        "\n",
        "#Confusion Matrix\n",
        "print(\"\\nConfusion matrix:\\n\")\n",
        "print(confusion_matrix(Y_test,Polynomial_Kernel_Predictions))\n",
        "\n",
        "#Classification Report for the rest of the metrics\n",
        "print(\"\\nClassification Report:\\n\")\n",
        "print(classification_report(Y_test,Polynomial_Kernel_Predictions))\n",
        "\n",
        "#ROC Plot\n",
        "print(\"\\nROC Plot\")\n",
        "plot_roc_curve(Polynomial_Kernel, X_test, Y_test) \n",
        "plt.show()"
      ],
      "execution_count": null,
      "outputs": [
        {
          "output_type": "stream",
          "text": [
            "Polynomial Kernel accuracy is  0.9682403433476395\n",
            "\n",
            "Confusion matrix:\n",
            "\n",
            "[[480  30]\n",
            " [  7 648]]\n",
            "\n",
            "Classification Report:\n",
            "\n",
            "              precision    recall  f1-score   support\n",
            "\n",
            "           B       0.99      0.94      0.96       510\n",
            "           M       0.96      0.99      0.97       655\n",
            "\n",
            "    accuracy                           0.97      1165\n",
            "   macro avg       0.97      0.97      0.97      1165\n",
            "weighted avg       0.97      0.97      0.97      1165\n",
            "\n",
            "\n",
            "ROC Plot\n"
          ],
          "name": "stdout"
        },
        {
          "output_type": "display_data",
          "data": {
            "image/png": "[encoded data removed]",
            "text/plain": [
              "<Figure size 432x288 with 1 Axes>"
            ]
          },
          "metadata": {
            "tags": []
          }
        }
      ]
    },
    {
      "cell_type": "markdown",
      "metadata": {
        "id": "3XhZovgcC1PT"
      },
      "source": [
        "### RBF SVM Kernel"
      ]
    },
    {
      "cell_type": "code",
      "metadata": {
        "id": "00dvFGqRC1PU",
        "outputId": "5fc8b08e-a745-4c1d-c04f-266f21b66d4a",
        "colab": {
          "base_uri": "https://localhost:8080/",
          "height": 615
        }
      },
      "source": [
        "from sklearn.metrics import classification_report, confusion_matrix, accuracy_score, plot_roc_curve\n",
        "\n",
        "#train model\n",
        "RBF_Kernel = svm.SVC(C=1.5, kernel='rbf', gamma='auto')\n",
        "RBF_Kernel.fit(X_train,Y_train)\n",
        "\n",
        "#predictions\n",
        "RBF_Kernel_Predictions = RBF_Kernel.predict(X_test)\n",
        "\n",
        "#accuracy score\n",
        "print(\"RBF Kernel accuracy is \", accuracy_score(RBF_Kernel_Predictions, Y_test))\n",
        "\n",
        "#Confusion Matrix\n",
        "print(\"\\nConfusion matrix:\\n\")\n",
        "print(confusion_matrix(Y_test,RBF_Kernel_Predictions))\n",
        "\n",
        "#Classification Report for the rest of the metrics\n",
        "print(\"\\nClassification Report:\\n\")\n",
        "print(classification_report(Y_test,RBF_Kernel_Predictions))\n",
        "\n",
        "#ROC Plot\n",
        "print(\"\\nROC Plot\")\n",
        "plot_roc_curve(RBF_Kernel, X_test, Y_test) \n",
        "plt.show()"
      ],
      "execution_count": null,
      "outputs": [
        {
          "output_type": "stream",
          "text": [
            "RBF Kernel accuracy is  0.975107296137339\n",
            "\n",
            "Confusion matrix:\n",
            "\n",
            "[[489  21]\n",
            " [  8 647]]\n",
            "\n",
            "Classification Report:\n",
            "\n",
            "              precision    recall  f1-score   support\n",
            "\n",
            "           B       0.98      0.96      0.97       510\n",
            "           M       0.97      0.99      0.98       655\n",
            "\n",
            "    accuracy                           0.98      1165\n",
            "   macro avg       0.98      0.97      0.97      1165\n",
            "weighted avg       0.98      0.98      0.98      1165\n",
            "\n",
            "\n",
            "ROC Plot\n"
          ],
          "name": "stdout"
        },
        {
          "output_type": "display_data",
          "data": {
            "image/png": "[encoded data removed]",
            "text/plain": [
              "<Figure size 432x288 with 1 Axes>"
            ]
          },
          "metadata": {
            "tags": []
          }
        }
      ]
    },
    {
      "cell_type": "markdown",
      "metadata": {
        "id": "wDe14BwEC1PW"
      },
      "source": [
        "## TF-IDF "
      ]
    },
    {
      "cell_type": "markdown",
      "metadata": {
        "id": "UIn-kJXZC1PW"
      },
      "source": [
        "### Prepare the Data"
      ]
    },
    {
      "cell_type": "code",
      "metadata": {
        "id": "nv97EQAXC1PX"
      },
      "source": [
        "from sklearn.feature_extraction.text import TfidfVectorizer\n",
        "\n",
        "vectorizer = TfidfVectorizer(ngram_range=(2,2))\n",
        "X = vectorizer.fit_transform(text).toarray()\n",
        "\n",
        "# print(X)\n",
        "# print(vectorizer.vocabulary_)"
      ],
      "execution_count": null,
      "outputs": []
    },
    {
      "cell_type": "code",
      "metadata": {
        "id": "CdFZuzFxC1PZ"
      },
      "source": [
        "from sklearn import model_selection, svm        #Split the data\n",
        "\n",
        "X_train, X_test, Y_train, Y_test = model_selection.train_test_split( X, final_data['Label'], test_size=0.2 , random_state=45 )"
      ],
      "execution_count": null,
      "outputs": []
    },
    {
      "cell_type": "markdown",
      "metadata": {
        "id": "HhfG1x21C1Pc"
      },
      "source": [
        "### Linear SVM Kernel"
      ]
    },
    {
      "cell_type": "code",
      "metadata": {
        "id": "nk6XuBb6C1Pc",
        "outputId": "53d00f68-a48b-4868-bfe6-881ff798db3d",
        "colab": {
          "base_uri": "https://localhost:8080/",
          "height": 615
        }
      },
      "source": [
        "from sklearn.metrics import classification_report, confusion_matrix, accuracy_score, plot_roc_curve\n",
        "\n",
        "#train model\n",
        "Linear_Kernel = svm.SVC(C=1, kernel='linear', gamma='auto')\n",
        "Linear_Kernel.fit(X_train,Y_train)\n",
        "\n",
        "#predictions\n",
        "Linear_Kernel_Predictions = Linear_Kernel.predict(X_test)\n",
        "\n",
        "#accuracy score\n",
        "print(\"Linear Kernel accuracy is \", accuracy_score(Linear_Kernel_Predictions, Y_test))\n",
        "\n",
        "#Confusion Matrix\n",
        "print(\"\\nConfusion matrix:\\n\")\n",
        "print(confusion_matrix(Y_test,Linear_Kernel_Predictions))\n",
        "\n",
        "#Classification Report for the rest of the metrics\n",
        "print(\"\\nClassification Report:\\n\")\n",
        "print(classification_report(Y_test,Linear_Kernel_Predictions))\n",
        "\n",
        "#ROC Plot\n",
        "print(\"\\nROC Plot\")\n",
        "plot_roc_curve(Linear_Kernel, X_test, Y_test) \n",
        "plt.show()"
      ],
      "execution_count": null,
      "outputs": [
        {
          "output_type": "stream",
          "text": [
            "Linear Kernel accuracy is  0.9390557939914163\n",
            "\n",
            "Confusion matrix:\n",
            "\n",
            "[[490  20]\n",
            " [ 51 604]]\n",
            "\n",
            "Classification Report:\n",
            "\n",
            "              precision    recall  f1-score   support\n",
            "\n",
            "           B       0.91      0.96      0.93       510\n",
            "           M       0.97      0.92      0.94       655\n",
            "\n",
            "    accuracy                           0.94      1165\n",
            "   macro avg       0.94      0.94      0.94      1165\n",
            "weighted avg       0.94      0.94      0.94      1165\n",
            "\n",
            "\n",
            "ROC Plot\n"
          ],
          "name": "stdout"
        },
        {
          "output_type": "display_data",
          "data": {
            "image/png": "[encoded data removed]",
            "text/plain": [
              "<Figure size 432x288 with 1 Axes>"
            ]
          },
          "metadata": {
            "tags": []
          }
        }
      ]
    },
    {
      "cell_type": "markdown",
      "metadata": {
        "id": "ayqwCIjhC1Pe"
      },
      "source": [
        "### Polynomial SVM Kernel"
      ]
    },
    {
      "cell_type": "code",
      "metadata": {
        "id": "NgwMJ9PvC1Pf",
        "outputId": "aada206b-be8a-44d8-9f42-4ac9cca0cb75",
        "colab": {
          "base_uri": "https://localhost:8080/",
          "height": 615
        }
      },
      "source": [
        "from sklearn.metrics import classification_report, confusion_matrix, accuracy_score, plot_roc_curve\n",
        "\n",
        "#train model\n",
        "Polynomial_Kernel = svm.SVC(C=1, kernel='poly', degree=3)\n",
        "Polynomial_Kernel.fit(X_train,Y_train)\n",
        "\n",
        "#predictions\n",
        "Polynomial_Kernel_Predictions = Polynomial_Kernel.predict(X_test)\n",
        "\n",
        "#accuracy score\n",
        "print(\"Polynomial Kernel accuracy is \", accuracy_score(Polynomial_Kernel_Predictions, Y_test))\n",
        "\n",
        "#Confusion Matrix\n",
        "print(\"\\nConfusion matrix:\\n\")\n",
        "print(confusion_matrix(Y_test,Polynomial_Kernel_Predictions))\n",
        "\n",
        "#Classification Report for the rest of the metrics\n",
        "print(\"\\nClassification Report:\\n\")\n",
        "print(classification_report(Y_test,Polynomial_Kernel_Predictions))\n",
        "\n",
        "#ROC Plot\n",
        "print(\"\\nROC Plot\")\n",
        "plot_roc_curve(Polynomial_Kernel, X_test, Y_test) \n",
        "plt.show()"
      ],
      "execution_count": null,
      "outputs": [
        {
          "output_type": "stream",
          "text": [
            "Polynomial Kernel accuracy is  0.9553648068669528\n",
            "\n",
            "Confusion matrix:\n",
            "\n",
            "[[489  21]\n",
            " [ 31 624]]\n",
            "\n",
            "Classification Report:\n",
            "\n",
            "              precision    recall  f1-score   support\n",
            "\n",
            "           B       0.94      0.96      0.95       510\n",
            "           M       0.97      0.95      0.96       655\n",
            "\n",
            "    accuracy                           0.96      1165\n",
            "   macro avg       0.95      0.96      0.95      1165\n",
            "weighted avg       0.96      0.96      0.96      1165\n",
            "\n",
            "\n",
            "ROC Plot\n"
          ],
          "name": "stdout"
        },
        {
          "output_type": "display_data",
          "data": {
            "image/png": "[encoded data removed]",
            "text/plain": [
              "<Figure size 432x288 with 1 Axes>"
            ]
          },
          "metadata": {
            "tags": []
          }
        }
      ]
    },
    {
      "cell_type": "markdown",
      "metadata": {
        "id": "cicTywCsC1Ph"
      },
      "source": [
        "### RBF SVM Kernel"
      ]
    },
    {
      "cell_type": "code",
      "metadata": {
        "id": "Flp1hz1UC1Pj",
        "outputId": "07605f0a-800d-4e55-ab53-0b0589199d72",
        "colab": {
          "base_uri": "https://localhost:8080/",
          "height": 615
        }
      },
      "source": [
        "from sklearn.metrics import classification_report, confusion_matrix, accuracy_score, plot_roc_curve\n",
        "\n",
        "#train model\n",
        "RBF_Kernel = svm.SVC(C=5, kernel='rbf', gamma='auto')\n",
        "RBF_Kernel.fit(X_train,Y_train)\n",
        "\n",
        "#predictions\n",
        "RBF_Kernel_Predictions = RBF_Kernel.predict(X_test)\n",
        "\n",
        "#accuracy score\n",
        "print(\"RBF Kernel accuracy is \", accuracy_score(RBF_Kernel_Predictions, Y_test))\n",
        "\n",
        "#Confusion Matrix\n",
        "print(\"\\nConfusion matrix:\\n\")\n",
        "print(confusion_matrix(Y_test,RBF_Kernel_Predictions))\n",
        "\n",
        "#Classification Report for the rest of the metrics\n",
        "print(\"\\nClassification Report:\\n\")\n",
        "print(classification_report(Y_test,RBF_Kernel_Predictions))\n",
        "\n",
        "#ROC Plot\n",
        "print(\"\\nROC Plot\")\n",
        "plot_roc_curve(RBF_Kernel, X_test, Y_test) \n",
        "plt.show()"
      ],
      "execution_count": null,
      "outputs": [
        {
          "output_type": "stream",
          "text": [
            "RBF Kernel accuracy is  0.8600858369098713\n",
            "\n",
            "Confusion matrix:\n",
            "\n",
            "[[468  42]\n",
            " [121 534]]\n",
            "\n",
            "Classification Report:\n",
            "\n",
            "              precision    recall  f1-score   support\n",
            "\n",
            "           B       0.79      0.92      0.85       510\n",
            "           M       0.93      0.82      0.87       655\n",
            "\n",
            "    accuracy                           0.86      1165\n",
            "   macro avg       0.86      0.87      0.86      1165\n",
            "weighted avg       0.87      0.86      0.86      1165\n",
            "\n",
            "\n",
            "ROC Plot\n"
          ],
          "name": "stdout"
        },
        {
          "output_type": "display_data",
          "data": {
            "image/png": "[encoded data removed]",
            "text/plain": [
              "<Figure size 432x288 with 1 Axes>"
            ]
          },
          "metadata": {
            "tags": []
          }
        }
      ]
    },
    {
      "cell_type": "markdown",
      "metadata": {
        "id": "dJK98H1UGT9Z"
      },
      "source": [
        "# Task 2 - Tigram Model"
      ]
    },
    {
      "cell_type": "markdown",
      "metadata": {
        "id": "PnPBCgpHGC2q"
      },
      "source": [
        "We now analyse three sequence of sys-calls.  \n",
        "**We change `ngram_range` to `(3,3)` and repeat the steps in the earlier tasks.**"
      ]
    },
    {
      "cell_type": "markdown",
      "metadata": {
        "id": "DjJJTyr7GT9c"
      },
      "source": [
        "## Bag of Words (No. of Occurrences of Calls)"
      ]
    },
    {
      "cell_type": "markdown",
      "metadata": {
        "id": "lncMaQhGGT9d"
      },
      "source": [
        "### Prepare the Data"
      ]
    },
    {
      "cell_type": "code",
      "metadata": {
        "id": "uDNGy00MGT9e",
        "outputId": "39991f58-aba5-4967-972a-241121671f84",
        "colab": {
          "base_uri": "https://localhost:8080/"
        }
      },
      "source": [
        "from sklearn.feature_extraction.text import CountVectorizer\n",
        "text = final_data['Calls']\n",
        "print(text)"
      ],
      "execution_count": null,
      "outputs": [
        {
          "output_type": "stream",
          "text": [
            "0       ioctl pread rt_sigprocmask rt_sigprocmask rt_s...\n",
            "1       dup fcntl close epoll_ctl ioctl ioctl getuid e...\n",
            "2       futex ioctl epoll_pwait read recvfrom writev s...\n",
            "3       read writev write read read write read read re...\n",
            "4       read read ioctl ioctl writev futex ioctl ioctl...\n",
            "                              ...                        \n",
            "5817    newfstatat ioctl ioctl getuid newfstatat newfs...\n",
            "5818    recvfrom recvfrom writev sendto getuid epoll_p...\n",
            "5819    dup fcntl close epoll_ctl ioctl ioctl getuid e...\n",
            "5820    ioctl ioctl faccessat mprotect mprotect mprote...\n",
            "5821    getuid epoll_pwait getuid epoll_pwait read new...\n",
            "Name: Calls, Length: 5822, dtype: object\n"
          ],
          "name": "stdout"
        }
      ]
    },
    {
      "cell_type": "code",
      "metadata": {
        "id": "3SIN9ISyGT9j",
        "outputId": "09cfb507-44c3-4430-ed43-e5946d2902a3",
        "colab": {
          "base_uri": "https://localhost:8080/"
        }
      },
      "source": [
        "vectorizer = CountVectorizer(ngram_range=(3,3))\n",
        "transformed_text = vectorizer.fit_transform(text)\n",
        "vectorizer.get_feature_names()[:5]      #First five features"
      ],
      "execution_count": null,
      "outputs": [
        {
          "output_type": "execute_result",
          "data": {
            "text/plain": [
              "['_llseek _llseek _llseek',\n",
              " '_llseek _llseek clock_gettime',\n",
              " '_llseek _llseek close',\n",
              " '_llseek _llseek fcntl64',\n",
              " '_llseek _llseek futex']"
            ]
          },
          "metadata": {
            "tags": []
          },
          "execution_count": 10
        }
      ]
    },
    {
      "cell_type": "code",
      "metadata": {
        "id": "mbOeEVhjGT9n",
        "outputId": "1685bb71-a715-42d1-a467-e9da6ce0d0e8",
        "colab": {
          "base_uri": "https://localhost:8080/"
        }
      },
      "source": [
        "from sklearn import preprocessing\n",
        "X = transformed_text.toarray()\n",
        "X = preprocessing.normalize(X)\n",
        "X"
      ],
      "execution_count": null,
      "outputs": [
        {
          "output_type": "execute_result",
          "data": {
            "text/plain": [
              "array([[0.        , 0.        , 0.        , ..., 0.        , 0.00053259,\n",
              "        0.0958666 ],\n",
              "       [0.        , 0.        , 0.        , ..., 0.        , 0.        ,\n",
              "        0.15532401],\n",
              "       [0.        , 0.        , 0.        , ..., 0.        , 0.        ,\n",
              "        0.05505922],\n",
              "       ...,\n",
              "       [0.        , 0.        , 0.        , ..., 0.        , 0.        ,\n",
              "        0.15491933],\n",
              "       [0.        , 0.        , 0.        , ..., 0.        , 0.        ,\n",
              "        0.05260622],\n",
              "       [0.        , 0.        , 0.        , ..., 0.        , 0.        ,\n",
              "        0.        ]])"
            ]
          },
          "metadata": {
            "tags": []
          },
          "execution_count": 11
        }
      ]
    },
    {
      "cell_type": "code",
      "metadata": {
        "id": "tnXZJzeHGT9q"
      },
      "source": [
        "from sklearn import model_selection, svm        #Split the data\n",
        "X_train, X_test, Y_train, Y_test = model_selection.train_test_split( X, final_data['Label'], test_size=0.2 , random_state=45 )"
      ],
      "execution_count": null,
      "outputs": []
    },
    {
      "cell_type": "markdown",
      "metadata": {
        "id": "Xj1mf8YwGT9s"
      },
      "source": [
        "### Linear SVM Kernel"
      ]
    },
    {
      "cell_type": "code",
      "metadata": {
        "id": "59_aZD9XGT9t",
        "outputId": "31ff2cae-6515-4e62-a7b4-fdb09aecfb2d",
        "colab": {
          "base_uri": "https://localhost:8080/",
          "height": 615
        }
      },
      "source": [
        "from sklearn.metrics import classification_report, confusion_matrix, accuracy_score, plot_roc_curve\n",
        "\n",
        "#train model\n",
        "Linear_Kernel = svm.SVC(C=1.5, kernel='linear', gamma='auto')\n",
        "Linear_Kernel.fit(X_train,Y_train)\n",
        "\n",
        "#predictions\n",
        "Linear_Kernel_Predictions = Linear_Kernel.predict(X_test)\n",
        "\n",
        "#accuracy score\n",
        "print(\"Linear Kernel accuracy is \", accuracy_score(Linear_Kernel_Predictions, Y_test))\n",
        "\n",
        "#Confusion Matrix\n",
        "print(\"\\nConfusion matrix:\\n\")\n",
        "print(confusion_matrix(Y_test,Linear_Kernel_Predictions))\n",
        "\n",
        "#Classification Report for the rest of the metrics\n",
        "print(\"\\nClassification Report:\\n\")\n",
        "print(classification_report(Y_test,Linear_Kernel_Predictions))\n",
        "\n",
        "#ROC Plot\n",
        "print(\"\\nROC Plot\")\n",
        "plot_roc_curve(Linear_Kernel, X_test, Y_test) \n",
        "plt.show()"
      ],
      "execution_count": null,
      "outputs": [
        {
          "output_type": "stream",
          "text": [
            "Linear Kernel accuracy is  0.9570815450643777\n",
            "\n",
            "Confusion matrix:\n",
            "\n",
            "[[492  18]\n",
            " [ 32 623]]\n",
            "\n",
            "Classification Report:\n",
            "\n",
            "              precision    recall  f1-score   support\n",
            "\n",
            "           B       0.94      0.96      0.95       510\n",
            "           M       0.97      0.95      0.96       655\n",
            "\n",
            "    accuracy                           0.96      1165\n",
            "   macro avg       0.96      0.96      0.96      1165\n",
            "weighted avg       0.96      0.96      0.96      1165\n",
            "\n",
            "\n",
            "ROC Plot\n"
          ],
          "name": "stdout"
        },
        {
          "output_type": "display_data",
          "data": {
            "image/png": "[encoded data removed]",
            "text/plain": [
              "<Figure size 432x288 with 1 Axes>"
            ]
          },
          "metadata": {
            "tags": []
          }
        }
      ]
    },
    {
      "cell_type": "markdown",
      "metadata": {
        "id": "XWF67RylGT9x"
      },
      "source": [
        "### Polynomial SVM Kernel"
      ]
    },
    {
      "cell_type": "code",
      "metadata": {
        "id": "7yjcW1TTGT9x",
        "outputId": "74dd62b3-5afb-4a54-9c71-63aa6f4ac6f3",
        "colab": {
          "base_uri": "https://localhost:8080/",
          "height": 615
        }
      },
      "source": [
        "from sklearn.metrics import classification_report, confusion_matrix, accuracy_score, plot_roc_curve\n",
        "\n",
        "#train model\n",
        "Polynomial_Kernel = svm.SVC(C=1.5, kernel='poly', degree=4)\n",
        "Polynomial_Kernel.fit(X_train,Y_train)\n",
        "\n",
        "#predictions\n",
        "Polynomial_Kernel_Predictions = Polynomial_Kernel.predict(X_test)\n",
        "\n",
        "#accuracy score\n",
        "print(\"Polynomial Kernel accuracy is \", accuracy_score(Polynomial_Kernel_Predictions, Y_test))\n",
        "\n",
        "#Confusion Matrix\n",
        "print(\"\\nConfusion matrix:\\n\")\n",
        "print(confusion_matrix(Y_test,Polynomial_Kernel_Predictions))\n",
        "\n",
        "#Classification Report for the rest of the metrics\n",
        "print(\"\\nClassification Report:\\n\")\n",
        "print(classification_report(Y_test,Polynomial_Kernel_Predictions))\n",
        "\n",
        "#ROC Plot\n",
        "print(\"\\nROC Plot\")\n",
        "plot_roc_curve(Polynomial_Kernel, X_test, Y_test) \n",
        "plt.show()"
      ],
      "execution_count": null,
      "outputs": [
        {
          "output_type": "stream",
          "text": [
            "Polynomial Kernel accuracy is  0.9605150214592275\n",
            "\n",
            "Confusion matrix:\n",
            "\n",
            "[[489  21]\n",
            " [ 25 630]]\n",
            "\n",
            "Classification Report:\n",
            "\n",
            "              precision    recall  f1-score   support\n",
            "\n",
            "           B       0.95      0.96      0.96       510\n",
            "           M       0.97      0.96      0.96       655\n",
            "\n",
            "    accuracy                           0.96      1165\n",
            "   macro avg       0.96      0.96      0.96      1165\n",
            "weighted avg       0.96      0.96      0.96      1165\n",
            "\n",
            "\n",
            "ROC Plot\n"
          ],
          "name": "stdout"
        },
        {
          "output_type": "display_data",
          "data": {
            "image/png": "[encoded data removed]",
            "text/plain": [
              "<Figure size 432x288 with 1 Axes>"
            ]
          },
          "metadata": {
            "tags": []
          }
        }
      ]
    },
    {
      "cell_type": "markdown",
      "metadata": {
        "id": "GSclmXtiGT91"
      },
      "source": [
        "### RBF SVM Kernel"
      ]
    },
    {
      "cell_type": "code",
      "metadata": {
        "id": "co_fOSuyGT91",
        "outputId": "ff929249-a456-4992-a24b-8049fb7c9b68",
        "colab": {
          "base_uri": "https://localhost:8080/",
          "height": 669
        }
      },
      "source": [
        "from sklearn.metrics import classification_report, confusion_matrix, accuracy_score, plot_roc_curve\n",
        "\n",
        "#train model\n",
        "RBF_Kernel = svm.SVC(C=1, kernel='rbf', gamma='auto')\n",
        "RBF_Kernel.fit(X_train,Y_train)\n",
        "\n",
        "#predictions\n",
        "RBF_Kernel_Predictions = RBF_Kernel.predict(X_test)\n",
        "\n",
        "#accuracy score\n",
        "print(\"RBF Kernel accuracy is \", accuracy_score(RBF_Kernel_Predictions, Y_test))\n",
        "\n",
        "#Confusion Matrix\n",
        "print(\"\\nConfusion matrix:\\n\")\n",
        "print(confusion_matrix(Y_test,RBF_Kernel_Predictions))\n",
        "\n",
        "#Classification Report for the rest of the metrics\n",
        "print(\"\\nClassification Report:\\n\")\n",
        "print(classification_report(Y_test,RBF_Kernel_Predictions))\n",
        "\n",
        "#ROC Plot\n",
        "print(\"\\nROC Plot\")\n",
        "plot_roc_curve(RBF_Kernel, X_test, Y_test) \n",
        "plt.show()"
      ],
      "execution_count": null,
      "outputs": [
        {
          "output_type": "stream",
          "text": [
            "RBF Kernel accuracy is  0.5622317596566524\n",
            "\n",
            "Confusion matrix:\n",
            "\n",
            "[[  0 510]\n",
            " [  0 655]]\n",
            "\n",
            "Classification Report:\n",
            "\n",
            "              precision    recall  f1-score   support\n",
            "\n",
            "           B       0.00      0.00      0.00       510\n",
            "           M       0.56      1.00      0.72       655\n",
            "\n",
            "    accuracy                           0.56      1165\n",
            "   macro avg       0.28      0.50      0.36      1165\n",
            "weighted avg       0.32      0.56      0.40      1165\n",
            "\n",
            "\n",
            "ROC Plot\n"
          ],
          "name": "stdout"
        },
        {
          "output_type": "stream",
          "text": [
            "/usr/local/lib/python3.6/dist-packages/sklearn/metrics/_classification.py:1272: UndefinedMetricWarning: Precision and F-score are ill-defined and being set to 0.0 in labels with no predicted samples. Use `zero_division` parameter to control this behavior.\n",
            "  _warn_prf(average, modifier, msg_start, len(result))\n"
          ],
          "name": "stderr"
        },
        {
          "output_type": "display_data",
          "data": {
            "image/png": "[encoded data removed]",
            "text/plain": [
              "<Figure size 432x288 with 1 Axes>"
            ]
          },
          "metadata": {
            "tags": [],
            "needs_background": "light"
          }
        }
      ]
    },
    {
      "cell_type": "markdown",
      "metadata": {
        "id": "gHGk-Y7YGT95"
      },
      "source": [
        "## Boolean Occurrence"
      ]
    },
    {
      "cell_type": "markdown",
      "metadata": {
        "id": "On8alrbYGT95"
      },
      "source": [
        "### Prepare the Data"
      ]
    },
    {
      "cell_type": "code",
      "metadata": {
        "id": "AGFOE5f8GT96",
        "outputId": "1b0c0ade-c6f4-4ba2-90d4-fb2112aa26b7",
        "colab": {
          "base_uri": "https://localhost:8080/"
        }
      },
      "source": [
        "X = np.where(transformed_text.toarray() >= 1,1,0)\n",
        "X"
      ],
      "execution_count": null,
      "outputs": [
        {
          "output_type": "execute_result",
          "data": {
            "text/plain": [
              "array([[0, 0, 0, ..., 0, 1, 1],\n",
              "       [0, 0, 0, ..., 0, 0, 1],\n",
              "       [0, 0, 0, ..., 0, 0, 1],\n",
              "       ...,\n",
              "       [0, 0, 0, ..., 0, 0, 1],\n",
              "       [0, 0, 0, ..., 0, 0, 1],\n",
              "       [0, 0, 0, ..., 0, 0, 0]])"
            ]
          },
          "metadata": {
            "tags": []
          },
          "execution_count": 14
        }
      ]
    },
    {
      "cell_type": "code",
      "metadata": {
        "id": "ZcTqNXBCGT98"
      },
      "source": [
        "from sklearn import model_selection, svm\n",
        "X_train, X_test, Y_train, Y_test = model_selection.train_test_split( X, final_data['Label'], test_size=0.2 , random_state=45 )"
      ],
      "execution_count": null,
      "outputs": []
    },
    {
      "cell_type": "markdown",
      "metadata": {
        "id": "x4WKprx4GT9-"
      },
      "source": [
        "### Linear SVM Kernel"
      ]
    },
    {
      "cell_type": "code",
      "metadata": {
        "id": "ld1y4Vl6GT9-",
        "outputId": "f52105c0-ec9f-4ea8-ecd6-522dbe091cfd",
        "colab": {
          "base_uri": "https://localhost:8080/",
          "height": 615
        }
      },
      "source": [
        "from sklearn.metrics import classification_report, confusion_matrix, accuracy_score, plot_roc_curve\n",
        "\n",
        "#train model\n",
        "Linear_Kernel = svm.SVC(C=1.5, kernel='linear', gamma='auto')\n",
        "Linear_Kernel.fit(X_train,Y_train)\n",
        "\n",
        "#predictions\n",
        "Linear_Kernel_Predictions = Linear_Kernel.predict(X_test)\n",
        "\n",
        "#accuracy score\n",
        "print(\"Linear Kernel accuracy is \", accuracy_score(Linear_Kernel_Predictions, Y_test))\n",
        "\n",
        "#Confusion Matrix\n",
        "print(\"\\nConfusion matrix:\\n\")\n",
        "print(confusion_matrix(Y_test,Linear_Kernel_Predictions))\n",
        "\n",
        "#Classification Report for the rest of the metrics\n",
        "print(\"\\nClassification Report:\\n\")\n",
        "print(classification_report(Y_test,Linear_Kernel_Predictions))\n",
        "\n",
        "#ROC Plot\n",
        "print(\"\\nROC Plot\")\n",
        "plot_roc_curve(Linear_Kernel, X_test, Y_test) \n",
        "plt.show()"
      ],
      "execution_count": null,
      "outputs": [
        {
          "output_type": "stream",
          "text": [
            "Linear Kernel accuracy is  0.9836909871244636\n",
            "\n",
            "Confusion matrix:\n",
            "\n",
            "[[498  12]\n",
            " [  7 648]]\n",
            "\n",
            "Classification Report:\n",
            "\n",
            "              precision    recall  f1-score   support\n",
            "\n",
            "           B       0.99      0.98      0.98       510\n",
            "           M       0.98      0.99      0.99       655\n",
            "\n",
            "    accuracy                           0.98      1165\n",
            "   macro avg       0.98      0.98      0.98      1165\n",
            "weighted avg       0.98      0.98      0.98      1165\n",
            "\n",
            "\n",
            "ROC Plot\n"
          ],
          "name": "stdout"
        },
        {
          "output_type": "display_data",
          "data": {
            "image/png": "[encoded data removed]",
            "text/plain": [
              "<Figure size 432x288 with 1 Axes>"
            ]
          },
          "metadata": {
            "tags": []
          }
        }
      ]
    },
    {
      "cell_type": "markdown",
      "metadata": {
        "id": "75m-DXjoGT-B"
      },
      "source": [
        "### Polynomial SVM Kernel"
      ]
    },
    {
      "cell_type": "code",
      "metadata": {
        "id": "ikZJfwH2GT-C",
        "outputId": "95e7fe3c-f02a-4af5-a8d9-bac278b5e398",
        "colab": {
          "base_uri": "https://localhost:8080/",
          "height": 615
        }
      },
      "source": [
        "from sklearn.metrics import classification_report, confusion_matrix, accuracy_score, plot_roc_curve\n",
        "\n",
        "#train model\n",
        "Polynomial_Kernel = svm.SVC(C=1.5, kernel='poly', degree=4)\n",
        "Polynomial_Kernel.fit(X_train,Y_train)\n",
        "\n",
        "#predictions\n",
        "Polynomial_Kernel_Predictions = Polynomial_Kernel.predict(X_test)\n",
        "\n",
        "#accuracy score\n",
        "print(\"Polynomial Kernel accuracy is \", accuracy_score(Polynomial_Kernel_Predictions, Y_test))\n",
        "\n",
        "#Confusion Matrix\n",
        "print(\"\\nConfusion matrix:\\n\")\n",
        "print(confusion_matrix(Y_test,Polynomial_Kernel_Predictions))\n",
        "\n",
        "#Classification Report for the rest of the metrics\n",
        "print(\"\\nClassification Report:\\n\")\n",
        "print(classification_report(Y_test,Polynomial_Kernel_Predictions))\n",
        "\n",
        "#ROC Plot\n",
        "print(\"\\nROC Plot\")\n",
        "plot_roc_curve(Polynomial_Kernel, X_test, Y_test) \n",
        "plt.show()"
      ],
      "execution_count": null,
      "outputs": [
        {
          "output_type": "stream",
          "text": [
            "Polynomial Kernel accuracy is  0.944206008583691\n",
            "\n",
            "Confusion matrix:\n",
            "\n",
            "[[455  55]\n",
            " [ 10 645]]\n",
            "\n",
            "Classification Report:\n",
            "\n",
            "              precision    recall  f1-score   support\n",
            "\n",
            "           B       0.98      0.89      0.93       510\n",
            "           M       0.92      0.98      0.95       655\n",
            "\n",
            "    accuracy                           0.94      1165\n",
            "   macro avg       0.95      0.94      0.94      1165\n",
            "weighted avg       0.95      0.94      0.94      1165\n",
            "\n",
            "\n",
            "ROC Plot\n"
          ],
          "name": "stdout"
        },
        {
          "output_type": "display_data",
          "data": {
            "image/png": "[encoded data removed]",
            "text/plain": [
              "<Figure size 432x288 with 1 Axes>"
            ]
          },
          "metadata": {
            "tags": []
          }
        }
      ]
    },
    {
      "cell_type": "markdown",
      "metadata": {
        "id": "ZhAEUWN9GT-E"
      },
      "source": [
        "### RBF SVM Kernel"
      ]
    },
    {
      "cell_type": "code",
      "metadata": {
        "id": "pNZ4TUK4GT-F",
        "outputId": "ac393115-0e86-4994-8b78-4703b233222d",
        "colab": {
          "base_uri": "https://localhost:8080/",
          "height": 615
        }
      },
      "source": [
        "from sklearn.metrics import classification_report, confusion_matrix, accuracy_score, plot_roc_curve\n",
        "\n",
        "#train model\n",
        "RBF_Kernel = svm.SVC(C=1, kernel='rbf', gamma='auto')\n",
        "RBF_Kernel.fit(X_train,Y_train)\n",
        "\n",
        "#predictions\n",
        "RBF_Kernel_Predictions = RBF_Kernel.predict(X_test)\n",
        "\n",
        "#accuracy score\n",
        "print(\"RBF Kernel accuracy is \", accuracy_score(RBF_Kernel_Predictions, Y_test))\n",
        "\n",
        "#Confusion Matrix\n",
        "print(\"\\nConfusion matrix:\\n\")\n",
        "print(confusion_matrix(Y_test,RBF_Kernel_Predictions))\n",
        "\n",
        "#Classification Report for the rest of the metrics\n",
        "print(\"\\nClassification Report:\\n\")\n",
        "print(classification_report(Y_test,RBF_Kernel_Predictions))\n",
        "\n",
        "#ROC Plot\n",
        "print(\"\\nROC Plot\")\n",
        "plot_roc_curve(RBF_Kernel, X_test, Y_test) \n",
        "plt.show()"
      ],
      "execution_count": null,
      "outputs": [
        {
          "output_type": "stream",
          "text": [
            "RBF Kernel accuracy is  0.9725321888412017\n",
            "\n",
            "Confusion matrix:\n",
            "\n",
            "[[486  24]\n",
            " [  8 647]]\n",
            "\n",
            "Classification Report:\n",
            "\n",
            "              precision    recall  f1-score   support\n",
            "\n",
            "           B       0.98      0.95      0.97       510\n",
            "           M       0.96      0.99      0.98       655\n",
            "\n",
            "    accuracy                           0.97      1165\n",
            "   macro avg       0.97      0.97      0.97      1165\n",
            "weighted avg       0.97      0.97      0.97      1165\n",
            "\n",
            "\n",
            "ROC Plot\n"
          ],
          "name": "stdout"
        },
        {
          "output_type": "display_data",
          "data": {
            "image/png": "[encoded data removed]",
            "text/plain": [
              "<Figure size 432x288 with 1 Axes>"
            ]
          },
          "metadata": {
            "tags": [],
            "needs_background": "light"
          }
        }
      ]
    },
    {
      "cell_type": "markdown",
      "metadata": {
        "id": "ywnIBSYeGT-I"
      },
      "source": [
        "## TF-IDF "
      ]
    },
    {
      "cell_type": "markdown",
      "metadata": {
        "id": "HUeuhEzoGT-I"
      },
      "source": [
        "### Prepare the Data"
      ]
    },
    {
      "cell_type": "code",
      "metadata": {
        "id": "RWDsQ1TeGT-J"
      },
      "source": [
        "from sklearn.feature_extraction.text import TfidfVectorizer\n",
        "\n",
        "vectorizer = TfidfVectorizer(ngram_range=(3,3))\n",
        "X = vectorizer.fit_transform(text).toarray()\n",
        "\n",
        "# print(X)\n",
        "# print(vectorizer.vocabulary_)"
      ],
      "execution_count": null,
      "outputs": []
    },
    {
      "cell_type": "code",
      "metadata": {
        "id": "K1iLBYgNGT-L"
      },
      "source": [
        "from sklearn import model_selection, svm\n",
        "\n",
        "X_train, X_test, Y_train, Y_test = model_selection.train_test_split( X, final_data['Label'], test_size=0.2 , random_state=45 )"
      ],
      "execution_count": null,
      "outputs": []
    },
    {
      "cell_type": "markdown",
      "metadata": {
        "id": "HECRneRnGT-N"
      },
      "source": [
        "### Linear SVM Kernel"
      ]
    },
    {
      "cell_type": "code",
      "metadata": {
        "id": "Fp2qTlOsGT-O",
        "outputId": "3ec9f60f-7793-4b27-ff3f-45a7be4bf979",
        "colab": {
          "base_uri": "https://localhost:8080/",
          "height": 615
        }
      },
      "source": [
        "from sklearn.metrics import classification_report, confusion_matrix, accuracy_score, plot_roc_curve\n",
        "\n",
        "#train model\n",
        "Linear_Kernel = svm.SVC(C=1.5, kernel='linear', gamma='auto')\n",
        "Linear_Kernel.fit(X_train,Y_train)\n",
        "\n",
        "#predictions\n",
        "Linear_Kernel_Predictions = Linear_Kernel.predict(X_test)\n",
        "\n",
        "#accuracy score\n",
        "print(\"Linear Kernel accuracy is \", accuracy_score(Linear_Kernel_Predictions, Y_test))\n",
        "\n",
        "#Confusion Matrix\n",
        "print(\"\\nConfusion matrix:\\n\")\n",
        "print(confusion_matrix(Y_test,Linear_Kernel_Predictions))\n",
        "\n",
        "#Classification Report for the rest of the metrics\n",
        "print(\"\\nClassification Report:\\n\")\n",
        "print(classification_report(Y_test,Linear_Kernel_Predictions))\n",
        "\n",
        "#ROC Plot\n",
        "print(\"\\nROC Plot\")\n",
        "plot_roc_curve(Linear_Kernel, X_test, Y_test) \n",
        "plt.show()"
      ],
      "execution_count": null,
      "outputs": [
        {
          "output_type": "stream",
          "text": [
            "Linear Kernel accuracy is  0.9545064377682403\n",
            "\n",
            "Confusion matrix:\n",
            "\n",
            "[[493  17]\n",
            " [ 36 619]]\n",
            "\n",
            "Classification Report:\n",
            "\n",
            "              precision    recall  f1-score   support\n",
            "\n",
            "           B       0.93      0.97      0.95       510\n",
            "           M       0.97      0.95      0.96       655\n",
            "\n",
            "    accuracy                           0.95      1165\n",
            "   macro avg       0.95      0.96      0.95      1165\n",
            "weighted avg       0.96      0.95      0.95      1165\n",
            "\n",
            "\n",
            "ROC Plot\n"
          ],
          "name": "stdout"
        },
        {
          "output_type": "display_data",
          "data": {
            "image/png": "[encoded data removed]",
            "text/plain": [
              "<Figure size 432x288 with 1 Axes>"
            ]
          },
          "metadata": {
            "tags": []
          }
        }
      ]
    },
    {
      "cell_type": "markdown",
      "metadata": {
        "id": "s-CfhtNMGT-Q"
      },
      "source": [
        "### Polynomial SVM Kernel"
      ]
    },
    {
      "cell_type": "code",
      "metadata": {
        "id": "hbUEHO_yGT-R",
        "outputId": "afc58c69-209d-4b0e-b4bc-c4511b399f4e",
        "colab": {
          "background_save": true,
          "base_uri": "https://localhost:8080/",
          "height": 615
        }
      },
      "source": [
        "from sklearn.metrics import classification_report, confusion_matrix, accuracy_score, plot_roc_curve\n",
        "\n",
        "#train model\n",
        "Polynomial_Kernel = svm.SVC(C=1.5, kernel='poly', degree=4)\n",
        "Polynomial_Kernel.fit(X_train,Y_train)\n",
        "\n",
        "#predictions\n",
        "Polynomial_Kernel_Predictions = Polynomial_Kernel.predict(X_test)\n",
        "\n",
        "#accuracy score\n",
        "print(\"Polynomial Kernel accuracy is \", accuracy_score(Polynomial_Kernel_Predictions, Y_test))\n",
        "\n",
        "#Confusion Matrix\n",
        "print(\"\\nConfusion matrix:\\n\")\n",
        "print(confusion_matrix(Y_test,Polynomial_Kernel_Predictions))\n",
        "\n",
        "#Classification Report for the rest of the metrics\n",
        "print(\"\\nClassification Report:\\n\")\n",
        "print(classification_report(Y_test,Polynomial_Kernel_Predictions))\n",
        "\n",
        "#ROC Plot\n",
        "print(\"\\nROC Plot\")\n",
        "plot_roc_curve(Polynomial_Kernel, X_test, Y_test) \n",
        "plt.show()"
      ],
      "execution_count": null,
      "outputs": [
        {
          "output_type": "stream",
          "text": [
            "Polynomial Kernel accuracy is  0.9639484978540772\n",
            "\n",
            "Confusion matrix:\n",
            "\n",
            "[[494  16]\n",
            " [ 26 629]]\n",
            "\n",
            "Classification Report:\n",
            "\n",
            "              precision    recall  f1-score   support\n",
            "\n",
            "           B       0.95      0.97      0.96       510\n",
            "           M       0.98      0.96      0.97       655\n",
            "\n",
            "    accuracy                           0.96      1165\n",
            "   macro avg       0.96      0.96      0.96      1165\n",
            "weighted avg       0.96      0.96      0.96      1165\n",
            "\n",
            "\n",
            "ROC Plot\n"
          ],
          "name": "stdout"
        },
        {
          "output_type": "display_data",
          "data": {
            "image/png": "[encoded data removed]",
            "text/plain": [
              "<Figure size 432x288 with 1 Axes>"
            ]
          },
          "metadata": {
            "tags": []
          }
        }
      ]
    },
    {
      "cell_type": "markdown",
      "metadata": {
        "id": "wb8afOCXGT-T"
      },
      "source": [
        "### RBF SVM Kernel"
      ]
    },
    {
      "cell_type": "code",
      "metadata": {
        "id": "RN2lgWVDGT-T",
        "outputId": "d331ee9c-8bbc-4b74-b311-0fd52cb9e5fe",
        "colab": {
          "base_uri": "https://localhost:8080/",
          "height": 669
        }
      },
      "source": [
        "from sklearn.metrics import classification_report, confusion_matrix, accuracy_score, plot_roc_curve\n",
        "\n",
        "#train model\n",
        "RBF_Kernel = svm.SVC(C=1, kernel='rbf', gamma='auto')\n",
        "RBF_Kernel.fit(X_train,Y_train)\n",
        "\n",
        "#predictions\n",
        "RBF_Kernel_Predictions = RBF_Kernel.predict(X_test)\n",
        "\n",
        "#accuracy score\n",
        "print(\"RBF Kernel accuracy is \", accuracy_score(RBF_Kernel_Predictions, Y_test))\n",
        "\n",
        "#Confusion Matrix\n",
        "print(\"\\nConfusion matrix:\\n\")\n",
        "print(confusion_matrix(Y_test,RBF_Kernel_Predictions))\n",
        "\n",
        "#Classification Report for the rest of the metrics\n",
        "print(\"\\nClassification Report:\\n\")\n",
        "print(classification_report(Y_test,RBF_Kernel_Predictions))\n",
        "\n",
        "#ROC Plot\n",
        "print(\"\\nROC Plot\")\n",
        "plot_roc_curve(RBF_Kernel, X_test, Y_test) \n",
        "plt.show()"
      ],
      "execution_count": null,
      "outputs": [
        {
          "output_type": "stream",
          "text": [
            "RBF Kernel accuracy is  0.5622317596566524\n",
            "\n",
            "Confusion matrix:\n",
            "\n",
            "[[  0 510]\n",
            " [  0 655]]\n",
            "\n",
            "Classification Report:\n",
            "\n",
            "              precision    recall  f1-score   support\n",
            "\n",
            "           B       0.00      0.00      0.00       510\n",
            "           M       0.56      1.00      0.72       655\n",
            "\n",
            "    accuracy                           0.56      1165\n",
            "   macro avg       0.28      0.50      0.36      1165\n",
            "weighted avg       0.32      0.56      0.40      1165\n",
            "\n",
            "\n",
            "ROC Plot\n"
          ],
          "name": "stdout"
        },
        {
          "output_type": "stream",
          "text": [
            "/usr/local/lib/python3.6/dist-packages/sklearn/metrics/_classification.py:1272: UndefinedMetricWarning: Precision and F-score are ill-defined and being set to 0.0 in labels with no predicted samples. Use `zero_division` parameter to control this behavior.\n",
            "  _warn_prf(average, modifier, msg_start, len(result))\n"
          ],
          "name": "stderr"
        },
        {
          "output_type": "display_data",
          "data": {
            "image/png": "[encoded data removed]",
            "text/plain": [
              "<Figure size 432x288 with 1 Axes>"
            ]
          },
          "metadata": {
            "tags": [],
            "needs_background": "light"
          }
        }
      ]
    },
    {
      "cell_type": "markdown",
      "metadata": {
        "id": "wHRwZ_zZIGzF"
      },
      "source": [
        "# Task 3 - Feature Selection"
      ]
    },
    {
      "cell_type": "markdown",
      "metadata": {
        "id": "Y9JRDUNcH5Zt"
      },
      "source": [
        "**This task is an attempt to find the best features in two and three sequence models of sys-calls.**  \n",
        "For both these data models, the following steps are performed:\n",
        "* The data is vectorized using the `TfidfVectorizer` with `ngram_range` being `(2,2)` and `(3,3)` for bigram and trigram respectfully.\n",
        "* A light-weight model, `DecisionTreeClassifier` is trained with `max-features = 30`. This is to find the features with most **Feature Importance**.\n",
        "* Finally, a bar graph is plot between the top 30 features and their feature importance.  \n",
        "\n",
        "Additionally, for the 2 sequence data model, a Polynomial SVM Kernel is trained and analysed."
      ]
    },
    {
      "cell_type": "markdown",
      "metadata": {
        "id": "G1p-F0EonxFV"
      },
      "source": [
        "## Feature selection for 2 sequence\n"
      ]
    },
    {
      "cell_type": "code",
      "metadata": {
        "id": "EhUmTA1DIXZU",
        "outputId": "387ec491-b2ea-4351-bad3-79dbf05287e9",
        "colab": {
          "base_uri": "https://localhost:8080/"
        }
      },
      "source": [
        "from sklearn.feature_extraction.text import TfidfVectorizer\n",
        "\n",
        "text = final_data['Calls']\n",
        "vectorizer = TfidfVectorizer(ngram_range=(2,2))\n",
        "X = vectorizer.fit_transform(text)\n",
        "X"
      ],
      "execution_count": null,
      "outputs": [
        {
          "output_type": "execute_result",
          "data": {
            "text/plain": [
              "<5822x2425 sparse matrix of type '<class 'numpy.float64'>'\n",
              "\twith 1192807 stored elements in Compressed Sparse Row format>"
            ]
          },
          "metadata": {
            "tags": []
          },
          "execution_count": 159
        }
      ]
    },
    {
      "cell_type": "code",
      "metadata": {
        "id": "hD7MKM3JsbcN",
        "outputId": "45fef626-39ae-41d9-ce02-fcbb54b2211e",
        "colab": {
          "base_uri": "https://localhost:8080/"
        }
      },
      "source": [
        "bigram_features = list(vectorizer.vocabulary_.keys())\n",
        "print(bigram_features[:7])"
      ],
      "execution_count": null,
      "outputs": [
        {
          "output_type": "stream",
          "text": [
            "['ioctl pread', 'pread rt_sigprocmask', 'rt_sigprocmask rt_sigprocmask', 'rt_sigprocmask openat', 'openat ioctl', 'ioctl ioctl', 'ioctl mmap']\n"
          ],
          "name": "stdout"
        }
      ]
    },
    {
      "cell_type": "code",
      "metadata": {
        "id": "dZBD_pYPsu9m",
        "outputId": "2256aa1c-b26f-4b40-8640-2129c276350c",
        "colab": {
          "base_uri": "https://localhost:8080/",
          "height": 952
        }
      },
      "source": [
        "from sklearn.tree import DecisionTreeClassifier\n",
        "Y = final_data['Label']\n",
        "\n",
        "model = DecisionTreeClassifier(max_features=30)\n",
        "model.fit(X,Y)\n",
        "\n",
        "feature_df = pd.DataFrame(list(zip(model.feature_importances_,bigram_features)), columns = ['Feature Importance', 'Features'])\n",
        "feature_df = feature_df.sort_values(by='Feature Importance',ascending=False)\n",
        "print(\"Top 30 features (2 Sequence):\")\n",
        "feature_df.head(n=30)"
      ],
      "execution_count": null,
      "outputs": [
        {
          "output_type": "stream",
          "text": [
            "Top 30 features (2 Sequence):\n"
          ],
          "name": "stdout"
        },
        {
          "output_type": "execute_result",
          "data": {
            "text/html": [
              "<div>\n",
              "<style scoped>\n",
              "    .dataframe tbody tr th:only-of-type {\n",
              "        vertical-align: middle;\n",
              "    }\n",
              "\n",
              "    .dataframe tbody tr th {\n",
              "        vertical-align: top;\n",
              "    }\n",
              "\n",
              "    .dataframe thead th {\n",
              "        text-align: right;\n",
              "    }\n",
              "</style>\n",
              "<table border=\"1\" class=\"dataframe\">\n",
              "  <thead>\n",
              "    <tr style=\"text-align: right;\">\n",
              "      <th></th>\n",
              "      <th>Feature Importance</th>\n",
              "      <th>Features</th>\n",
              "    </tr>\n",
              "  </thead>\n",
              "  <tbody>\n",
              "    <tr>\n",
              "      <th>1805</th>\n",
              "      <td>0.202945</td>\n",
              "      <td>fcntl64 ftruncate</td>\n",
              "    </tr>\n",
              "    <tr>\n",
              "      <th>1101</th>\n",
              "      <td>0.107995</td>\n",
              "      <td>fstat64 close</td>\n",
              "    </tr>\n",
              "    <tr>\n",
              "      <th>1400</th>\n",
              "      <td>0.072044</td>\n",
              "      <td>sendto getrlimit</td>\n",
              "    </tr>\n",
              "    <tr>\n",
              "      <th>2355</th>\n",
              "      <td>0.058309</td>\n",
              "      <td>clone prctl</td>\n",
              "    </tr>\n",
              "    <tr>\n",
              "      <th>1817</th>\n",
              "      <td>0.056940</td>\n",
              "      <td>ioctl geteuid</td>\n",
              "    </tr>\n",
              "    <tr>\n",
              "      <th>1206</th>\n",
              "      <td>0.039688</td>\n",
              "      <td>sendmsg getuid</td>\n",
              "    </tr>\n",
              "    <tr>\n",
              "      <th>1025</th>\n",
              "      <td>0.032005</td>\n",
              "      <td>geteuid32 openat</td>\n",
              "    </tr>\n",
              "    <tr>\n",
              "      <th>1035</th>\n",
              "      <td>0.022775</td>\n",
              "      <td>prctl clock_gettime</td>\n",
              "    </tr>\n",
              "    <tr>\n",
              "      <th>2320</th>\n",
              "      <td>0.020981</td>\n",
              "      <td>openat readlinkat</td>\n",
              "    </tr>\n",
              "    <tr>\n",
              "      <th>1019</th>\n",
              "      <td>0.019145</td>\n",
              "      <td>mmap2 faccessat</td>\n",
              "    </tr>\n",
              "    <tr>\n",
              "      <th>1236</th>\n",
              "      <td>0.016981</td>\n",
              "      <td>read rt_sigreturn</td>\n",
              "    </tr>\n",
              "    <tr>\n",
              "      <th>235</th>\n",
              "      <td>0.014451</td>\n",
              "      <td>write mprotect</td>\n",
              "    </tr>\n",
              "    <tr>\n",
              "      <th>102</th>\n",
              "      <td>0.011937</td>\n",
              "      <td>ioctl write</td>\n",
              "    </tr>\n",
              "    <tr>\n",
              "      <th>231</th>\n",
              "      <td>0.009610</td>\n",
              "      <td>read sendto</td>\n",
              "    </tr>\n",
              "    <tr>\n",
              "      <th>1041</th>\n",
              "      <td>0.009583</td>\n",
              "      <td>newfstatat clone</td>\n",
              "    </tr>\n",
              "    <tr>\n",
              "      <th>1478</th>\n",
              "      <td>0.009254</td>\n",
              "      <td>getuid32 rt_sigprocmask</td>\n",
              "    </tr>\n",
              "    <tr>\n",
              "      <th>2339</th>\n",
              "      <td>0.008020</td>\n",
              "      <td>mmap getrlimit</td>\n",
              "    </tr>\n",
              "    <tr>\n",
              "      <th>2077</th>\n",
              "      <td>0.006301</td>\n",
              "      <td>recvfrom sendmsg</td>\n",
              "    </tr>\n",
              "    <tr>\n",
              "      <th>1783</th>\n",
              "      <td>0.005343</td>\n",
              "      <td>rt_sigprocmask fstatat64</td>\n",
              "    </tr>\n",
              "    <tr>\n",
              "      <th>1678</th>\n",
              "      <td>0.005339</td>\n",
              "      <td>clock_gettime setrlimit</td>\n",
              "    </tr>\n",
              "    <tr>\n",
              "      <th>1018</th>\n",
              "      <td>0.005250</td>\n",
              "      <td>fcntl64 recvfrom</td>\n",
              "    </tr>\n",
              "    <tr>\n",
              "      <th>320</th>\n",
              "      <td>0.005167</td>\n",
              "      <td>prctl futex</td>\n",
              "    </tr>\n",
              "    <tr>\n",
              "      <th>1991</th>\n",
              "      <td>0.004847</td>\n",
              "      <td>getegid32 faccessat</td>\n",
              "    </tr>\n",
              "    <tr>\n",
              "      <th>1089</th>\n",
              "      <td>0.004743</td>\n",
              "      <td>openat ppoll</td>\n",
              "    </tr>\n",
              "    <tr>\n",
              "      <th>720</th>\n",
              "      <td>0.004307</td>\n",
              "      <td>munmap mmap2</td>\n",
              "    </tr>\n",
              "    <tr>\n",
              "      <th>1422</th>\n",
              "      <td>0.004296</td>\n",
              "      <td>newfstatat sendto</td>\n",
              "    </tr>\n",
              "    <tr>\n",
              "      <th>1000</th>\n",
              "      <td>0.003961</td>\n",
              "      <td>fstat64 ftruncate64</td>\n",
              "    </tr>\n",
              "    <tr>\n",
              "      <th>1319</th>\n",
              "      <td>0.003848</td>\n",
              "      <td>futex geteuid</td>\n",
              "    </tr>\n",
              "    <tr>\n",
              "      <th>1537</th>\n",
              "      <td>0.003812</td>\n",
              "      <td>fchmodat madvise</td>\n",
              "    </tr>\n",
              "    <tr>\n",
              "      <th>1526</th>\n",
              "      <td>0.003811</td>\n",
              "      <td>recvfrom fchmodat</td>\n",
              "    </tr>\n",
              "  </tbody>\n",
              "</table>\n",
              "</div>"
            ],
            "text/plain": [
              "      Feature Importance                  Features\n",
              "1805            0.202945         fcntl64 ftruncate\n",
              "1101            0.107995             fstat64 close\n",
              "1400            0.072044          sendto getrlimit\n",
              "2355            0.058309               clone prctl\n",
              "1817            0.056940             ioctl geteuid\n",
              "1206            0.039688            sendmsg getuid\n",
              "1025            0.032005          geteuid32 openat\n",
              "1035            0.022775       prctl clock_gettime\n",
              "2320            0.020981         openat readlinkat\n",
              "1019            0.019145           mmap2 faccessat\n",
              "1236            0.016981         read rt_sigreturn\n",
              "235             0.014451            write mprotect\n",
              "102             0.011937               ioctl write\n",
              "231             0.009610               read sendto\n",
              "1041            0.009583          newfstatat clone\n",
              "1478            0.009254   getuid32 rt_sigprocmask\n",
              "2339            0.008020            mmap getrlimit\n",
              "2077            0.006301          recvfrom sendmsg\n",
              "1783            0.005343  rt_sigprocmask fstatat64\n",
              "1678            0.005339   clock_gettime setrlimit\n",
              "1018            0.005250          fcntl64 recvfrom\n",
              "320             0.005167               prctl futex\n",
              "1991            0.004847       getegid32 faccessat\n",
              "1089            0.004743              openat ppoll\n",
              "720             0.004307              munmap mmap2\n",
              "1422            0.004296         newfstatat sendto\n",
              "1000            0.003961       fstat64 ftruncate64\n",
              "1319            0.003848             futex geteuid\n",
              "1537            0.003812          fchmodat madvise\n",
              "1526            0.003811         recvfrom fchmodat"
            ]
          },
          "metadata": {
            "tags": []
          },
          "execution_count": 161
        }
      ]
    },
    {
      "cell_type": "code",
      "metadata": {
        "id": "yNpHJ6L58BLd",
        "outputId": "dc0db98a-3484-4a8b-ba4e-cf449a529a17",
        "colab": {
          "base_uri": "https://localhost:8080/",
          "height": 563
        }
      },
      "source": [
        "feature_df.iloc[:30].plot(x = 'Features', y = 'Feature Importance', kind = 'bar', figsize = (20,7), title = '2 Sequence Features and their Feature Importance')"
      ],
      "execution_count": null,
      "outputs": [
        {
          "output_type": "execute_result",
          "data": {
            "text/plain": [
              "<matplotlib.axes._subplots.AxesSubplot at 0x7f9bcdb40550>"
            ]
          },
          "metadata": {
            "tags": []
          },
          "execution_count": 162
        },
        {
          "output_type": "display_data",
          "data": {
            "image/png": "[encoded data removed]",
            "text/plain": [
              "<Figure size 1440x504 with 1 Axes>"
            ]
          },
          "metadata": {
            "tags": []
          }
        }
      ]
    },
    {
      "cell_type": "markdown",
      "metadata": {
        "id": "mllnOtcEmlUa"
      },
      "source": [
        "## Model for 2 sequence based on top 30 features"
      ]
    },
    {
      "cell_type": "markdown",
      "metadata": {
        "id": "U8UpL4ouswJk"
      },
      "source": [
        "### Prepare the Data"
      ]
    },
    {
      "cell_type": "code",
      "metadata": {
        "id": "M7NAF-0tmqhZ"
      },
      "source": [
        "bigram_tfidf_data = pd.DataFrame(X.toarray(),columns = vectorizer.get_feature_names())\n",
        "bigram_tfidf_data['File'] = final_data['File']\n",
        "cols = list(bigram_tfidf_data.columns)\n",
        "cols = [cols[-1]] + cols[:-1]\n",
        "bigram_tfidf_data = bigram_tfidf_data[cols]"
      ],
      "execution_count": null,
      "outputs": []
    },
    {
      "cell_type": "code",
      "metadata": {
        "id": "R6kE_WnPrFLT",
        "outputId": "75654dd4-5bb9-4d0a-c6ba-8d24b1199cc0",
        "colab": {
          "base_uri": "https://localhost:8080/",
          "height": 438
        }
      },
      "source": [
        "bigram_tfidf_data"
      ],
      "execution_count": null,
      "outputs": [
        {
          "output_type": "execute_result",
          "data": {
            "text/html": [
              "<div>\n",
              "<style scoped>\n",
              "    .dataframe tbody tr th:only-of-type {\n",
              "        vertical-align: middle;\n",
              "    }\n",
              "\n",
              "    .dataframe tbody tr th {\n",
              "        vertical-align: top;\n",
              "    }\n",
              "\n",
              "    .dataframe thead th {\n",
              "        text-align: right;\n",
              "    }\n",
              "</style>\n",
              "<table border=\"1\" class=\"dataframe\">\n",
              "  <thead>\n",
              "    <tr style=\"text-align: right;\">\n",
              "      <th></th>\n",
              "      <th>File</th>\n",
              "      <th>_llseek _llseek</th>\n",
              "      <th>_llseek clock_gettime</th>\n",
              "      <th>_llseek close</th>\n",
              "      <th>_llseek faccessat</th>\n",
              "      <th>_llseek fcntl64</th>\n",
              "      <th>_llseek fstat64</th>\n",
              "      <th>_llseek fstatat64</th>\n",
              "      <th>_llseek ftruncate64</th>\n",
              "      <th>_llseek futex</th>\n",
              "      <th>_llseek madvise</th>\n",
              "      <th>_llseek mmap2</th>\n",
              "      <th>_llseek mprotect</th>\n",
              "      <th>_llseek openat</th>\n",
              "      <th>_llseek read</th>\n",
              "      <th>_llseek write</th>\n",
              "      <th>bind fcntl</th>\n",
              "      <th>bind getsockname</th>\n",
              "      <th>bind ppoll</th>\n",
              "      <th>bind setsockopt</th>\n",
              "      <th>bind socket</th>\n",
              "      <th>capget futex</th>\n",
              "      <th>clock_gettime _llseek</th>\n",
              "      <th>clock_gettime clock_gettime</th>\n",
              "      <th>clock_gettime clone</th>\n",
              "      <th>clock_gettime close</th>\n",
              "      <th>clock_gettime dup</th>\n",
              "      <th>clock_gettime epoll_ctl</th>\n",
              "      <th>clock_gettime epoll_pwait</th>\n",
              "      <th>clock_gettime faccessat</th>\n",
              "      <th>clock_gettime fchmodat</th>\n",
              "      <th>clock_gettime fcntl64</th>\n",
              "      <th>clock_gettime fstat</th>\n",
              "      <th>clock_gettime fstat64</th>\n",
              "      <th>clock_gettime fstatat64</th>\n",
              "      <th>clock_gettime futex</th>\n",
              "      <th>clock_gettime getcwd</th>\n",
              "      <th>clock_gettime getdents64</th>\n",
              "      <th>clock_gettime getppid</th>\n",
              "      <th>clock_gettime getpriority</th>\n",
              "      <th>...</th>\n",
              "      <th>writev getpriority</th>\n",
              "      <th>writev getrlimit</th>\n",
              "      <th>writev getsockname</th>\n",
              "      <th>writev getsockopt</th>\n",
              "      <th>writev gettid</th>\n",
              "      <th>writev gettimeofday</th>\n",
              "      <th>writev getuid</th>\n",
              "      <th>writev getuid32</th>\n",
              "      <th>writev ioctl</th>\n",
              "      <th>writev lseek</th>\n",
              "      <th>writev madvise</th>\n",
              "      <th>writev mkdirat</th>\n",
              "      <th>writev mmap</th>\n",
              "      <th>writev mmap2</th>\n",
              "      <th>writev mprotect</th>\n",
              "      <th>writev munmap</th>\n",
              "      <th>writev newfstatat</th>\n",
              "      <th>writev openat</th>\n",
              "      <th>writev pipe2</th>\n",
              "      <th>writev prctl</th>\n",
              "      <th>writev pread</th>\n",
              "      <th>writev pread64</th>\n",
              "      <th>writev read</th>\n",
              "      <th>writev readlinkat</th>\n",
              "      <th>writev recvfrom</th>\n",
              "      <th>writev renameat</th>\n",
              "      <th>writev rt_sigprocmask</th>\n",
              "      <th>writev rt_sigreturn</th>\n",
              "      <th>writev sched_yield</th>\n",
              "      <th>writev sendmsg</th>\n",
              "      <th>writev sendto</th>\n",
              "      <th>writev setsockopt</th>\n",
              "      <th>writev shutdown</th>\n",
              "      <th>writev socket</th>\n",
              "      <th>writev socketpair</th>\n",
              "      <th>writev statfs</th>\n",
              "      <th>writev statfs64</th>\n",
              "      <th>writev unlinkat</th>\n",
              "      <th>writev write</th>\n",
              "      <th>writev writev</th>\n",
              "    </tr>\n",
              "  </thead>\n",
              "  <tbody>\n",
              "    <tr>\n",
              "      <th>0</th>\n",
              "      <td>com.chinadeals.apk.sys_names.txt</td>\n",
              "      <td>0.0</td>\n",
              "      <td>0.0</td>\n",
              "      <td>0.0</td>\n",
              "      <td>0.0</td>\n",
              "      <td>0.0</td>\n",
              "      <td>0.0</td>\n",
              "      <td>0.0</td>\n",
              "      <td>0.0</td>\n",
              "      <td>0.0</td>\n",
              "      <td>0.0</td>\n",
              "      <td>0.0</td>\n",
              "      <td>0.0</td>\n",
              "      <td>0.0</td>\n",
              "      <td>0.0</td>\n",
              "      <td>0.0</td>\n",
              "      <td>0.0</td>\n",
              "      <td>0.0</td>\n",
              "      <td>0.0</td>\n",
              "      <td>0.0</td>\n",
              "      <td>0.0</td>\n",
              "      <td>0.0</td>\n",
              "      <td>0.0</td>\n",
              "      <td>0.0</td>\n",
              "      <td>0.0</td>\n",
              "      <td>0.0</td>\n",
              "      <td>0.0</td>\n",
              "      <td>0.0</td>\n",
              "      <td>0.0</td>\n",
              "      <td>0.0</td>\n",
              "      <td>0.0</td>\n",
              "      <td>0.0</td>\n",
              "      <td>0.0</td>\n",
              "      <td>0.0</td>\n",
              "      <td>0.0</td>\n",
              "      <td>0.0</td>\n",
              "      <td>0.0</td>\n",
              "      <td>0.0</td>\n",
              "      <td>0.0</td>\n",
              "      <td>0.0</td>\n",
              "      <td>...</td>\n",
              "      <td>0.0</td>\n",
              "      <td>0.0</td>\n",
              "      <td>0.0</td>\n",
              "      <td>0.0</td>\n",
              "      <td>0.0</td>\n",
              "      <td>0.0</td>\n",
              "      <td>0.004131</td>\n",
              "      <td>0.0</td>\n",
              "      <td>0.021507</td>\n",
              "      <td>0.0</td>\n",
              "      <td>0.000719</td>\n",
              "      <td>0.0</td>\n",
              "      <td>0.000000</td>\n",
              "      <td>0.0</td>\n",
              "      <td>0.000561</td>\n",
              "      <td>0.0</td>\n",
              "      <td>0.000000</td>\n",
              "      <td>0.000000</td>\n",
              "      <td>0.0</td>\n",
              "      <td>0.0</td>\n",
              "      <td>0.001105</td>\n",
              "      <td>0.0</td>\n",
              "      <td>0.0</td>\n",
              "      <td>0.0</td>\n",
              "      <td>0.012714</td>\n",
              "      <td>0.0</td>\n",
              "      <td>0.0</td>\n",
              "      <td>0.000000</td>\n",
              "      <td>0.0</td>\n",
              "      <td>0.0</td>\n",
              "      <td>0.040869</td>\n",
              "      <td>0.0</td>\n",
              "      <td>0.0</td>\n",
              "      <td>0.0</td>\n",
              "      <td>0.0</td>\n",
              "      <td>0.0</td>\n",
              "      <td>0.0</td>\n",
              "      <td>0.0</td>\n",
              "      <td>0.008550</td>\n",
              "      <td>0.097165</td>\n",
              "    </tr>\n",
              "    <tr>\n",
              "      <th>1</th>\n",
              "      <td>chat.cristianogratis.apk.sys_names.txt</td>\n",
              "      <td>0.0</td>\n",
              "      <td>0.0</td>\n",
              "      <td>0.0</td>\n",
              "      <td>0.0</td>\n",
              "      <td>0.0</td>\n",
              "      <td>0.0</td>\n",
              "      <td>0.0</td>\n",
              "      <td>0.0</td>\n",
              "      <td>0.0</td>\n",
              "      <td>0.0</td>\n",
              "      <td>0.0</td>\n",
              "      <td>0.0</td>\n",
              "      <td>0.0</td>\n",
              "      <td>0.0</td>\n",
              "      <td>0.0</td>\n",
              "      <td>0.0</td>\n",
              "      <td>0.0</td>\n",
              "      <td>0.0</td>\n",
              "      <td>0.0</td>\n",
              "      <td>0.0</td>\n",
              "      <td>0.0</td>\n",
              "      <td>0.0</td>\n",
              "      <td>0.0</td>\n",
              "      <td>0.0</td>\n",
              "      <td>0.0</td>\n",
              "      <td>0.0</td>\n",
              "      <td>0.0</td>\n",
              "      <td>0.0</td>\n",
              "      <td>0.0</td>\n",
              "      <td>0.0</td>\n",
              "      <td>0.0</td>\n",
              "      <td>0.0</td>\n",
              "      <td>0.0</td>\n",
              "      <td>0.0</td>\n",
              "      <td>0.0</td>\n",
              "      <td>0.0</td>\n",
              "      <td>0.0</td>\n",
              "      <td>0.0</td>\n",
              "      <td>0.0</td>\n",
              "      <td>...</td>\n",
              "      <td>0.0</td>\n",
              "      <td>0.0</td>\n",
              "      <td>0.0</td>\n",
              "      <td>0.0</td>\n",
              "      <td>0.0</td>\n",
              "      <td>0.0</td>\n",
              "      <td>0.003076</td>\n",
              "      <td>0.0</td>\n",
              "      <td>0.018292</td>\n",
              "      <td>0.0</td>\n",
              "      <td>0.000000</td>\n",
              "      <td>0.0</td>\n",
              "      <td>0.000000</td>\n",
              "      <td>0.0</td>\n",
              "      <td>0.001504</td>\n",
              "      <td>0.0</td>\n",
              "      <td>0.000000</td>\n",
              "      <td>0.000000</td>\n",
              "      <td>0.0</td>\n",
              "      <td>0.0</td>\n",
              "      <td>0.002961</td>\n",
              "      <td>0.0</td>\n",
              "      <td>0.0</td>\n",
              "      <td>0.0</td>\n",
              "      <td>0.008520</td>\n",
              "      <td>0.0</td>\n",
              "      <td>0.0</td>\n",
              "      <td>0.000000</td>\n",
              "      <td>0.0</td>\n",
              "      <td>0.0</td>\n",
              "      <td>0.054214</td>\n",
              "      <td>0.0</td>\n",
              "      <td>0.0</td>\n",
              "      <td>0.0</td>\n",
              "      <td>0.0</td>\n",
              "      <td>0.0</td>\n",
              "      <td>0.0</td>\n",
              "      <td>0.0</td>\n",
              "      <td>0.004584</td>\n",
              "      <td>0.146641</td>\n",
              "    </tr>\n",
              "    <tr>\n",
              "      <th>2</th>\n",
              "      <td>com.eterno.apk.sys_names.txt</td>\n",
              "      <td>0.0</td>\n",
              "      <td>0.0</td>\n",
              "      <td>0.0</td>\n",
              "      <td>0.0</td>\n",
              "      <td>0.0</td>\n",
              "      <td>0.0</td>\n",
              "      <td>0.0</td>\n",
              "      <td>0.0</td>\n",
              "      <td>0.0</td>\n",
              "      <td>0.0</td>\n",
              "      <td>0.0</td>\n",
              "      <td>0.0</td>\n",
              "      <td>0.0</td>\n",
              "      <td>0.0</td>\n",
              "      <td>0.0</td>\n",
              "      <td>0.0</td>\n",
              "      <td>0.0</td>\n",
              "      <td>0.0</td>\n",
              "      <td>0.0</td>\n",
              "      <td>0.0</td>\n",
              "      <td>0.0</td>\n",
              "      <td>0.0</td>\n",
              "      <td>0.0</td>\n",
              "      <td>0.0</td>\n",
              "      <td>0.0</td>\n",
              "      <td>0.0</td>\n",
              "      <td>0.0</td>\n",
              "      <td>0.0</td>\n",
              "      <td>0.0</td>\n",
              "      <td>0.0</td>\n",
              "      <td>0.0</td>\n",
              "      <td>0.0</td>\n",
              "      <td>0.0</td>\n",
              "      <td>0.0</td>\n",
              "      <td>0.0</td>\n",
              "      <td>0.0</td>\n",
              "      <td>0.0</td>\n",
              "      <td>0.0</td>\n",
              "      <td>0.0</td>\n",
              "      <td>...</td>\n",
              "      <td>0.0</td>\n",
              "      <td>0.0</td>\n",
              "      <td>0.0</td>\n",
              "      <td>0.0</td>\n",
              "      <td>0.0</td>\n",
              "      <td>0.0</td>\n",
              "      <td>0.002461</td>\n",
              "      <td>0.0</td>\n",
              "      <td>0.018298</td>\n",
              "      <td>0.0</td>\n",
              "      <td>0.000963</td>\n",
              "      <td>0.0</td>\n",
              "      <td>0.000000</td>\n",
              "      <td>0.0</td>\n",
              "      <td>0.000000</td>\n",
              "      <td>0.0</td>\n",
              "      <td>0.000000</td>\n",
              "      <td>0.000000</td>\n",
              "      <td>0.0</td>\n",
              "      <td>0.0</td>\n",
              "      <td>0.000000</td>\n",
              "      <td>0.0</td>\n",
              "      <td>0.0</td>\n",
              "      <td>0.0</td>\n",
              "      <td>0.026785</td>\n",
              "      <td>0.0</td>\n",
              "      <td>0.0</td>\n",
              "      <td>0.002219</td>\n",
              "      <td>0.0</td>\n",
              "      <td>0.0</td>\n",
              "      <td>0.034663</td>\n",
              "      <td>0.0</td>\n",
              "      <td>0.0</td>\n",
              "      <td>0.0</td>\n",
              "      <td>0.0</td>\n",
              "      <td>0.0</td>\n",
              "      <td>0.0</td>\n",
              "      <td>0.0</td>\n",
              "      <td>0.013755</td>\n",
              "      <td>0.057768</td>\n",
              "    </tr>\n",
              "    <tr>\n",
              "      <th>3</th>\n",
              "      <td>com.andromo.dev551559.app531086.apk.sys_names.txt</td>\n",
              "      <td>0.0</td>\n",
              "      <td>0.0</td>\n",
              "      <td>0.0</td>\n",
              "      <td>0.0</td>\n",
              "      <td>0.0</td>\n",
              "      <td>0.0</td>\n",
              "      <td>0.0</td>\n",
              "      <td>0.0</td>\n",
              "      <td>0.0</td>\n",
              "      <td>0.0</td>\n",
              "      <td>0.0</td>\n",
              "      <td>0.0</td>\n",
              "      <td>0.0</td>\n",
              "      <td>0.0</td>\n",
              "      <td>0.0</td>\n",
              "      <td>0.0</td>\n",
              "      <td>0.0</td>\n",
              "      <td>0.0</td>\n",
              "      <td>0.0</td>\n",
              "      <td>0.0</td>\n",
              "      <td>0.0</td>\n",
              "      <td>0.0</td>\n",
              "      <td>0.0</td>\n",
              "      <td>0.0</td>\n",
              "      <td>0.0</td>\n",
              "      <td>0.0</td>\n",
              "      <td>0.0</td>\n",
              "      <td>0.0</td>\n",
              "      <td>0.0</td>\n",
              "      <td>0.0</td>\n",
              "      <td>0.0</td>\n",
              "      <td>0.0</td>\n",
              "      <td>0.0</td>\n",
              "      <td>0.0</td>\n",
              "      <td>0.0</td>\n",
              "      <td>0.0</td>\n",
              "      <td>0.0</td>\n",
              "      <td>0.0</td>\n",
              "      <td>0.0</td>\n",
              "      <td>...</td>\n",
              "      <td>0.0</td>\n",
              "      <td>0.0</td>\n",
              "      <td>0.0</td>\n",
              "      <td>0.0</td>\n",
              "      <td>0.0</td>\n",
              "      <td>0.0</td>\n",
              "      <td>0.007407</td>\n",
              "      <td>0.0</td>\n",
              "      <td>0.016861</td>\n",
              "      <td>0.0</td>\n",
              "      <td>0.003051</td>\n",
              "      <td>0.0</td>\n",
              "      <td>0.005238</td>\n",
              "      <td>0.0</td>\n",
              "      <td>0.000953</td>\n",
              "      <td>0.0</td>\n",
              "      <td>0.000000</td>\n",
              "      <td>0.000000</td>\n",
              "      <td>0.0</td>\n",
              "      <td>0.0</td>\n",
              "      <td>0.001407</td>\n",
              "      <td>0.0</td>\n",
              "      <td>0.0</td>\n",
              "      <td>0.0</td>\n",
              "      <td>0.011955</td>\n",
              "      <td>0.0</td>\n",
              "      <td>0.0</td>\n",
              "      <td>0.000000</td>\n",
              "      <td>0.0</td>\n",
              "      <td>0.0</td>\n",
              "      <td>0.027980</td>\n",
              "      <td>0.0</td>\n",
              "      <td>0.0</td>\n",
              "      <td>0.0</td>\n",
              "      <td>0.0</td>\n",
              "      <td>0.0</td>\n",
              "      <td>0.0</td>\n",
              "      <td>0.0</td>\n",
              "      <td>0.005446</td>\n",
              "      <td>0.081086</td>\n",
              "    </tr>\n",
              "    <tr>\n",
              "      <th>4</th>\n",
              "      <td>com.blinkslabs.blinkist.android.apk.sys_names.txt</td>\n",
              "      <td>0.0</td>\n",
              "      <td>0.0</td>\n",
              "      <td>0.0</td>\n",
              "      <td>0.0</td>\n",
              "      <td>0.0</td>\n",
              "      <td>0.0</td>\n",
              "      <td>0.0</td>\n",
              "      <td>0.0</td>\n",
              "      <td>0.0</td>\n",
              "      <td>0.0</td>\n",
              "      <td>0.0</td>\n",
              "      <td>0.0</td>\n",
              "      <td>0.0</td>\n",
              "      <td>0.0</td>\n",
              "      <td>0.0</td>\n",
              "      <td>0.0</td>\n",
              "      <td>0.0</td>\n",
              "      <td>0.0</td>\n",
              "      <td>0.0</td>\n",
              "      <td>0.0</td>\n",
              "      <td>0.0</td>\n",
              "      <td>0.0</td>\n",
              "      <td>0.0</td>\n",
              "      <td>0.0</td>\n",
              "      <td>0.0</td>\n",
              "      <td>0.0</td>\n",
              "      <td>0.0</td>\n",
              "      <td>0.0</td>\n",
              "      <td>0.0</td>\n",
              "      <td>0.0</td>\n",
              "      <td>0.0</td>\n",
              "      <td>0.0</td>\n",
              "      <td>0.0</td>\n",
              "      <td>0.0</td>\n",
              "      <td>0.0</td>\n",
              "      <td>0.0</td>\n",
              "      <td>0.0</td>\n",
              "      <td>0.0</td>\n",
              "      <td>0.0</td>\n",
              "      <td>...</td>\n",
              "      <td>0.0</td>\n",
              "      <td>0.0</td>\n",
              "      <td>0.0</td>\n",
              "      <td>0.0</td>\n",
              "      <td>0.0</td>\n",
              "      <td>0.0</td>\n",
              "      <td>0.055908</td>\n",
              "      <td>0.0</td>\n",
              "      <td>0.050377</td>\n",
              "      <td>0.0</td>\n",
              "      <td>0.002135</td>\n",
              "      <td>0.0</td>\n",
              "      <td>0.000000</td>\n",
              "      <td>0.0</td>\n",
              "      <td>0.003335</td>\n",
              "      <td>0.0</td>\n",
              "      <td>0.000000</td>\n",
              "      <td>0.002643</td>\n",
              "      <td>0.0</td>\n",
              "      <td>0.0</td>\n",
              "      <td>0.003281</td>\n",
              "      <td>0.0</td>\n",
              "      <td>0.0</td>\n",
              "      <td>0.0</td>\n",
              "      <td>0.016187</td>\n",
              "      <td>0.0</td>\n",
              "      <td>0.0</td>\n",
              "      <td>0.000000</td>\n",
              "      <td>0.0</td>\n",
              "      <td>0.0</td>\n",
              "      <td>0.071856</td>\n",
              "      <td>0.0</td>\n",
              "      <td>0.0</td>\n",
              "      <td>0.0</td>\n",
              "      <td>0.0</td>\n",
              "      <td>0.0</td>\n",
              "      <td>0.0</td>\n",
              "      <td>0.0</td>\n",
              "      <td>0.013970</td>\n",
              "      <td>0.282377</td>\n",
              "    </tr>\n",
              "    <tr>\n",
              "      <th>...</th>\n",
              "      <td>...</td>\n",
              "      <td>...</td>\n",
              "      <td>...</td>\n",
              "      <td>...</td>\n",
              "      <td>...</td>\n",
              "      <td>...</td>\n",
              "      <td>...</td>\n",
              "      <td>...</td>\n",
              "      <td>...</td>\n",
              "      <td>...</td>\n",
              "      <td>...</td>\n",
              "      <td>...</td>\n",
              "      <td>...</td>\n",
              "      <td>...</td>\n",
              "      <td>...</td>\n",
              "      <td>...</td>\n",
              "      <td>...</td>\n",
              "      <td>...</td>\n",
              "      <td>...</td>\n",
              "      <td>...</td>\n",
              "      <td>...</td>\n",
              "      <td>...</td>\n",
              "      <td>...</td>\n",
              "      <td>...</td>\n",
              "      <td>...</td>\n",
              "      <td>...</td>\n",
              "      <td>...</td>\n",
              "      <td>...</td>\n",
              "      <td>...</td>\n",
              "      <td>...</td>\n",
              "      <td>...</td>\n",
              "      <td>...</td>\n",
              "      <td>...</td>\n",
              "      <td>...</td>\n",
              "      <td>...</td>\n",
              "      <td>...</td>\n",
              "      <td>...</td>\n",
              "      <td>...</td>\n",
              "      <td>...</td>\n",
              "      <td>...</td>\n",
              "      <td>...</td>\n",
              "      <td>...</td>\n",
              "      <td>...</td>\n",
              "      <td>...</td>\n",
              "      <td>...</td>\n",
              "      <td>...</td>\n",
              "      <td>...</td>\n",
              "      <td>...</td>\n",
              "      <td>...</td>\n",
              "      <td>...</td>\n",
              "      <td>...</td>\n",
              "      <td>...</td>\n",
              "      <td>...</td>\n",
              "      <td>...</td>\n",
              "      <td>...</td>\n",
              "      <td>...</td>\n",
              "      <td>...</td>\n",
              "      <td>...</td>\n",
              "      <td>...</td>\n",
              "      <td>...</td>\n",
              "      <td>...</td>\n",
              "      <td>...</td>\n",
              "      <td>...</td>\n",
              "      <td>...</td>\n",
              "      <td>...</td>\n",
              "      <td>...</td>\n",
              "      <td>...</td>\n",
              "      <td>...</td>\n",
              "      <td>...</td>\n",
              "      <td>...</td>\n",
              "      <td>...</td>\n",
              "      <td>...</td>\n",
              "      <td>...</td>\n",
              "      <td>...</td>\n",
              "      <td>...</td>\n",
              "      <td>...</td>\n",
              "      <td>...</td>\n",
              "      <td>...</td>\n",
              "      <td>...</td>\n",
              "      <td>...</td>\n",
              "      <td>...</td>\n",
              "    </tr>\n",
              "    <tr>\n",
              "      <th>5817</th>\n",
              "      <td>a0bffc11168c65beb59c326d88f144f0d750634252a507...</td>\n",
              "      <td>0.0</td>\n",
              "      <td>0.0</td>\n",
              "      <td>0.0</td>\n",
              "      <td>0.0</td>\n",
              "      <td>0.0</td>\n",
              "      <td>0.0</td>\n",
              "      <td>0.0</td>\n",
              "      <td>0.0</td>\n",
              "      <td>0.0</td>\n",
              "      <td>0.0</td>\n",
              "      <td>0.0</td>\n",
              "      <td>0.0</td>\n",
              "      <td>0.0</td>\n",
              "      <td>0.0</td>\n",
              "      <td>0.0</td>\n",
              "      <td>0.0</td>\n",
              "      <td>0.0</td>\n",
              "      <td>0.0</td>\n",
              "      <td>0.0</td>\n",
              "      <td>0.0</td>\n",
              "      <td>0.0</td>\n",
              "      <td>0.0</td>\n",
              "      <td>0.0</td>\n",
              "      <td>0.0</td>\n",
              "      <td>0.0</td>\n",
              "      <td>0.0</td>\n",
              "      <td>0.0</td>\n",
              "      <td>0.0</td>\n",
              "      <td>0.0</td>\n",
              "      <td>0.0</td>\n",
              "      <td>0.0</td>\n",
              "      <td>0.0</td>\n",
              "      <td>0.0</td>\n",
              "      <td>0.0</td>\n",
              "      <td>0.0</td>\n",
              "      <td>0.0</td>\n",
              "      <td>0.0</td>\n",
              "      <td>0.0</td>\n",
              "      <td>0.0</td>\n",
              "      <td>...</td>\n",
              "      <td>0.0</td>\n",
              "      <td>0.0</td>\n",
              "      <td>0.0</td>\n",
              "      <td>0.0</td>\n",
              "      <td>0.0</td>\n",
              "      <td>0.0</td>\n",
              "      <td>0.000000</td>\n",
              "      <td>0.0</td>\n",
              "      <td>0.010502</td>\n",
              "      <td>0.0</td>\n",
              "      <td>0.000000</td>\n",
              "      <td>0.0</td>\n",
              "      <td>0.000000</td>\n",
              "      <td>0.0</td>\n",
              "      <td>0.000000</td>\n",
              "      <td>0.0</td>\n",
              "      <td>0.000000</td>\n",
              "      <td>0.000000</td>\n",
              "      <td>0.0</td>\n",
              "      <td>0.0</td>\n",
              "      <td>0.000000</td>\n",
              "      <td>0.0</td>\n",
              "      <td>0.0</td>\n",
              "      <td>0.0</td>\n",
              "      <td>0.000000</td>\n",
              "      <td>0.0</td>\n",
              "      <td>0.0</td>\n",
              "      <td>0.000000</td>\n",
              "      <td>0.0</td>\n",
              "      <td>0.0</td>\n",
              "      <td>0.000000</td>\n",
              "      <td>0.0</td>\n",
              "      <td>0.0</td>\n",
              "      <td>0.0</td>\n",
              "      <td>0.0</td>\n",
              "      <td>0.0</td>\n",
              "      <td>0.0</td>\n",
              "      <td>0.0</td>\n",
              "      <td>0.000000</td>\n",
              "      <td>0.000000</td>\n",
              "    </tr>\n",
              "    <tr>\n",
              "      <th>5818</th>\n",
              "      <td>02c9bddf966b59a8850a7395e7ce5af21ca16c442a0389...</td>\n",
              "      <td>0.0</td>\n",
              "      <td>0.0</td>\n",
              "      <td>0.0</td>\n",
              "      <td>0.0</td>\n",
              "      <td>0.0</td>\n",
              "      <td>0.0</td>\n",
              "      <td>0.0</td>\n",
              "      <td>0.0</td>\n",
              "      <td>0.0</td>\n",
              "      <td>0.0</td>\n",
              "      <td>0.0</td>\n",
              "      <td>0.0</td>\n",
              "      <td>0.0</td>\n",
              "      <td>0.0</td>\n",
              "      <td>0.0</td>\n",
              "      <td>0.0</td>\n",
              "      <td>0.0</td>\n",
              "      <td>0.0</td>\n",
              "      <td>0.0</td>\n",
              "      <td>0.0</td>\n",
              "      <td>0.0</td>\n",
              "      <td>0.0</td>\n",
              "      <td>0.0</td>\n",
              "      <td>0.0</td>\n",
              "      <td>0.0</td>\n",
              "      <td>0.0</td>\n",
              "      <td>0.0</td>\n",
              "      <td>0.0</td>\n",
              "      <td>0.0</td>\n",
              "      <td>0.0</td>\n",
              "      <td>0.0</td>\n",
              "      <td>0.0</td>\n",
              "      <td>0.0</td>\n",
              "      <td>0.0</td>\n",
              "      <td>0.0</td>\n",
              "      <td>0.0</td>\n",
              "      <td>0.0</td>\n",
              "      <td>0.0</td>\n",
              "      <td>0.0</td>\n",
              "      <td>...</td>\n",
              "      <td>0.0</td>\n",
              "      <td>0.0</td>\n",
              "      <td>0.0</td>\n",
              "      <td>0.0</td>\n",
              "      <td>0.0</td>\n",
              "      <td>0.0</td>\n",
              "      <td>0.017701</td>\n",
              "      <td>0.0</td>\n",
              "      <td>0.015096</td>\n",
              "      <td>0.0</td>\n",
              "      <td>0.000990</td>\n",
              "      <td>0.0</td>\n",
              "      <td>0.001214</td>\n",
              "      <td>0.0</td>\n",
              "      <td>0.001546</td>\n",
              "      <td>0.0</td>\n",
              "      <td>0.000000</td>\n",
              "      <td>0.003064</td>\n",
              "      <td>0.0</td>\n",
              "      <td>0.0</td>\n",
              "      <td>0.000761</td>\n",
              "      <td>0.0</td>\n",
              "      <td>0.0</td>\n",
              "      <td>0.0</td>\n",
              "      <td>0.006254</td>\n",
              "      <td>0.0</td>\n",
              "      <td>0.0</td>\n",
              "      <td>0.000000</td>\n",
              "      <td>0.0</td>\n",
              "      <td>0.0</td>\n",
              "      <td>0.033888</td>\n",
              "      <td>0.0</td>\n",
              "      <td>0.0</td>\n",
              "      <td>0.0</td>\n",
              "      <td>0.0</td>\n",
              "      <td>0.0</td>\n",
              "      <td>0.0</td>\n",
              "      <td>0.0</td>\n",
              "      <td>0.007655</td>\n",
              "      <td>0.096296</td>\n",
              "    </tr>\n",
              "    <tr>\n",
              "      <th>5819</th>\n",
              "      <td>6113bc8bbbdfe89114a12ddfa25ad54eed63367cf21462...</td>\n",
              "      <td>0.0</td>\n",
              "      <td>0.0</td>\n",
              "      <td>0.0</td>\n",
              "      <td>0.0</td>\n",
              "      <td>0.0</td>\n",
              "      <td>0.0</td>\n",
              "      <td>0.0</td>\n",
              "      <td>0.0</td>\n",
              "      <td>0.0</td>\n",
              "      <td>0.0</td>\n",
              "      <td>0.0</td>\n",
              "      <td>0.0</td>\n",
              "      <td>0.0</td>\n",
              "      <td>0.0</td>\n",
              "      <td>0.0</td>\n",
              "      <td>0.0</td>\n",
              "      <td>0.0</td>\n",
              "      <td>0.0</td>\n",
              "      <td>0.0</td>\n",
              "      <td>0.0</td>\n",
              "      <td>0.0</td>\n",
              "      <td>0.0</td>\n",
              "      <td>0.0</td>\n",
              "      <td>0.0</td>\n",
              "      <td>0.0</td>\n",
              "      <td>0.0</td>\n",
              "      <td>0.0</td>\n",
              "      <td>0.0</td>\n",
              "      <td>0.0</td>\n",
              "      <td>0.0</td>\n",
              "      <td>0.0</td>\n",
              "      <td>0.0</td>\n",
              "      <td>0.0</td>\n",
              "      <td>0.0</td>\n",
              "      <td>0.0</td>\n",
              "      <td>0.0</td>\n",
              "      <td>0.0</td>\n",
              "      <td>0.0</td>\n",
              "      <td>0.0</td>\n",
              "      <td>...</td>\n",
              "      <td>0.0</td>\n",
              "      <td>0.0</td>\n",
              "      <td>0.0</td>\n",
              "      <td>0.0</td>\n",
              "      <td>0.0</td>\n",
              "      <td>0.0</td>\n",
              "      <td>0.000000</td>\n",
              "      <td>0.0</td>\n",
              "      <td>0.044165</td>\n",
              "      <td>0.0</td>\n",
              "      <td>0.000000</td>\n",
              "      <td>0.0</td>\n",
              "      <td>0.000000</td>\n",
              "      <td>0.0</td>\n",
              "      <td>0.014983</td>\n",
              "      <td>0.0</td>\n",
              "      <td>0.000000</td>\n",
              "      <td>0.000000</td>\n",
              "      <td>0.0</td>\n",
              "      <td>0.0</td>\n",
              "      <td>0.000000</td>\n",
              "      <td>0.0</td>\n",
              "      <td>0.0</td>\n",
              "      <td>0.0</td>\n",
              "      <td>0.000000</td>\n",
              "      <td>0.0</td>\n",
              "      <td>0.0</td>\n",
              "      <td>0.000000</td>\n",
              "      <td>0.0</td>\n",
              "      <td>0.0</td>\n",
              "      <td>0.000000</td>\n",
              "      <td>0.0</td>\n",
              "      <td>0.0</td>\n",
              "      <td>0.0</td>\n",
              "      <td>0.0</td>\n",
              "      <td>0.0</td>\n",
              "      <td>0.0</td>\n",
              "      <td>0.0</td>\n",
              "      <td>0.011413</td>\n",
              "      <td>0.146608</td>\n",
              "    </tr>\n",
              "    <tr>\n",
              "      <th>5820</th>\n",
              "      <td>3ddcdc882166b87d3db9d5cc21ccd4c7009e1f134edeeb...</td>\n",
              "      <td>0.0</td>\n",
              "      <td>0.0</td>\n",
              "      <td>0.0</td>\n",
              "      <td>0.0</td>\n",
              "      <td>0.0</td>\n",
              "      <td>0.0</td>\n",
              "      <td>0.0</td>\n",
              "      <td>0.0</td>\n",
              "      <td>0.0</td>\n",
              "      <td>0.0</td>\n",
              "      <td>0.0</td>\n",
              "      <td>0.0</td>\n",
              "      <td>0.0</td>\n",
              "      <td>0.0</td>\n",
              "      <td>0.0</td>\n",
              "      <td>0.0</td>\n",
              "      <td>0.0</td>\n",
              "      <td>0.0</td>\n",
              "      <td>0.0</td>\n",
              "      <td>0.0</td>\n",
              "      <td>0.0</td>\n",
              "      <td>0.0</td>\n",
              "      <td>0.0</td>\n",
              "      <td>0.0</td>\n",
              "      <td>0.0</td>\n",
              "      <td>0.0</td>\n",
              "      <td>0.0</td>\n",
              "      <td>0.0</td>\n",
              "      <td>0.0</td>\n",
              "      <td>0.0</td>\n",
              "      <td>0.0</td>\n",
              "      <td>0.0</td>\n",
              "      <td>0.0</td>\n",
              "      <td>0.0</td>\n",
              "      <td>0.0</td>\n",
              "      <td>0.0</td>\n",
              "      <td>0.0</td>\n",
              "      <td>0.0</td>\n",
              "      <td>0.0</td>\n",
              "      <td>...</td>\n",
              "      <td>0.0</td>\n",
              "      <td>0.0</td>\n",
              "      <td>0.0</td>\n",
              "      <td>0.0</td>\n",
              "      <td>0.0</td>\n",
              "      <td>0.0</td>\n",
              "      <td>0.003347</td>\n",
              "      <td>0.0</td>\n",
              "      <td>0.014325</td>\n",
              "      <td>0.0</td>\n",
              "      <td>0.000000</td>\n",
              "      <td>0.0</td>\n",
              "      <td>0.000000</td>\n",
              "      <td>0.0</td>\n",
              "      <td>0.000000</td>\n",
              "      <td>0.0</td>\n",
              "      <td>0.000000</td>\n",
              "      <td>0.000000</td>\n",
              "      <td>0.0</td>\n",
              "      <td>0.0</td>\n",
              "      <td>0.002013</td>\n",
              "      <td>0.0</td>\n",
              "      <td>0.0</td>\n",
              "      <td>0.0</td>\n",
              "      <td>0.008277</td>\n",
              "      <td>0.0</td>\n",
              "      <td>0.0</td>\n",
              "      <td>0.000000</td>\n",
              "      <td>0.0</td>\n",
              "      <td>0.0</td>\n",
              "      <td>0.018624</td>\n",
              "      <td>0.0</td>\n",
              "      <td>0.0</td>\n",
              "      <td>0.0</td>\n",
              "      <td>0.0</td>\n",
              "      <td>0.0</td>\n",
              "      <td>0.0</td>\n",
              "      <td>0.0</td>\n",
              "      <td>0.006624</td>\n",
              "      <td>0.049669</td>\n",
              "    </tr>\n",
              "    <tr>\n",
              "      <th>5821</th>\n",
              "      <td>66d6c067ca2c6e500caac92977f19c513436b2ae276ab9...</td>\n",
              "      <td>0.0</td>\n",
              "      <td>0.0</td>\n",
              "      <td>0.0</td>\n",
              "      <td>0.0</td>\n",
              "      <td>0.0</td>\n",
              "      <td>0.0</td>\n",
              "      <td>0.0</td>\n",
              "      <td>0.0</td>\n",
              "      <td>0.0</td>\n",
              "      <td>0.0</td>\n",
              "      <td>0.0</td>\n",
              "      <td>0.0</td>\n",
              "      <td>0.0</td>\n",
              "      <td>0.0</td>\n",
              "      <td>0.0</td>\n",
              "      <td>0.0</td>\n",
              "      <td>0.0</td>\n",
              "      <td>0.0</td>\n",
              "      <td>0.0</td>\n",
              "      <td>0.0</td>\n",
              "      <td>0.0</td>\n",
              "      <td>0.0</td>\n",
              "      <td>0.0</td>\n",
              "      <td>0.0</td>\n",
              "      <td>0.0</td>\n",
              "      <td>0.0</td>\n",
              "      <td>0.0</td>\n",
              "      <td>0.0</td>\n",
              "      <td>0.0</td>\n",
              "      <td>0.0</td>\n",
              "      <td>0.0</td>\n",
              "      <td>0.0</td>\n",
              "      <td>0.0</td>\n",
              "      <td>0.0</td>\n",
              "      <td>0.0</td>\n",
              "      <td>0.0</td>\n",
              "      <td>0.0</td>\n",
              "      <td>0.0</td>\n",
              "      <td>0.0</td>\n",
              "      <td>...</td>\n",
              "      <td>0.0</td>\n",
              "      <td>0.0</td>\n",
              "      <td>0.0</td>\n",
              "      <td>0.0</td>\n",
              "      <td>0.0</td>\n",
              "      <td>0.0</td>\n",
              "      <td>0.000000</td>\n",
              "      <td>0.0</td>\n",
              "      <td>0.000000</td>\n",
              "      <td>0.0</td>\n",
              "      <td>0.000000</td>\n",
              "      <td>0.0</td>\n",
              "      <td>0.000000</td>\n",
              "      <td>0.0</td>\n",
              "      <td>0.000000</td>\n",
              "      <td>0.0</td>\n",
              "      <td>0.041154</td>\n",
              "      <td>0.000000</td>\n",
              "      <td>0.0</td>\n",
              "      <td>0.0</td>\n",
              "      <td>0.000000</td>\n",
              "      <td>0.0</td>\n",
              "      <td>0.0</td>\n",
              "      <td>0.0</td>\n",
              "      <td>0.000000</td>\n",
              "      <td>0.0</td>\n",
              "      <td>0.0</td>\n",
              "      <td>0.000000</td>\n",
              "      <td>0.0</td>\n",
              "      <td>0.0</td>\n",
              "      <td>0.000000</td>\n",
              "      <td>0.0</td>\n",
              "      <td>0.0</td>\n",
              "      <td>0.0</td>\n",
              "      <td>0.0</td>\n",
              "      <td>0.0</td>\n",
              "      <td>0.0</td>\n",
              "      <td>0.0</td>\n",
              "      <td>0.000000</td>\n",
              "      <td>0.000000</td>\n",
              "    </tr>\n",
              "  </tbody>\n",
              "</table>\n",
              "<p>5822 rows × 2426 columns</p>\n",
              "</div>"
            ],
            "text/plain": [
              "                                                   File  ...  writev writev\n",
              "0                      com.chinadeals.apk.sys_names.txt  ...       0.097165\n",
              "1                chat.cristianogratis.apk.sys_names.txt  ...       0.146641\n",
              "2                          com.eterno.apk.sys_names.txt  ...       0.057768\n",
              "3     com.andromo.dev551559.app531086.apk.sys_names.txt  ...       0.081086\n",
              "4     com.blinkslabs.blinkist.android.apk.sys_names.txt  ...       0.282377\n",
              "...                                                 ...  ...            ...\n",
              "5817  a0bffc11168c65beb59c326d88f144f0d750634252a507...  ...       0.000000\n",
              "5818  02c9bddf966b59a8850a7395e7ce5af21ca16c442a0389...  ...       0.096296\n",
              "5819  6113bc8bbbdfe89114a12ddfa25ad54eed63367cf21462...  ...       0.146608\n",
              "5820  3ddcdc882166b87d3db9d5cc21ccd4c7009e1f134edeeb...  ...       0.049669\n",
              "5821  66d6c067ca2c6e500caac92977f19c513436b2ae276ab9...  ...       0.000000\n",
              "\n",
              "[5822 rows x 2426 columns]"
            ]
          },
          "metadata": {
            "tags": []
          },
          "execution_count": 164
        }
      ]
    },
    {
      "cell_type": "code",
      "metadata": {
        "id": "a1gBknvcrVhh",
        "outputId": "0fd13e6f-81dd-446d-eaec-c9d0a348bedd",
        "colab": {
          "base_uri": "https://localhost:8080/",
          "height": 438
        }
      },
      "source": [
        "a = list(feature_df['Features'].head(n=30))\n",
        "top30_bigram_tfidf_data = bigram_tfidf_data[a]\n",
        "top30_bigram_tfidf_data"
      ],
      "execution_count": null,
      "outputs": [
        {
          "output_type": "execute_result",
          "data": {
            "text/html": [
              "<div>\n",
              "<style scoped>\n",
              "    .dataframe tbody tr th:only-of-type {\n",
              "        vertical-align: middle;\n",
              "    }\n",
              "\n",
              "    .dataframe tbody tr th {\n",
              "        vertical-align: top;\n",
              "    }\n",
              "\n",
              "    .dataframe thead th {\n",
              "        text-align: right;\n",
              "    }\n",
              "</style>\n",
              "<table border=\"1\" class=\"dataframe\">\n",
              "  <thead>\n",
              "    <tr style=\"text-align: right;\">\n",
              "      <th></th>\n",
              "      <th>fcntl64 ftruncate</th>\n",
              "      <th>fstat64 close</th>\n",
              "      <th>sendto getrlimit</th>\n",
              "      <th>clone prctl</th>\n",
              "      <th>ioctl geteuid</th>\n",
              "      <th>sendmsg getuid</th>\n",
              "      <th>geteuid32 openat</th>\n",
              "      <th>prctl clock_gettime</th>\n",
              "      <th>openat readlinkat</th>\n",
              "      <th>mmap2 faccessat</th>\n",
              "      <th>read rt_sigreturn</th>\n",
              "      <th>write mprotect</th>\n",
              "      <th>ioctl write</th>\n",
              "      <th>read sendto</th>\n",
              "      <th>newfstatat clone</th>\n",
              "      <th>getuid32 rt_sigprocmask</th>\n",
              "      <th>mmap getrlimit</th>\n",
              "      <th>recvfrom sendmsg</th>\n",
              "      <th>rt_sigprocmask fstatat64</th>\n",
              "      <th>clock_gettime setrlimit</th>\n",
              "      <th>fcntl64 recvfrom</th>\n",
              "      <th>prctl futex</th>\n",
              "      <th>getegid32 faccessat</th>\n",
              "      <th>openat ppoll</th>\n",
              "      <th>munmap mmap2</th>\n",
              "      <th>newfstatat sendto</th>\n",
              "      <th>fstat64 ftruncate64</th>\n",
              "      <th>futex geteuid</th>\n",
              "      <th>fchmodat madvise</th>\n",
              "      <th>recvfrom fchmodat</th>\n",
              "    </tr>\n",
              "  </thead>\n",
              "  <tbody>\n",
              "    <tr>\n",
              "      <th>0</th>\n",
              "      <td>0.0</td>\n",
              "      <td>0.0</td>\n",
              "      <td>0.0</td>\n",
              "      <td>0.0</td>\n",
              "      <td>0.0</td>\n",
              "      <td>0.0</td>\n",
              "      <td>0.0</td>\n",
              "      <td>0.0</td>\n",
              "      <td>0.0</td>\n",
              "      <td>0.0</td>\n",
              "      <td>0.0</td>\n",
              "      <td>0.000000</td>\n",
              "      <td>0.076253</td>\n",
              "      <td>0.000736</td>\n",
              "      <td>0.0</td>\n",
              "      <td>0.0</td>\n",
              "      <td>0.0</td>\n",
              "      <td>0.0</td>\n",
              "      <td>0.0</td>\n",
              "      <td>0.0</td>\n",
              "      <td>0.0</td>\n",
              "      <td>0.000000</td>\n",
              "      <td>0.0</td>\n",
              "      <td>0.0</td>\n",
              "      <td>0.0</td>\n",
              "      <td>0.0</td>\n",
              "      <td>0.0</td>\n",
              "      <td>0.0</td>\n",
              "      <td>0.0</td>\n",
              "      <td>0.0</td>\n",
              "    </tr>\n",
              "    <tr>\n",
              "      <th>1</th>\n",
              "      <td>0.0</td>\n",
              "      <td>0.0</td>\n",
              "      <td>0.0</td>\n",
              "      <td>0.0</td>\n",
              "      <td>0.0</td>\n",
              "      <td>0.0</td>\n",
              "      <td>0.0</td>\n",
              "      <td>0.0</td>\n",
              "      <td>0.0</td>\n",
              "      <td>0.0</td>\n",
              "      <td>0.0</td>\n",
              "      <td>0.001013</td>\n",
              "      <td>0.061870</td>\n",
              "      <td>0.000986</td>\n",
              "      <td>0.0</td>\n",
              "      <td>0.0</td>\n",
              "      <td>0.0</td>\n",
              "      <td>0.0</td>\n",
              "      <td>0.0</td>\n",
              "      <td>0.0</td>\n",
              "      <td>0.0</td>\n",
              "      <td>0.000000</td>\n",
              "      <td>0.0</td>\n",
              "      <td>0.0</td>\n",
              "      <td>0.0</td>\n",
              "      <td>0.0</td>\n",
              "      <td>0.0</td>\n",
              "      <td>0.0</td>\n",
              "      <td>0.0</td>\n",
              "      <td>0.0</td>\n",
              "    </tr>\n",
              "    <tr>\n",
              "      <th>2</th>\n",
              "      <td>0.0</td>\n",
              "      <td>0.0</td>\n",
              "      <td>0.0</td>\n",
              "      <td>0.0</td>\n",
              "      <td>0.0</td>\n",
              "      <td>0.0</td>\n",
              "      <td>0.0</td>\n",
              "      <td>0.0</td>\n",
              "      <td>0.0</td>\n",
              "      <td>0.0</td>\n",
              "      <td>0.0</td>\n",
              "      <td>0.000000</td>\n",
              "      <td>0.104438</td>\n",
              "      <td>0.004931</td>\n",
              "      <td>0.0</td>\n",
              "      <td>0.0</td>\n",
              "      <td>0.0</td>\n",
              "      <td>0.0</td>\n",
              "      <td>0.0</td>\n",
              "      <td>0.0</td>\n",
              "      <td>0.0</td>\n",
              "      <td>0.002698</td>\n",
              "      <td>0.0</td>\n",
              "      <td>0.0</td>\n",
              "      <td>0.0</td>\n",
              "      <td>0.0</td>\n",
              "      <td>0.0</td>\n",
              "      <td>0.0</td>\n",
              "      <td>0.0</td>\n",
              "      <td>0.0</td>\n",
              "    </tr>\n",
              "    <tr>\n",
              "      <th>3</th>\n",
              "      <td>0.0</td>\n",
              "      <td>0.0</td>\n",
              "      <td>0.0</td>\n",
              "      <td>0.0</td>\n",
              "      <td>0.0</td>\n",
              "      <td>0.0</td>\n",
              "      <td>0.0</td>\n",
              "      <td>0.0</td>\n",
              "      <td>0.0</td>\n",
              "      <td>0.0</td>\n",
              "      <td>0.0</td>\n",
              "      <td>0.001284</td>\n",
              "      <td>0.036406</td>\n",
              "      <td>0.000000</td>\n",
              "      <td>0.0</td>\n",
              "      <td>0.0</td>\n",
              "      <td>0.0</td>\n",
              "      <td>0.0</td>\n",
              "      <td>0.0</td>\n",
              "      <td>0.0</td>\n",
              "      <td>0.0</td>\n",
              "      <td>0.001709</td>\n",
              "      <td>0.0</td>\n",
              "      <td>0.0</td>\n",
              "      <td>0.0</td>\n",
              "      <td>0.0</td>\n",
              "      <td>0.0</td>\n",
              "      <td>0.0</td>\n",
              "      <td>0.0</td>\n",
              "      <td>0.0</td>\n",
              "    </tr>\n",
              "    <tr>\n",
              "      <th>4</th>\n",
              "      <td>0.0</td>\n",
              "      <td>0.0</td>\n",
              "      <td>0.0</td>\n",
              "      <td>0.0</td>\n",
              "      <td>0.0</td>\n",
              "      <td>0.0</td>\n",
              "      <td>0.0</td>\n",
              "      <td>0.0</td>\n",
              "      <td>0.0</td>\n",
              "      <td>0.0</td>\n",
              "      <td>0.0</td>\n",
              "      <td>0.000000</td>\n",
              "      <td>0.094285</td>\n",
              "      <td>0.004371</td>\n",
              "      <td>0.0</td>\n",
              "      <td>0.0</td>\n",
              "      <td>0.0</td>\n",
              "      <td>0.0</td>\n",
              "      <td>0.0</td>\n",
              "      <td>0.0</td>\n",
              "      <td>0.0</td>\n",
              "      <td>0.000000</td>\n",
              "      <td>0.0</td>\n",
              "      <td>0.0</td>\n",
              "      <td>0.0</td>\n",
              "      <td>0.0</td>\n",
              "      <td>0.0</td>\n",
              "      <td>0.0</td>\n",
              "      <td>0.0</td>\n",
              "      <td>0.0</td>\n",
              "    </tr>\n",
              "    <tr>\n",
              "      <th>...</th>\n",
              "      <td>...</td>\n",
              "      <td>...</td>\n",
              "      <td>...</td>\n",
              "      <td>...</td>\n",
              "      <td>...</td>\n",
              "      <td>...</td>\n",
              "      <td>...</td>\n",
              "      <td>...</td>\n",
              "      <td>...</td>\n",
              "      <td>...</td>\n",
              "      <td>...</td>\n",
              "      <td>...</td>\n",
              "      <td>...</td>\n",
              "      <td>...</td>\n",
              "      <td>...</td>\n",
              "      <td>...</td>\n",
              "      <td>...</td>\n",
              "      <td>...</td>\n",
              "      <td>...</td>\n",
              "      <td>...</td>\n",
              "      <td>...</td>\n",
              "      <td>...</td>\n",
              "      <td>...</td>\n",
              "      <td>...</td>\n",
              "      <td>...</td>\n",
              "      <td>...</td>\n",
              "      <td>...</td>\n",
              "      <td>...</td>\n",
              "      <td>...</td>\n",
              "      <td>...</td>\n",
              "    </tr>\n",
              "    <tr>\n",
              "      <th>5817</th>\n",
              "      <td>0.0</td>\n",
              "      <td>0.0</td>\n",
              "      <td>0.0</td>\n",
              "      <td>0.0</td>\n",
              "      <td>0.0</td>\n",
              "      <td>0.0</td>\n",
              "      <td>0.0</td>\n",
              "      <td>0.0</td>\n",
              "      <td>0.0</td>\n",
              "      <td>0.0</td>\n",
              "      <td>0.0</td>\n",
              "      <td>0.000000</td>\n",
              "      <td>0.230257</td>\n",
              "      <td>0.000000</td>\n",
              "      <td>0.0</td>\n",
              "      <td>0.0</td>\n",
              "      <td>0.0</td>\n",
              "      <td>0.0</td>\n",
              "      <td>0.0</td>\n",
              "      <td>0.0</td>\n",
              "      <td>0.0</td>\n",
              "      <td>0.000000</td>\n",
              "      <td>0.0</td>\n",
              "      <td>0.0</td>\n",
              "      <td>0.0</td>\n",
              "      <td>0.0</td>\n",
              "      <td>0.0</td>\n",
              "      <td>0.0</td>\n",
              "      <td>0.0</td>\n",
              "      <td>0.0</td>\n",
              "    </tr>\n",
              "    <tr>\n",
              "      <th>5818</th>\n",
              "      <td>0.0</td>\n",
              "      <td>0.0</td>\n",
              "      <td>0.0</td>\n",
              "      <td>0.0</td>\n",
              "      <td>0.0</td>\n",
              "      <td>0.0</td>\n",
              "      <td>0.0</td>\n",
              "      <td>0.0</td>\n",
              "      <td>0.0</td>\n",
              "      <td>0.0</td>\n",
              "      <td>0.0</td>\n",
              "      <td>0.000000</td>\n",
              "      <td>0.051092</td>\n",
              "      <td>0.000000</td>\n",
              "      <td>0.0</td>\n",
              "      <td>0.0</td>\n",
              "      <td>0.0</td>\n",
              "      <td>0.0</td>\n",
              "      <td>0.0</td>\n",
              "      <td>0.0</td>\n",
              "      <td>0.0</td>\n",
              "      <td>0.000000</td>\n",
              "      <td>0.0</td>\n",
              "      <td>0.0</td>\n",
              "      <td>0.0</td>\n",
              "      <td>0.0</td>\n",
              "      <td>0.0</td>\n",
              "      <td>0.0</td>\n",
              "      <td>0.0</td>\n",
              "      <td>0.0</td>\n",
              "    </tr>\n",
              "    <tr>\n",
              "      <th>5819</th>\n",
              "      <td>0.0</td>\n",
              "      <td>0.0</td>\n",
              "      <td>0.0</td>\n",
              "      <td>0.0</td>\n",
              "      <td>0.0</td>\n",
              "      <td>0.0</td>\n",
              "      <td>0.0</td>\n",
              "      <td>0.0</td>\n",
              "      <td>0.0</td>\n",
              "      <td>0.0</td>\n",
              "      <td>0.0</td>\n",
              "      <td>0.000000</td>\n",
              "      <td>0.022006</td>\n",
              "      <td>0.000000</td>\n",
              "      <td>0.0</td>\n",
              "      <td>0.0</td>\n",
              "      <td>0.0</td>\n",
              "      <td>0.0</td>\n",
              "      <td>0.0</td>\n",
              "      <td>0.0</td>\n",
              "      <td>0.0</td>\n",
              "      <td>0.000000</td>\n",
              "      <td>0.0</td>\n",
              "      <td>0.0</td>\n",
              "      <td>0.0</td>\n",
              "      <td>0.0</td>\n",
              "      <td>0.0</td>\n",
              "      <td>0.0</td>\n",
              "      <td>0.0</td>\n",
              "      <td>0.0</td>\n",
              "    </tr>\n",
              "    <tr>\n",
              "      <th>5820</th>\n",
              "      <td>0.0</td>\n",
              "      <td>0.0</td>\n",
              "      <td>0.0</td>\n",
              "      <td>0.0</td>\n",
              "      <td>0.0</td>\n",
              "      <td>0.0</td>\n",
              "      <td>0.0</td>\n",
              "      <td>0.0</td>\n",
              "      <td>0.0</td>\n",
              "      <td>0.0</td>\n",
              "      <td>0.0</td>\n",
              "      <td>0.000000</td>\n",
              "      <td>0.063488</td>\n",
              "      <td>0.000000</td>\n",
              "      <td>0.0</td>\n",
              "      <td>0.0</td>\n",
              "      <td>0.0</td>\n",
              "      <td>0.0</td>\n",
              "      <td>0.0</td>\n",
              "      <td>0.0</td>\n",
              "      <td>0.0</td>\n",
              "      <td>0.000000</td>\n",
              "      <td>0.0</td>\n",
              "      <td>0.0</td>\n",
              "      <td>0.0</td>\n",
              "      <td>0.0</td>\n",
              "      <td>0.0</td>\n",
              "      <td>0.0</td>\n",
              "      <td>0.0</td>\n",
              "      <td>0.0</td>\n",
              "    </tr>\n",
              "    <tr>\n",
              "      <th>5821</th>\n",
              "      <td>0.0</td>\n",
              "      <td>0.0</td>\n",
              "      <td>0.0</td>\n",
              "      <td>0.0</td>\n",
              "      <td>0.0</td>\n",
              "      <td>0.0</td>\n",
              "      <td>0.0</td>\n",
              "      <td>0.0</td>\n",
              "      <td>0.0</td>\n",
              "      <td>0.0</td>\n",
              "      <td>0.0</td>\n",
              "      <td>0.000000</td>\n",
              "      <td>0.000000</td>\n",
              "      <td>0.000000</td>\n",
              "      <td>0.0</td>\n",
              "      <td>0.0</td>\n",
              "      <td>0.0</td>\n",
              "      <td>0.0</td>\n",
              "      <td>0.0</td>\n",
              "      <td>0.0</td>\n",
              "      <td>0.0</td>\n",
              "      <td>0.000000</td>\n",
              "      <td>0.0</td>\n",
              "      <td>0.0</td>\n",
              "      <td>0.0</td>\n",
              "      <td>0.0</td>\n",
              "      <td>0.0</td>\n",
              "      <td>0.0</td>\n",
              "      <td>0.0</td>\n",
              "      <td>0.0</td>\n",
              "    </tr>\n",
              "  </tbody>\n",
              "</table>\n",
              "<p>5822 rows × 30 columns</p>\n",
              "</div>"
            ],
            "text/plain": [
              "      fcntl64 ftruncate  fstat64 close  ...  fchmodat madvise  recvfrom fchmodat\n",
              "0                   0.0            0.0  ...               0.0                0.0\n",
              "1                   0.0            0.0  ...               0.0                0.0\n",
              "2                   0.0            0.0  ...               0.0                0.0\n",
              "3                   0.0            0.0  ...               0.0                0.0\n",
              "4                   0.0            0.0  ...               0.0                0.0\n",
              "...                 ...            ...  ...               ...                ...\n",
              "5817                0.0            0.0  ...               0.0                0.0\n",
              "5818                0.0            0.0  ...               0.0                0.0\n",
              "5819                0.0            0.0  ...               0.0                0.0\n",
              "5820                0.0            0.0  ...               0.0                0.0\n",
              "5821                0.0            0.0  ...               0.0                0.0\n",
              "\n",
              "[5822 rows x 30 columns]"
            ]
          },
          "metadata": {
            "tags": []
          },
          "execution_count": 165
        }
      ]
    },
    {
      "cell_type": "markdown",
      "metadata": {
        "id": "4KcRovX-szwt"
      },
      "source": [
        "### Train the model on top 30 features"
      ]
    },
    {
      "cell_type": "code",
      "metadata": {
        "id": "t9YzFKqur_o0"
      },
      "source": [
        "from sklearn import model_selection, svm\n",
        "\n",
        "X_train, X_test, Y_train, Y_test = model_selection.train_test_split( top30_bigram_tfidf_data, final_data['Label'], test_size=0.2 , random_state=45 )"
      ],
      "execution_count": null,
      "outputs": []
    },
    {
      "cell_type": "code",
      "metadata": {
        "id": "GEacCEassN1d",
        "outputId": "e0a26a94-6a6d-463e-ecde-6b66e061d017",
        "colab": {
          "base_uri": "https://localhost:8080/",
          "height": 615
        }
      },
      "source": [
        "from sklearn.metrics import classification_report, confusion_matrix, accuracy_score, plot_roc_curve\n",
        "\n",
        "#train model\n",
        "top30_feature_kernel = svm.SVC(C=1.5, kernel='poly', degree=4)\n",
        "top30_feature_kernel.fit(X_train,Y_train)\n",
        "\n",
        "#predictions\n",
        "top30_feature_kernel_Predictions = top30_feature_kernel.predict(X_test)\n",
        "\n",
        "#accuracy score\n",
        "print(\"For Polynomial Kernel trained on top30, features accuracy is \", accuracy_score(top30_feature_kernel_Predictions, Y_test))\n",
        "\n",
        "#Confusion Matrix\n",
        "print(\"\\nConfusion matrix:\\n\")\n",
        "print(confusion_matrix(Y_test,top30_feature_kernel_Predictions))\n",
        "\n",
        "#Classification Report for the rest of the metrics\n",
        "print(\"\\nClassification Report:\\n\")\n",
        "print(classification_report(Y_test,top30_feature_kernel_Predictions))\n",
        "\n",
        "#ROC Plot\n",
        "print(\"\\nROC Plot\")\n",
        "plot_roc_curve(top30_feature_kernel, X_test, Y_test) \n",
        "plt.show()"
      ],
      "execution_count": null,
      "outputs": [
        {
          "output_type": "stream",
          "text": [
            "For Polynomial Kernel trained on top30, features accuracy is  0.5871244635193134\n",
            "\n",
            "Confusion matrix:\n",
            "\n",
            "[[ 33 477]\n",
            " [  4 651]]\n",
            "\n",
            "Classification Report:\n",
            "\n",
            "              precision    recall  f1-score   support\n",
            "\n",
            "           B       0.89      0.06      0.12       510\n",
            "           M       0.58      0.99      0.73       655\n",
            "\n",
            "    accuracy                           0.59      1165\n",
            "   macro avg       0.73      0.53      0.43      1165\n",
            "weighted avg       0.71      0.59      0.46      1165\n",
            "\n",
            "\n",
            "ROC Plot\n"
          ],
          "name": "stdout"
        },
        {
          "output_type": "display_data",
          "data": {
            "image/png": "[encoded data removed]",
            "text/plain": [
              "<Figure size 432x288 with 1 Axes>"
            ]
          },
          "metadata": {
            "tags": []
          }
        }
      ]
    },
    {
      "cell_type": "markdown",
      "metadata": {
        "id": "cAmTguXp5Ln0"
      },
      "source": [
        "## Feature selection for 3 sequence\n"
      ]
    },
    {
      "cell_type": "code",
      "metadata": {
        "id": "ZR4aJcCY5Ln2",
        "outputId": "c9c815c9-f2bc-4f0f-c8c7-fe4556707645",
        "colab": {
          "base_uri": "https://localhost:8080/"
        }
      },
      "source": [
        "from sklearn.feature_extraction.text import TfidfVectorizer\n",
        "\n",
        "text = final_data['Calls']\n",
        "vectorizer = TfidfVectorizer(smooth_idf=False, sublinear_tf=False, norm=None, analyzer='word',ngram_range=(3,3))\n",
        "X = vectorizer.fit_transform(text)\n",
        "X"
      ],
      "execution_count": null,
      "outputs": [
        {
          "output_type": "execute_result",
          "data": {
            "text/plain": [
              "<5822x23331 sparse matrix of type '<class 'numpy.float64'>'\n",
              "\twith 3442893 stored elements in Compressed Sparse Row format>"
            ]
          },
          "metadata": {
            "tags": []
          },
          "execution_count": 168
        }
      ]
    },
    {
      "cell_type": "code",
      "metadata": {
        "id": "v77ZPqWA5Ln6",
        "outputId": "739f3177-4c30-4e39-d05e-2d5e6b8d5518",
        "colab": {
          "base_uri": "https://localhost:8080/"
        }
      },
      "source": [
        "trigram_features = list(vectorizer.vocabulary_.keys())\n",
        "print(trigram_features[:7])"
      ],
      "execution_count": null,
      "outputs": [
        {
          "output_type": "stream",
          "text": [
            "['ioctl pread rt_sigprocmask', 'pread rt_sigprocmask rt_sigprocmask', 'rt_sigprocmask rt_sigprocmask rt_sigprocmask', 'rt_sigprocmask rt_sigprocmask openat', 'rt_sigprocmask openat ioctl', 'openat ioctl ioctl', 'ioctl ioctl mmap']\n"
          ],
          "name": "stdout"
        }
      ]
    },
    {
      "cell_type": "code",
      "metadata": {
        "id": "qt4N4eLo5Ln9",
        "outputId": "8fd99443-d673-4292-a0d4-28fca770baab",
        "colab": {
          "base_uri": "https://localhost:8080/",
          "height": 508
        }
      },
      "source": [
        "from sklearn.tree import DecisionTreeClassifier\n",
        "Y = final_data['Label']\n",
        "\n",
        "model = DecisionTreeClassifier(max_features=15)\n",
        "model.fit(X,Y)\n",
        "\n",
        "feature_df = pd.DataFrame(list(zip(model.feature_importances_,trigram_features)), columns = ['Feature Importance', 'Features'])\n",
        "feature_df = feature_df.sort_values(by='Feature Importance',ascending=False)\n",
        "print(\"Top 30 features (3 Sequence):\")\n",
        "feature_df.head(n=15)"
      ],
      "execution_count": null,
      "outputs": [
        {
          "output_type": "stream",
          "text": [
            "Top 30 features (3 Sequence):\n"
          ],
          "name": "stdout"
        },
        {
          "output_type": "execute_result",
          "data": {
            "text/html": [
              "<div>\n",
              "<style scoped>\n",
              "    .dataframe tbody tr th:only-of-type {\n",
              "        vertical-align: middle;\n",
              "    }\n",
              "\n",
              "    .dataframe tbody tr th {\n",
              "        vertical-align: top;\n",
              "    }\n",
              "\n",
              "    .dataframe thead th {\n",
              "        text-align: right;\n",
              "    }\n",
              "</style>\n",
              "<table border=\"1\" class=\"dataframe\">\n",
              "  <thead>\n",
              "    <tr style=\"text-align: right;\">\n",
              "      <th></th>\n",
              "      <th>Feature Importance</th>\n",
              "      <th>Features</th>\n",
              "    </tr>\n",
              "  </thead>\n",
              "  <tbody>\n",
              "    <tr>\n",
              "      <th>22452</th>\n",
              "      <td>0.109745</td>\n",
              "      <td>ioctl writev fsync</td>\n",
              "    </tr>\n",
              "    <tr>\n",
              "      <th>20601</th>\n",
              "      <td>0.062664</td>\n",
              "      <td>read newfstatat mmap</td>\n",
              "    </tr>\n",
              "    <tr>\n",
              "      <th>9315</th>\n",
              "      <td>0.047965</td>\n",
              "      <td>mprotect futex pipe2</td>\n",
              "    </tr>\n",
              "    <tr>\n",
              "      <th>479</th>\n",
              "      <td>0.042854</td>\n",
              "      <td>ioctl epoll_pwait read</td>\n",
              "    </tr>\n",
              "    <tr>\n",
              "      <th>10624</th>\n",
              "      <td>0.028177</td>\n",
              "      <td>munmap write pread64</td>\n",
              "    </tr>\n",
              "    <tr>\n",
              "      <th>21798</th>\n",
              "      <td>0.021520</td>\n",
              "      <td>ioctl epoll_ctl rt_sigprocmask</td>\n",
              "    </tr>\n",
              "    <tr>\n",
              "      <th>13829</th>\n",
              "      <td>0.019237</td>\n",
              "      <td>clone getuid32 dup</td>\n",
              "    </tr>\n",
              "    <tr>\n",
              "      <th>17760</th>\n",
              "      <td>0.015724</td>\n",
              "      <td>madvise mprotect fchmodat</td>\n",
              "    </tr>\n",
              "    <tr>\n",
              "      <th>11238</th>\n",
              "      <td>0.014135</td>\n",
              "      <td>futex madvise fcntl</td>\n",
              "    </tr>\n",
              "    <tr>\n",
              "      <th>21807</th>\n",
              "      <td>0.013475</td>\n",
              "      <td>getuid sendto clock_gettime</td>\n",
              "    </tr>\n",
              "    <tr>\n",
              "      <th>3330</th>\n",
              "      <td>0.011935</td>\n",
              "      <td>fstat64 _llseek _llseek</td>\n",
              "    </tr>\n",
              "    <tr>\n",
              "      <th>3689</th>\n",
              "      <td>0.010983</td>\n",
              "      <td>fstatat64 fstatat64 mprotect</td>\n",
              "    </tr>\n",
              "    <tr>\n",
              "      <th>14929</th>\n",
              "      <td>0.010563</td>\n",
              "      <td>dup dup openat</td>\n",
              "    </tr>\n",
              "    <tr>\n",
              "      <th>13804</th>\n",
              "      <td>0.010319</td>\n",
              "      <td>recvfrom epoll_ctl newfstatat</td>\n",
              "    </tr>\n",
              "    <tr>\n",
              "      <th>17460</th>\n",
              "      <td>0.009827</td>\n",
              "      <td>getuid32 futex read</td>\n",
              "    </tr>\n",
              "  </tbody>\n",
              "</table>\n",
              "</div>"
            ],
            "text/plain": [
              "       Feature Importance                        Features\n",
              "22452            0.109745              ioctl writev fsync\n",
              "20601            0.062664            read newfstatat mmap\n",
              "9315             0.047965            mprotect futex pipe2\n",
              "479              0.042854          ioctl epoll_pwait read\n",
              "10624            0.028177            munmap write pread64\n",
              "21798            0.021520  ioctl epoll_ctl rt_sigprocmask\n",
              "13829            0.019237              clone getuid32 dup\n",
              "17760            0.015724       madvise mprotect fchmodat\n",
              "11238            0.014135             futex madvise fcntl\n",
              "21807            0.013475     getuid sendto clock_gettime\n",
              "3330             0.011935         fstat64 _llseek _llseek\n",
              "3689             0.010983    fstatat64 fstatat64 mprotect\n",
              "14929            0.010563                  dup dup openat\n",
              "13804            0.010319   recvfrom epoll_ctl newfstatat\n",
              "17460            0.009827             getuid32 futex read"
            ]
          },
          "metadata": {
            "tags": []
          },
          "execution_count": 170
        }
      ]
    },
    {
      "cell_type": "code",
      "metadata": {
        "id": "4PqoUN3353gU",
        "outputId": "dfaa08e9-fda8-4902-8ee2-d1d4c47b9a77",
        "colab": {
          "base_uri": "https://localhost:8080/",
          "height": 650
        }
      },
      "source": [
        "feature_df.iloc[:30].plot(x = 'Features', y = 'Feature Importance', kind = 'bar', figsize = (20,7), title = '3 Sequence Features and their Feature Importance')"
      ],
      "execution_count": null,
      "outputs": [
        {
          "output_type": "execute_result",
          "data": {
            "text/plain": [
              "<matplotlib.axes._subplots.AxesSubplot at 0x7f9bb012d940>"
            ]
          },
          "metadata": {
            "tags": []
          },
          "execution_count": 174
        },
        {
          "output_type": "display_data",
          "data": {
            "image/png": "[encoded data removed]",
            "text/plain": [
              "<Figure size 1440x504 with 1 Axes>"
            ]
          },
          "metadata": {
            "tags": []
          }
        }
      ]
    },
    {
      "cell_type": "markdown",
      "metadata": {
        "id": "ENsVCqy28ExL"
      },
      "source": [
        "# Task 4 - Clustering Techniques"
      ]
    },
    {
      "cell_type": "markdown",
      "metadata": {
        "id": "qy_7JlRrKrAx"
      },
      "source": [
        "This task is an attempt to understand three different clustering methods, namely - `K Means`, `Hierarchial Clustering` and `DBSCAN`.  \n",
        "This task has been performed in the following steps - \n",
        "* First, the data has been prepared. The sys-calls have been vectorized, fit and transformed using `TfidfVectorizer`. This is stored in a DataFrame `unigram_tfidf_data`. Then, we find the top 30 features by training this data using `ExtraTreesClassifier` and . Finally, we extract the data of these top 30 features from `X` and store it in a DataFrame, `top30_features_data`.  \n",
        "\n",
        "* `K Means` clustering is performed on data from `top30_features_data`. A `KMeans` model is fit with number of clusters from 1 to 5. Then, a graph of `Number of Clusters` vs `Within Cluster Sum of Squares`. This is done to find optimum number of clusters, i.e., **The Elbow Method**.  Finally, a graph is plotted for two random features and their cluster number.\n",
        "\n",
        "* `Hierarchial Clustering` is performed. The data from `top30_features_data` is trained on an `AgglomerativeClustering` model and optimum number of clusters are found. and a graph is plotted for two random features and their cluster number.  \n",
        "\n",
        "* `DBSCAN` clustering is performed. The data from `top30_features_data` is trained on a `DBSCAN` model and optimum number of clusters are found. Finally, a graph is plotted for two random features and their cluster number."
      ]
    },
    {
      "cell_type": "markdown",
      "metadata": {
        "id": "BNODdSpU8IjG"
      },
      "source": [
        "## Preparing the Data"
      ]
    },
    {
      "cell_type": "code",
      "metadata": {
        "id": "UZVG8zJK9BNu"
      },
      "source": [
        "from sklearn.feature_extraction.text import TfidfVectorizer\n",
        "\n",
        "text = final_data['Calls']\n",
        "vectorizer = TfidfVectorizer()\n",
        "X = vectorizer.fit_transform(text)"
      ],
      "execution_count": null,
      "outputs": []
    },
    {
      "cell_type": "code",
      "metadata": {
        "id": "dQwRCVCW-MMX",
        "outputId": "1b60834e-cebe-48e2-afd0-42ca8f815167",
        "colab": {
          "base_uri": "https://localhost:8080/"
        }
      },
      "source": [
        "features = list(vectorizer.vocabulary_.keys())\n",
        "print(features[:7])"
      ],
      "execution_count": null,
      "outputs": [
        {
          "output_type": "stream",
          "text": [
            "['ioctl', 'pread', 'rt_sigprocmask', 'openat', 'mmap', 'close', 'mprotect']\n"
          ],
          "name": "stdout"
        }
      ]
    },
    {
      "cell_type": "code",
      "metadata": {
        "id": "mwHOdhNZ-RMe",
        "outputId": "84825c05-7340-4550-b00b-e9fa14536cb9",
        "colab": {
          "base_uri": "https://localhost:8080/",
          "height": 952
        }
      },
      "source": [
        "from sklearn.ensemble import ExtraTreesClassifier\n",
        "Y = final_data['Label']\n",
        "\n",
        "model = ExtraTreesClassifier(n_estimators=10)\n",
        "model.fit(X,Y)\n",
        "\n",
        "feature_df = pd.DataFrame(list(zip(model.feature_importances_,features)), columns = ['Feature Importance', 'Features'])\n",
        "feature_df = feature_df.sort_values(by='Feature Importance',ascending=False)\n",
        "print(\"Top 30 features:\")\n",
        "feature_df.head(n=30)"
      ],
      "execution_count": null,
      "outputs": [
        {
          "output_type": "stream",
          "text": [
            "Top 30 features:\n"
          ],
          "name": "stdout"
        },
        {
          "output_type": "execute_result",
          "data": {
            "text/html": [
              "<div>\n",
              "<style scoped>\n",
              "    .dataframe tbody tr th:only-of-type {\n",
              "        vertical-align: middle;\n",
              "    }\n",
              "\n",
              "    .dataframe tbody tr th {\n",
              "        vertical-align: top;\n",
              "    }\n",
              "\n",
              "    .dataframe thead th {\n",
              "        text-align: right;\n",
              "    }\n",
              "</style>\n",
              "<table border=\"1\" class=\"dataframe\">\n",
              "  <thead>\n",
              "    <tr style=\"text-align: right;\">\n",
              "      <th></th>\n",
              "      <th>Feature Importance</th>\n",
              "      <th>Features</th>\n",
              "    </tr>\n",
              "  </thead>\n",
              "  <tbody>\n",
              "    <tr>\n",
              "      <th>70</th>\n",
              "      <td>0.162134</td>\n",
              "      <td>ftruncate</td>\n",
              "    </tr>\n",
              "    <tr>\n",
              "      <th>65</th>\n",
              "      <td>0.072768</td>\n",
              "      <td>connect</td>\n",
              "    </tr>\n",
              "    <tr>\n",
              "      <th>100</th>\n",
              "      <td>0.072081</td>\n",
              "      <td>eventfd2</td>\n",
              "    </tr>\n",
              "    <tr>\n",
              "      <th>45</th>\n",
              "      <td>0.043114</td>\n",
              "      <td>lseek</td>\n",
              "    </tr>\n",
              "    <tr>\n",
              "      <th>49</th>\n",
              "      <td>0.042371</td>\n",
              "      <td>rt_sigaction</td>\n",
              "    </tr>\n",
              "    <tr>\n",
              "      <th>25</th>\n",
              "      <td>0.032815</td>\n",
              "      <td>setpriority</td>\n",
              "    </tr>\n",
              "    <tr>\n",
              "      <th>10</th>\n",
              "      <td>0.032499</td>\n",
              "      <td>futex</td>\n",
              "    </tr>\n",
              "    <tr>\n",
              "      <th>40</th>\n",
              "      <td>0.031677</td>\n",
              "      <td>pipe2</td>\n",
              "    </tr>\n",
              "    <tr>\n",
              "      <th>43</th>\n",
              "      <td>0.031334</td>\n",
              "      <td>getdents64</td>\n",
              "    </tr>\n",
              "    <tr>\n",
              "      <th>3</th>\n",
              "      <td>0.026308</td>\n",
              "      <td>openat</td>\n",
              "    </tr>\n",
              "    <tr>\n",
              "      <th>72</th>\n",
              "      <td>0.025985</td>\n",
              "      <td>tgkill</td>\n",
              "    </tr>\n",
              "    <tr>\n",
              "      <th>81</th>\n",
              "      <td>0.025618</td>\n",
              "      <td>stat64</td>\n",
              "    </tr>\n",
              "    <tr>\n",
              "      <th>55</th>\n",
              "      <td>0.023089</td>\n",
              "      <td>mmap2</td>\n",
              "    </tr>\n",
              "    <tr>\n",
              "      <th>34</th>\n",
              "      <td>0.022299</td>\n",
              "      <td>unlinkat</td>\n",
              "    </tr>\n",
              "    <tr>\n",
              "      <th>75</th>\n",
              "      <td>0.020741</td>\n",
              "      <td>mknodat</td>\n",
              "    </tr>\n",
              "    <tr>\n",
              "      <th>66</th>\n",
              "      <td>0.020246</td>\n",
              "      <td>gettid</td>\n",
              "    </tr>\n",
              "    <tr>\n",
              "      <th>7</th>\n",
              "      <td>0.019560</td>\n",
              "      <td>madvise</td>\n",
              "    </tr>\n",
              "    <tr>\n",
              "      <th>9</th>\n",
              "      <td>0.018031</td>\n",
              "      <td>epoll_pwait</td>\n",
              "    </tr>\n",
              "    <tr>\n",
              "      <th>83</th>\n",
              "      <td>0.015769</td>\n",
              "      <td>setsockopt</td>\n",
              "    </tr>\n",
              "    <tr>\n",
              "      <th>61</th>\n",
              "      <td>0.014429</td>\n",
              "      <td>fstatat64</td>\n",
              "    </tr>\n",
              "    <tr>\n",
              "      <th>53</th>\n",
              "      <td>0.014157</td>\n",
              "      <td>clock_gettime</td>\n",
              "    </tr>\n",
              "    <tr>\n",
              "      <th>62</th>\n",
              "      <td>0.013475</td>\n",
              "      <td>geteuid32</td>\n",
              "    </tr>\n",
              "    <tr>\n",
              "      <th>33</th>\n",
              "      <td>0.012164</td>\n",
              "      <td>fchmodat</td>\n",
              "    </tr>\n",
              "    <tr>\n",
              "      <th>59</th>\n",
              "      <td>0.011870</td>\n",
              "      <td>_llseek</td>\n",
              "    </tr>\n",
              "    <tr>\n",
              "      <th>5</th>\n",
              "      <td>0.011279</td>\n",
              "      <td>close</td>\n",
              "    </tr>\n",
              "    <tr>\n",
              "      <th>8</th>\n",
              "      <td>0.011176</td>\n",
              "      <td>getuid</td>\n",
              "    </tr>\n",
              "    <tr>\n",
              "      <th>41</th>\n",
              "      <td>0.010527</td>\n",
              "      <td>epoll_create1</td>\n",
              "    </tr>\n",
              "    <tr>\n",
              "      <th>71</th>\n",
              "      <td>0.010222</td>\n",
              "      <td>getcwd</td>\n",
              "    </tr>\n",
              "    <tr>\n",
              "      <th>4</th>\n",
              "      <td>0.009361</td>\n",
              "      <td>mmap</td>\n",
              "    </tr>\n",
              "    <tr>\n",
              "      <th>101</th>\n",
              "      <td>0.009048</td>\n",
              "      <td>ugetrlimit</td>\n",
              "    </tr>\n",
              "  </tbody>\n",
              "</table>\n",
              "</div>"
            ],
            "text/plain": [
              "     Feature Importance       Features\n",
              "70             0.162134      ftruncate\n",
              "65             0.072768        connect\n",
              "100            0.072081       eventfd2\n",
              "45             0.043114          lseek\n",
              "49             0.042371   rt_sigaction\n",
              "25             0.032815    setpriority\n",
              "10             0.032499          futex\n",
              "40             0.031677          pipe2\n",
              "43             0.031334     getdents64\n",
              "3              0.026308         openat\n",
              "72             0.025985         tgkill\n",
              "81             0.025618         stat64\n",
              "55             0.023089          mmap2\n",
              "34             0.022299       unlinkat\n",
              "75             0.020741        mknodat\n",
              "66             0.020246         gettid\n",
              "7              0.019560        madvise\n",
              "9              0.018031    epoll_pwait\n",
              "83             0.015769     setsockopt\n",
              "61             0.014429      fstatat64\n",
              "53             0.014157  clock_gettime\n",
              "62             0.013475      geteuid32\n",
              "33             0.012164       fchmodat\n",
              "59             0.011870        _llseek\n",
              "5              0.011279          close\n",
              "8              0.011176         getuid\n",
              "41             0.010527  epoll_create1\n",
              "71             0.010222         getcwd\n",
              "4              0.009361           mmap\n",
              "101            0.009048     ugetrlimit"
            ]
          },
          "metadata": {
            "tags": []
          },
          "execution_count": 177
        }
      ]
    },
    {
      "cell_type": "code",
      "metadata": {
        "id": "XJK4DiwQA5G1",
        "outputId": "ac90203c-8a2a-44c9-8012-562e32458445",
        "colab": {
          "base_uri": "https://localhost:8080/",
          "height": 422
        }
      },
      "source": [
        "unigram_tfidf_data = pd.DataFrame(X.toarray(), columns = features)\n",
        "unigram_tfidf_data"
      ],
      "execution_count": null,
      "outputs": [
        {
          "output_type": "execute_result",
          "data": {
            "text/html": [
              "<div>\n",
              "<style scoped>\n",
              "    .dataframe tbody tr th:only-of-type {\n",
              "        vertical-align: middle;\n",
              "    }\n",
              "\n",
              "    .dataframe tbody tr th {\n",
              "        vertical-align: top;\n",
              "    }\n",
              "\n",
              "    .dataframe thead th {\n",
              "        text-align: right;\n",
              "    }\n",
              "</style>\n",
              "<table border=\"1\" class=\"dataframe\">\n",
              "  <thead>\n",
              "    <tr style=\"text-align: right;\">\n",
              "      <th></th>\n",
              "      <th>ioctl</th>\n",
              "      <th>pread</th>\n",
              "      <th>rt_sigprocmask</th>\n",
              "      <th>openat</th>\n",
              "      <th>mmap</th>\n",
              "      <th>close</th>\n",
              "      <th>mprotect</th>\n",
              "      <th>madvise</th>\n",
              "      <th>getuid</th>\n",
              "      <th>epoll_pwait</th>\n",
              "      <th>futex</th>\n",
              "      <th>munmap</th>\n",
              "      <th>newfstatat</th>\n",
              "      <th>read</th>\n",
              "      <th>writev</th>\n",
              "      <th>write</th>\n",
              "      <th>readlinkat</th>\n",
              "      <th>socketpair</th>\n",
              "      <th>fcntl</th>\n",
              "      <th>clone</th>\n",
              "      <th>dup</th>\n",
              "      <th>epoll_ctl</th>\n",
              "      <th>prctl</th>\n",
              "      <th>recvfrom</th>\n",
              "      <th>sendto</th>\n",
              "      <th>setpriority</th>\n",
              "      <th>getrlimit</th>\n",
              "      <th>setrlimit</th>\n",
              "      <th>sched_yield</th>\n",
              "      <th>faccessat</th>\n",
              "      <th>renameat</th>\n",
              "      <th>fstat</th>\n",
              "      <th>fsync</th>\n",
              "      <th>fchmodat</th>\n",
              "      <th>unlinkat</th>\n",
              "      <th>getpriority</th>\n",
              "      <th>geteuid</th>\n",
              "      <th>pwrite</th>\n",
              "      <th>fdatasync</th>\n",
              "      <th>rt_sigreturn</th>\n",
              "      <th>...</th>\n",
              "      <th>geteuid32</th>\n",
              "      <th>pwrite64</th>\n",
              "      <th>sigaction</th>\n",
              "      <th>connect</th>\n",
              "      <th>gettid</th>\n",
              "      <th>ftruncate64</th>\n",
              "      <th>statfs64</th>\n",
              "      <th>tkill</th>\n",
              "      <th>ftruncate</th>\n",
              "      <th>getcwd</th>\n",
              "      <th>tgkill</th>\n",
              "      <th>flock</th>\n",
              "      <th>nanosleep</th>\n",
              "      <th>mknodat</th>\n",
              "      <th>mremap</th>\n",
              "      <th>msync</th>\n",
              "      <th>mlock</th>\n",
              "      <th>munlock</th>\n",
              "      <th>getpid</th>\n",
              "      <th>stat64</th>\n",
              "      <th>getegid32</th>\n",
              "      <th>setsockopt</th>\n",
              "      <th>bind</th>\n",
              "      <th>getsockname</th>\n",
              "      <th>listen</th>\n",
              "      <th>sigreturn</th>\n",
              "      <th>shutdown</th>\n",
              "      <th>fchmod</th>\n",
              "      <th>utimensat</th>\n",
              "      <th>kill</th>\n",
              "      <th>getegid</th>\n",
              "      <th>uname</th>\n",
              "      <th>capget</th>\n",
              "      <th>wait4</th>\n",
              "      <th>inotify_add_watch</th>\n",
              "      <th>inotify_rm_watch</th>\n",
              "      <th>sched_getparam</th>\n",
              "      <th>sched_getscheduler</th>\n",
              "      <th>eventfd2</th>\n",
              "      <th>ugetrlimit</th>\n",
              "    </tr>\n",
              "  </thead>\n",
              "  <tbody>\n",
              "    <tr>\n",
              "      <th>0</th>\n",
              "      <td>0.0</td>\n",
              "      <td>0.0</td>\n",
              "      <td>0.0</td>\n",
              "      <td>0.0</td>\n",
              "      <td>0.000593</td>\n",
              "      <td>0.027595</td>\n",
              "      <td>0.0</td>\n",
              "      <td>0.007276</td>\n",
              "      <td>0.000000</td>\n",
              "      <td>0.015406</td>\n",
              "      <td>0.486590</td>\n",
              "      <td>0.0</td>\n",
              "      <td>0.000311</td>\n",
              "      <td>0.0</td>\n",
              "      <td>0.000000</td>\n",
              "      <td>0.005856</td>\n",
              "      <td>0.0</td>\n",
              "      <td>0.000000</td>\n",
              "      <td>0.0</td>\n",
              "      <td>0.000000</td>\n",
              "      <td>0.0</td>\n",
              "      <td>0.0</td>\n",
              "      <td>0.000000</td>\n",
              "      <td>0.0</td>\n",
              "      <td>0.0</td>\n",
              "      <td>0.031091</td>\n",
              "      <td>0.0</td>\n",
              "      <td>0.00000</td>\n",
              "      <td>0.0</td>\n",
              "      <td>0.0</td>\n",
              "      <td>0.000000</td>\n",
              "      <td>0.0</td>\n",
              "      <td>0.0</td>\n",
              "      <td>0.000000</td>\n",
              "      <td>0.000000</td>\n",
              "      <td>0.000635</td>\n",
              "      <td>0.0</td>\n",
              "      <td>0.0</td>\n",
              "      <td>0.0</td>\n",
              "      <td>0.0</td>\n",
              "      <td>...</td>\n",
              "      <td>0.015287</td>\n",
              "      <td>0.000000</td>\n",
              "      <td>0.0</td>\n",
              "      <td>0.001213</td>\n",
              "      <td>0.082410</td>\n",
              "      <td>0.0</td>\n",
              "      <td>0.000000</td>\n",
              "      <td>0.0</td>\n",
              "      <td>0.180168</td>\n",
              "      <td>0.000548</td>\n",
              "      <td>0.518655</td>\n",
              "      <td>0.000000</td>\n",
              "      <td>0.0</td>\n",
              "      <td>0.078882</td>\n",
              "      <td>0.000000</td>\n",
              "      <td>0.0</td>\n",
              "      <td>0.0</td>\n",
              "      <td>0.016333</td>\n",
              "      <td>0.000000</td>\n",
              "      <td>0.314580</td>\n",
              "      <td>0.000568</td>\n",
              "      <td>0.000869</td>\n",
              "      <td>0.0</td>\n",
              "      <td>0.0</td>\n",
              "      <td>0.0</td>\n",
              "      <td>0.0</td>\n",
              "      <td>0.0</td>\n",
              "      <td>0.001107</td>\n",
              "      <td>0.0</td>\n",
              "      <td>0.0</td>\n",
              "      <td>0.0</td>\n",
              "      <td>0.0</td>\n",
              "      <td>0.0</td>\n",
              "      <td>0.0</td>\n",
              "      <td>0.0</td>\n",
              "      <td>0.000000</td>\n",
              "      <td>0.0</td>\n",
              "      <td>0.0</td>\n",
              "      <td>0.267231</td>\n",
              "      <td>0.113144</td>\n",
              "    </tr>\n",
              "    <tr>\n",
              "      <th>1</th>\n",
              "      <td>0.0</td>\n",
              "      <td>0.0</td>\n",
              "      <td>0.0</td>\n",
              "      <td>0.0</td>\n",
              "      <td>0.000730</td>\n",
              "      <td>0.019107</td>\n",
              "      <td>0.0</td>\n",
              "      <td>0.007357</td>\n",
              "      <td>0.000000</td>\n",
              "      <td>0.018643</td>\n",
              "      <td>0.317636</td>\n",
              "      <td>0.0</td>\n",
              "      <td>0.001533</td>\n",
              "      <td>0.0</td>\n",
              "      <td>0.002168</td>\n",
              "      <td>0.008582</td>\n",
              "      <td>0.0</td>\n",
              "      <td>0.000000</td>\n",
              "      <td>0.0</td>\n",
              "      <td>0.001552</td>\n",
              "      <td>0.0</td>\n",
              "      <td>0.0</td>\n",
              "      <td>0.003028</td>\n",
              "      <td>0.0</td>\n",
              "      <td>0.0</td>\n",
              "      <td>0.032454</td>\n",
              "      <td>0.0</td>\n",
              "      <td>0.00000</td>\n",
              "      <td>0.0</td>\n",
              "      <td>0.0</td>\n",
              "      <td>0.000000</td>\n",
              "      <td>0.0</td>\n",
              "      <td>0.0</td>\n",
              "      <td>0.000000</td>\n",
              "      <td>0.000000</td>\n",
              "      <td>0.000000</td>\n",
              "      <td>0.0</td>\n",
              "      <td>0.0</td>\n",
              "      <td>0.0</td>\n",
              "      <td>0.0</td>\n",
              "      <td>...</td>\n",
              "      <td>0.003393</td>\n",
              "      <td>0.000000</td>\n",
              "      <td>0.0</td>\n",
              "      <td>0.000000</td>\n",
              "      <td>0.075191</td>\n",
              "      <td>0.0</td>\n",
              "      <td>0.000000</td>\n",
              "      <td>0.0</td>\n",
              "      <td>0.101963</td>\n",
              "      <td>0.000000</td>\n",
              "      <td>0.646377</td>\n",
              "      <td>0.003333</td>\n",
              "      <td>0.0</td>\n",
              "      <td>0.009277</td>\n",
              "      <td>0.000000</td>\n",
              "      <td>0.0</td>\n",
              "      <td>0.0</td>\n",
              "      <td>0.027168</td>\n",
              "      <td>0.000000</td>\n",
              "      <td>0.570744</td>\n",
              "      <td>0.000000</td>\n",
              "      <td>0.000000</td>\n",
              "      <td>0.0</td>\n",
              "      <td>0.0</td>\n",
              "      <td>0.0</td>\n",
              "      <td>0.0</td>\n",
              "      <td>0.0</td>\n",
              "      <td>0.000000</td>\n",
              "      <td>0.0</td>\n",
              "      <td>0.0</td>\n",
              "      <td>0.0</td>\n",
              "      <td>0.0</td>\n",
              "      <td>0.0</td>\n",
              "      <td>0.0</td>\n",
              "      <td>0.0</td>\n",
              "      <td>0.003208</td>\n",
              "      <td>0.0</td>\n",
              "      <td>0.0</td>\n",
              "      <td>0.166216</td>\n",
              "      <td>0.132157</td>\n",
              "    </tr>\n",
              "    <tr>\n",
              "      <th>2</th>\n",
              "      <td>0.0</td>\n",
              "      <td>0.0</td>\n",
              "      <td>0.0</td>\n",
              "      <td>0.0</td>\n",
              "      <td>0.005048</td>\n",
              "      <td>0.021287</td>\n",
              "      <td>0.0</td>\n",
              "      <td>0.003402</td>\n",
              "      <td>0.000000</td>\n",
              "      <td>0.009913</td>\n",
              "      <td>0.207178</td>\n",
              "      <td>0.0</td>\n",
              "      <td>0.008152</td>\n",
              "      <td>0.0</td>\n",
              "      <td>0.000000</td>\n",
              "      <td>0.037601</td>\n",
              "      <td>0.0</td>\n",
              "      <td>0.005264</td>\n",
              "      <td>0.0</td>\n",
              "      <td>0.048700</td>\n",
              "      <td>0.0</td>\n",
              "      <td>0.0</td>\n",
              "      <td>0.000000</td>\n",
              "      <td>0.0</td>\n",
              "      <td>0.0</td>\n",
              "      <td>0.038095</td>\n",
              "      <td>0.0</td>\n",
              "      <td>0.00000</td>\n",
              "      <td>0.0</td>\n",
              "      <td>0.0</td>\n",
              "      <td>0.016554</td>\n",
              "      <td>0.0</td>\n",
              "      <td>0.0</td>\n",
              "      <td>0.000000</td>\n",
              "      <td>0.007138</td>\n",
              "      <td>0.000000</td>\n",
              "      <td>0.0</td>\n",
              "      <td>0.0</td>\n",
              "      <td>0.0</td>\n",
              "      <td>0.0</td>\n",
              "      <td>...</td>\n",
              "      <td>0.012138</td>\n",
              "      <td>0.000000</td>\n",
              "      <td>0.0</td>\n",
              "      <td>0.001190</td>\n",
              "      <td>0.046529</td>\n",
              "      <td>0.0</td>\n",
              "      <td>0.011429</td>\n",
              "      <td>0.0</td>\n",
              "      <td>0.054056</td>\n",
              "      <td>0.000000</td>\n",
              "      <td>0.672197</td>\n",
              "      <td>0.000000</td>\n",
              "      <td>0.0</td>\n",
              "      <td>0.011181</td>\n",
              "      <td>0.000550</td>\n",
              "      <td>0.0</td>\n",
              "      <td>0.0</td>\n",
              "      <td>0.002889</td>\n",
              "      <td>0.000000</td>\n",
              "      <td>0.600475</td>\n",
              "      <td>0.000000</td>\n",
              "      <td>0.000000</td>\n",
              "      <td>0.0</td>\n",
              "      <td>0.0</td>\n",
              "      <td>0.0</td>\n",
              "      <td>0.0</td>\n",
              "      <td>0.0</td>\n",
              "      <td>0.000000</td>\n",
              "      <td>0.0</td>\n",
              "      <td>0.0</td>\n",
              "      <td>0.0</td>\n",
              "      <td>0.0</td>\n",
              "      <td>0.0</td>\n",
              "      <td>0.0</td>\n",
              "      <td>0.0</td>\n",
              "      <td>0.000000</td>\n",
              "      <td>0.0</td>\n",
              "      <td>0.0</td>\n",
              "      <td>0.182486</td>\n",
              "      <td>0.090842</td>\n",
              "    </tr>\n",
              "    <tr>\n",
              "      <th>3</th>\n",
              "      <td>0.0</td>\n",
              "      <td>0.0</td>\n",
              "      <td>0.0</td>\n",
              "      <td>0.0</td>\n",
              "      <td>0.009158</td>\n",
              "      <td>0.047608</td>\n",
              "      <td>0.0</td>\n",
              "      <td>0.011388</td>\n",
              "      <td>0.000873</td>\n",
              "      <td>0.011964</td>\n",
              "      <td>0.509608</td>\n",
              "      <td>0.0</td>\n",
              "      <td>0.000310</td>\n",
              "      <td>0.0</td>\n",
              "      <td>0.000000</td>\n",
              "      <td>0.006944</td>\n",
              "      <td>0.0</td>\n",
              "      <td>0.000000</td>\n",
              "      <td>0.0</td>\n",
              "      <td>0.001256</td>\n",
              "      <td>0.0</td>\n",
              "      <td>0.0</td>\n",
              "      <td>0.000000</td>\n",
              "      <td>0.0</td>\n",
              "      <td>0.0</td>\n",
              "      <td>0.083732</td>\n",
              "      <td>0.0</td>\n",
              "      <td>0.00117</td>\n",
              "      <td>0.0</td>\n",
              "      <td>0.0</td>\n",
              "      <td>0.000000</td>\n",
              "      <td>0.0</td>\n",
              "      <td>0.0</td>\n",
              "      <td>0.000778</td>\n",
              "      <td>0.000000</td>\n",
              "      <td>0.001266</td>\n",
              "      <td>0.0</td>\n",
              "      <td>0.0</td>\n",
              "      <td>0.0</td>\n",
              "      <td>0.0</td>\n",
              "      <td>...</td>\n",
              "      <td>0.041685</td>\n",
              "      <td>0.000824</td>\n",
              "      <td>0.0</td>\n",
              "      <td>0.000906</td>\n",
              "      <td>0.181729</td>\n",
              "      <td>0.0</td>\n",
              "      <td>0.000000</td>\n",
              "      <td>0.0</td>\n",
              "      <td>0.035253</td>\n",
              "      <td>0.000545</td>\n",
              "      <td>0.355259</td>\n",
              "      <td>0.000000</td>\n",
              "      <td>0.0</td>\n",
              "      <td>0.122102</td>\n",
              "      <td>0.000418</td>\n",
              "      <td>0.0</td>\n",
              "      <td>0.0</td>\n",
              "      <td>0.000000</td>\n",
              "      <td>0.001446</td>\n",
              "      <td>0.295408</td>\n",
              "      <td>0.000566</td>\n",
              "      <td>0.000000</td>\n",
              "      <td>0.0</td>\n",
              "      <td>0.0</td>\n",
              "      <td>0.0</td>\n",
              "      <td>0.0</td>\n",
              "      <td>0.0</td>\n",
              "      <td>0.001654</td>\n",
              "      <td>0.0</td>\n",
              "      <td>0.0</td>\n",
              "      <td>0.0</td>\n",
              "      <td>0.0</td>\n",
              "      <td>0.0</td>\n",
              "      <td>0.0</td>\n",
              "      <td>0.0</td>\n",
              "      <td>0.000000</td>\n",
              "      <td>0.0</td>\n",
              "      <td>0.0</td>\n",
              "      <td>0.081974</td>\n",
              "      <td>0.111689</td>\n",
              "    </tr>\n",
              "    <tr>\n",
              "      <th>4</th>\n",
              "      <td>0.0</td>\n",
              "      <td>0.0</td>\n",
              "      <td>0.0</td>\n",
              "      <td>0.0</td>\n",
              "      <td>0.005554</td>\n",
              "      <td>0.068540</td>\n",
              "      <td>0.0</td>\n",
              "      <td>0.014597</td>\n",
              "      <td>0.000000</td>\n",
              "      <td>0.032828</td>\n",
              "      <td>0.316841</td>\n",
              "      <td>0.0</td>\n",
              "      <td>0.015825</td>\n",
              "      <td>0.0</td>\n",
              "      <td>0.003533</td>\n",
              "      <td>0.095480</td>\n",
              "      <td>0.0</td>\n",
              "      <td>0.023663</td>\n",
              "      <td>0.0</td>\n",
              "      <td>0.093607</td>\n",
              "      <td>0.0</td>\n",
              "      <td>0.0</td>\n",
              "      <td>0.000000</td>\n",
              "      <td>0.0</td>\n",
              "      <td>0.0</td>\n",
              "      <td>0.163663</td>\n",
              "      <td>0.0</td>\n",
              "      <td>0.00000</td>\n",
              "      <td>0.0</td>\n",
              "      <td>0.0</td>\n",
              "      <td>0.035704</td>\n",
              "      <td>0.0</td>\n",
              "      <td>0.0</td>\n",
              "      <td>0.000000</td>\n",
              "      <td>0.020056</td>\n",
              "      <td>0.000000</td>\n",
              "      <td>0.0</td>\n",
              "      <td>0.0</td>\n",
              "      <td>0.0</td>\n",
              "      <td>0.0</td>\n",
              "      <td>...</td>\n",
              "      <td>0.033517</td>\n",
              "      <td>0.000000</td>\n",
              "      <td>0.0</td>\n",
              "      <td>0.001622</td>\n",
              "      <td>0.200713</td>\n",
              "      <td>0.0</td>\n",
              "      <td>0.057323</td>\n",
              "      <td>0.0</td>\n",
              "      <td>0.067061</td>\n",
              "      <td>0.000000</td>\n",
              "      <td>0.435994</td>\n",
              "      <td>0.000000</td>\n",
              "      <td>0.0</td>\n",
              "      <td>0.034942</td>\n",
              "      <td>0.000000</td>\n",
              "      <td>0.0</td>\n",
              "      <td>0.0</td>\n",
              "      <td>0.004723</td>\n",
              "      <td>0.000000</td>\n",
              "      <td>0.352753</td>\n",
              "      <td>0.000000</td>\n",
              "      <td>0.000000</td>\n",
              "      <td>0.0</td>\n",
              "      <td>0.0</td>\n",
              "      <td>0.0</td>\n",
              "      <td>0.0</td>\n",
              "      <td>0.0</td>\n",
              "      <td>0.000000</td>\n",
              "      <td>0.0</td>\n",
              "      <td>0.0</td>\n",
              "      <td>0.0</td>\n",
              "      <td>0.0</td>\n",
              "      <td>0.0</td>\n",
              "      <td>0.0</td>\n",
              "      <td>0.0</td>\n",
              "      <td>0.000000</td>\n",
              "      <td>0.0</td>\n",
              "      <td>0.0</td>\n",
              "      <td>0.156857</td>\n",
              "      <td>0.271705</td>\n",
              "    </tr>\n",
              "    <tr>\n",
              "      <th>...</th>\n",
              "      <td>...</td>\n",
              "      <td>...</td>\n",
              "      <td>...</td>\n",
              "      <td>...</td>\n",
              "      <td>...</td>\n",
              "      <td>...</td>\n",
              "      <td>...</td>\n",
              "      <td>...</td>\n",
              "      <td>...</td>\n",
              "      <td>...</td>\n",
              "      <td>...</td>\n",
              "      <td>...</td>\n",
              "      <td>...</td>\n",
              "      <td>...</td>\n",
              "      <td>...</td>\n",
              "      <td>...</td>\n",
              "      <td>...</td>\n",
              "      <td>...</td>\n",
              "      <td>...</td>\n",
              "      <td>...</td>\n",
              "      <td>...</td>\n",
              "      <td>...</td>\n",
              "      <td>...</td>\n",
              "      <td>...</td>\n",
              "      <td>...</td>\n",
              "      <td>...</td>\n",
              "      <td>...</td>\n",
              "      <td>...</td>\n",
              "      <td>...</td>\n",
              "      <td>...</td>\n",
              "      <td>...</td>\n",
              "      <td>...</td>\n",
              "      <td>...</td>\n",
              "      <td>...</td>\n",
              "      <td>...</td>\n",
              "      <td>...</td>\n",
              "      <td>...</td>\n",
              "      <td>...</td>\n",
              "      <td>...</td>\n",
              "      <td>...</td>\n",
              "      <td>...</td>\n",
              "      <td>...</td>\n",
              "      <td>...</td>\n",
              "      <td>...</td>\n",
              "      <td>...</td>\n",
              "      <td>...</td>\n",
              "      <td>...</td>\n",
              "      <td>...</td>\n",
              "      <td>...</td>\n",
              "      <td>...</td>\n",
              "      <td>...</td>\n",
              "      <td>...</td>\n",
              "      <td>...</td>\n",
              "      <td>...</td>\n",
              "      <td>...</td>\n",
              "      <td>...</td>\n",
              "      <td>...</td>\n",
              "      <td>...</td>\n",
              "      <td>...</td>\n",
              "      <td>...</td>\n",
              "      <td>...</td>\n",
              "      <td>...</td>\n",
              "      <td>...</td>\n",
              "      <td>...</td>\n",
              "      <td>...</td>\n",
              "      <td>...</td>\n",
              "      <td>...</td>\n",
              "      <td>...</td>\n",
              "      <td>...</td>\n",
              "      <td>...</td>\n",
              "      <td>...</td>\n",
              "      <td>...</td>\n",
              "      <td>...</td>\n",
              "      <td>...</td>\n",
              "      <td>...</td>\n",
              "      <td>...</td>\n",
              "      <td>...</td>\n",
              "      <td>...</td>\n",
              "      <td>...</td>\n",
              "      <td>...</td>\n",
              "      <td>...</td>\n",
              "    </tr>\n",
              "    <tr>\n",
              "      <th>5817</th>\n",
              "      <td>0.0</td>\n",
              "      <td>0.0</td>\n",
              "      <td>0.0</td>\n",
              "      <td>0.0</td>\n",
              "      <td>0.007177</td>\n",
              "      <td>0.065576</td>\n",
              "      <td>0.0</td>\n",
              "      <td>0.044014</td>\n",
              "      <td>0.000000</td>\n",
              "      <td>0.006318</td>\n",
              "      <td>0.374608</td>\n",
              "      <td>0.0</td>\n",
              "      <td>0.000000</td>\n",
              "      <td>0.0</td>\n",
              "      <td>0.000000</td>\n",
              "      <td>0.006748</td>\n",
              "      <td>0.0</td>\n",
              "      <td>0.000000</td>\n",
              "      <td>0.0</td>\n",
              "      <td>0.000000</td>\n",
              "      <td>0.0</td>\n",
              "      <td>0.0</td>\n",
              "      <td>0.000000</td>\n",
              "      <td>0.0</td>\n",
              "      <td>0.0</td>\n",
              "      <td>0.042127</td>\n",
              "      <td>0.0</td>\n",
              "      <td>0.00000</td>\n",
              "      <td>0.0</td>\n",
              "      <td>0.0</td>\n",
              "      <td>0.000000</td>\n",
              "      <td>0.0</td>\n",
              "      <td>0.0</td>\n",
              "      <td>0.000000</td>\n",
              "      <td>0.000000</td>\n",
              "      <td>0.000000</td>\n",
              "      <td>0.0</td>\n",
              "      <td>0.0</td>\n",
              "      <td>0.0</td>\n",
              "      <td>0.0</td>\n",
              "      <td>...</td>\n",
              "      <td>0.018191</td>\n",
              "      <td>0.000000</td>\n",
              "      <td>0.0</td>\n",
              "      <td>0.000000</td>\n",
              "      <td>0.114669</td>\n",
              "      <td>0.0</td>\n",
              "      <td>0.000000</td>\n",
              "      <td>0.0</td>\n",
              "      <td>0.523352</td>\n",
              "      <td>0.000000</td>\n",
              "      <td>0.124806</td>\n",
              "      <td>0.000000</td>\n",
              "      <td>0.0</td>\n",
              "      <td>0.072940</td>\n",
              "      <td>0.000000</td>\n",
              "      <td>0.0</td>\n",
              "      <td>0.0</td>\n",
              "      <td>0.000000</td>\n",
              "      <td>0.000000</td>\n",
              "      <td>0.000000</td>\n",
              "      <td>0.000000</td>\n",
              "      <td>0.000000</td>\n",
              "      <td>0.0</td>\n",
              "      <td>0.0</td>\n",
              "      <td>0.0</td>\n",
              "      <td>0.0</td>\n",
              "      <td>0.0</td>\n",
              "      <td>0.000000</td>\n",
              "      <td>0.0</td>\n",
              "      <td>0.0</td>\n",
              "      <td>0.0</td>\n",
              "      <td>0.0</td>\n",
              "      <td>0.0</td>\n",
              "      <td>0.0</td>\n",
              "      <td>0.0</td>\n",
              "      <td>0.000000</td>\n",
              "      <td>0.0</td>\n",
              "      <td>0.0</td>\n",
              "      <td>0.429397</td>\n",
              "      <td>0.006084</td>\n",
              "    </tr>\n",
              "    <tr>\n",
              "      <th>5818</th>\n",
              "      <td>0.0</td>\n",
              "      <td>0.0</td>\n",
              "      <td>0.0</td>\n",
              "      <td>0.0</td>\n",
              "      <td>0.000701</td>\n",
              "      <td>0.016487</td>\n",
              "      <td>0.0</td>\n",
              "      <td>0.007774</td>\n",
              "      <td>0.000000</td>\n",
              "      <td>0.007195</td>\n",
              "      <td>0.470133</td>\n",
              "      <td>0.0</td>\n",
              "      <td>0.000245</td>\n",
              "      <td>0.0</td>\n",
              "      <td>0.000000</td>\n",
              "      <td>0.002854</td>\n",
              "      <td>0.0</td>\n",
              "      <td>0.000000</td>\n",
              "      <td>0.0</td>\n",
              "      <td>0.001489</td>\n",
              "      <td>0.0</td>\n",
              "      <td>0.0</td>\n",
              "      <td>0.000000</td>\n",
              "      <td>0.0</td>\n",
              "      <td>0.0</td>\n",
              "      <td>0.060897</td>\n",
              "      <td>0.0</td>\n",
              "      <td>0.00000</td>\n",
              "      <td>0.0</td>\n",
              "      <td>0.0</td>\n",
              "      <td>0.000000</td>\n",
              "      <td>0.0</td>\n",
              "      <td>0.0</td>\n",
              "      <td>0.000000</td>\n",
              "      <td>0.000000</td>\n",
              "      <td>0.000000</td>\n",
              "      <td>0.0</td>\n",
              "      <td>0.0</td>\n",
              "      <td>0.0</td>\n",
              "      <td>0.0</td>\n",
              "      <td>...</td>\n",
              "      <td>0.002762</td>\n",
              "      <td>0.000000</td>\n",
              "      <td>0.0</td>\n",
              "      <td>0.000239</td>\n",
              "      <td>0.006426</td>\n",
              "      <td>0.0</td>\n",
              "      <td>0.000000</td>\n",
              "      <td>0.0</td>\n",
              "      <td>0.354499</td>\n",
              "      <td>0.000000</td>\n",
              "      <td>0.304561</td>\n",
              "      <td>0.000000</td>\n",
              "      <td>0.0</td>\n",
              "      <td>0.087613</td>\n",
              "      <td>0.000331</td>\n",
              "      <td>0.0</td>\n",
              "      <td>0.0</td>\n",
              "      <td>0.015986</td>\n",
              "      <td>0.000000</td>\n",
              "      <td>0.264275</td>\n",
              "      <td>0.000000</td>\n",
              "      <td>0.000000</td>\n",
              "      <td>0.0</td>\n",
              "      <td>0.0</td>\n",
              "      <td>0.0</td>\n",
              "      <td>0.0</td>\n",
              "      <td>0.0</td>\n",
              "      <td>0.000000</td>\n",
              "      <td>0.0</td>\n",
              "      <td>0.0</td>\n",
              "      <td>0.0</td>\n",
              "      <td>0.0</td>\n",
              "      <td>0.0</td>\n",
              "      <td>0.0</td>\n",
              "      <td>0.0</td>\n",
              "      <td>0.000000</td>\n",
              "      <td>0.0</td>\n",
              "      <td>0.0</td>\n",
              "      <td>0.380667</td>\n",
              "      <td>0.124109</td>\n",
              "    </tr>\n",
              "    <tr>\n",
              "      <th>5819</th>\n",
              "      <td>0.0</td>\n",
              "      <td>0.0</td>\n",
              "      <td>0.0</td>\n",
              "      <td>0.0</td>\n",
              "      <td>0.020579</td>\n",
              "      <td>0.094020</td>\n",
              "      <td>0.0</td>\n",
              "      <td>0.027045</td>\n",
              "      <td>0.000000</td>\n",
              "      <td>0.027176</td>\n",
              "      <td>0.281335</td>\n",
              "      <td>0.0</td>\n",
              "      <td>0.021604</td>\n",
              "      <td>0.0</td>\n",
              "      <td>0.015274</td>\n",
              "      <td>0.009674</td>\n",
              "      <td>0.0</td>\n",
              "      <td>0.000000</td>\n",
              "      <td>0.0</td>\n",
              "      <td>0.032811</td>\n",
              "      <td>0.0</td>\n",
              "      <td>0.0</td>\n",
              "      <td>0.021333</td>\n",
              "      <td>0.0</td>\n",
              "      <td>0.0</td>\n",
              "      <td>0.017257</td>\n",
              "      <td>0.0</td>\n",
              "      <td>0.00000</td>\n",
              "      <td>0.0</td>\n",
              "      <td>0.0</td>\n",
              "      <td>0.000000</td>\n",
              "      <td>0.0</td>\n",
              "      <td>0.0</td>\n",
              "      <td>0.000000</td>\n",
              "      <td>0.000000</td>\n",
              "      <td>0.000000</td>\n",
              "      <td>0.0</td>\n",
              "      <td>0.0</td>\n",
              "      <td>0.0</td>\n",
              "      <td>0.0</td>\n",
              "      <td>...</td>\n",
              "      <td>0.043469</td>\n",
              "      <td>0.000000</td>\n",
              "      <td>0.0</td>\n",
              "      <td>0.031548</td>\n",
              "      <td>0.009134</td>\n",
              "      <td>0.0</td>\n",
              "      <td>0.000000</td>\n",
              "      <td>0.0</td>\n",
              "      <td>0.170535</td>\n",
              "      <td>0.000000</td>\n",
              "      <td>0.026841</td>\n",
              "      <td>0.023482</td>\n",
              "      <td>0.0</td>\n",
              "      <td>0.540318</td>\n",
              "      <td>0.000000</td>\n",
              "      <td>0.0</td>\n",
              "      <td>0.0</td>\n",
              "      <td>0.000000</td>\n",
              "      <td>0.000000</td>\n",
              "      <td>0.000000</td>\n",
              "      <td>0.000000</td>\n",
              "      <td>0.000000</td>\n",
              "      <td>0.0</td>\n",
              "      <td>0.0</td>\n",
              "      <td>0.0</td>\n",
              "      <td>0.0</td>\n",
              "      <td>0.0</td>\n",
              "      <td>0.000000</td>\n",
              "      <td>0.0</td>\n",
              "      <td>0.0</td>\n",
              "      <td>0.0</td>\n",
              "      <td>0.0</td>\n",
              "      <td>0.0</td>\n",
              "      <td>0.0</td>\n",
              "      <td>0.0</td>\n",
              "      <td>0.022601</td>\n",
              "      <td>0.0</td>\n",
              "      <td>0.0</td>\n",
              "      <td>0.205216</td>\n",
              "      <td>0.174446</td>\n",
              "    </tr>\n",
              "    <tr>\n",
              "      <th>5820</th>\n",
              "      <td>0.0</td>\n",
              "      <td>0.0</td>\n",
              "      <td>0.0</td>\n",
              "      <td>0.0</td>\n",
              "      <td>0.000544</td>\n",
              "      <td>0.049521</td>\n",
              "      <td>0.0</td>\n",
              "      <td>0.017649</td>\n",
              "      <td>0.000000</td>\n",
              "      <td>0.022527</td>\n",
              "      <td>0.203664</td>\n",
              "      <td>0.0</td>\n",
              "      <td>0.000286</td>\n",
              "      <td>0.0</td>\n",
              "      <td>0.000404</td>\n",
              "      <td>0.012285</td>\n",
              "      <td>0.0</td>\n",
              "      <td>0.000000</td>\n",
              "      <td>0.0</td>\n",
              "      <td>0.000289</td>\n",
              "      <td>0.0</td>\n",
              "      <td>0.0</td>\n",
              "      <td>0.000564</td>\n",
              "      <td>0.0</td>\n",
              "      <td>0.0</td>\n",
              "      <td>0.004794</td>\n",
              "      <td>0.0</td>\n",
              "      <td>0.00000</td>\n",
              "      <td>0.0</td>\n",
              "      <td>0.0</td>\n",
              "      <td>0.000000</td>\n",
              "      <td>0.0</td>\n",
              "      <td>0.0</td>\n",
              "      <td>0.000000</td>\n",
              "      <td>0.000000</td>\n",
              "      <td>0.000000</td>\n",
              "      <td>0.0</td>\n",
              "      <td>0.0</td>\n",
              "      <td>0.0</td>\n",
              "      <td>0.0</td>\n",
              "      <td>...</td>\n",
              "      <td>0.015870</td>\n",
              "      <td>0.000000</td>\n",
              "      <td>0.0</td>\n",
              "      <td>0.001947</td>\n",
              "      <td>0.071283</td>\n",
              "      <td>0.0</td>\n",
              "      <td>0.000000</td>\n",
              "      <td>0.0</td>\n",
              "      <td>0.493119</td>\n",
              "      <td>0.000000</td>\n",
              "      <td>0.350787</td>\n",
              "      <td>0.000000</td>\n",
              "      <td>0.0</td>\n",
              "      <td>0.112742</td>\n",
              "      <td>0.000000</td>\n",
              "      <td>0.0</td>\n",
              "      <td>0.0</td>\n",
              "      <td>0.000000</td>\n",
              "      <td>0.000000</td>\n",
              "      <td>0.312150</td>\n",
              "      <td>0.000000</td>\n",
              "      <td>0.000000</td>\n",
              "      <td>0.0</td>\n",
              "      <td>0.0</td>\n",
              "      <td>0.0</td>\n",
              "      <td>0.0</td>\n",
              "      <td>0.0</td>\n",
              "      <td>0.000000</td>\n",
              "      <td>0.0</td>\n",
              "      <td>0.0</td>\n",
              "      <td>0.0</td>\n",
              "      <td>0.0</td>\n",
              "      <td>0.0</td>\n",
              "      <td>0.0</td>\n",
              "      <td>0.0</td>\n",
              "      <td>0.000000</td>\n",
              "      <td>0.0</td>\n",
              "      <td>0.0</td>\n",
              "      <td>0.548576</td>\n",
              "      <td>0.062303</td>\n",
              "    </tr>\n",
              "    <tr>\n",
              "      <th>5821</th>\n",
              "      <td>0.0</td>\n",
              "      <td>0.0</td>\n",
              "      <td>0.0</td>\n",
              "      <td>0.0</td>\n",
              "      <td>0.000000</td>\n",
              "      <td>0.136429</td>\n",
              "      <td>0.0</td>\n",
              "      <td>0.000000</td>\n",
              "      <td>0.000000</td>\n",
              "      <td>0.000000</td>\n",
              "      <td>0.067378</td>\n",
              "      <td>0.0</td>\n",
              "      <td>0.033479</td>\n",
              "      <td>0.0</td>\n",
              "      <td>0.000000</td>\n",
              "      <td>0.000000</td>\n",
              "      <td>0.0</td>\n",
              "      <td>0.000000</td>\n",
              "      <td>0.0</td>\n",
              "      <td>0.000000</td>\n",
              "      <td>0.0</td>\n",
              "      <td>0.0</td>\n",
              "      <td>0.000000</td>\n",
              "      <td>0.0</td>\n",
              "      <td>0.0</td>\n",
              "      <td>0.060170</td>\n",
              "      <td>0.0</td>\n",
              "      <td>0.00000</td>\n",
              "      <td>0.0</td>\n",
              "      <td>0.0</td>\n",
              "      <td>0.000000</td>\n",
              "      <td>0.0</td>\n",
              "      <td>0.0</td>\n",
              "      <td>0.000000</td>\n",
              "      <td>0.000000</td>\n",
              "      <td>0.000000</td>\n",
              "      <td>0.0</td>\n",
              "      <td>0.0</td>\n",
              "      <td>0.0</td>\n",
              "      <td>0.0</td>\n",
              "      <td>...</td>\n",
              "      <td>0.136074</td>\n",
              "      <td>0.000000</td>\n",
              "      <td>0.0</td>\n",
              "      <td>0.000000</td>\n",
              "      <td>0.621370</td>\n",
              "      <td>0.0</td>\n",
              "      <td>0.000000</td>\n",
              "      <td>0.0</td>\n",
              "      <td>0.006607</td>\n",
              "      <td>0.000000</td>\n",
              "      <td>0.000000</td>\n",
              "      <td>0.000000</td>\n",
              "      <td>0.0</td>\n",
              "      <td>0.303864</td>\n",
              "      <td>0.000000</td>\n",
              "      <td>0.0</td>\n",
              "      <td>0.0</td>\n",
              "      <td>0.000000</td>\n",
              "      <td>0.000000</td>\n",
              "      <td>0.000000</td>\n",
              "      <td>0.000000</td>\n",
              "      <td>0.000000</td>\n",
              "      <td>0.0</td>\n",
              "      <td>0.0</td>\n",
              "      <td>0.0</td>\n",
              "      <td>0.0</td>\n",
              "      <td>0.0</td>\n",
              "      <td>0.000000</td>\n",
              "      <td>0.0</td>\n",
              "      <td>0.0</td>\n",
              "      <td>0.0</td>\n",
              "      <td>0.0</td>\n",
              "      <td>0.0</td>\n",
              "      <td>0.0</td>\n",
              "      <td>0.0</td>\n",
              "      <td>0.000000</td>\n",
              "      <td>0.0</td>\n",
              "      <td>0.0</td>\n",
              "      <td>0.000000</td>\n",
              "      <td>0.013517</td>\n",
              "    </tr>\n",
              "  </tbody>\n",
              "</table>\n",
              "<p>5822 rows × 102 columns</p>\n",
              "</div>"
            ],
            "text/plain": [
              "      ioctl  pread  rt_sigprocmask  ...  sched_getscheduler  eventfd2  ugetrlimit\n",
              "0       0.0    0.0             0.0  ...                 0.0  0.267231    0.113144\n",
              "1       0.0    0.0             0.0  ...                 0.0  0.166216    0.132157\n",
              "2       0.0    0.0             0.0  ...                 0.0  0.182486    0.090842\n",
              "3       0.0    0.0             0.0  ...                 0.0  0.081974    0.111689\n",
              "4       0.0    0.0             0.0  ...                 0.0  0.156857    0.271705\n",
              "...     ...    ...             ...  ...                 ...       ...         ...\n",
              "5817    0.0    0.0             0.0  ...                 0.0  0.429397    0.006084\n",
              "5818    0.0    0.0             0.0  ...                 0.0  0.380667    0.124109\n",
              "5819    0.0    0.0             0.0  ...                 0.0  0.205216    0.174446\n",
              "5820    0.0    0.0             0.0  ...                 0.0  0.548576    0.062303\n",
              "5821    0.0    0.0             0.0  ...                 0.0  0.000000    0.013517\n",
              "\n",
              "[5822 rows x 102 columns]"
            ]
          },
          "metadata": {
            "tags": []
          },
          "execution_count": 178
        }
      ]
    },
    {
      "cell_type": "code",
      "metadata": {
        "id": "247tKMdIgB4-",
        "outputId": "b474e76c-c391-47be-c2e2-2ac5b519522b",
        "colab": {
          "base_uri": "https://localhost:8080/",
          "height": 935
        }
      },
      "source": [
        "top30_features = feature_df['Features'].head(n=30)\n",
        "pd.DataFrame(top30_features)"
      ],
      "execution_count": null,
      "outputs": [
        {
          "output_type": "execute_result",
          "data": {
            "text/html": [
              "<div>\n",
              "<style scoped>\n",
              "    .dataframe tbody tr th:only-of-type {\n",
              "        vertical-align: middle;\n",
              "    }\n",
              "\n",
              "    .dataframe tbody tr th {\n",
              "        vertical-align: top;\n",
              "    }\n",
              "\n",
              "    .dataframe thead th {\n",
              "        text-align: right;\n",
              "    }\n",
              "</style>\n",
              "<table border=\"1\" class=\"dataframe\">\n",
              "  <thead>\n",
              "    <tr style=\"text-align: right;\">\n",
              "      <th></th>\n",
              "      <th>Features</th>\n",
              "    </tr>\n",
              "  </thead>\n",
              "  <tbody>\n",
              "    <tr>\n",
              "      <th>70</th>\n",
              "      <td>ftruncate</td>\n",
              "    </tr>\n",
              "    <tr>\n",
              "      <th>65</th>\n",
              "      <td>connect</td>\n",
              "    </tr>\n",
              "    <tr>\n",
              "      <th>100</th>\n",
              "      <td>eventfd2</td>\n",
              "    </tr>\n",
              "    <tr>\n",
              "      <th>45</th>\n",
              "      <td>lseek</td>\n",
              "    </tr>\n",
              "    <tr>\n",
              "      <th>49</th>\n",
              "      <td>rt_sigaction</td>\n",
              "    </tr>\n",
              "    <tr>\n",
              "      <th>25</th>\n",
              "      <td>setpriority</td>\n",
              "    </tr>\n",
              "    <tr>\n",
              "      <th>10</th>\n",
              "      <td>futex</td>\n",
              "    </tr>\n",
              "    <tr>\n",
              "      <th>40</th>\n",
              "      <td>pipe2</td>\n",
              "    </tr>\n",
              "    <tr>\n",
              "      <th>43</th>\n",
              "      <td>getdents64</td>\n",
              "    </tr>\n",
              "    <tr>\n",
              "      <th>3</th>\n",
              "      <td>openat</td>\n",
              "    </tr>\n",
              "    <tr>\n",
              "      <th>72</th>\n",
              "      <td>tgkill</td>\n",
              "    </tr>\n",
              "    <tr>\n",
              "      <th>81</th>\n",
              "      <td>stat64</td>\n",
              "    </tr>\n",
              "    <tr>\n",
              "      <th>55</th>\n",
              "      <td>mmap2</td>\n",
              "    </tr>\n",
              "    <tr>\n",
              "      <th>34</th>\n",
              "      <td>unlinkat</td>\n",
              "    </tr>\n",
              "    <tr>\n",
              "      <th>75</th>\n",
              "      <td>mknodat</td>\n",
              "    </tr>\n",
              "    <tr>\n",
              "      <th>66</th>\n",
              "      <td>gettid</td>\n",
              "    </tr>\n",
              "    <tr>\n",
              "      <th>7</th>\n",
              "      <td>madvise</td>\n",
              "    </tr>\n",
              "    <tr>\n",
              "      <th>9</th>\n",
              "      <td>epoll_pwait</td>\n",
              "    </tr>\n",
              "    <tr>\n",
              "      <th>83</th>\n",
              "      <td>setsockopt</td>\n",
              "    </tr>\n",
              "    <tr>\n",
              "      <th>61</th>\n",
              "      <td>fstatat64</td>\n",
              "    </tr>\n",
              "    <tr>\n",
              "      <th>53</th>\n",
              "      <td>clock_gettime</td>\n",
              "    </tr>\n",
              "    <tr>\n",
              "      <th>62</th>\n",
              "      <td>geteuid32</td>\n",
              "    </tr>\n",
              "    <tr>\n",
              "      <th>33</th>\n",
              "      <td>fchmodat</td>\n",
              "    </tr>\n",
              "    <tr>\n",
              "      <th>59</th>\n",
              "      <td>_llseek</td>\n",
              "    </tr>\n",
              "    <tr>\n",
              "      <th>5</th>\n",
              "      <td>close</td>\n",
              "    </tr>\n",
              "    <tr>\n",
              "      <th>8</th>\n",
              "      <td>getuid</td>\n",
              "    </tr>\n",
              "    <tr>\n",
              "      <th>41</th>\n",
              "      <td>epoll_create1</td>\n",
              "    </tr>\n",
              "    <tr>\n",
              "      <th>71</th>\n",
              "      <td>getcwd</td>\n",
              "    </tr>\n",
              "    <tr>\n",
              "      <th>4</th>\n",
              "      <td>mmap</td>\n",
              "    </tr>\n",
              "    <tr>\n",
              "      <th>101</th>\n",
              "      <td>ugetrlimit</td>\n",
              "    </tr>\n",
              "  </tbody>\n",
              "</table>\n",
              "</div>"
            ],
            "text/plain": [
              "          Features\n",
              "70       ftruncate\n",
              "65         connect\n",
              "100       eventfd2\n",
              "45           lseek\n",
              "49    rt_sigaction\n",
              "25     setpriority\n",
              "10           futex\n",
              "40           pipe2\n",
              "43      getdents64\n",
              "3           openat\n",
              "72          tgkill\n",
              "81          stat64\n",
              "55           mmap2\n",
              "34        unlinkat\n",
              "75         mknodat\n",
              "66          gettid\n",
              "7          madvise\n",
              "9      epoll_pwait\n",
              "83      setsockopt\n",
              "61       fstatat64\n",
              "53   clock_gettime\n",
              "62       geteuid32\n",
              "33        fchmodat\n",
              "59         _llseek\n",
              "5            close\n",
              "8           getuid\n",
              "41   epoll_create1\n",
              "71          getcwd\n",
              "4             mmap\n",
              "101     ugetrlimit"
            ]
          },
          "metadata": {
            "tags": []
          },
          "execution_count": 179
        }
      ]
    },
    {
      "cell_type": "code",
      "metadata": {
        "id": "GboENJM8yPBE",
        "outputId": "1791a2bd-0c97-4983-ba7f-dbeff8421df5",
        "colab": {
          "base_uri": "https://localhost:8080/",
          "height": 422
        }
      },
      "source": [
        "top30_features_data = unigram_tfidf_data[top30_features]\n",
        "top30_features_data"
      ],
      "execution_count": null,
      "outputs": [
        {
          "output_type": "execute_result",
          "data": {
            "text/html": [
              "<div>\n",
              "<style scoped>\n",
              "    .dataframe tbody tr th:only-of-type {\n",
              "        vertical-align: middle;\n",
              "    }\n",
              "\n",
              "    .dataframe tbody tr th {\n",
              "        vertical-align: top;\n",
              "    }\n",
              "\n",
              "    .dataframe thead th {\n",
              "        text-align: right;\n",
              "    }\n",
              "</style>\n",
              "<table border=\"1\" class=\"dataframe\">\n",
              "  <thead>\n",
              "    <tr style=\"text-align: right;\">\n",
              "      <th></th>\n",
              "      <th>ftruncate</th>\n",
              "      <th>connect</th>\n",
              "      <th>eventfd2</th>\n",
              "      <th>lseek</th>\n",
              "      <th>rt_sigaction</th>\n",
              "      <th>setpriority</th>\n",
              "      <th>futex</th>\n",
              "      <th>pipe2</th>\n",
              "      <th>getdents64</th>\n",
              "      <th>openat</th>\n",
              "      <th>tgkill</th>\n",
              "      <th>stat64</th>\n",
              "      <th>mmap2</th>\n",
              "      <th>unlinkat</th>\n",
              "      <th>mknodat</th>\n",
              "      <th>gettid</th>\n",
              "      <th>madvise</th>\n",
              "      <th>epoll_pwait</th>\n",
              "      <th>setsockopt</th>\n",
              "      <th>fstatat64</th>\n",
              "      <th>clock_gettime</th>\n",
              "      <th>geteuid32</th>\n",
              "      <th>fchmodat</th>\n",
              "      <th>_llseek</th>\n",
              "      <th>close</th>\n",
              "      <th>getuid</th>\n",
              "      <th>epoll_create1</th>\n",
              "      <th>getcwd</th>\n",
              "      <th>mmap</th>\n",
              "      <th>ugetrlimit</th>\n",
              "    </tr>\n",
              "  </thead>\n",
              "  <tbody>\n",
              "    <tr>\n",
              "      <th>0</th>\n",
              "      <td>0.180168</td>\n",
              "      <td>0.001213</td>\n",
              "      <td>0.267231</td>\n",
              "      <td>0.363398</td>\n",
              "      <td>0.007414</td>\n",
              "      <td>0.031091</td>\n",
              "      <td>0.486590</td>\n",
              "      <td>0.354401</td>\n",
              "      <td>0.0</td>\n",
              "      <td>0.0</td>\n",
              "      <td>0.518655</td>\n",
              "      <td>0.314580</td>\n",
              "      <td>0.011139</td>\n",
              "      <td>0.000000</td>\n",
              "      <td>0.078882</td>\n",
              "      <td>0.082410</td>\n",
              "      <td>0.007276</td>\n",
              "      <td>0.015406</td>\n",
              "      <td>0.000869</td>\n",
              "      <td>0.003671</td>\n",
              "      <td>0.061185</td>\n",
              "      <td>0.015287</td>\n",
              "      <td>0.000000</td>\n",
              "      <td>0.037761</td>\n",
              "      <td>0.027595</td>\n",
              "      <td>0.000000</td>\n",
              "      <td>0.0</td>\n",
              "      <td>0.000548</td>\n",
              "      <td>0.000593</td>\n",
              "      <td>0.113144</td>\n",
              "    </tr>\n",
              "    <tr>\n",
              "      <th>1</th>\n",
              "      <td>0.101963</td>\n",
              "      <td>0.000000</td>\n",
              "      <td>0.166216</td>\n",
              "      <td>0.259153</td>\n",
              "      <td>0.001574</td>\n",
              "      <td>0.032454</td>\n",
              "      <td>0.317636</td>\n",
              "      <td>0.146693</td>\n",
              "      <td>0.0</td>\n",
              "      <td>0.0</td>\n",
              "      <td>0.646377</td>\n",
              "      <td>0.570744</td>\n",
              "      <td>0.003352</td>\n",
              "      <td>0.000000</td>\n",
              "      <td>0.009277</td>\n",
              "      <td>0.075191</td>\n",
              "      <td>0.007357</td>\n",
              "      <td>0.018643</td>\n",
              "      <td>0.000000</td>\n",
              "      <td>0.010428</td>\n",
              "      <td>0.040061</td>\n",
              "      <td>0.003393</td>\n",
              "      <td>0.000000</td>\n",
              "      <td>0.035167</td>\n",
              "      <td>0.019107</td>\n",
              "      <td>0.000000</td>\n",
              "      <td>0.0</td>\n",
              "      <td>0.000000</td>\n",
              "      <td>0.000730</td>\n",
              "      <td>0.132157</td>\n",
              "    </tr>\n",
              "    <tr>\n",
              "      <th>2</th>\n",
              "      <td>0.054056</td>\n",
              "      <td>0.001190</td>\n",
              "      <td>0.182486</td>\n",
              "      <td>0.232233</td>\n",
              "      <td>0.018742</td>\n",
              "      <td>0.038095</td>\n",
              "      <td>0.207178</td>\n",
              "      <td>0.184826</td>\n",
              "      <td>0.0</td>\n",
              "      <td>0.0</td>\n",
              "      <td>0.672197</td>\n",
              "      <td>0.600475</td>\n",
              "      <td>0.030783</td>\n",
              "      <td>0.007138</td>\n",
              "      <td>0.011181</td>\n",
              "      <td>0.046529</td>\n",
              "      <td>0.003402</td>\n",
              "      <td>0.009913</td>\n",
              "      <td>0.000000</td>\n",
              "      <td>0.032159</td>\n",
              "      <td>0.025903</td>\n",
              "      <td>0.012138</td>\n",
              "      <td>0.000000</td>\n",
              "      <td>0.016260</td>\n",
              "      <td>0.021287</td>\n",
              "      <td>0.000000</td>\n",
              "      <td>0.0</td>\n",
              "      <td>0.000000</td>\n",
              "      <td>0.005048</td>\n",
              "      <td>0.090842</td>\n",
              "    </tr>\n",
              "    <tr>\n",
              "      <th>3</th>\n",
              "      <td>0.035253</td>\n",
              "      <td>0.000906</td>\n",
              "      <td>0.081974</td>\n",
              "      <td>0.356077</td>\n",
              "      <td>0.017824</td>\n",
              "      <td>0.083732</td>\n",
              "      <td>0.509608</td>\n",
              "      <td>0.539019</td>\n",
              "      <td>0.0</td>\n",
              "      <td>0.0</td>\n",
              "      <td>0.355259</td>\n",
              "      <td>0.295408</td>\n",
              "      <td>0.038214</td>\n",
              "      <td>0.000000</td>\n",
              "      <td>0.122102</td>\n",
              "      <td>0.181729</td>\n",
              "      <td>0.011388</td>\n",
              "      <td>0.011964</td>\n",
              "      <td>0.000000</td>\n",
              "      <td>0.005062</td>\n",
              "      <td>0.142625</td>\n",
              "      <td>0.041685</td>\n",
              "      <td>0.000778</td>\n",
              "      <td>0.086848</td>\n",
              "      <td>0.047608</td>\n",
              "      <td>0.000873</td>\n",
              "      <td>0.0</td>\n",
              "      <td>0.000545</td>\n",
              "      <td>0.009158</td>\n",
              "      <td>0.111689</td>\n",
              "    </tr>\n",
              "    <tr>\n",
              "      <th>4</th>\n",
              "      <td>0.067061</td>\n",
              "      <td>0.001622</td>\n",
              "      <td>0.156857</td>\n",
              "      <td>0.513908</td>\n",
              "      <td>0.005471</td>\n",
              "      <td>0.163663</td>\n",
              "      <td>0.316841</td>\n",
              "      <td>0.309751</td>\n",
              "      <td>0.0</td>\n",
              "      <td>0.0</td>\n",
              "      <td>0.435994</td>\n",
              "      <td>0.352753</td>\n",
              "      <td>0.027146</td>\n",
              "      <td>0.020056</td>\n",
              "      <td>0.034942</td>\n",
              "      <td>0.200713</td>\n",
              "      <td>0.014597</td>\n",
              "      <td>0.032828</td>\n",
              "      <td>0.000000</td>\n",
              "      <td>0.060425</td>\n",
              "      <td>0.110035</td>\n",
              "      <td>0.033517</td>\n",
              "      <td>0.000000</td>\n",
              "      <td>0.080404</td>\n",
              "      <td>0.068540</td>\n",
              "      <td>0.000000</td>\n",
              "      <td>0.0</td>\n",
              "      <td>0.000000</td>\n",
              "      <td>0.005554</td>\n",
              "      <td>0.271705</td>\n",
              "    </tr>\n",
              "    <tr>\n",
              "      <th>...</th>\n",
              "      <td>...</td>\n",
              "      <td>...</td>\n",
              "      <td>...</td>\n",
              "      <td>...</td>\n",
              "      <td>...</td>\n",
              "      <td>...</td>\n",
              "      <td>...</td>\n",
              "      <td>...</td>\n",
              "      <td>...</td>\n",
              "      <td>...</td>\n",
              "      <td>...</td>\n",
              "      <td>...</td>\n",
              "      <td>...</td>\n",
              "      <td>...</td>\n",
              "      <td>...</td>\n",
              "      <td>...</td>\n",
              "      <td>...</td>\n",
              "      <td>...</td>\n",
              "      <td>...</td>\n",
              "      <td>...</td>\n",
              "      <td>...</td>\n",
              "      <td>...</td>\n",
              "      <td>...</td>\n",
              "      <td>...</td>\n",
              "      <td>...</td>\n",
              "      <td>...</td>\n",
              "      <td>...</td>\n",
              "      <td>...</td>\n",
              "      <td>...</td>\n",
              "      <td>...</td>\n",
              "    </tr>\n",
              "    <tr>\n",
              "      <th>5817</th>\n",
              "      <td>0.523352</td>\n",
              "      <td>0.000000</td>\n",
              "      <td>0.429397</td>\n",
              "      <td>0.528391</td>\n",
              "      <td>0.024743</td>\n",
              "      <td>0.042127</td>\n",
              "      <td>0.374608</td>\n",
              "      <td>0.244462</td>\n",
              "      <td>0.0</td>\n",
              "      <td>0.0</td>\n",
              "      <td>0.124806</td>\n",
              "      <td>0.000000</td>\n",
              "      <td>0.005989</td>\n",
              "      <td>0.000000</td>\n",
              "      <td>0.072940</td>\n",
              "      <td>0.114669</td>\n",
              "      <td>0.044014</td>\n",
              "      <td>0.006318</td>\n",
              "      <td>0.000000</td>\n",
              "      <td>0.020497</td>\n",
              "      <td>0.125992</td>\n",
              "      <td>0.018191</td>\n",
              "      <td>0.000000</td>\n",
              "      <td>0.054098</td>\n",
              "      <td>0.065576</td>\n",
              "      <td>0.000000</td>\n",
              "      <td>0.0</td>\n",
              "      <td>0.000000</td>\n",
              "      <td>0.007177</td>\n",
              "      <td>0.006084</td>\n",
              "    </tr>\n",
              "    <tr>\n",
              "      <th>5818</th>\n",
              "      <td>0.354499</td>\n",
              "      <td>0.000239</td>\n",
              "      <td>0.380667</td>\n",
              "      <td>0.279326</td>\n",
              "      <td>0.049914</td>\n",
              "      <td>0.060897</td>\n",
              "      <td>0.470133</td>\n",
              "      <td>0.487238</td>\n",
              "      <td>0.0</td>\n",
              "      <td>0.0</td>\n",
              "      <td>0.304561</td>\n",
              "      <td>0.264275</td>\n",
              "      <td>0.012667</td>\n",
              "      <td>0.000000</td>\n",
              "      <td>0.087613</td>\n",
              "      <td>0.006426</td>\n",
              "      <td>0.007774</td>\n",
              "      <td>0.007195</td>\n",
              "      <td>0.000000</td>\n",
              "      <td>0.003112</td>\n",
              "      <td>0.012503</td>\n",
              "      <td>0.002762</td>\n",
              "      <td>0.000000</td>\n",
              "      <td>0.008410</td>\n",
              "      <td>0.016487</td>\n",
              "      <td>0.000000</td>\n",
              "      <td>0.0</td>\n",
              "      <td>0.000000</td>\n",
              "      <td>0.000701</td>\n",
              "      <td>0.124109</td>\n",
              "    </tr>\n",
              "    <tr>\n",
              "      <th>5819</th>\n",
              "      <td>0.170535</td>\n",
              "      <td>0.031548</td>\n",
              "      <td>0.205216</td>\n",
              "      <td>0.493704</td>\n",
              "      <td>0.008869</td>\n",
              "      <td>0.017257</td>\n",
              "      <td>0.281335</td>\n",
              "      <td>0.305562</td>\n",
              "      <td>0.0</td>\n",
              "      <td>0.0</td>\n",
              "      <td>0.026841</td>\n",
              "      <td>0.000000</td>\n",
              "      <td>0.395003</td>\n",
              "      <td>0.000000</td>\n",
              "      <td>0.540318</td>\n",
              "      <td>0.009134</td>\n",
              "      <td>0.027045</td>\n",
              "      <td>0.027176</td>\n",
              "      <td>0.000000</td>\n",
              "      <td>0.039183</td>\n",
              "      <td>0.108385</td>\n",
              "      <td>0.043469</td>\n",
              "      <td>0.000000</td>\n",
              "      <td>0.051708</td>\n",
              "      <td>0.094020</td>\n",
              "      <td>0.000000</td>\n",
              "      <td>0.0</td>\n",
              "      <td>0.000000</td>\n",
              "      <td>0.020579</td>\n",
              "      <td>0.174446</td>\n",
              "    </tr>\n",
              "    <tr>\n",
              "      <th>5820</th>\n",
              "      <td>0.493119</td>\n",
              "      <td>0.001947</td>\n",
              "      <td>0.548576</td>\n",
              "      <td>0.352653</td>\n",
              "      <td>0.034256</td>\n",
              "      <td>0.004794</td>\n",
              "      <td>0.203664</td>\n",
              "      <td>0.193298</td>\n",
              "      <td>0.0</td>\n",
              "      <td>0.0</td>\n",
              "      <td>0.350787</td>\n",
              "      <td>0.312150</td>\n",
              "      <td>0.016584</td>\n",
              "      <td>0.000000</td>\n",
              "      <td>0.112742</td>\n",
              "      <td>0.071283</td>\n",
              "      <td>0.017649</td>\n",
              "      <td>0.022527</td>\n",
              "      <td>0.000000</td>\n",
              "      <td>0.007515</td>\n",
              "      <td>0.060454</td>\n",
              "      <td>0.015870</td>\n",
              "      <td>0.000000</td>\n",
              "      <td>0.040811</td>\n",
              "      <td>0.049521</td>\n",
              "      <td>0.000000</td>\n",
              "      <td>0.0</td>\n",
              "      <td>0.000000</td>\n",
              "      <td>0.000544</td>\n",
              "      <td>0.062303</td>\n",
              "    </tr>\n",
              "    <tr>\n",
              "      <th>5821</th>\n",
              "      <td>0.006607</td>\n",
              "      <td>0.000000</td>\n",
              "      <td>0.000000</td>\n",
              "      <td>0.427389</td>\n",
              "      <td>0.000000</td>\n",
              "      <td>0.060170</td>\n",
              "      <td>0.067378</td>\n",
              "      <td>0.065457</td>\n",
              "      <td>0.0</td>\n",
              "      <td>0.0</td>\n",
              "      <td>0.000000</td>\n",
              "      <td>0.000000</td>\n",
              "      <td>0.007984</td>\n",
              "      <td>0.000000</td>\n",
              "      <td>0.303864</td>\n",
              "      <td>0.621370</td>\n",
              "      <td>0.000000</td>\n",
              "      <td>0.000000</td>\n",
              "      <td>0.000000</td>\n",
              "      <td>0.062239</td>\n",
              "      <td>0.450695</td>\n",
              "      <td>0.136074</td>\n",
              "      <td>0.000000</td>\n",
              "      <td>0.284464</td>\n",
              "      <td>0.136429</td>\n",
              "      <td>0.000000</td>\n",
              "      <td>0.0</td>\n",
              "      <td>0.000000</td>\n",
              "      <td>0.000000</td>\n",
              "      <td>0.013517</td>\n",
              "    </tr>\n",
              "  </tbody>\n",
              "</table>\n",
              "<p>5822 rows × 30 columns</p>\n",
              "</div>"
            ],
            "text/plain": [
              "      ftruncate   connect  eventfd2  ...    getcwd      mmap  ugetrlimit\n",
              "0      0.180168  0.001213  0.267231  ...  0.000548  0.000593    0.113144\n",
              "1      0.101963  0.000000  0.166216  ...  0.000000  0.000730    0.132157\n",
              "2      0.054056  0.001190  0.182486  ...  0.000000  0.005048    0.090842\n",
              "3      0.035253  0.000906  0.081974  ...  0.000545  0.009158    0.111689\n",
              "4      0.067061  0.001622  0.156857  ...  0.000000  0.005554    0.271705\n",
              "...         ...       ...       ...  ...       ...       ...         ...\n",
              "5817   0.523352  0.000000  0.429397  ...  0.000000  0.007177    0.006084\n",
              "5818   0.354499  0.000239  0.380667  ...  0.000000  0.000701    0.124109\n",
              "5819   0.170535  0.031548  0.205216  ...  0.000000  0.020579    0.174446\n",
              "5820   0.493119  0.001947  0.548576  ...  0.000000  0.000544    0.062303\n",
              "5821   0.006607  0.000000  0.000000  ...  0.000000  0.000000    0.013517\n",
              "\n",
              "[5822 rows x 30 columns]"
            ]
          },
          "metadata": {
            "tags": []
          },
          "execution_count": 180
        }
      ]
    },
    {
      "cell_type": "markdown",
      "metadata": {
        "id": "MIkLSesGzZce"
      },
      "source": [
        "## K-Means"
      ]
    },
    {
      "cell_type": "markdown",
      "metadata": {
        "id": "cc4cO5S70JzU"
      },
      "source": [
        "### Finding optimum number of clusters using elbow method"
      ]
    },
    {
      "cell_type": "code",
      "metadata": {
        "id": "5dmqldl8-dM_",
        "outputId": "d594a2f4-bd8f-46fb-ab70-3178730433eb",
        "colab": {
          "base_uri": "https://localhost:8080/"
        }
      },
      "source": [
        "from sklearn.cluster import KMeans\n",
        "WCSS = []\n",
        "\n",
        "for cluster in range(1,6):\n",
        "    kmeans = KMeans(n_clusters= cluster, init='k-means++', random_state=0)\n",
        "    kmeans.fit(top30_features_data)\n",
        "    print(\"Cluster\", cluster, \"done!\")\n",
        "    WCSS.append(kmeans.inertia_)"
      ],
      "execution_count": null,
      "outputs": [
        {
          "output_type": "stream",
          "text": [
            "Cluster 1 done!\n",
            "Cluster 2 done!\n",
            "Cluster 3 done!\n",
            "Cluster 4 done!\n",
            "Cluster 5 done!\n"
          ],
          "name": "stdout"
        }
      ]
    },
    {
      "cell_type": "code",
      "metadata": {
        "id": "dEHUccmH-qJN",
        "outputId": "c64788c3-03e7-49e8-a083-605b546afc97",
        "colab": {
          "base_uri": "https://localhost:8080/",
          "height": 295
        }
      },
      "source": [
        "plt.plot(range(1,6), WCSS)\n",
        "plt.title('The Elbow Method')\n",
        "plt.xlabel('Number of Clusters')\n",
        "plt.ylabel('Within Cluster Sum of Squares')\n",
        "plt.show()      #Elbow is at 2, therefore 2 is the optimum number of clusters"
      ],
      "execution_count": null,
      "outputs": [
        {
          "output_type": "display_data",
          "data": {
            "image/png": "[encoded data removed]",
            "text/plain": [
              "<Figure size 432x288 with 1 Axes>"
            ]
          },
          "metadata": {
            "tags": []
          }
        }
      ]
    },
    {
      "cell_type": "markdown",
      "metadata": {
        "id": "oOKftwbPAYGS"
      },
      "source": [
        "### Model Creation with optimum number of clusters\n"
      ]
    },
    {
      "cell_type": "code",
      "metadata": {
        "id": "qSP8IFiH0R_9",
        "outputId": "a23c3cf8-9972-41b7-a683-c72cc9785d6d",
        "colab": {
          "base_uri": "https://localhost:8080/",
          "height": 402
        }
      },
      "source": [
        "two_cluster_kmeans = KMeans(n_clusters= 2, init='k-means++', random_state=0)\n",
        "random_two_features = top30_features_data.iloc[:,[6,9]]\n",
        "random_two_features_model = two_cluster_kmeans.fit(random_two_features)\n",
        "random_two_features"
      ],
      "execution_count": null,
      "outputs": [
        {
          "output_type": "execute_result",
          "data": {
            "text/html": [
              "<div>\n",
              "<style scoped>\n",
              "    .dataframe tbody tr th:only-of-type {\n",
              "        vertical-align: middle;\n",
              "    }\n",
              "\n",
              "    .dataframe tbody tr th {\n",
              "        vertical-align: top;\n",
              "    }\n",
              "\n",
              "    .dataframe thead th {\n",
              "        text-align: right;\n",
              "    }\n",
              "</style>\n",
              "<table border=\"1\" class=\"dataframe\">\n",
              "  <thead>\n",
              "    <tr style=\"text-align: right;\">\n",
              "      <th></th>\n",
              "      <th>futex</th>\n",
              "      <th>openat</th>\n",
              "    </tr>\n",
              "  </thead>\n",
              "  <tbody>\n",
              "    <tr>\n",
              "      <th>0</th>\n",
              "      <td>0.486590</td>\n",
              "      <td>0.0</td>\n",
              "    </tr>\n",
              "    <tr>\n",
              "      <th>1</th>\n",
              "      <td>0.317636</td>\n",
              "      <td>0.0</td>\n",
              "    </tr>\n",
              "    <tr>\n",
              "      <th>2</th>\n",
              "      <td>0.207178</td>\n",
              "      <td>0.0</td>\n",
              "    </tr>\n",
              "    <tr>\n",
              "      <th>3</th>\n",
              "      <td>0.509608</td>\n",
              "      <td>0.0</td>\n",
              "    </tr>\n",
              "    <tr>\n",
              "      <th>4</th>\n",
              "      <td>0.316841</td>\n",
              "      <td>0.0</td>\n",
              "    </tr>\n",
              "    <tr>\n",
              "      <th>...</th>\n",
              "      <td>...</td>\n",
              "      <td>...</td>\n",
              "    </tr>\n",
              "    <tr>\n",
              "      <th>5817</th>\n",
              "      <td>0.374608</td>\n",
              "      <td>0.0</td>\n",
              "    </tr>\n",
              "    <tr>\n",
              "      <th>5818</th>\n",
              "      <td>0.470133</td>\n",
              "      <td>0.0</td>\n",
              "    </tr>\n",
              "    <tr>\n",
              "      <th>5819</th>\n",
              "      <td>0.281335</td>\n",
              "      <td>0.0</td>\n",
              "    </tr>\n",
              "    <tr>\n",
              "      <th>5820</th>\n",
              "      <td>0.203664</td>\n",
              "      <td>0.0</td>\n",
              "    </tr>\n",
              "    <tr>\n",
              "      <th>5821</th>\n",
              "      <td>0.067378</td>\n",
              "      <td>0.0</td>\n",
              "    </tr>\n",
              "  </tbody>\n",
              "</table>\n",
              "<p>5822 rows × 2 columns</p>\n",
              "</div>"
            ],
            "text/plain": [
              "         futex  openat\n",
              "0     0.486590     0.0\n",
              "1     0.317636     0.0\n",
              "2     0.207178     0.0\n",
              "3     0.509608     0.0\n",
              "4     0.316841     0.0\n",
              "...        ...     ...\n",
              "5817  0.374608     0.0\n",
              "5818  0.470133     0.0\n",
              "5819  0.281335     0.0\n",
              "5820  0.203664     0.0\n",
              "5821  0.067378     0.0\n",
              "\n",
              "[5822 rows x 2 columns]"
            ]
          },
          "metadata": {
            "tags": []
          },
          "execution_count": 186
        }
      ]
    },
    {
      "cell_type": "code",
      "metadata": {
        "id": "FCRAarqg27lH",
        "outputId": "731f7673-2e6a-44fd-bb30-fd4249645482",
        "colab": {
          "base_uri": "https://localhost:8080/",
          "height": 385
        }
      },
      "source": [
        "# random_two_features\n",
        "plt.figure(figsize=(20, 6))\n",
        "plt.scatter(random_two_features['futex'], random_two_features['openat'], c=random_two_features_model.labels_.astype(float), label=['Cluster1','Cluster2'], s=500)\n",
        "plt.legend(handles=scatter.legend_elements()[0], labels=['Cluster 1', 'Cluster 2'])\n",
        "plt.xlabel('futex')\n",
        "plt.ylabel('openat')\n",
        "plt.title('K Means Clustering')\n",
        "plt.show()"
      ],
      "execution_count": null,
      "outputs": [
        {
          "output_type": "display_data",
          "data": {
            "image/png": "[encoded data removed]",
            "text/plain": [
              "<Figure size 1440x432 with 1 Axes>"
            ]
          },
          "metadata": {
            "tags": []
          }
        }
      ]
    },
    {
      "cell_type": "markdown",
      "metadata": {
        "id": "jCZAav9Y57zH"
      },
      "source": [
        "## Hierarchial Clustering"
      ]
    },
    {
      "cell_type": "code",
      "metadata": {
        "id": "2Ldr6ER28WYl"
      },
      "source": [
        "from sklearn.cluster import AgglomerativeClustering\n",
        "\n",
        "two_cluster_HC = AgglomerativeClustering(n_clusters = 2, affinity = 'euclidean', linkage = 'ward')\n",
        "two_cluster_HC_model = two_cluster_HC.fit(random_two_features)"
      ],
      "execution_count": null,
      "outputs": []
    },
    {
      "cell_type": "code",
      "metadata": {
        "id": "UPFjQX9Y8yFM",
        "outputId": "b7e0f311-139e-4474-d0e5-5722814d97e7",
        "colab": {
          "base_uri": "https://localhost:8080/",
          "height": 385
        }
      },
      "source": [
        "# random_two_features\n",
        "plt.figure(figsize=(20, 6))\n",
        "plt.scatter(random_two_features['futex'], random_two_features['openat'], c=two_cluster_HC_model.labels_.astype(float), label=['Cluster1','Cluster2'], s=500)\n",
        "plt.legend(handles=scatter.legend_elements()[0], labels=['Cluster 1', 'Cluster 2'])\n",
        "plt.xlabel('futex')\n",
        "plt.ylabel('openat')\n",
        "plt.title('Hierarchial Clustering')\n",
        "plt.show()"
      ],
      "execution_count": null,
      "outputs": [
        {
          "output_type": "display_data",
          "data": {
            "image/png": "[encoded data removed]",
            "text/plain": [
              "<Figure size 1440x432 with 1 Axes>"
            ]
          },
          "metadata": {
            "tags": []
          }
        }
      ]
    },
    {
      "cell_type": "markdown",
      "metadata": {
        "id": "ejMO4mGm9NAh"
      },
      "source": [
        "## DBSCAN"
      ]
    },
    {
      "cell_type": "code",
      "metadata": {
        "id": "WQVupPOl9sbr",
        "outputId": "fc1eed92-90f6-469a-95f0-83b572f16aec",
        "colab": {
          "base_uri": "https://localhost:8080/"
        }
      },
      "source": [
        "from sklearn.cluster import DBSCAN\n",
        "two_feature_DB=DBSCAN(eps=10,min_samples=5,metric='euclidean')\n",
        "two_feature_DB.fit(random_two_features)\n",
        "print(\"Optimum No. of clusters, according to DBSCAN = \", len(set(two_feature_DB.labels_)))"
      ],
      "execution_count": null,
      "outputs": [
        {
          "output_type": "stream",
          "text": [
            "Optimum No. of clusters, according to DBSCAN =  1\n"
          ],
          "name": "stdout"
        }
      ]
    },
    {
      "cell_type": "code",
      "metadata": {
        "id": "uPAdlamg-UbX",
        "outputId": "d59c1993-6e2d-4a5a-f01c-f8b044e9c66f",
        "colab": {
          "base_uri": "https://localhost:8080/",
          "height": 385
        }
      },
      "source": [
        "# random_two_features\n",
        "plt.figure(figsize=(20, 6))\n",
        "plt.scatter(random_two_features['futex'], random_two_features['openat'], c=two_feature_DB.labels_.astype(float), label=['Cluster1','Cluster2'], s=500)\n",
        "plt.legend(handles=scatter.legend_elements()[0], labels=['Cluster 1', 'Cluster 2'])\n",
        "plt.xlabel('futex')\n",
        "plt.ylabel('openat')\n",
        "plt.title('DBSCAN Clustering')\n",
        "plt.show()"
      ],
      "execution_count": null,
      "outputs": [
        {
          "output_type": "display_data",
          "data": {
            "image/png": "[encoded data removed]",
            "text/plain": [
              "<Figure size 1440x432 with 1 Axes>"
            ]
          },
          "metadata": {
            "tags": []
          }
        }
      ]
    },
    {
      "cell_type": "markdown",
      "metadata": {
        "id": "PWCUSNqecmGO"
      },
      "source": [
        "# Conclusion"
      ]
    },
    {
      "cell_type": "markdown",
      "metadata": {
        "id": "AwbSOKKxcnTO"
      },
      "source": [
        "In this series of tasks, analysis of sys-calls has been done. A sequence of sys-calls is either labeled as B/M.     \n",
        "\n",
        "---\n",
        "\n",
        "In the first two tasks, we see that the two sequence/bigram models produce the most convincing results, with `TF-IDF` being the most effective vectorizing technique.  \n",
        "Trigram models take significantly longer time to train, with marginal better accuracy in some cases. Some RBF models crashed the runtime while training, which is the reason for some errors in `classification_report`.\n",
        "\n",
        "---\n",
        "\n",
        "In the third task, we find the top features in two sequence and three sequence models. These features are plot to analyse visually. The model prepared with the top 30 two sequence features gives un-satisfactory output. Bigram models trained on all features are still the better models.\n",
        "\n",
        "---\n",
        "\n",
        "In the last task, we use three different clustering techniques to cluster sys-calls sequences into clusters. From the three techniques performed, we find that two clusters are the ideal number of clusters in the data."
      ]
    }
  ]
}